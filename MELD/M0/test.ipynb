{
 "cells": [
  {
   "cell_type": "code",
   "execution_count": 1,
   "metadata": {},
   "outputs": [],
   "source": [
    "from datasets import DatasetDict, Dataset, ClassLabel, Sequence, Value, Features\n",
    "from transformers import AutoTokenizer, AutoModelForSequenceClassification\n",
    "from transformers import TrainingArguments, Trainer, DataCollatorWithPadding\n",
    "from scipy.stats import pearsonr\n",
    "from sklearn.metrics import accuracy_score, balanced_accuracy_score, f1_score, confusion_matrix, ConfusionMatrixDisplay\n",
    "import numpy as np\n",
    "import pandas as pd\n",
    "import torch\n",
    "import torch.nn.functional as F\n",
    "import torch.nn as nn\n",
    "from time import localtime, strftime, strptime\n",
    "import os"
   ]
  },
  {
   "cell_type": "code",
   "execution_count": 2,
   "metadata": {},
   "outputs": [],
   "source": [
    "CL = 5\n",
    "splits = [\"train\", \"val\", \"test\"]\n",
    "dfs = [pd.read_csv(f\"../D0/{split}.csv\") for split in [\"train\", \"val\", \"test\"]]\n",
    "\n",
    "filtered_dfs = list(map(lambda df: df.groupby(\"Dialogue_ID\").filter(lambda x: x[\"Utterance\"].count() >= CL), dfs))\n",
    "\n",
    "def process(df):\n",
    "    rows = []\n",
    "    for _, conversation in df.groupby(\"Dialogue_ID\"):\n",
    "        for i in range(len(conversation) - 5 + 1):\n",
    "            window = conversation[i:i + 5]\n",
    "            rows.append([window[\"Utterance\"].tolist(), window[\"Speaker\"].tolist(), window[\"Emotion\"].iloc[-1]])\n",
    "\n",
    "    return pd.DataFrame(rows, columns=[\"text\", \"speaker\", \"labels\"])\n",
    "\n",
    "processed_dfs = map(process, filtered_dfs)\n",
    "\n",
    "dataset_map = map(lambda df: Dataset.from_pandas(df, features=Features({\n",
    "    \"text\": Sequence(Value(dtype=\"string\"), length=5),\n",
    "    \"speaker\": Sequence(Value(dtype=\"string\"), length=5),\n",
    "    \"labels\": ClassLabel(names=[\"anger\", \"disgust\", \"fear\", \"joy\", \"neutral\", \"sadness\", \"surprise\"]),\n",
    "})), processed_dfs)\n",
    "\n",
    "dataset = DatasetDict({s: df for s, df in zip(splits, dataset_map)})"
   ]
  },
  {
   "cell_type": "code",
   "execution_count": 3,
   "metadata": {},
   "outputs": [
    {
     "data": {
      "application/vnd.jupyter.widget-view+json": {
       "model_id": "b0ba6fe075504017b13f815ac0373684",
       "version_major": 2,
       "version_minor": 0
      },
      "text/plain": [
       "Map:   0%|          | 0/6221 [00:00<?, ? examples/s]"
      ]
     },
     "metadata": {},
     "output_type": "display_data"
    },
    {
     "name": "stderr",
     "output_type": "stream",
     "text": [
      "\n",
      "No chat template is defined for this tokenizer - using a default chat template that implements the ChatML format (without BOS/EOS tokens!). If the default is not appropriate for your model, please set `tokenizer.chat_template` to an appropriate template. See https://huggingface.co/docs/transformers/main/chat_templating for more information.\n",
      "\n"
     ]
    },
    {
     "data": {
      "application/vnd.jupyter.widget-view+json": {
       "model_id": "94bc187b3a5244fdaf152d0513919a02",
       "version_major": 2,
       "version_minor": 0
      },
      "text/plain": [
       "Map:   0%|          | 0/686 [00:00<?, ? examples/s]"
      ]
     },
     "metadata": {},
     "output_type": "display_data"
    },
    {
     "data": {
      "application/vnd.jupyter.widget-view+json": {
       "model_id": "e79ad893bd62431ea9fd85b43cd1498a",
       "version_major": 2,
       "version_minor": 0
      },
      "text/plain": [
       "Map:   0%|          | 0/1577 [00:00<?, ? examples/s]"
      ]
     },
     "metadata": {},
     "output_type": "display_data"
    }
   ],
   "source": [
    "tokenizer = AutoTokenizer.from_pretrained(\"roberta-base\")\n",
    "\n",
    "def preprocess_data(examples):\n",
    "    convs = [\n",
    "        tokenizer.apply_chat_template(\n",
    "            [{\"role\": \"system\", \"content\": f\"How does {examples['speaker'][x][-1]} feel at the end of the conversation?\"}] + \\\n",
    "            [{\"role\": examples[\"speaker\"][x][i], \"content\": examples[\"text\"][x][i] + \" \"} for i in range(CL)], \n",
    "            tokenize=False)\n",
    "        for x in range(len(examples[\"text\"]))\n",
    "    ]\n",
    "\n",
    "    encoding = tokenizer(convs, max_length=288, truncation=True)\n",
    "\n",
    "    return encoding\n",
    "\n",
    "\n",
    "tokenized_dataset = dataset.map(preprocess_data, batched=True, batch_size=100000,)\n",
    "                                # remove_columns=[f\"{k}{i}\" for k in \"ts\" for i in range(CL)])\n",
    "\n",
    "\n",
    "data_collator = DataCollatorWithPadding(tokenizer=tokenizer)"
   ]
  },
  {
   "cell_type": "code",
   "execution_count": 4,
   "metadata": {},
   "outputs": [],
   "source": [
    "def get_checkpoint(epoch=0, run=\"latest\", folder_path=\"results\"):\n",
    "    if run == \"latest\":\n",
    "        run = max(os.listdir(folder_path), key=lambda x: strptime(x, \"%b-%d-%y-%H:%M:%S\"))\n",
    "\n",
    "    checkpoint = sorted(os.listdir(f\"{folder_path}/{run}\"), key=lambda x: int(x.split(\"-\")[1]))[epoch-1]\n",
    "\n",
    "    return f\"{folder_path}/{run}/{checkpoint}\"\n",
    "\n",
    "c = get_checkpoint(21, run=\"latest\")\n",
    "model = AutoModelForSequenceClassification.from_pretrained(c)"
   ]
  },
  {
   "cell_type": "code",
   "execution_count": 5,
   "metadata": {},
   "outputs": [],
   "source": [
    "def compute_metrics(eval_pred):\n",
    "    logits, labels = eval_pred\n",
    "    predictions = np.argmax(logits, axis=-1)\n",
    "\n",
    "    metrics = {\n",
    "        \"WA\": accuracy_score(labels, predictions).tolist(),\n",
    "        \"UWA\": balanced_accuracy_score(labels, predictions).tolist(),\n",
    "        \"miF1\": f1_score(labels, predictions, average=\"micro\"),\n",
    "        \"maF1\": f1_score(labels, predictions, average=\"macro\"),\n",
    "        \"wtF1\": f1_score(labels, predictions, average=\"weighted\"),\n",
    "    }\n",
    "\n",
    "    return metrics"
   ]
  },
  {
   "cell_type": "code",
   "execution_count": 6,
   "metadata": {},
   "outputs": [],
   "source": [
    "loss_fn = nn.CrossEntropyLoss(torch.Tensor(1/np.bincount(dataset[\"train\"][\"labels\"])).to(\"cuda\"))\n",
    "\n",
    "class WeightedTrainer(Trainer):\n",
    "    def compute_loss(self, model, inputs, return_outputs=False):\n",
    "        labels = inputs.pop(\"labels\")\n",
    "        outputs = model(**inputs)\n",
    "\n",
    "        loss = loss_fn(outputs[\"logits\"], labels)\n",
    "        return (loss, outputs) if return_outputs else loss"
   ]
  },
  {
   "cell_type": "code",
   "execution_count": 7,
   "metadata": {},
   "outputs": [],
   "source": [
    "training_args = TrainingArguments(\n",
    "    output_dir=\"/tmp/tmp_trainer\",\n",
    "    per_device_eval_batch_size=64,\n",
    "    report_to=\"none\",\n",
    ")\n",
    "\n",
    "trainer = WeightedTrainer(\n",
    "    model=model,\n",
    "    args=training_args,\n",
    "    data_collator=data_collator,\n",
    "    tokenizer=tokenizer,\n",
    "    compute_metrics=compute_metrics,\n",
    "\n",
    ")"
   ]
  },
  {
   "cell_type": "code",
   "execution_count": 8,
   "metadata": {},
   "outputs": [
    {
     "name": "stderr",
     "output_type": "stream",
     "text": [
      "You're using a RobertaTokenizerFast tokenizer. Please note that with a fast tokenizer, using the `__call__` method is faster than using a method to encode the text followed by a call to the `pad` method to get a padded encoding.\n"
     ]
    },
    {
     "data": {
      "application/vnd.jupyter.widget-view+json": {
       "model_id": "7e3797086d99410bbdda9cd36740a3ed",
       "version_major": 2,
       "version_minor": 0
      },
      "text/plain": [
       "  0%|          | 0/25 [00:00<?, ?it/s]"
      ]
     },
     "metadata": {},
     "output_type": "display_data"
    },
    {
     "data": {
      "text/plain": [
       "{'eval_loss': 1.418481469154358,\n",
       " 'eval_WA': 0.5022194039315155,\n",
       " 'eval_UWA': 0.4928637249350193,\n",
       " 'eval_miF1': 0.5022194039315155,\n",
       " 'eval_maF1': 0.4181455825207529,\n",
       " 'eval_wtF1': 0.5273500434507834,\n",
       " 'eval_runtime': 4.3516,\n",
       " 'eval_samples_per_second': 362.392,\n",
       " 'eval_steps_per_second': 5.745}"
      ]
     },
     "execution_count": 8,
     "metadata": {},
     "output_type": "execute_result"
    }
   ],
   "source": [
    "trainer.evaluate(tokenized_dataset[\"test\"])"
   ]
  },
  {
   "cell_type": "code",
   "execution_count": 9,
   "metadata": {},
   "outputs": [
    {
     "data": {
      "application/vnd.jupyter.widget-view+json": {
       "model_id": "912db792f5bc4c7787df49f34fb1b1be",
       "version_major": 2,
       "version_minor": 0
      },
      "text/plain": [
       "  0%|          | 0/25 [00:00<?, ?it/s]"
      ]
     },
     "metadata": {},
     "output_type": "display_data"
    }
   ],
   "source": [
    "predictions = trainer.predict(tokenized_dataset[\"test\"])"
   ]
  },
  {
   "cell_type": "code",
   "execution_count": 10,
   "metadata": {},
   "outputs": [],
   "source": [
    "preds = pd.DataFrame(dataset[\"test\"])\n",
    "preds[\"pred\"] = np.argmax(predictions[0], axis=1)"
   ]
  },
  {
   "cell_type": "code",
   "execution_count": 11,
   "metadata": {},
   "outputs": [
    {
     "data": {
      "text/html": [
       "<div>\n",
       "<style scoped>\n",
       "    .dataframe tbody tr th:only-of-type {\n",
       "        vertical-align: middle;\n",
       "    }\n",
       "\n",
       "    .dataframe tbody tr th {\n",
       "        vertical-align: top;\n",
       "    }\n",
       "\n",
       "    .dataframe thead th {\n",
       "        text-align: right;\n",
       "    }\n",
       "</style>\n",
       "<table border=\"1\" class=\"dataframe\">\n",
       "  <thead>\n",
       "    <tr style=\"text-align: right;\">\n",
       "      <th></th>\n",
       "      <th>text</th>\n",
       "      <th>speaker</th>\n",
       "      <th>labels</th>\n",
       "      <th>pred</th>\n",
       "    </tr>\n",
       "  </thead>\n",
       "  <tbody>\n",
       "    <tr>\n",
       "      <th>0</th>\n",
       "      <td>[Come on, Lydia, you can do it., Push!, Push '...</td>\n",
       "      <td>[Joey, Joey, Joey, Joey, Joey]</td>\n",
       "      <td>3</td>\n",
       "      <td>3</td>\n",
       "    </tr>\n",
       "    <tr>\n",
       "      <th>1</th>\n",
       "      <td>[Push!, Push 'em out, push 'em out, harder, ha...</td>\n",
       "      <td>[Joey, Joey, Joey, Joey, Joey]</td>\n",
       "      <td>3</td>\n",
       "      <td>4</td>\n",
       "    </tr>\n",
       "    <tr>\n",
       "      <th>2</th>\n",
       "      <td>[Push 'em out, push 'em out, harder, harder., ...</td>\n",
       "      <td>[Joey, Joey, Joey, Joey, Joey]</td>\n",
       "      <td>3</td>\n",
       "      <td>3</td>\n",
       "    </tr>\n",
       "    <tr>\n",
       "      <th>3</th>\n",
       "      <td>[Push 'em out, push 'em out, way out!, Let's g...</td>\n",
       "      <td>[Joey, Joey, Joey, Joey, Joey]</td>\n",
       "      <td>3</td>\n",
       "      <td>3</td>\n",
       "    </tr>\n",
       "    <tr>\n",
       "      <th>4</th>\n",
       "      <td>[Okay., Ross, didn't you say that there was an...</td>\n",
       "      <td>[Ross, Rachel, Ross, Ross, Rachel]</td>\n",
       "      <td>0</td>\n",
       "      <td>0</td>\n",
       "    </tr>\n",
       "    <tr>\n",
       "      <th>...</th>\n",
       "      <td>...</td>\n",
       "      <td>...</td>\n",
       "      <td>...</td>\n",
       "      <td>...</td>\n",
       "    </tr>\n",
       "    <tr>\n",
       "      <th>1572</th>\n",
       "      <td>[Look, I really need some help, okay? Why? Why...</td>\n",
       "      <td>[Ross, Rachel, Monica, Monica, Rachel]</td>\n",
       "      <td>4</td>\n",
       "      <td>5</td>\n",
       "    </tr>\n",
       "    <tr>\n",
       "      <th>1573</th>\n",
       "      <td>[Well, Why don't you phase it out?, Yeah, fade...</td>\n",
       "      <td>[Rachel, Monica, Monica, Rachel, Ross]</td>\n",
       "      <td>6</td>\n",
       "      <td>6</td>\n",
       "    </tr>\n",
       "    <tr>\n",
       "      <th>1574</th>\n",
       "      <td>[Why don't you phase it out?, Yeah, fade the a...</td>\n",
       "      <td>[Monica, Monica, Rachel, Ross, Rachel]</td>\n",
       "      <td>4</td>\n",
       "      <td>3</td>\n",
       "    </tr>\n",
       "    <tr>\n",
       "      <th>1575</th>\n",
       "      <td>[Yeah, fade the accent out and people will thi...</td>\n",
       "      <td>[Monica, Rachel, Ross, Rachel, Ross]</td>\n",
       "      <td>4</td>\n",
       "      <td>0</td>\n",
       "    </tr>\n",
       "    <tr>\n",
       "      <th>1576</th>\n",
       "      <td>[Yeah, I mean, come on Ross, no one will even ...</td>\n",
       "      <td>[Rachel, Ross, Rachel, Ross, Monica]</td>\n",
       "      <td>4</td>\n",
       "      <td>3</td>\n",
       "    </tr>\n",
       "  </tbody>\n",
       "</table>\n",
       "<p>1577 rows × 4 columns</p>\n",
       "</div>"
      ],
      "text/plain": [
       "                                                   text  \\\n",
       "0     [Come on, Lydia, you can do it., Push!, Push '...   \n",
       "1     [Push!, Push 'em out, push 'em out, harder, ha...   \n",
       "2     [Push 'em out, push 'em out, harder, harder., ...   \n",
       "3     [Push 'em out, push 'em out, way out!, Let's g...   \n",
       "4     [Okay., Ross, didn't you say that there was an...   \n",
       "...                                                 ...   \n",
       "1572  [Look, I really need some help, okay? Why? Why...   \n",
       "1573  [Well, Why don't you phase it out?, Yeah, fade...   \n",
       "1574  [Why don't you phase it out?, Yeah, fade the a...   \n",
       "1575  [Yeah, fade the accent out and people will thi...   \n",
       "1576  [Yeah, I mean, come on Ross, no one will even ...   \n",
       "\n",
       "                                     speaker  labels  pred  \n",
       "0             [Joey, Joey, Joey, Joey, Joey]       3     3  \n",
       "1             [Joey, Joey, Joey, Joey, Joey]       3     4  \n",
       "2             [Joey, Joey, Joey, Joey, Joey]       3     3  \n",
       "3             [Joey, Joey, Joey, Joey, Joey]       3     3  \n",
       "4         [Ross, Rachel, Ross, Ross, Rachel]       0     0  \n",
       "...                                      ...     ...   ...  \n",
       "1572  [Ross, Rachel, Monica, Monica, Rachel]       4     5  \n",
       "1573  [Rachel, Monica, Monica, Rachel, Ross]       6     6  \n",
       "1574  [Monica, Monica, Rachel, Ross, Rachel]       4     3  \n",
       "1575    [Monica, Rachel, Ross, Rachel, Ross]       4     0  \n",
       "1576    [Rachel, Ross, Rachel, Ross, Monica]       4     3  \n",
       "\n",
       "[1577 rows x 4 columns]"
      ]
     },
     "execution_count": 11,
     "metadata": {},
     "output_type": "execute_result"
    }
   ],
   "source": [
    "preds"
   ]
  },
  {
   "cell_type": "code",
   "execution_count": 12,
   "metadata": {},
   "outputs": [
    {
     "name": "stdout",
     "output_type": "stream",
     "text": [
      "0.46017699115044247, \n",
      "0.2926829268292683, \n",
      "0.5, \n",
      "0.6016597510373444, \n",
      "0.4598337950138504, \n",
      "0.46715328467153283, \n",
      "0.6685393258426966, \n"
     ]
    }
   ],
   "source": [
    "for i in range(7):\n",
    "\n",
    "    tp = (preds[\"labels\"] == i) & (preds[\"pred\"] == i)\n",
    "    tn = (preds[\"labels\"] != i) & (preds[\"pred\"] != i)\n",
    "\n",
    "    # print((sum(tp) + sum(tn))/len(preds))\n",
    "    print(\"\" + str(sum(tp) / sum(preds[\"labels\"] == i)) + \", \")"
   ]
  },
  {
   "cell_type": "code",
   "execution_count": 61,
   "metadata": {},
   "outputs": [
    {
     "data": {
      "text/plain": [
       "0.6028107868886684"
      ]
     },
     "execution_count": 61,
     "metadata": {},
     "output_type": "execute_result"
    }
   ],
   "source": [
    "sum([0.8118811881188119, \n",
    "0.6615384615384615, \n",
    "0.5384615384615384, \n",
    "0.6446280991735537, \n",
    "0.6746411483253588, \n",
    "0.2857142857142857, \n",
    "]\n",
    ")/6"
   ]
  },
  {
   "cell_type": "code",
   "execution_count": 60,
   "metadata": {},
   "outputs": [
    {
     "data": {
      "text/plain": [
       "<sklearn.metrics._plot.confusion_matrix.ConfusionMatrixDisplay at 0x7fa5540bd220>"
      ]
     },
     "execution_count": 60,
     "metadata": {},
     "output_type": "execute_result"
    },
    {
     "data": {
      "image/png": "[encoded data removed]",
      "text/plain": [
       "<Figure size 640x480 with 2 Axes>"
      ]
     },
     "metadata": {},
     "output_type": "display_data"
    }
   ],
   "source": [
    "ConfusionMatrixDisplay.from_predictions(preds[\"labels\"], preds[\"pred\"], display_labels=dataset[\"train\"].features[\"labels\"].names)"
   ]
  },
  {
   "cell_type": "code",
   "execution_count": null,
   "metadata": {},
   "outputs": [],
   "source": []
  }
 ],
 "metadata": {
  "kernelspec": {
   "display_name": "emo",
   "language": "python",
   "name": "python3"
  },
  "language_info": {
   "codemirror_mode": {
    "name": "ipython",
    "version": 3
   },
   "file_extension": ".py",
   "mimetype": "text/x-python",
   "name": "python",
   "nbconvert_exporter": "python",
   "pygments_lexer": "ipython3",
   "version": "3.9.17"
  }
 },
 "nbformat": 4,
 "nbformat_minor": 2
}
