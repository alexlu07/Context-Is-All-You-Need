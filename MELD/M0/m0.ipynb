{
 "cells": [
  {
   "cell_type": "code",
   "execution_count": 1,
   "metadata": {},
   "outputs": [],
   "source": [
    "from datasets import DatasetDict, Dataset, ClassLabel, Sequence, Value, Features\n",
    "from transformers import AutoTokenizer, AutoModelForSequenceClassification\n",
    "from transformers import TrainingArguments, Trainer, DataCollatorWithPadding\n",
    "from scipy.stats import pearsonr\n",
    "from sklearn.metrics import accuracy_score, balanced_accuracy_score, f1_score, confusion_matrix, ConfusionMatrixDisplay\n",
    "import numpy as np\n",
    "import pandas as pd\n",
    "import torch\n",
    "import torch.nn.functional as F\n",
    "import torch.nn as nn\n",
    "from time import localtime, strftime"
   ]
  },
  {
   "cell_type": "code",
   "execution_count": 2,
   "metadata": {},
   "outputs": [],
   "source": [
    "CL = 5\n",
    "splits = [\"train\", \"val\", \"test\"]\n",
    "dfs = [pd.read_csv(f\"../D0/{split}.csv\") for split in [\"train\", \"val\", \"test\"]]\n",
    "\n",
    "filtered_dfs = list(map(lambda df: df.groupby(\"Dialogue_ID\").filter(lambda x: x[\"Utterance\"].count() >= CL), dfs))\n",
    "\n",
    "def process(df):\n",
    "    rows = []\n",
    "    for _, conversation in df.groupby(\"Dialogue_ID\"):\n",
    "        for i in range(len(conversation) - 5 + 1):\n",
    "            window = conversation[i:i + 5]\n",
    "            rows.append([window[\"Utterance\"].tolist(), window[\"Speaker\"].tolist(), window[\"Emotion\"].iloc[-1]])\n",
    "\n",
    "    return pd.DataFrame(rows, columns=[\"text\", \"speaker\", \"labels\"])\n",
    "\n",
    "processed_dfs = map(process, filtered_dfs)\n",
    "\n",
    "dataset_map = map(lambda df: Dataset.from_pandas(df, features=Features({\n",
    "    \"text\": Sequence(Value(dtype=\"string\"), length=5),\n",
    "    \"speaker\": Sequence(Value(dtype=\"string\"), length=5),\n",
    "    \"labels\": ClassLabel(names=[\"anger\", \"disgust\", \"fear\", \"joy\", \"neutral\", \"sadness\", \"surprise\"]),\n",
    "})), processed_dfs)\n",
    "\n",
    "dataset = DatasetDict({s: df for s, df in zip(splits, dataset_map)})"
   ]
  },
  {
   "cell_type": "code",
   "execution_count": 3,
   "metadata": {},
   "outputs": [
    {
     "data": {
      "application/vnd.jupyter.widget-view+json": {
       "model_id": "af446b887eb1467ea7ebc80ee3c60fb0",
       "version_major": 2,
       "version_minor": 0
      },
      "text/plain": [
       "Map:   0%|          | 0/6221 [00:00<?, ? examples/s]"
      ]
     },
     "metadata": {},
     "output_type": "display_data"
    },
    {
     "name": "stderr",
     "output_type": "stream",
     "text": [
      "\n",
      "No chat template is defined for this tokenizer - using a default chat template that implements the ChatML format (without BOS/EOS tokens!). If the default is not appropriate for your model, please set `tokenizer.chat_template` to an appropriate template. See https://huggingface.co/docs/transformers/main/chat_templating for more information.\n",
      "\n"
     ]
    },
    {
     "data": {
      "application/vnd.jupyter.widget-view+json": {
       "model_id": "2c1f4e916bcb44f3a7620117ea86f0f7",
       "version_major": 2,
       "version_minor": 0
      },
      "text/plain": [
       "Map:   0%|          | 0/686 [00:00<?, ? examples/s]"
      ]
     },
     "metadata": {},
     "output_type": "display_data"
    },
    {
     "data": {
      "application/vnd.jupyter.widget-view+json": {
       "model_id": "d35b6e04c1a34a16948d4a8b8bb51888",
       "version_major": 2,
       "version_minor": 0
      },
      "text/plain": [
       "Map:   0%|          | 0/1577 [00:00<?, ? examples/s]"
      ]
     },
     "metadata": {},
     "output_type": "display_data"
    }
   ],
   "source": [
    "tokenizer = AutoTokenizer.from_pretrained(\"roberta-base\")\n",
    "\n",
    "def preprocess_data(examples):\n",
    "    convs = [\n",
    "        tokenizer.apply_chat_template(\n",
    "            [{\"role\": \"system\", \"content\": f\"How does {examples['speaker'][x][-1]} feel at the end of the conversation?\"}] + \\\n",
    "            [{\"role\": examples[\"speaker\"][x][i], \"content\": examples[\"text\"][x][i] + \" \"} for i in range(CL)], \n",
    "            tokenize=False)\n",
    "        for x in range(len(examples[\"text\"]))\n",
    "    ]\n",
    "\n",
    "    encoding = tokenizer(convs, max_length=288, truncation=True)\n",
    "\n",
    "    return encoding\n",
    "\n",
    "\n",
    "tokenized_dataset = dataset.map(preprocess_data, batched=True, batch_size=100000,)\n",
    "                                # remove_columns=[f\"{k}{i}\" for k in \"ts\" for i in range(CL)])\n",
    "\n",
    "\n",
    "data_collator = DataCollatorWithPadding(tokenizer=tokenizer)"
   ]
  },
  {
   "cell_type": "code",
   "execution_count": 4,
   "metadata": {},
   "outputs": [],
   "source": [
    "def get_model():\n",
    "    return AutoModelForSequenceClassification.from_pretrained(\"roberta-base\", num_labels=7)"
   ]
  },
  {
   "cell_type": "code",
   "execution_count": 5,
   "metadata": {},
   "outputs": [],
   "source": [
    "def compute_metrics(eval_pred):\n",
    "    logits, labels = eval_pred\n",
    "    predictions = np.argmax(logits, axis=-1)\n",
    "\n",
    "    metrics = {\n",
    "        \"WA\": accuracy_score(labels, predictions).tolist(),\n",
    "        \"UWA\": balanced_accuracy_score(labels, predictions).tolist(),\n",
    "        \"miF1\": f1_score(labels, predictions, average=\"micro\"),\n",
    "        \"maF1\": f1_score(labels, predictions, average=\"macro\"),\n",
    "        \"wtF1\": f1_score(labels, predictions, average=\"weighted\"),\n",
    "    }\n",
    "\n",
    "    return metrics"
   ]
  },
  {
   "cell_type": "code",
   "execution_count": 6,
   "metadata": {},
   "outputs": [],
   "source": [
    "loss_fn = nn.CrossEntropyLoss(torch.Tensor(1/np.bincount(dataset[\"train\"][\"labels\"])).to(\"cuda\"))\n",
    "# loss_fn = nn.CrossEntropyLoss()\n",
    "\n",
    "class WeightedTrainer(Trainer):\n",
    "    def compute_loss(self, model, inputs, return_outputs=False):\n",
    "        labels = inputs.pop(\"labels\")\n",
    "        outputs = model(**inputs)\n",
    "\n",
    "        loss = loss_fn(outputs[\"logits\"], labels)\n",
    "        return (loss, outputs) if return_outputs else loss"
   ]
  },
  {
   "cell_type": "code",
   "execution_count": 7,
   "metadata": {},
   "outputs": [
    {
     "ename": "Exception",
     "evalue": "",
     "output_type": "error",
     "traceback": [
      "\u001b[0;31m---------------------------------------------------------------------------\u001b[0m",
      "\u001b[0;31mException\u001b[0m                                 Traceback (most recent call last)",
      "Cell \u001b[0;32mIn[7], line 1\u001b[0m\n\u001b[0;32m----> 1\u001b[0m \u001b[38;5;28;01mraise\u001b[39;00m \u001b[38;5;167;01mException\u001b[39;00m\n",
      "\u001b[0;31mException\u001b[0m: "
     ]
    }
   ],
   "source": [
    "raise Exception"
   ]
  },
  {
   "cell_type": "code",
   "execution_count": 8,
   "metadata": {},
   "outputs": [
    {
     "name": "stderr",
     "output_type": "stream",
     "text": [
      "Some weights of RobertaForSequenceClassification were not initialized from the model checkpoint at roberta-base and are newly initialized: ['classifier.dense.weight', 'classifier.out_proj.bias', 'classifier.dense.bias', 'classifier.out_proj.weight']\n",
      "You should probably TRAIN this model on a down-stream task to be able to use it for predictions and inference.\n",
      "Some weights of RobertaForSequenceClassification were not initialized from the model checkpoint at roberta-base and are newly initialized: ['classifier.dense.weight', 'classifier.out_proj.bias', 'classifier.dense.bias', 'classifier.out_proj.weight']\n",
      "You should probably TRAIN this model on a down-stream task to be able to use it for predictions and inference.\n"
     ]
    },
    {
     "data": {
      "application/vnd.jupyter.widget-view+json": {
       "model_id": "6f840e7550914672845632860a2c0d90",
       "version_major": 2,
       "version_minor": 0
      },
      "text/plain": [
       "  0%|          | 0/3920 [00:00<?, ?it/s]"
      ]
     },
     "metadata": {},
     "output_type": "display_data"
    },
    {
     "name": "stderr",
     "output_type": "stream",
     "text": [
      "You're using a RobertaTokenizerFast tokenizer. Please note that with a fast tokenizer, using the `__call__` method is faster than using a method to encode the text followed by a call to the `pad` method to get a padded encoding.\n"
     ]
    },
    {
     "name": "stdout",
     "output_type": "stream",
     "text": [
      "{'loss': 1.0048, 'learning_rate': 7.777777777777778e-07, 'epoch': 26.0}\n"
     ]
    },
    {
     "data": {
      "application/vnd.jupyter.widget-view+json": {
       "model_id": "584078e24a0448c78de30dc67ac19e94",
       "version_major": 2,
       "version_minor": 0
      },
      "text/plain": [
       "  0%|          | 0/11 [00:00<?, ?it/s]"
      ]
     },
     "metadata": {},
     "output_type": "display_data"
    },
    {
     "name": "stdout",
     "output_type": "stream",
     "text": [
      "{'eval_loss': 1.4560647010803223, 'eval_WA': 0.5145772594752187, 'eval_UWA': 0.48186999407415937, 'eval_miF1': 0.5145772594752187, 'eval_maF1': 0.43993443706274926, 'eval_wtF1': 0.5352955802852443, 'eval_runtime': 1.756, 'eval_samples_per_second': 390.66, 'eval_steps_per_second': 6.264, 'epoch': 26.0}\n",
      "{'loss': 0.9904, 'learning_rate': 7.222222222222221e-07, 'epoch': 27.0}\n"
     ]
    },
    {
     "data": {
      "application/vnd.jupyter.widget-view+json": {
       "model_id": "adcf2f600d674dd7b930dcebe7acef50",
       "version_major": 2,
       "version_minor": 0
      },
      "text/plain": [
       "  0%|          | 0/11 [00:00<?, ?it/s]"
      ]
     },
     "metadata": {},
     "output_type": "display_data"
    },
    {
     "name": "stdout",
     "output_type": "stream",
     "text": [
      "{'eval_loss': 1.457006812095642, 'eval_WA': 0.5029154518950437, 'eval_UWA': 0.4774189894817713, 'eval_miF1': 0.5029154518950437, 'eval_maF1': 0.4331592709836768, 'eval_wtF1': 0.5265783261562637, 'eval_runtime': 1.7622, 'eval_samples_per_second': 389.288, 'eval_steps_per_second': 6.242, 'epoch': 27.0}\n",
      "{'loss': 0.9827, 'learning_rate': 6.666666666666666e-07, 'epoch': 28.0}\n"
     ]
    },
    {
     "data": {
      "application/vnd.jupyter.widget-view+json": {
       "model_id": "26707332d25d4ee69c6a545ebd45f9de",
       "version_major": 2,
       "version_minor": 0
      },
      "text/plain": [
       "  0%|          | 0/11 [00:00<?, ?it/s]"
      ]
     },
     "metadata": {},
     "output_type": "display_data"
    },
    {
     "name": "stdout",
     "output_type": "stream",
     "text": [
      "{'eval_loss': 1.4645681381225586, 'eval_WA': 0.5306122448979592, 'eval_UWA': 0.4927722022710309, 'eval_miF1': 0.5306122448979592, 'eval_maF1': 0.4515218557995925, 'eval_wtF1': 0.546303925877484, 'eval_runtime': 1.7579, 'eval_samples_per_second': 390.246, 'eval_steps_per_second': 6.258, 'epoch': 28.0}\n",
      "{'loss': 0.9677, 'learning_rate': 6.111111111111112e-07, 'epoch': 29.0}\n"
     ]
    },
    {
     "data": {
      "application/vnd.jupyter.widget-view+json": {
       "model_id": "ca10901e091a4fb5953582b71224800f",
       "version_major": 2,
       "version_minor": 0
      },
      "text/plain": [
       "  0%|          | 0/11 [00:00<?, ?it/s]"
      ]
     },
     "metadata": {},
     "output_type": "display_data"
    },
    {
     "name": "stdout",
     "output_type": "stream",
     "text": [
      "{'eval_loss': 1.4746530055999756, 'eval_WA': 0.5364431486880467, 'eval_UWA': 0.47575514905445376, 'eval_miF1': 0.5364431486880467, 'eval_maF1': 0.4454107580766414, 'eval_wtF1': 0.5539541626981881, 'eval_runtime': 1.7566, 'eval_samples_per_second': 390.52, 'eval_steps_per_second': 6.262, 'epoch': 29.0}\n",
      "{'loss': 0.9608, 'learning_rate': 5.555555555555555e-07, 'epoch': 30.0}\n"
     ]
    },
    {
     "data": {
      "application/vnd.jupyter.widget-view+json": {
       "model_id": "b4e55a11c589485ba4ead924938ed30a",
       "version_major": 2,
       "version_minor": 0
      },
      "text/plain": [
       "  0%|          | 0/11 [00:00<?, ?it/s]"
      ]
     },
     "metadata": {},
     "output_type": "display_data"
    },
    {
     "name": "stdout",
     "output_type": "stream",
     "text": [
      "{'eval_loss': 1.4649643898010254, 'eval_WA': 0.5262390670553936, 'eval_UWA': 0.5118048602320084, 'eval_miF1': 0.5262390670553936, 'eval_maF1': 0.4594076362899922, 'eval_wtF1': 0.5456274345279681, 'eval_runtime': 1.7606, 'eval_samples_per_second': 389.65, 'eval_steps_per_second': 6.248, 'epoch': 30.0}\n",
      "{'loss': 0.9497, 'learning_rate': 5e-07, 'epoch': 31.0}\n"
     ]
    },
    {
     "data": {
      "application/vnd.jupyter.widget-view+json": {
       "model_id": "6b2cd758ef2d4dac8d4de97a6fea3855",
       "version_major": 2,
       "version_minor": 0
      },
      "text/plain": [
       "  0%|          | 0/11 [00:00<?, ?it/s]"
      ]
     },
     "metadata": {},
     "output_type": "display_data"
    },
    {
     "name": "stdout",
     "output_type": "stream",
     "text": [
      "{'eval_loss': 1.4636287689208984, 'eval_WA': 0.5233236151603499, 'eval_UWA': 0.4976639204981397, 'eval_miF1': 0.5233236151603499, 'eval_maF1': 0.4511565954163547, 'eval_wtF1': 0.5435973224043698, 'eval_runtime': 1.7579, 'eval_samples_per_second': 390.242, 'eval_steps_per_second': 6.258, 'epoch': 31.0}\n",
      "{'loss': 0.9346, 'learning_rate': 4.444444444444444e-07, 'epoch': 32.0}\n"
     ]
    },
    {
     "data": {
      "application/vnd.jupyter.widget-view+json": {
       "model_id": "8a9150dbcdaa4c97af142066b982e2b6",
       "version_major": 2,
       "version_minor": 0
      },
      "text/plain": [
       "  0%|          | 0/11 [00:00<?, ?it/s]"
      ]
     },
     "metadata": {},
     "output_type": "display_data"
    },
    {
     "name": "stdout",
     "output_type": "stream",
     "text": [
      "{'eval_loss': 1.4637115001678467, 'eval_WA': 0.5145772594752187, 'eval_UWA': 0.4736345987060776, 'eval_miF1': 0.5145772594752187, 'eval_maF1': 0.4347722372179051, 'eval_wtF1': 0.5340005675847993, 'eval_runtime': 1.7532, 'eval_samples_per_second': 391.295, 'eval_steps_per_second': 6.274, 'epoch': 32.0}\n",
      "{'loss': 0.9212, 'learning_rate': 3.888888888888889e-07, 'epoch': 33.0}\n"
     ]
    },
    {
     "data": {
      "application/vnd.jupyter.widget-view+json": {
       "model_id": "73861b4973d149d8b9fd0003cdeeb280",
       "version_major": 2,
       "version_minor": 0
      },
      "text/plain": [
       "  0%|          | 0/11 [00:00<?, ?it/s]"
      ]
     },
     "metadata": {},
     "output_type": "display_data"
    },
    {
     "name": "stdout",
     "output_type": "stream",
     "text": [
      "{'eval_loss': 1.474387526512146, 'eval_WA': 0.5233236151603499, 'eval_UWA': 0.47682533504021896, 'eval_miF1': 0.5233236151603499, 'eval_maF1': 0.44097031863374886, 'eval_wtF1': 0.541260496877024, 'eval_runtime': 1.7464, 'eval_samples_per_second': 392.809, 'eval_steps_per_second': 6.299, 'epoch': 33.0}\n",
      "{'loss': 0.9223, 'learning_rate': 3.333333333333333e-07, 'epoch': 34.0}\n"
     ]
    },
    {
     "data": {
      "application/vnd.jupyter.widget-view+json": {
       "model_id": "8637ccecd91c4b64b4b3ff6042706f93",
       "version_major": 2,
       "version_minor": 0
      },
      "text/plain": [
       "  0%|          | 0/11 [00:00<?, ?it/s]"
      ]
     },
     "metadata": {},
     "output_type": "display_data"
    },
    {
     "name": "stdout",
     "output_type": "stream",
     "text": [
      "{'eval_loss': 1.4721888303756714, 'eval_WA': 0.5291545189504373, 'eval_UWA': 0.49917088462964093, 'eval_miF1': 0.5291545189504373, 'eval_maF1': 0.45477653120152706, 'eval_wtF1': 0.5496151238855652, 'eval_runtime': 1.7443, 'eval_samples_per_second': 393.273, 'eval_steps_per_second': 6.306, 'epoch': 34.0}\n",
      "{'loss': 0.9107, 'learning_rate': 2.7777777777777776e-07, 'epoch': 35.0}\n"
     ]
    },
    {
     "data": {
      "application/vnd.jupyter.widget-view+json": {
       "model_id": "f2cb85d5bb9042f9a9d5a3e1fb38ef02",
       "version_major": 2,
       "version_minor": 0
      },
      "text/plain": [
       "  0%|          | 0/11 [00:00<?, ?it/s]"
      ]
     },
     "metadata": {},
     "output_type": "display_data"
    },
    {
     "name": "stdout",
     "output_type": "stream",
     "text": [
      "{'eval_loss': 1.4711098670959473, 'eval_WA': 0.5204081632653061, 'eval_UWA': 0.4915771319854122, 'eval_miF1': 0.5204081632653061, 'eval_maF1': 0.4475400686836396, 'eval_wtF1': 0.5386629363870119, 'eval_runtime': 1.7618, 'eval_samples_per_second': 389.384, 'eval_steps_per_second': 6.244, 'epoch': 35.0}\n",
      "{'loss': 0.8963, 'learning_rate': 2.222222222222222e-07, 'epoch': 36.0}\n"
     ]
    },
    {
     "data": {
      "application/vnd.jupyter.widget-view+json": {
       "model_id": "5197f83badd04e518bcdc437bb6e28fd",
       "version_major": 2,
       "version_minor": 0
      },
      "text/plain": [
       "  0%|          | 0/11 [00:00<?, ?it/s]"
      ]
     },
     "metadata": {},
     "output_type": "display_data"
    },
    {
     "name": "stdout",
     "output_type": "stream",
     "text": [
      "{'eval_loss': 1.4791018962860107, 'eval_WA': 0.521865889212828, 'eval_UWA': 0.4749938332087172, 'eval_miF1': 0.521865889212828, 'eval_maF1': 0.43895539003043976, 'eval_wtF1': 0.5399840813395066, 'eval_runtime': 1.7669, 'eval_samples_per_second': 388.254, 'eval_steps_per_second': 6.226, 'epoch': 36.0}\n",
      "{'loss': 0.9063, 'learning_rate': 1.6666666666666665e-07, 'epoch': 37.0}\n"
     ]
    },
    {
     "data": {
      "application/vnd.jupyter.widget-view+json": {
       "model_id": "218232ee126846be9caf45021ed025b4",
       "version_major": 2,
       "version_minor": 0
      },
      "text/plain": [
       "  0%|          | 0/11 [00:00<?, ?it/s]"
      ]
     },
     "metadata": {},
     "output_type": "display_data"
    },
    {
     "name": "stdout",
     "output_type": "stream",
     "text": [
      "{'eval_loss': 1.4797263145446777, 'eval_WA': 0.521865889212828, 'eval_UWA': 0.4740448215285734, 'eval_miF1': 0.521865889212828, 'eval_maF1': 0.43922143351054793, 'eval_wtF1': 0.5412758866233022, 'eval_runtime': 1.7341, 'eval_samples_per_second': 395.6, 'eval_steps_per_second': 6.343, 'epoch': 37.0}\n",
      "{'loss': 0.9036, 'learning_rate': 1.111111111111111e-07, 'epoch': 38.0}\n"
     ]
    },
    {
     "data": {
      "application/vnd.jupyter.widget-view+json": {
       "model_id": "db76080b1df34b9f8b6925a7d12e5615",
       "version_major": 2,
       "version_minor": 0
      },
      "text/plain": [
       "  0%|          | 0/11 [00:00<?, ?it/s]"
      ]
     },
     "metadata": {},
     "output_type": "display_data"
    },
    {
     "name": "stdout",
     "output_type": "stream",
     "text": [
      "{'eval_loss': 1.4829784631729126, 'eval_WA': 0.5233236151603499, 'eval_UWA': 0.4755329167666687, 'eval_miF1': 0.5233236151603499, 'eval_maF1': 0.4395856261778021, 'eval_wtF1': 0.5410808631938858, 'eval_runtime': 1.731, 'eval_samples_per_second': 396.311, 'eval_steps_per_second': 6.355, 'epoch': 38.0}\n",
      "{'loss': 0.8952, 'learning_rate': 5.555555555555555e-08, 'epoch': 39.0}\n"
     ]
    },
    {
     "data": {
      "application/vnd.jupyter.widget-view+json": {
       "model_id": "1b5e59d440fe4002bf0e38c78cf77e2d",
       "version_major": 2,
       "version_minor": 0
      },
      "text/plain": [
       "  0%|          | 0/11 [00:00<?, ?it/s]"
      ]
     },
     "metadata": {},
     "output_type": "display_data"
    },
    {
     "name": "stdout",
     "output_type": "stream",
     "text": [
      "{'eval_loss': 1.4833106994628906, 'eval_WA': 0.5262390670553936, 'eval_UWA': 0.4766110838825717, 'eval_miF1': 0.5262390670553936, 'eval_maF1': 0.44132940077885413, 'eval_wtF1': 0.5443285793394197, 'eval_runtime': 1.7279, 'eval_samples_per_second': 397.02, 'eval_steps_per_second': 6.366, 'epoch': 39.0}\n",
      "{'loss': 0.8972, 'learning_rate': 0.0, 'epoch': 40.0}\n"
     ]
    },
    {
     "data": {
      "application/vnd.jupyter.widget-view+json": {
       "model_id": "1d4b1ead3ddf40a0a0651a93a0b70338",
       "version_major": 2,
       "version_minor": 0
      },
      "text/plain": [
       "  0%|          | 0/11 [00:00<?, ?it/s]"
      ]
     },
     "metadata": {},
     "output_type": "display_data"
    },
    {
     "name": "stdout",
     "output_type": "stream",
     "text": [
      "{'eval_loss': 1.48381507396698, 'eval_WA': 0.5276967930029155, 'eval_UWA': 0.47715016744052313, 'eval_miF1': 0.5276967930029155, 'eval_maF1': 0.4423523080564524, 'eval_wtF1': 0.5454661947005928, 'eval_runtime': 1.7343, 'eval_samples_per_second': 395.554, 'eval_steps_per_second': 6.343, 'epoch': 40.0}\n",
      "{'train_runtime': 747.5976, 'train_samples_per_second': 332.853, 'train_steps_per_second': 5.243, 'train_loss': 0.35109185588603115, 'epoch': 40.0}\n"
     ]
    },
    {
     "data": {
      "text/plain": [
       "TrainOutput(global_step=3920, training_loss=0.35109185588603115, metrics={'train_runtime': 747.5976, 'train_samples_per_second': 332.853, 'train_steps_per_second': 5.243, 'train_loss': 0.35109185588603115, 'epoch': 40.0})"
      ]
     },
     "execution_count": 8,
     "metadata": {},
     "output_type": "execute_result"
    }
   ],
   "source": [
    "dir_name = strftime(\"%b-%d-%y-%H:%M:%S\", localtime())\n",
    "dir_name = \"Jan-10-24-22:59:06\"\n",
    "\n",
    "training_args = TrainingArguments(\n",
    "    output_dir=f\"results/{dir_name}\",\n",
    "    logging_dir=f\"results/{dir_name}/runs\",\n",
    "    evaluation_strategy=\"epoch\",\n",
    "    per_device_train_batch_size=64,\n",
    "    per_device_eval_batch_size=64,\n",
    "    learning_rate=2e-6,\n",
    "    max_grad_norm=1.0,\n",
    "    num_train_epochs=40,\n",
    "    lr_scheduler_type=\"linear\",\n",
    "    warmup_ratio=0.1,\n",
    "    logging_strategy=\"epoch\",\n",
    "    report_to=\"none\",\n",
    "    save_strategy=\"epoch\",\n",
    "    seed=42,\n",
    "    load_best_model_at_end=True,\n",
    "    metric_for_best_model=\"loss\",\n",
    "    disable_tqdm=False\n",
    ")\n",
    "\n",
    "trainer = WeightedTrainer(\n",
    "    model_init=get_model,\n",
    "    args=training_args,\n",
    "    train_dataset=tokenized_dataset['train'],\n",
    "    eval_dataset=tokenized_dataset['val'],\n",
    "    data_collator=data_collator,\n",
    "    tokenizer=tokenizer,\n",
    "    compute_metrics=compute_metrics,\n",
    ")\n",
    "\n",
    "trainer.train(resume_from_checkpoint=True)"
   ]
  },
  {
   "cell_type": "code",
   "execution_count": 9,
   "metadata": {},
   "outputs": [
    {
     "data": {
      "application/vnd.jupyter.widget-view+json": {
       "model_id": "4a9b0766b3e7499690bb4b25fe6ac061",
       "version_major": 2,
       "version_minor": 0
      },
      "text/plain": [
       "  0%|          | 0/25 [00:00<?, ?it/s]"
      ]
     },
     "metadata": {},
     "output_type": "display_data"
    },
    {
     "data": {
      "text/plain": [
       "{'eval_loss': 1.418481469154358,\n",
       " 'eval_WA': 0.5022194039315155,\n",
       " 'eval_UWA': 0.4928637249350193,\n",
       " 'eval_miF1': 0.5022194039315155,\n",
       " 'eval_maF1': 0.4181455825207529,\n",
       " 'eval_wtF1': 0.5273500434507834,\n",
       " 'eval_runtime': 4.0354,\n",
       " 'eval_samples_per_second': 390.791,\n",
       " 'eval_steps_per_second': 6.195,\n",
       " 'epoch': 40.0}"
      ]
     },
     "execution_count": 9,
     "metadata": {},
     "output_type": "execute_result"
    }
   ],
   "source": [
    "trainer.evaluate(tokenized_dataset[\"test\"])"
   ]
  },
  {
   "cell_type": "code",
   "execution_count": 10,
   "metadata": {},
   "outputs": [
    {
     "data": {
      "application/vnd.jupyter.widget-view+json": {
       "model_id": "43e5a638b8d846f2b047cfc4ee654fdb",
       "version_major": 2,
       "version_minor": 0
      },
      "text/plain": [
       "  0%|          | 0/25 [00:00<?, ?it/s]"
      ]
     },
     "metadata": {},
     "output_type": "display_data"
    }
   ],
   "source": [
    "predictions = trainer.predict(tokenized_dataset[\"test\"])"
   ]
  },
  {
   "cell_type": "code",
   "execution_count": 11,
   "metadata": {},
   "outputs": [],
   "source": [
    "preds = pd.DataFrame(dataset[\"test\"])\n",
    "preds[\"pred\"] = np.argmax(predictions[0], axis=1)"
   ]
  },
  {
   "cell_type": "code",
   "execution_count": 12,
   "metadata": {},
   "outputs": [
    {
     "data": {
      "text/html": [
       "<div>\n",
       "<style scoped>\n",
       "    .dataframe tbody tr th:only-of-type {\n",
       "        vertical-align: middle;\n",
       "    }\n",
       "\n",
       "    .dataframe tbody tr th {\n",
       "        vertical-align: top;\n",
       "    }\n",
       "\n",
       "    .dataframe thead th {\n",
       "        text-align: right;\n",
       "    }\n",
       "</style>\n",
       "<table border=\"1\" class=\"dataframe\">\n",
       "  <thead>\n",
       "    <tr style=\"text-align: right;\">\n",
       "      <th></th>\n",
       "      <th>text</th>\n",
       "      <th>speaker</th>\n",
       "      <th>labels</th>\n",
       "      <th>pred</th>\n",
       "    </tr>\n",
       "  </thead>\n",
       "  <tbody>\n",
       "    <tr>\n",
       "      <th>0</th>\n",
       "      <td>[Come on, Lydia, you can do it., Push!, Push '...</td>\n",
       "      <td>[Joey, Joey, Joey, Joey, Joey]</td>\n",
       "      <td>3</td>\n",
       "      <td>3</td>\n",
       "    </tr>\n",
       "    <tr>\n",
       "      <th>1</th>\n",
       "      <td>[Push!, Push 'em out, push 'em out, harder, ha...</td>\n",
       "      <td>[Joey, Joey, Joey, Joey, Joey]</td>\n",
       "      <td>3</td>\n",
       "      <td>4</td>\n",
       "    </tr>\n",
       "    <tr>\n",
       "      <th>2</th>\n",
       "      <td>[Push 'em out, push 'em out, harder, harder., ...</td>\n",
       "      <td>[Joey, Joey, Joey, Joey, Joey]</td>\n",
       "      <td>3</td>\n",
       "      <td>3</td>\n",
       "    </tr>\n",
       "    <tr>\n",
       "      <th>3</th>\n",
       "      <td>[Push 'em out, push 'em out, way out!, Let's g...</td>\n",
       "      <td>[Joey, Joey, Joey, Joey, Joey]</td>\n",
       "      <td>3</td>\n",
       "      <td>3</td>\n",
       "    </tr>\n",
       "    <tr>\n",
       "      <th>4</th>\n",
       "      <td>[Okay., Ross, didn't you say that there was an...</td>\n",
       "      <td>[Ross, Rachel, Ross, Ross, Rachel]</td>\n",
       "      <td>0</td>\n",
       "      <td>0</td>\n",
       "    </tr>\n",
       "    <tr>\n",
       "      <th>...</th>\n",
       "      <td>...</td>\n",
       "      <td>...</td>\n",
       "      <td>...</td>\n",
       "      <td>...</td>\n",
       "    </tr>\n",
       "    <tr>\n",
       "      <th>1572</th>\n",
       "      <td>[Look, I really need some help, okay? Why? Why...</td>\n",
       "      <td>[Ross, Rachel, Monica, Monica, Rachel]</td>\n",
       "      <td>4</td>\n",
       "      <td>5</td>\n",
       "    </tr>\n",
       "    <tr>\n",
       "      <th>1573</th>\n",
       "      <td>[Well, Why don't you phase it out?, Yeah, fade...</td>\n",
       "      <td>[Rachel, Monica, Monica, Rachel, Ross]</td>\n",
       "      <td>6</td>\n",
       "      <td>6</td>\n",
       "    </tr>\n",
       "    <tr>\n",
       "      <th>1574</th>\n",
       "      <td>[Why don't you phase it out?, Yeah, fade the a...</td>\n",
       "      <td>[Monica, Monica, Rachel, Ross, Rachel]</td>\n",
       "      <td>4</td>\n",
       "      <td>3</td>\n",
       "    </tr>\n",
       "    <tr>\n",
       "      <th>1575</th>\n",
       "      <td>[Yeah, fade the accent out and people will thi...</td>\n",
       "      <td>[Monica, Rachel, Ross, Rachel, Ross]</td>\n",
       "      <td>4</td>\n",
       "      <td>0</td>\n",
       "    </tr>\n",
       "    <tr>\n",
       "      <th>1576</th>\n",
       "      <td>[Yeah, I mean, come on Ross, no one will even ...</td>\n",
       "      <td>[Rachel, Ross, Rachel, Ross, Monica]</td>\n",
       "      <td>4</td>\n",
       "      <td>3</td>\n",
       "    </tr>\n",
       "  </tbody>\n",
       "</table>\n",
       "<p>1577 rows × 4 columns</p>\n",
       "</div>"
      ],
      "text/plain": [
       "                                                   text  \\\n",
       "0     [Come on, Lydia, you can do it., Push!, Push '...   \n",
       "1     [Push!, Push 'em out, push 'em out, harder, ha...   \n",
       "2     [Push 'em out, push 'em out, harder, harder., ...   \n",
       "3     [Push 'em out, push 'em out, way out!, Let's g...   \n",
       "4     [Okay., Ross, didn't you say that there was an...   \n",
       "...                                                 ...   \n",
       "1572  [Look, I really need some help, okay? Why? Why...   \n",
       "1573  [Well, Why don't you phase it out?, Yeah, fade...   \n",
       "1574  [Why don't you phase it out?, Yeah, fade the a...   \n",
       "1575  [Yeah, fade the accent out and people will thi...   \n",
       "1576  [Yeah, I mean, come on Ross, no one will even ...   \n",
       "\n",
       "                                     speaker  labels  pred  \n",
       "0             [Joey, Joey, Joey, Joey, Joey]       3     3  \n",
       "1             [Joey, Joey, Joey, Joey, Joey]       3     4  \n",
       "2             [Joey, Joey, Joey, Joey, Joey]       3     3  \n",
       "3             [Joey, Joey, Joey, Joey, Joey]       3     3  \n",
       "4         [Ross, Rachel, Ross, Ross, Rachel]       0     0  \n",
       "...                                      ...     ...   ...  \n",
       "1572  [Ross, Rachel, Monica, Monica, Rachel]       4     5  \n",
       "1573  [Rachel, Monica, Monica, Rachel, Ross]       6     6  \n",
       "1574  [Monica, Monica, Rachel, Ross, Rachel]       4     3  \n",
       "1575    [Monica, Rachel, Ross, Rachel, Ross]       4     0  \n",
       "1576    [Rachel, Ross, Rachel, Ross, Monica]       4     3  \n",
       "\n",
       "[1577 rows x 4 columns]"
      ]
     },
     "execution_count": 12,
     "metadata": {},
     "output_type": "execute_result"
    }
   ],
   "source": [
    "preds"
   ]
  },
  {
   "cell_type": "code",
   "execution_count": 18,
   "metadata": {},
   "outputs": [
    {
     "name": "stdout",
     "output_type": "stream",
     "text": [
      "[0.46017699115044247, 0.2926829268292683, 0.5, 0.6016597510373444, 0.4598337950138504, 0.46715328467153283, 0.6685393258426966]\n",
      "0.4928637249350193\n",
      "0.4983687132552141\n"
     ]
    }
   ],
   "source": [
    "scores = []\n",
    "\n",
    "for i in range(7):\n",
    "\n",
    "    tp = (preds[\"labels\"] == i) & (preds[\"pred\"] == i)\n",
    "    tn = (preds[\"labels\"] != i) & (preds[\"pred\"] != i)\n",
    "\n",
    "    # print((sum(tp) + sum(tn))/len(preds))\n",
    "    scores.append(sum(tp) / sum(preds[\"labels\"] == i))\n",
    "\n",
    "print(scores)\n",
    "print(sum(scores) / len(scores))\n",
    "print((sum(scores)-scores[4]) / (len(scores)-1))"
   ]
  },
  {
   "cell_type": "code",
   "execution_count": 20,
   "metadata": {},
   "outputs": [
    {
     "data": {
      "text/plain": [
       "(0.6122888712078097, 0.5022194039315155, 0.5273500434507834, None)"
      ]
     },
     "execution_count": 20,
     "metadata": {},
     "output_type": "execute_result"
    }
   ],
   "source": [
    "from sklearn.metrics import precision_recall_fscore_support\n",
    "precision_recall_fscore_support(preds[\"labels\"], preds[\"pred\"], average=\"weighted\")"
   ]
  },
  {
   "cell_type": "code",
   "execution_count": 17,
   "metadata": {},
   "outputs": [
    {
     "data": {
      "text/plain": [
       "<sklearn.metrics._plot.confusion_matrix.ConfusionMatrixDisplay at 0x7f11a83e2d90>"
      ]
     },
     "execution_count": 17,
     "metadata": {},
     "output_type": "execute_result"
    },
    {
     "data": {
      "image/png": "[encoded data removed]",
      "text/plain": [
       "<Figure size 640x480 with 2 Axes>"
      ]
     },
     "metadata": {},
     "output_type": "display_data"
    }
   ],
   "source": [
    "ConfusionMatrixDisplay.from_predictions(preds[\"labels\"], preds[\"pred\"], display_labels=dataset[\"train\"].features[\"labels\"].names)"
   ]
  },
  {
   "cell_type": "code",
   "execution_count": null,
   "metadata": {},
   "outputs": [],
   "source": []
  }
 ],
 "metadata": {
  "kernelspec": {
   "display_name": "emo",
   "language": "python",
   "name": "python3"
  },
  "language_info": {
   "codemirror_mode": {
    "name": "ipython",
    "version": 3
   },
   "file_extension": ".py",
   "mimetype": "text/x-python",
   "name": "python",
   "nbconvert_exporter": "python",
   "pygments_lexer": "ipython3",
   "version": "3.9.17"
  }
 },
 "nbformat": 4,
 "nbformat_minor": 2
}
