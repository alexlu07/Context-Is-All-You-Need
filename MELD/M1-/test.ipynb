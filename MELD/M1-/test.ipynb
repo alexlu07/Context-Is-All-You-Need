{
 "cells": [
  {
   "cell_type": "code",
   "execution_count": null,
   "metadata": {},
   "outputs": [],
   "source": [
    "from datasets import DatasetDict, Dataset, ClassLabel, Sequence, Value, Features\n",
    "from transformers import AutoTokenizer, AutoModelForSequenceClassification\n",
    "from transformers import TrainingArguments, Trainer, DataCollatorWithPadding\n",
    "from scipy.stats import pearsonr\n",
    "from sklearn.metrics import accuracy_score, balanced_accuracy_score, f1_score, confusion_matrix, ConfusionMatrixDisplay\n",
    "import numpy as np\n",
    "import pandas as pd\n",
    "import torch\n",
    "import torch.nn.functional as F\n",
    "import torch.nn as nn\n",
    "from time import localtime, strftime, strptime\n",
    "import os"
   ]
  },
  {
   "cell_type": "code",
   "execution_count": null,
   "metadata": {},
   "outputs": [],
   "source": [
    "CL = 5\n",
    "splits = [\"train\", \"val\", \"test\"]\n",
    "dfs = [pd.read_csv(f\"../D0/{split}.csv\") for split in [\"train\", \"val\", \"test\"]]\n",
    "\n",
    "filtered_dfs = list(map(lambda df: df.groupby(\"Dialogue_ID\").filter(lambda x: x[\"Utterance\"].count() >= CL), dfs))\n",
    "\n",
    "def process(df):\n",
    "    rows = []\n",
    "    for _, conversation in df.groupby(\"Dialogue_ID\"):\n",
    "        for i in range(len(conversation) - 5 + 1):\n",
    "            window = conversation[i:i + 5]\n",
    "            rows.append([window[\"Utterance\"].tolist(), window[\"Speaker\"].tolist(), window[\"Emotion\"].iloc[-1]])\n",
    "\n",
    "    return pd.DataFrame(rows, columns=[\"text\", \"speaker\", \"labels\"])\n",
    "\n",
    "processed_dfs = map(process, filtered_dfs)\n",
    "\n",
    "dataset_map = map(lambda df: Dataset.from_pandas(df, features=Features({\n",
    "    \"text\": Sequence(Value(dtype=\"string\"), length=5),\n",
    "    \"speaker\": Sequence(Value(dtype=\"string\"), length=5),\n",
    "    \"labels\": ClassLabel(names=[\"anger\", \"disgust\", \"fear\", \"joy\", \"neutral\", \"sadness\", \"surprise\"]),\n",
    "})), processed_dfs)\n",
    "\n",
    "dataset = DatasetDict({s: df for s, df in zip(splits, dataset_map)})"
   ]
  },
  {
   "cell_type": "code",
   "execution_count": null,
   "metadata": {},
   "outputs": [
    {
     "data": {
      "application/vnd.jupyter.widget-view+json": {
       "model_id": "970b5e4a6f834ba5ad52f62cef58fabc",
       "version_major": 2,
       "version_minor": 0
      },
      "text/plain": [
       "Map:   0%|          | 0/858 [00:00<?, ? examples/s]"
      ]
     },
     "metadata": {},
     "output_type": "display_data"
    }
   ],
   "source": [
    "tokenizer = AutoTokenizer.from_pretrained(\"roberta-base\")\n",
    "\n",
    "def preprocess_data(examples):\n",
    "    encoding = tokenizer(examples[\"text\"][-1], max_length=128, truncation=True)\n",
    "\n",
    "    return encoding\n",
    "\n",
    "tokenized_dataset = dataset.map(preprocess_data, batched=True)\n",
    "data_collator = DataCollatorWithPadding(tokenizer=tokenizer)"
   ]
  },
  {
   "cell_type": "code",
   "execution_count": 10,
   "metadata": {},
   "outputs": [],
   "source": [
    "def get_checkpoint(epoch=0, run=\"latest\", folder_path=\"results\"):\n",
    "    if run == \"latest\":\n",
    "        run = max(os.listdir(folder_path), key=lambda x: strptime(x, \"%b-%d-%y-%H:%M:%S\"))\n",
    "\n",
    "    checkpoint = sorted(os.listdir(f\"{folder_path}/{run}\"), key=lambda x: int(x.split(\"-\")[1]))[epoch-1]\n",
    "\n",
    "    return f\"{folder_path}/{run}/{checkpoint}\"\n",
    "\n",
    "c = get_checkpoint(16, run=\"latest\")\n",
    "model = AutoModelForSequenceClassification.from_pretrained(c)"
   ]
  },
  {
   "cell_type": "code",
   "execution_count": 11,
   "metadata": {},
   "outputs": [],
   "source": [
    "def compute_metrics(eval_pred):\n",
    "    logits, labels = eval_pred\n",
    "    predictions = np.argmax(logits, axis=-1)\n",
    "\n",
    "    metrics = {\n",
    "        \"WA\": accuracy_score(labels, predictions).tolist(),\n",
    "        \"UWA\": balanced_accuracy_score(labels, predictions).tolist(),\n",
    "        \"miF1\": f1_score(labels, predictions, average=\"micro\"),\n",
    "        \"maF1\": f1_score(labels, predictions, average=\"macro\"),\n",
    "        \"wtF1\": f1_score(labels, predictions, average=\"weighted\"),\n",
    "    }\n",
    "\n",
    "    return metrics"
   ]
  },
  {
   "cell_type": "code",
   "execution_count": 12,
   "metadata": {},
   "outputs": [],
   "source": [
    "loss_fn = nn.CrossEntropyLoss(torch.Tensor(1/np.bincount(dataset[\"train\"][\"labels\"])).to(\"cuda\"))\n",
    "\n",
    "class WeightedTrainer(Trainer):\n",
    "    def compute_loss(self, model, inputs, return_outputs=False):\n",
    "        labels = inputs.pop(\"labels\")\n",
    "        outputs = model(**inputs)\n",
    "\n",
    "        loss = loss_fn(outputs[\"logits\"], labels)\n",
    "        return (loss, outputs) if return_outputs else loss"
   ]
  },
  {
   "cell_type": "code",
   "execution_count": 13,
   "metadata": {},
   "outputs": [],
   "source": [
    "training_args = TrainingArguments(\n",
    "    output_dir=\"/tmp/tmp_trainer\",\n",
    "    per_device_eval_batch_size=64,\n",
    "    report_to=\"none\",\n",
    ")\n",
    "\n",
    "trainer = WeightedTrainer(\n",
    "    model=model,\n",
    "    args=training_args,\n",
    "    data_collator=data_collator,\n",
    "    tokenizer=tokenizer,\n",
    "    compute_metrics=compute_metrics,\n",
    "\n",
    ")"
   ]
  },
  {
   "cell_type": "code",
   "execution_count": 14,
   "metadata": {},
   "outputs": [
    {
     "data": {
      "application/vnd.jupyter.widget-view+json": {
       "model_id": "004479b0f51b445cbd8930bb61dd6025",
       "version_major": 2,
       "version_minor": 0
      },
      "text/plain": [
       "  0%|          | 0/31 [00:00<?, ?it/s]"
      ]
     },
     "metadata": {},
     "output_type": "display_data"
    },
    {
     "data": {
      "text/plain": [
       "{'eval_loss': 1.4098238945007324,\n",
       " 'eval_WA': 0.49287169042769857,\n",
       " 'eval_UWA': 0.5092569020975651,\n",
       " 'eval_miF1': 0.49287169042769857,\n",
       " 'eval_maF1': 0.38063140422617625,\n",
       " 'eval_wtF1': 0.48903993488083175,\n",
       " 'eval_runtime': 0.884,\n",
       " 'eval_samples_per_second': 2221.722,\n",
       " 'eval_steps_per_second': 35.068}"
      ]
     },
     "execution_count": 14,
     "metadata": {},
     "output_type": "execute_result"
    }
   ],
   "source": [
    "trainer.evaluate(tokenized_dataset[\"test\"])"
   ]
  },
  {
   "cell_type": "code",
   "execution_count": 10,
   "metadata": {},
   "outputs": [
    {
     "data": {
      "application/vnd.jupyter.widget-view+json": {
       "model_id": "b01cf08b21b0425bbce36c763cf6cbeb",
       "version_major": 2,
       "version_minor": 0
      },
      "text/plain": [
       "  0%|          | 0/31 [00:00<?, ?it/s]"
      ]
     },
     "metadata": {},
     "output_type": "display_data"
    }
   ],
   "source": [
    "predictions = trainer.predict(tokenized_dataset[\"test\"])"
   ]
  },
  {
   "cell_type": "code",
   "execution_count": 11,
   "metadata": {},
   "outputs": [],
   "source": [
    "preds = pd.DataFrame(dataset[\"test\"])\n",
    "preds[\"pred\"] = np.argmax(predictions[0], axis=1)"
   ]
  },
  {
   "cell_type": "code",
   "execution_count": 12,
   "metadata": {},
   "outputs": [
    {
     "data": {
      "text/html": [
       "<div>\n",
       "<style scoped>\n",
       "    .dataframe tbody tr th:only-of-type {\n",
       "        vertical-align: middle;\n",
       "    }\n",
       "\n",
       "    .dataframe tbody tr th {\n",
       "        vertical-align: top;\n",
       "    }\n",
       "\n",
       "    .dataframe thead th {\n",
       "        text-align: right;\n",
       "    }\n",
       "</style>\n",
       "<table border=\"1\" class=\"dataframe\">\n",
       "  <thead>\n",
       "    <tr style=\"text-align: right;\">\n",
       "      <th></th>\n",
       "      <th>t0</th>\n",
       "      <th>t1</th>\n",
       "      <th>t2</th>\n",
       "      <th>t3</th>\n",
       "      <th>t4</th>\n",
       "      <th>s0</th>\n",
       "      <th>s1</th>\n",
       "      <th>s2</th>\n",
       "      <th>s3</th>\n",
       "      <th>s4</th>\n",
       "      <th>labels</th>\n",
       "      <th>pred</th>\n",
       "    </tr>\n",
       "  </thead>\n",
       "  <tbody>\n",
       "    <tr>\n",
       "      <th>0</th>\n",
       "      <td>Why do all you're coffee mugs have numbers on ...</td>\n",
       "      <td>Oh. That's so Monica can keep track. That way ...</td>\n",
       "      <td>Y'know what?</td>\n",
       "      <td>It didn't.</td>\n",
       "      <td>Okay, so what you used to have with Rachel, is...</td>\n",
       "      <td>Mark</td>\n",
       "      <td>Rachel</td>\n",
       "      <td>Rachel</td>\n",
       "      <td>Ross</td>\n",
       "      <td>Frank</td>\n",
       "      <td>1</td>\n",
       "      <td>0</td>\n",
       "    </tr>\n",
       "    <tr>\n",
       "      <th>1</th>\n",
       "      <td>Oh. That's so Monica can keep track. That way ...</td>\n",
       "      <td>Y'know what?</td>\n",
       "      <td>It didn't.</td>\n",
       "      <td>Okay, so what you used to have with Rachel, is...</td>\n",
       "      <td>Now, wh-what, what is that like?</td>\n",
       "      <td>Rachel</td>\n",
       "      <td>Rachel</td>\n",
       "      <td>Ross</td>\n",
       "      <td>Frank</td>\n",
       "      <td>Joey</td>\n",
       "      <td>5</td>\n",
       "      <td>5</td>\n",
       "    </tr>\n",
       "    <tr>\n",
       "      <th>2</th>\n",
       "      <td>Y'know what?</td>\n",
       "      <td>It didn't.</td>\n",
       "      <td>Okay, so what you used to have with Rachel, is...</td>\n",
       "      <td>Now, wh-what, what is that like?</td>\n",
       "      <td>It's so cool man, it's so, it's just 'cause be...</td>\n",
       "      <td>Rachel</td>\n",
       "      <td>Ross</td>\n",
       "      <td>Frank</td>\n",
       "      <td>Joey</td>\n",
       "      <td>Frank</td>\n",
       "      <td>1</td>\n",
       "      <td>1</td>\n",
       "    </tr>\n",
       "    <tr>\n",
       "      <th>3</th>\n",
       "      <td>It didn't.</td>\n",
       "      <td>Okay, so what you used to have with Rachel, is...</td>\n",
       "      <td>Now, wh-what, what is that like?</td>\n",
       "      <td>It's so cool man, it's so, it's just 'cause be...</td>\n",
       "      <td>Yeah, yeah.</td>\n",
       "      <td>Ross</td>\n",
       "      <td>Frank</td>\n",
       "      <td>Joey</td>\n",
       "      <td>Frank</td>\n",
       "      <td>Ross</td>\n",
       "      <td>0</td>\n",
       "      <td>0</td>\n",
       "    </tr>\n",
       "    <tr>\n",
       "      <th>4</th>\n",
       "      <td>Okay, so what you used to have with Rachel, is...</td>\n",
       "      <td>Now, wh-what, what is that like?</td>\n",
       "      <td>It's so cool man, it's so, it's just 'cause be...</td>\n",
       "      <td>Yeah, yeah.</td>\n",
       "      <td>Why can't I find that?</td>\n",
       "      <td>Frank</td>\n",
       "      <td>Joey</td>\n",
       "      <td>Frank</td>\n",
       "      <td>Ross</td>\n",
       "      <td>Joey</td>\n",
       "      <td>7</td>\n",
       "      <td>5</td>\n",
       "    </tr>\n",
       "    <tr>\n",
       "      <th>...</th>\n",
       "      <td>...</td>\n",
       "      <td>...</td>\n",
       "      <td>...</td>\n",
       "      <td>...</td>\n",
       "      <td>...</td>\n",
       "      <td>...</td>\n",
       "      <td>...</td>\n",
       "      <td>...</td>\n",
       "      <td>...</td>\n",
       "      <td>...</td>\n",
       "      <td>...</td>\n",
       "      <td>...</td>\n",
       "    </tr>\n",
       "    <tr>\n",
       "      <th>1959</th>\n",
       "      <td>I don't know what it is, I just can't take a g...</td>\n",
       "      <td>Oh, here's a great one.</td>\n",
       "      <td>Yeah, I'm not in that.</td>\n",
       "      <td>I know, but look at me: all tan.</td>\n",
       "      <td>Hey, why don't you guys go get portraits done ...</td>\n",
       "      <td>Chandler</td>\n",
       "      <td>Monica</td>\n",
       "      <td>Chandler</td>\n",
       "      <td>Monica</td>\n",
       "      <td>Phoebe</td>\n",
       "      <td>0</td>\n",
       "      <td>0</td>\n",
       "    </tr>\n",
       "    <tr>\n",
       "      <th>1960</th>\n",
       "      <td>Oh, here's a great one.</td>\n",
       "      <td>Yeah, I'm not in that.</td>\n",
       "      <td>I know, but look at me: all tan.</td>\n",
       "      <td>Hey, why don't you guys go get portraits done ...</td>\n",
       "      <td>That's a good idea! I bet they have one of tho...</td>\n",
       "      <td>Monica</td>\n",
       "      <td>Chandler</td>\n",
       "      <td>Monica</td>\n",
       "      <td>Phoebe</td>\n",
       "      <td>Monica</td>\n",
       "      <td>1</td>\n",
       "      <td>1</td>\n",
       "    </tr>\n",
       "    <tr>\n",
       "      <th>1961</th>\n",
       "      <td>Yeah, I'm not in that.</td>\n",
       "      <td>I know, but look at me: all tan.</td>\n",
       "      <td>Hey, why don't you guys go get portraits done ...</td>\n",
       "      <td>That's a good idea! I bet they have one of tho...</td>\n",
       "      <td>Yeah that's great! Next to that, Chandler won'...</td>\n",
       "      <td>Chandler</td>\n",
       "      <td>Monica</td>\n",
       "      <td>Phoebe</td>\n",
       "      <td>Monica</td>\n",
       "      <td>Phoebe</td>\n",
       "      <td>0</td>\n",
       "      <td>1</td>\n",
       "    </tr>\n",
       "    <tr>\n",
       "      <th>1962</th>\n",
       "      <td>I know, but look at me: all tan.</td>\n",
       "      <td>Hey, why don't you guys go get portraits done ...</td>\n",
       "      <td>That's a good idea! I bet they have one of tho...</td>\n",
       "      <td>Yeah that's great! Next to that, Chandler won'...</td>\n",
       "      <td>Chandler what do you say?</td>\n",
       "      <td>Monica</td>\n",
       "      <td>Phoebe</td>\n",
       "      <td>Monica</td>\n",
       "      <td>Phoebe</td>\n",
       "      <td>Monica</td>\n",
       "      <td>0</td>\n",
       "      <td>0</td>\n",
       "    </tr>\n",
       "    <tr>\n",
       "      <th>1963</th>\n",
       "      <td>Hey, why don't you guys go get portraits done ...</td>\n",
       "      <td>That's a good idea! I bet they have one of tho...</td>\n",
       "      <td>Yeah that's great! Next to that, Chandler won'...</td>\n",
       "      <td>Chandler what do you say?</td>\n",
       "      <td>All right, but I should warn you, I'm not goin...</td>\n",
       "      <td>Phoebe</td>\n",
       "      <td>Monica</td>\n",
       "      <td>Phoebe</td>\n",
       "      <td>Monica</td>\n",
       "      <td>Chandler</td>\n",
       "      <td>0</td>\n",
       "      <td>3</td>\n",
       "    </tr>\n",
       "  </tbody>\n",
       "</table>\n",
       "<p>1964 rows × 12 columns</p>\n",
       "</div>"
      ],
      "text/plain": [
       "                                                     t0  \\\n",
       "0     Why do all you're coffee mugs have numbers on ...   \n",
       "1     Oh. That's so Monica can keep track. That way ...   \n",
       "2                                          Y'know what?   \n",
       "3                                            It didn't.   \n",
       "4     Okay, so what you used to have with Rachel, is...   \n",
       "...                                                 ...   \n",
       "1959  I don't know what it is, I just can't take a g...   \n",
       "1960                            Oh, here's a great one.   \n",
       "1961                             Yeah, I'm not in that.   \n",
       "1962                   I know, but look at me: all tan.   \n",
       "1963  Hey, why don't you guys go get portraits done ...   \n",
       "\n",
       "                                                     t1  \\\n",
       "0     Oh. That's so Monica can keep track. That way ...   \n",
       "1                                          Y'know what?   \n",
       "2                                            It didn't.   \n",
       "3     Okay, so what you used to have with Rachel, is...   \n",
       "4                      Now, wh-what, what is that like?   \n",
       "...                                                 ...   \n",
       "1959                            Oh, here's a great one.   \n",
       "1960                             Yeah, I'm not in that.   \n",
       "1961                   I know, but look at me: all tan.   \n",
       "1962  Hey, why don't you guys go get portraits done ...   \n",
       "1963  That's a good idea! I bet they have one of tho...   \n",
       "\n",
       "                                                     t2  \\\n",
       "0                                          Y'know what?   \n",
       "1                                            It didn't.   \n",
       "2     Okay, so what you used to have with Rachel, is...   \n",
       "3                      Now, wh-what, what is that like?   \n",
       "4     It's so cool man, it's so, it's just 'cause be...   \n",
       "...                                                 ...   \n",
       "1959                             Yeah, I'm not in that.   \n",
       "1960                   I know, but look at me: all tan.   \n",
       "1961  Hey, why don't you guys go get portraits done ...   \n",
       "1962  That's a good idea! I bet they have one of tho...   \n",
       "1963  Yeah that's great! Next to that, Chandler won'...   \n",
       "\n",
       "                                                     t3  \\\n",
       "0                                            It didn't.   \n",
       "1     Okay, so what you used to have with Rachel, is...   \n",
       "2                      Now, wh-what, what is that like?   \n",
       "3     It's so cool man, it's so, it's just 'cause be...   \n",
       "4                                           Yeah, yeah.   \n",
       "...                                                 ...   \n",
       "1959                   I know, but look at me: all tan.   \n",
       "1960  Hey, why don't you guys go get portraits done ...   \n",
       "1961  That's a good idea! I bet they have one of tho...   \n",
       "1962  Yeah that's great! Next to that, Chandler won'...   \n",
       "1963                          Chandler what do you say?   \n",
       "\n",
       "                                                     t4        s0        s1  \\\n",
       "0     Okay, so what you used to have with Rachel, is...      Mark    Rachel   \n",
       "1                      Now, wh-what, what is that like?    Rachel    Rachel   \n",
       "2     It's so cool man, it's so, it's just 'cause be...    Rachel      Ross   \n",
       "3                                           Yeah, yeah.      Ross     Frank   \n",
       "4                                Why can't I find that?     Frank      Joey   \n",
       "...                                                 ...       ...       ...   \n",
       "1959  Hey, why don't you guys go get portraits done ...  Chandler    Monica   \n",
       "1960  That's a good idea! I bet they have one of tho...    Monica  Chandler   \n",
       "1961  Yeah that's great! Next to that, Chandler won'...  Chandler    Monica   \n",
       "1962                          Chandler what do you say?    Monica    Phoebe   \n",
       "1963  All right, but I should warn you, I'm not goin...    Phoebe    Monica   \n",
       "\n",
       "            s2      s3        s4  labels  pred  \n",
       "0       Rachel    Ross     Frank       1     0  \n",
       "1         Ross   Frank      Joey       5     5  \n",
       "2        Frank    Joey     Frank       1     1  \n",
       "3         Joey   Frank      Ross       0     0  \n",
       "4        Frank    Ross      Joey       7     5  \n",
       "...        ...     ...       ...     ...   ...  \n",
       "1959  Chandler  Monica    Phoebe       0     0  \n",
       "1960    Monica  Phoebe    Monica       1     1  \n",
       "1961    Phoebe  Monica    Phoebe       0     1  \n",
       "1962    Monica  Phoebe    Monica       0     0  \n",
       "1963    Phoebe  Monica  Chandler       0     3  \n",
       "\n",
       "[1964 rows x 12 columns]"
      ]
     },
     "execution_count": 12,
     "metadata": {},
     "output_type": "execute_result"
    }
   ],
   "source": [
    "preds"
   ]
  },
  {
   "cell_type": "code",
   "execution_count": 13,
   "metadata": {},
   "outputs": [
    {
     "name": "stdout",
     "output_type": "stream",
     "text": [
      "0.5769230769230769\n",
      "0.7920792079207921\n",
      "0.5692307692307692\n",
      "0.5\n",
      "0.5785123966942148\n",
      "0.6842105263157895\n",
      "0.32653061224489793\n",
      "0.04656862745098039\n"
     ]
    }
   ],
   "source": [
    "for i in range(8):\n",
    "\n",
    "    tp = (preds[\"labels\"] == i) & (preds[\"pred\"] == i)\n",
    "    tn = (preds[\"labels\"] != i) & (preds[\"pred\"] != i)\n",
    "\n",
    "    # print((sum(tp) + sum(tn))/len(preds))\n",
    "    print(sum(tp) / sum(preds[\"labels\"] == i))"
   ]
  },
  {
   "cell_type": "code",
   "execution_count": 16,
   "metadata": {},
   "outputs": [
    {
     "data": {
      "text/plain": [
       "0.5750939187344105"
      ]
     },
     "execution_count": 16,
     "metadata": {},
     "output_type": "execute_result"
    }
   ],
   "source": [
    "sum([0.7920792079207921,0.5692307692307692,0.5,0.5785123966942148,0.6842105263157895,0.32653061224489793])/6"
   ]
  },
  {
   "cell_type": "code",
   "execution_count": 14,
   "metadata": {},
   "outputs": [
    {
     "data": {
      "text/plain": [
       "<sklearn.metrics._plot.confusion_matrix.ConfusionMatrixDisplay at 0x7fbd9c09a8e0>"
      ]
     },
     "execution_count": 14,
     "metadata": {},
     "output_type": "execute_result"
    },
    {
     "data": {
      "image/png": "[encoded data removed]",
      "text/plain": [
       "<Figure size 640x480 with 2 Axes>"
      ]
     },
     "metadata": {},
     "output_type": "display_data"
    }
   ],
   "source": [
    "ConfusionMatrixDisplay.from_predictions(preds[\"labels\"], preds[\"pred\"], display_labels=dataset[\"train\"].features[\"labels\"].names)"
   ]
  },
  {
   "cell_type": "code",
   "execution_count": null,
   "metadata": {},
   "outputs": [],
   "source": []
  }
 ],
 "metadata": {
  "kernelspec": {
   "display_name": "emo",
   "language": "python",
   "name": "python3"
  },
  "language_info": {
   "codemirror_mode": {
    "name": "ipython",
    "version": 3
   },
   "file_extension": ".py",
   "mimetype": "text/x-python",
   "name": "python",
   "nbconvert_exporter": "python",
   "pygments_lexer": "ipython3",
   "version": "3.9.17"
  }
 },
 "nbformat": 4,
 "nbformat_minor": 2
}
