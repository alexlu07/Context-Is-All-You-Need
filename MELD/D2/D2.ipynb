{
 "cells": [
  {
   "cell_type": "code",
   "execution_count": 1,
   "metadata": {},
   "outputs": [],
   "source": [
    "import pandas as pd"
   ]
  },
  {
   "cell_type": "code",
   "execution_count": 2,
   "metadata": {},
   "outputs": [],
   "source": [
    "files = [\"../MELD/train_sent_emo.csv\", \"../MELD/dev_sent_emo.csv\", \"../MELD/test_sent_emo.csv\"]"
   ]
  },
  {
   "cell_type": "code",
   "execution_count": 3,
   "metadata": {},
   "outputs": [],
   "source": [
    "dfs = map(lambda x: pd.read_csv(x)[[\"Utterance\", \"Speaker\", \"Emotion\", \"Dialogue_ID\"]], files)"
   ]
  },
  {
   "cell_type": "code",
   "execution_count": 4,
   "metadata": {},
   "outputs": [],
   "source": [
    "replacements = {\n",
    "    '\\x85': '...',\n",
    "    '\\x91': '\\'',\n",
    "    '\\x92': '\\'',\n",
    "    '\\x93': '\"',\n",
    "    '\\x94': '\"',\n",
    "    '\\x96': '-',\n",
    "    '\\x97': '-',\n",
    "    '\\xa0': ' ',\n",
    "    'é': 'e',\n",
    "    'ó': 'o',\n",
    "    '—': '-',\n",
    "    '’': '\\'',\n",
    "    '…': \"...\",\n",
    "}\n",
    "\n",
    "def clean_text(s):\n",
    "    for r in replacements:\n",
    "        s = s.replace(r, replacements[r])\n",
    "    return s\n",
    "\n",
    "def clean(df):\n",
    "    df[\"Utterance\"] = [clean_text(t) for t in df[\"Utterance\"]]\n",
    "    return df"
   ]
  },
  {
   "cell_type": "code",
   "execution_count": 5,
   "metadata": {},
   "outputs": [],
   "source": [
    "dfs = map(clean, dfs)"
   ]
  },
  {
   "cell_type": "code",
   "execution_count": 6,
   "metadata": {},
   "outputs": [],
   "source": [
    "names = [\"train\", \"val\", \"test\"]\n",
    "for name, df in zip(names, dfs):\n",
    "    df.to_csv(name + \".csv\", index=False)"
   ]
  },
  {
   "cell_type": "code",
   "execution_count": null,
   "metadata": {},
   "outputs": [],
   "source": []
  }
 ],
 "metadata": {
  "kernelspec": {
   "display_name": "emo",
   "language": "python",
   "name": "python3"
  },
  "language_info": {
   "codemirror_mode": {
    "name": "ipython",
    "version": 3
   },
   "file_extension": ".py",
   "mimetype": "text/x-python",
   "name": "python",
   "nbconvert_exporter": "python",
   "pygments_lexer": "ipython3",
   "version": "3.9.17"
  }
 },
 "nbformat": 4,
 "nbformat_minor": 2
}
