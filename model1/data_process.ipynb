{
 "cells": [
  {
   "cell_type": "code",
   "execution_count": 95,
   "metadata": {},
   "outputs": [],
   "source": [
    "from datasets import load_dataset\n",
    "import pandas as pd\n",
    "import numpy as np\n",
    "from sklearn.preprocessing import MultiLabelBinarizer"
   ]
  },
  {
   "cell_type": "code",
   "execution_count": null,
   "metadata": {},
   "outputs": [],
   "source": [
    "dataset = load_dataset(\"go_emotions\", \"simplified\")\n",
    "dataset"
   ]
  },
  {
   "cell_type": "code",
   "execution_count": 109,
   "metadata": {},
   "outputs": [],
   "source": [
    "train_df = dataset[\"train\"].to_pandas()\n",
    "val_df = dataset[\"validation\"]\n",
    "test_df = dataset[\"test\"]"
   ]
  },
  {
   "cell_type": "code",
   "execution_count": 120,
   "metadata": {},
   "outputs": [],
   "source": [
    "one_hot = MultiLabelBinarizer()\n",
    "\n",
    "train_labels = one_hot.fit_transform(train_df[\"labels\"])\n",
    "val_labels = one_hot.fit_transform(val_df[\"labels\"])\n",
    "test_labels = one_hot.fit_transform(test_df[\"labels\"])"
   ]
  },
  {
   "cell_type": "code",
   "execution_count": 126,
   "metadata": {},
   "outputs": [],
   "source": [
    "train = pd.DataFrame(train_labels)\n",
    "train.insert(0, \"text\", train_df[\"text\"])\n",
    "\n",
    "val = pd.DataFrame(val_labels)\n",
    "val.insert(0, \"text\", val_df[\"text\"])\n",
    "\n",
    "test = pd.DataFrame(test_labels)\n",
    "test.insert(0, \"text\", test_df[\"text\"])"
   ]
  },
  {
   "cell_type": "code",
   "execution_count": 129,
   "metadata": {},
   "outputs": [],
   "source": [
    "train.to_csv(\"data/train.csv\")\n",
    "val.to_csv(\"data/val.csv\")\n",
    "test.to_csv(\"data/test.csv\")"
   ]
  }
 ],
 "metadata": {
  "kernelspec": {
   "display_name": "emo",
   "language": "python",
   "name": "python3"
  },
  "language_info": {
   "codemirror_mode": {
    "name": "ipython",
    "version": 3
   },
   "file_extension": ".py",
   "mimetype": "text/x-python",
   "name": "python",
   "nbconvert_exporter": "python",
   "pygments_lexer": "ipython3",
   "version": "3.9.17"
  }
 },
 "nbformat": 4,
 "nbformat_minor": 2
}
