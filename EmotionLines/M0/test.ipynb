{
 "cells": [
  {
   "cell_type": "code",
   "execution_count": 16,
   "metadata": {},
   "outputs": [],
   "source": [
    "from datasets import load_dataset, Features, Value, ClassLabel\n",
    "from transformers import AutoTokenizer, AutoModelForSequenceClassification\n",
    "from transformers import TrainingArguments, Trainer, DataCollatorWithPadding\n",
    "from scipy.stats import pearsonr\n",
    "from sklearn.metrics import accuracy_score, balanced_accuracy_score, f1_score, confusion_matrix, ConfusionMatrixDisplay\n",
    "import numpy as np\n",
    "import pandas as pd\n",
    "import torch\n",
    "import torch.nn.functional as F\n",
    "import torch.nn as nn\n",
    "from time import localtime, strftime, strptime\n",
    "import os\n",
    "import seaborn as sns"
   ]
  },
  {
   "cell_type": "code",
   "execution_count": 2,
   "metadata": {},
   "outputs": [],
   "source": [
    "CL = 5\n",
    "\n",
    "f = {f\"{k}{i}\": Value(dtype=\"string\") for k in \"ts\" for i in range(CL)}\n",
    "dataset = load_dataset(\"csv\", \n",
    "                       data_files={split: f\"../D0/{split}.csv\" for split in [\"train\", \"val\", \"test\"]},\n",
    "                       features=Features({\n",
    "                            **f,\n",
    "                            \"labels\": ClassLabel(num_classes=8, names=[\"neutral\", \"joy\", \"sadness\", \"fear\", \"anger\", \"surprise\", \"disgust\", \"non-neutral\"])\n",
    "                       }))"
   ]
  },
  {
   "cell_type": "code",
   "execution_count": 3,
   "metadata": {},
   "outputs": [],
   "source": [
    "tokenizer = AutoTokenizer.from_pretrained(\"roberta-base\")\n",
    "\n",
    "def preprocess_data(examples):\n",
    "    convs = [\n",
    "        tokenizer.apply_chat_template(\n",
    "            [{\"role\": \"system\", \"content\": f\"How does {examples[f's{CL-1}'][x]} feel at the end of the conversation?\"}] + \\\n",
    "            [{\"role\": examples[f\"s{i}\"][x], \"content\": examples[f\"t{i}\"][x]} for i in range(CL)], \n",
    "            tokenize=False)\n",
    "        for x in range(len(examples[\"labels\"]))\n",
    "    ]\n",
    "\n",
    "    encoding = tokenizer(convs, max_length=384, truncation=True)\n",
    "\n",
    "    return encoding\n",
    "\n",
    "\n",
    "tokenized_dataset = dataset.map(preprocess_data, batched=True, batch_size=100000,\n",
    "                                remove_columns=[f\"{k}{i}\" for k in \"ts\" for i in range(CL)])\n",
    "\n",
    "\n",
    "data_collator = DataCollatorWithPadding(tokenizer=tokenizer)"
   ]
  },
  {
   "cell_type": "code",
   "execution_count": 4,
   "metadata": {},
   "outputs": [],
   "source": [
    "def get_checkpoint(epoch=0, run=\"latest\", folder_path=\"results\"):\n",
    "    if run == \"latest\":\n",
    "        run = max(os.listdir(folder_path), key=lambda x: strptime(x, \"%b-%d-%y-%H:%M:%S\"))\n",
    "\n",
    "    checkpoint = sorted(os.listdir(f\"{folder_path}/{run}\"), key=lambda x: int(x.split(\"-\")[1]))[epoch-1]\n",
    "\n",
    "    return f\"{folder_path}/{run}/{checkpoint}\"\n",
    "\n",
    "c = get_checkpoint(23, run=\"latest\")\n",
    "model = AutoModelForSequenceClassification.from_pretrained(c)"
   ]
  },
  {
   "cell_type": "code",
   "execution_count": 5,
   "metadata": {},
   "outputs": [],
   "source": [
    "def compute_metrics(eval_pred):\n",
    "    logits, labels = eval_pred\n",
    "    predictions = np.argmax(logits, axis=-1)\n",
    "\n",
    "    metrics = {\n",
    "        \"WA\": accuracy_score(labels, predictions).tolist(),\n",
    "        \"UWA\": balanced_accuracy_score(labels, predictions).tolist(),\n",
    "        \"miF1\": f1_score(labels, predictions, average=\"micro\"),\n",
    "        \"maF1\": f1_score(labels, predictions, average=\"macro\"),\n",
    "        \"wtF1\": f1_score(labels, predictions, average=\"weighted\"),\n",
    "    }\n",
    "\n",
    "    return metrics"
   ]
  },
  {
   "cell_type": "code",
   "execution_count": 6,
   "metadata": {},
   "outputs": [],
   "source": [
    "loss_fn = nn.CrossEntropyLoss(torch.Tensor(1/np.bincount(dataset[\"train\"][\"labels\"])).to(\"cuda\"))\n",
    "\n",
    "class WeightedTrainer(Trainer):\n",
    "    def compute_loss(self, model, inputs, return_outputs=False):\n",
    "        labels = inputs.pop(\"labels\")\n",
    "        outputs = model(**inputs)\n",
    "\n",
    "        loss = loss_fn(outputs[\"logits\"], labels)\n",
    "        return (loss, outputs) if return_outputs else loss"
   ]
  },
  {
   "cell_type": "code",
   "execution_count": 7,
   "metadata": {},
   "outputs": [],
   "source": [
    "training_args = TrainingArguments(\n",
    "    output_dir=\"/tmp/tmp_trainer\",\n",
    "    per_device_eval_batch_size=64,\n",
    "    report_to=\"none\",\n",
    ")\n",
    "\n",
    "trainer = WeightedTrainer(\n",
    "    model=model,\n",
    "    args=training_args,\n",
    "    data_collator=data_collator,\n",
    "    tokenizer=tokenizer,\n",
    "    compute_metrics=compute_metrics,\n",
    "\n",
    ")"
   ]
  },
  {
   "cell_type": "code",
   "execution_count": 8,
   "metadata": {},
   "outputs": [
    {
     "name": "stderr",
     "output_type": "stream",
     "text": [
      "You're using a RobertaTokenizerFast tokenizer. Please note that with a fast tokenizer, using the `__call__` method is faster than using a method to encode the text followed by a call to the `pad` method to get a padded encoding.\n"
     ]
    },
    {
     "data": {
      "application/vnd.jupyter.widget-view+json": {
       "model_id": "94d35e2041b24d1ba809f2946b04180b",
       "version_major": 2,
       "version_minor": 0
      },
      "text/plain": [
       "  0%|          | 0/31 [00:00<?, ?it/s]"
      ]
     },
     "metadata": {},
     "output_type": "display_data"
    },
    {
     "data": {
      "text/plain": [
       "{'eval_loss': 1.4051575660705566,\n",
       " 'eval_WA': 0.4831975560081466,\n",
       " 'eval_UWA': 0.5244120117351287,\n",
       " 'eval_miF1': 0.4831975560081466,\n",
       " 'eval_maF1': 0.37585939408611896,\n",
       " 'eval_wtF1': 0.4763395785283634,\n",
       " 'eval_runtime': 5.4052,\n",
       " 'eval_samples_per_second': 363.356,\n",
       " 'eval_steps_per_second': 5.735}"
      ]
     },
     "execution_count": 8,
     "metadata": {},
     "output_type": "execute_result"
    }
   ],
   "source": [
    "trainer.evaluate(tokenized_dataset[\"test\"])"
   ]
  },
  {
   "cell_type": "code",
   "execution_count": 9,
   "metadata": {},
   "outputs": [
    {
     "data": {
      "application/vnd.jupyter.widget-view+json": {
       "model_id": "7ad57aa1b3f14f3ea393161600edf1bf",
       "version_major": 2,
       "version_minor": 0
      },
      "text/plain": [
       "  0%|          | 0/31 [00:00<?, ?it/s]"
      ]
     },
     "metadata": {},
     "output_type": "display_data"
    }
   ],
   "source": [
    "predictions = trainer.predict(tokenized_dataset[\"test\"])"
   ]
  },
  {
   "cell_type": "code",
   "execution_count": 10,
   "metadata": {},
   "outputs": [],
   "source": [
    "preds = pd.DataFrame(dataset[\"test\"])\n",
    "preds[\"pred\"] = np.argmax(predictions[0], axis=1)"
   ]
  },
  {
   "cell_type": "code",
   "execution_count": 11,
   "metadata": {},
   "outputs": [
    {
     "data": {
      "text/html": [
       "<div>\n",
       "<style scoped>\n",
       "    .dataframe tbody tr th:only-of-type {\n",
       "        vertical-align: middle;\n",
       "    }\n",
       "\n",
       "    .dataframe tbody tr th {\n",
       "        vertical-align: top;\n",
       "    }\n",
       "\n",
       "    .dataframe thead th {\n",
       "        text-align: right;\n",
       "    }\n",
       "</style>\n",
       "<table border=\"1\" class=\"dataframe\">\n",
       "  <thead>\n",
       "    <tr style=\"text-align: right;\">\n",
       "      <th></th>\n",
       "      <th>t0</th>\n",
       "      <th>t1</th>\n",
       "      <th>t2</th>\n",
       "      <th>t3</th>\n",
       "      <th>t4</th>\n",
       "      <th>s0</th>\n",
       "      <th>s1</th>\n",
       "      <th>s2</th>\n",
       "      <th>s3</th>\n",
       "      <th>s4</th>\n",
       "      <th>labels</th>\n",
       "      <th>pred</th>\n",
       "    </tr>\n",
       "  </thead>\n",
       "  <tbody>\n",
       "    <tr>\n",
       "      <th>0</th>\n",
       "      <td>Why do all you're coffee mugs have numbers on ...</td>\n",
       "      <td>Oh. That's so Monica can keep track. That way ...</td>\n",
       "      <td>Y'know what?</td>\n",
       "      <td>It didn't.</td>\n",
       "      <td>Okay, so what you used to have with Rachel, is...</td>\n",
       "      <td>Mark</td>\n",
       "      <td>Rachel</td>\n",
       "      <td>Rachel</td>\n",
       "      <td>Ross</td>\n",
       "      <td>Frank</td>\n",
       "      <td>1</td>\n",
       "      <td>0</td>\n",
       "    </tr>\n",
       "    <tr>\n",
       "      <th>1</th>\n",
       "      <td>Oh. That's so Monica can keep track. That way ...</td>\n",
       "      <td>Y'know what?</td>\n",
       "      <td>It didn't.</td>\n",
       "      <td>Okay, so what you used to have with Rachel, is...</td>\n",
       "      <td>Now, wh-what, what is that like?</td>\n",
       "      <td>Rachel</td>\n",
       "      <td>Rachel</td>\n",
       "      <td>Ross</td>\n",
       "      <td>Frank</td>\n",
       "      <td>Joey</td>\n",
       "      <td>5</td>\n",
       "      <td>0</td>\n",
       "    </tr>\n",
       "    <tr>\n",
       "      <th>2</th>\n",
       "      <td>Y'know what?</td>\n",
       "      <td>It didn't.</td>\n",
       "      <td>Okay, so what you used to have with Rachel, is...</td>\n",
       "      <td>Now, wh-what, what is that like?</td>\n",
       "      <td>It's so cool man, it's so, it's just 'cause be...</td>\n",
       "      <td>Rachel</td>\n",
       "      <td>Ross</td>\n",
       "      <td>Frank</td>\n",
       "      <td>Joey</td>\n",
       "      <td>Frank</td>\n",
       "      <td>1</td>\n",
       "      <td>1</td>\n",
       "    </tr>\n",
       "    <tr>\n",
       "      <th>3</th>\n",
       "      <td>It didn't.</td>\n",
       "      <td>Okay, so what you used to have with Rachel, is...</td>\n",
       "      <td>Now, wh-what, what is that like?</td>\n",
       "      <td>It's so cool man, it's so, it's just 'cause be...</td>\n",
       "      <td>Yeah, yeah.</td>\n",
       "      <td>Ross</td>\n",
       "      <td>Frank</td>\n",
       "      <td>Joey</td>\n",
       "      <td>Frank</td>\n",
       "      <td>Ross</td>\n",
       "      <td>0</td>\n",
       "      <td>0</td>\n",
       "    </tr>\n",
       "    <tr>\n",
       "      <th>4</th>\n",
       "      <td>Okay, so what you used to have with Rachel, is...</td>\n",
       "      <td>Now, wh-what, what is that like?</td>\n",
       "      <td>It's so cool man, it's so, it's just 'cause be...</td>\n",
       "      <td>Yeah, yeah.</td>\n",
       "      <td>Why can't I find that?</td>\n",
       "      <td>Frank</td>\n",
       "      <td>Joey</td>\n",
       "      <td>Frank</td>\n",
       "      <td>Ross</td>\n",
       "      <td>Joey</td>\n",
       "      <td>7</td>\n",
       "      <td>4</td>\n",
       "    </tr>\n",
       "    <tr>\n",
       "      <th>...</th>\n",
       "      <td>...</td>\n",
       "      <td>...</td>\n",
       "      <td>...</td>\n",
       "      <td>...</td>\n",
       "      <td>...</td>\n",
       "      <td>...</td>\n",
       "      <td>...</td>\n",
       "      <td>...</td>\n",
       "      <td>...</td>\n",
       "      <td>...</td>\n",
       "      <td>...</td>\n",
       "      <td>...</td>\n",
       "    </tr>\n",
       "    <tr>\n",
       "      <th>1959</th>\n",
       "      <td>I don't know what it is, I just can't take a g...</td>\n",
       "      <td>Oh, here's a great one.</td>\n",
       "      <td>Yeah, I'm not in that.</td>\n",
       "      <td>I know, but look at me: all tan.</td>\n",
       "      <td>Hey, why don't you guys go get portraits done ...</td>\n",
       "      <td>Chandler</td>\n",
       "      <td>Monica</td>\n",
       "      <td>Chandler</td>\n",
       "      <td>Monica</td>\n",
       "      <td>Phoebe</td>\n",
       "      <td>0</td>\n",
       "      <td>0</td>\n",
       "    </tr>\n",
       "    <tr>\n",
       "      <th>1960</th>\n",
       "      <td>Oh, here's a great one.</td>\n",
       "      <td>Yeah, I'm not in that.</td>\n",
       "      <td>I know, but look at me: all tan.</td>\n",
       "      <td>Hey, why don't you guys go get portraits done ...</td>\n",
       "      <td>That's a good idea! I bet they have one of tho...</td>\n",
       "      <td>Monica</td>\n",
       "      <td>Chandler</td>\n",
       "      <td>Monica</td>\n",
       "      <td>Phoebe</td>\n",
       "      <td>Monica</td>\n",
       "      <td>1</td>\n",
       "      <td>1</td>\n",
       "    </tr>\n",
       "    <tr>\n",
       "      <th>1961</th>\n",
       "      <td>Yeah, I'm not in that.</td>\n",
       "      <td>I know, but look at me: all tan.</td>\n",
       "      <td>Hey, why don't you guys go get portraits done ...</td>\n",
       "      <td>That's a good idea! I bet they have one of tho...</td>\n",
       "      <td>Yeah that's great! Next to that, Chandler won'...</td>\n",
       "      <td>Chandler</td>\n",
       "      <td>Monica</td>\n",
       "      <td>Phoebe</td>\n",
       "      <td>Monica</td>\n",
       "      <td>Phoebe</td>\n",
       "      <td>0</td>\n",
       "      <td>1</td>\n",
       "    </tr>\n",
       "    <tr>\n",
       "      <th>1962</th>\n",
       "      <td>I know, but look at me: all tan.</td>\n",
       "      <td>Hey, why don't you guys go get portraits done ...</td>\n",
       "      <td>That's a good idea! I bet they have one of tho...</td>\n",
       "      <td>Yeah that's great! Next to that, Chandler won'...</td>\n",
       "      <td>Chandler what do you say?</td>\n",
       "      <td>Monica</td>\n",
       "      <td>Phoebe</td>\n",
       "      <td>Monica</td>\n",
       "      <td>Phoebe</td>\n",
       "      <td>Monica</td>\n",
       "      <td>0</td>\n",
       "      <td>0</td>\n",
       "    </tr>\n",
       "    <tr>\n",
       "      <th>1963</th>\n",
       "      <td>Hey, why don't you guys go get portraits done ...</td>\n",
       "      <td>That's a good idea! I bet they have one of tho...</td>\n",
       "      <td>Yeah that's great! Next to that, Chandler won'...</td>\n",
       "      <td>Chandler what do you say?</td>\n",
       "      <td>All right, but I should warn you, I'm not goin...</td>\n",
       "      <td>Phoebe</td>\n",
       "      <td>Monica</td>\n",
       "      <td>Phoebe</td>\n",
       "      <td>Monica</td>\n",
       "      <td>Chandler</td>\n",
       "      <td>0</td>\n",
       "      <td>3</td>\n",
       "    </tr>\n",
       "  </tbody>\n",
       "</table>\n",
       "<p>1964 rows × 12 columns</p>\n",
       "</div>"
      ],
      "text/plain": [
       "                                                     t0  \\\n",
       "0     Why do all you're coffee mugs have numbers on ...   \n",
       "1     Oh. That's so Monica can keep track. That way ...   \n",
       "2                                          Y'know what?   \n",
       "3                                            It didn't.   \n",
       "4     Okay, so what you used to have with Rachel, is...   \n",
       "...                                                 ...   \n",
       "1959  I don't know what it is, I just can't take a g...   \n",
       "1960                            Oh, here's a great one.   \n",
       "1961                             Yeah, I'm not in that.   \n",
       "1962                   I know, but look at me: all tan.   \n",
       "1963  Hey, why don't you guys go get portraits done ...   \n",
       "\n",
       "                                                     t1  \\\n",
       "0     Oh. That's so Monica can keep track. That way ...   \n",
       "1                                          Y'know what?   \n",
       "2                                            It didn't.   \n",
       "3     Okay, so what you used to have with Rachel, is...   \n",
       "4                      Now, wh-what, what is that like?   \n",
       "...                                                 ...   \n",
       "1959                            Oh, here's a great one.   \n",
       "1960                             Yeah, I'm not in that.   \n",
       "1961                   I know, but look at me: all tan.   \n",
       "1962  Hey, why don't you guys go get portraits done ...   \n",
       "1963  That's a good idea! I bet they have one of tho...   \n",
       "\n",
       "                                                     t2  \\\n",
       "0                                          Y'know what?   \n",
       "1                                            It didn't.   \n",
       "2     Okay, so what you used to have with Rachel, is...   \n",
       "3                      Now, wh-what, what is that like?   \n",
       "4     It's so cool man, it's so, it's just 'cause be...   \n",
       "...                                                 ...   \n",
       "1959                             Yeah, I'm not in that.   \n",
       "1960                   I know, but look at me: all tan.   \n",
       "1961  Hey, why don't you guys go get portraits done ...   \n",
       "1962  That's a good idea! I bet they have one of tho...   \n",
       "1963  Yeah that's great! Next to that, Chandler won'...   \n",
       "\n",
       "                                                     t3  \\\n",
       "0                                            It didn't.   \n",
       "1     Okay, so what you used to have with Rachel, is...   \n",
       "2                      Now, wh-what, what is that like?   \n",
       "3     It's so cool man, it's so, it's just 'cause be...   \n",
       "4                                           Yeah, yeah.   \n",
       "...                                                 ...   \n",
       "1959                   I know, but look at me: all tan.   \n",
       "1960  Hey, why don't you guys go get portraits done ...   \n",
       "1961  That's a good idea! I bet they have one of tho...   \n",
       "1962  Yeah that's great! Next to that, Chandler won'...   \n",
       "1963                          Chandler what do you say?   \n",
       "\n",
       "                                                     t4        s0        s1  \\\n",
       "0     Okay, so what you used to have with Rachel, is...      Mark    Rachel   \n",
       "1                      Now, wh-what, what is that like?    Rachel    Rachel   \n",
       "2     It's so cool man, it's so, it's just 'cause be...    Rachel      Ross   \n",
       "3                                           Yeah, yeah.      Ross     Frank   \n",
       "4                                Why can't I find that?     Frank      Joey   \n",
       "...                                                 ...       ...       ...   \n",
       "1959  Hey, why don't you guys go get portraits done ...  Chandler    Monica   \n",
       "1960  That's a good idea! I bet they have one of tho...    Monica  Chandler   \n",
       "1961  Yeah that's great! Next to that, Chandler won'...  Chandler    Monica   \n",
       "1962                          Chandler what do you say?    Monica    Phoebe   \n",
       "1963  All right, but I should warn you, I'm not goin...    Phoebe    Monica   \n",
       "\n",
       "            s2      s3        s4  labels  pred  \n",
       "0       Rachel    Ross     Frank       1     0  \n",
       "1         Ross   Frank      Joey       5     0  \n",
       "2        Frank    Joey     Frank       1     1  \n",
       "3         Joey   Frank      Ross       0     0  \n",
       "4        Frank    Ross      Joey       7     4  \n",
       "...        ...     ...       ...     ...   ...  \n",
       "1959  Chandler  Monica    Phoebe       0     0  \n",
       "1960    Monica  Phoebe    Monica       1     1  \n",
       "1961    Phoebe  Monica    Phoebe       0     1  \n",
       "1962    Monica  Phoebe    Monica       0     0  \n",
       "1963    Phoebe  Monica  Chandler       0     3  \n",
       "\n",
       "[1964 rows x 12 columns]"
      ]
     },
     "execution_count": 11,
     "metadata": {},
     "output_type": "execute_result"
    }
   ],
   "source": [
    "preds"
   ]
  },
  {
   "cell_type": "code",
   "execution_count": 12,
   "metadata": {},
   "outputs": [
    {
     "name": "stdout",
     "output_type": "stream",
     "text": [
      "0.5441176470588235, \n",
      "0.8118811881188119, \n",
      "0.6615384615384615, \n",
      "0.5384615384615384, \n",
      "0.6446280991735537, \n",
      "0.6746411483253588, \n",
      "0.2857142857142857, \n",
      "0.03431372549019608, \n"
     ]
    }
   ],
   "source": [
    "for i in range(8):\n",
    "\n",
    "    tp = (preds[\"labels\"] == i) & (preds[\"pred\"] == i)\n",
    "    tn = (preds[\"labels\"] != i) & (preds[\"pred\"] != i)\n",
    "\n",
    "    # print((sum(tp) + sum(tn))/len(preds))\n",
    "    print(\"\" + str(sum(tp) / sum(preds[\"labels\"] == i)) + \", \")"
   ]
  },
  {
   "cell_type": "code",
   "execution_count": 19,
   "metadata": {},
   "outputs": [
    {
     "data": {
      "text/plain": [
       "0.594426052627262"
      ]
     },
     "execution_count": 19,
     "metadata": {},
     "output_type": "execute_result"
    }
   ],
   "source": [
    "sum([0.5441176470588235, \n",
    "0.8118811881188119, \n",
    "0.6615384615384615, \n",
    "0.5384615384615384, \n",
    "0.6446280991735537, \n",
    "0.6746411483253588, \n",
    "0.2857142857142857, \n",
    "])/7"
   ]
  },
  {
   "cell_type": "code",
   "execution_count": 13,
   "metadata": {},
   "outputs": [
    {
     "data": {
      "text/plain": [
       "0.6028107868886684"
      ]
     },
     "execution_count": 13,
     "metadata": {},
     "output_type": "execute_result"
    }
   ],
   "source": [
    "sum([0.8118811881188119, \n",
    "0.6615384615384615, \n",
    "0.5384615384615384, \n",
    "0.6446280991735537, \n",
    "0.6746411483253588, \n",
    "0.2857142857142857, \n",
    "]\n",
    ")/6"
   ]
  },
  {
   "cell_type": "code",
   "execution_count": 14,
   "metadata": {},
   "outputs": [
    {
     "data": {
      "text/plain": [
       "<sklearn.metrics._plot.confusion_matrix.ConfusionMatrixDisplay at 0x7f71bd3bc4f0>"
      ]
     },
     "execution_count": 14,
     "metadata": {},
     "output_type": "execute_result"
    },
    {
     "data": {
      "image/png": "[encoded data removed]",
      "text/plain": [
       "<Figure size 640x480 with 2 Axes>"
      ]
     },
     "metadata": {},
     "output_type": "display_data"
    }
   ],
   "source": [
    "ConfusionMatrixDisplay.from_predictions(preds[\"labels\"], preds[\"pred\"], display_labels=dataset[\"train\"].features[\"labels\"].names)"
   ]
  },
  {
   "cell_type": "code",
   "execution_count": 17,
   "metadata": {},
   "outputs": [
    {
     "data": {
      "text/plain": [
       "<Axes: >"
      ]
     },
     "execution_count": 17,
     "metadata": {},
     "output_type": "execute_result"
    },
    {
     "data": {
      "image/png": "[encoded data removed]",
      "text/plain": [
       "<Figure size 640x480 with 2 Axes>"
      ]
     },
     "metadata": {},
     "output_type": "display_data"
    }
   ],
   "source": [
    "label_names = dataset[\"train\"].features[\"labels\"].names\n",
    "cm = confusion_matrix(preds[\"labels\"], preds[\"pred\"])\n",
    "norm_cm = cm / cm.sum(1)[:, np.newaxis]\n",
    "df_cm = pd.DataFrame(norm_cm, index=label_names, columns=label_names)\n",
    "sns.heatmap(df_cm, annot=cm, fmt=\"\", cmap=\"Blues\")"
   ]
  }
 ],
 "metadata": {
  "kernelspec": {
   "display_name": "emo",
   "language": "python",
   "name": "python3"
  },
  "language_info": {
   "codemirror_mode": {
    "name": "ipython",
    "version": 3
   },
   "file_extension": ".py",
   "mimetype": "text/x-python",
   "name": "python",
   "nbconvert_exporter": "python",
   "pygments_lexer": "ipython3",
   "version": "3.9.17"
  }
 },
 "nbformat": 4,
 "nbformat_minor": 2
}
