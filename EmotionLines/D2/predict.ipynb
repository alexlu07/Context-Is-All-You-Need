{
 "cells": [
  {
   "cell_type": "code",
   "execution_count": 2,
   "metadata": {},
   "outputs": [],
   "source": [
    "from datasets import load_dataset, Features, Value, ClassLabel\n",
    "from transformers import AutoTokenizer, AutoModelForSequenceClassification\n",
    "from transformers import TrainingArguments, Trainer, DataCollatorWithPadding\n",
    "from scipy.stats import pearsonr\n",
    "from sklearn.metrics import accuracy_score, balanced_accuracy_score, f1_score, confusion_matrix, ConfusionMatrixDisplay\n",
    "import numpy as np\n",
    "import pandas as pd\n",
    "import torch\n",
    "import torch.nn.functional as F\n",
    "import torch.nn as nn\n",
    "from time import localtime, strftime, strptime\n",
    "import os"
   ]
  },
  {
   "cell_type": "code",
   "execution_count": 3,
   "metadata": {},
   "outputs": [
    {
     "data": {
      "application/vnd.jupyter.widget-view+json": {
       "model_id": "bec32ad11dfc458194d8dac11dc9b8b4",
       "version_major": 2,
       "version_minor": 0
      },
      "text/plain": [
       "Generating train split: 0 examples [00:00, ? examples/s]"
      ]
     },
     "metadata": {},
     "output_type": "display_data"
    },
    {
     "data": {
      "application/vnd.jupyter.widget-view+json": {
       "model_id": "53e6fc414c5a47f89699ed7e2124717f",
       "version_major": 2,
       "version_minor": 0
      },
      "text/plain": [
       "Generating val split: 0 examples [00:00, ? examples/s]"
      ]
     },
     "metadata": {},
     "output_type": "display_data"
    },
    {
     "data": {
      "application/vnd.jupyter.widget-view+json": {
       "model_id": "b5081e53884d4f829c9f45de5a08241b",
       "version_major": 2,
       "version_minor": 0
      },
      "text/plain": [
       "Generating test split: 0 examples [00:00, ? examples/s]"
      ]
     },
     "metadata": {},
     "output_type": "display_data"
    }
   ],
   "source": [
    "CL = 5\n",
    "\n",
    "f = {f\"{k}{i}\": Value(dtype=\"string\") for k in \"ts\" for i in range(CL)}\n",
    "dataset = load_dataset(\"csv\", \n",
    "                       data_files={split: f\"../D0/{split}.csv\" for split in [\"train\", \"val\", \"test\"]},\n",
    "                       features=Features({\n",
    "                            **f,\n",
    "                            \"labels\": ClassLabel(num_classes=8, names=[\"neutral\", \"joy\", \"sadness\", \"fear\", \"anger\", \"surprise\", \"disgust\", \"non-neutral\"])\n",
    "                       }))"
   ]
  },
  {
   "cell_type": "code",
   "execution_count": 4,
   "metadata": {},
   "outputs": [
    {
     "data": {
      "application/vnd.jupyter.widget-view+json": {
       "model_id": "f277ed4f8d054f729e6f332a99c841e1",
       "version_major": 2,
       "version_minor": 0
      },
      "text/plain": [
       "Map:   0%|          | 0/7681 [00:00<?, ? examples/s]"
      ]
     },
     "metadata": {},
     "output_type": "display_data"
    },
    {
     "data": {
      "application/vnd.jupyter.widget-view+json": {
       "model_id": "22be91d7d22545ad9ad997bbb5517459",
       "version_major": 2,
       "version_minor": 0
      },
      "text/plain": [
       "Map:   0%|          | 0/858 [00:00<?, ? examples/s]"
      ]
     },
     "metadata": {},
     "output_type": "display_data"
    },
    {
     "data": {
      "application/vnd.jupyter.widget-view+json": {
       "model_id": "05e1f861b65942d2b0d607c2ce54546d",
       "version_major": 2,
       "version_minor": 0
      },
      "text/plain": [
       "Map:   0%|          | 0/1964 [00:00<?, ? examples/s]"
      ]
     },
     "metadata": {},
     "output_type": "display_data"
    }
   ],
   "source": [
    "tokenizer = AutoTokenizer.from_pretrained(\"roberta-base\")\n",
    "\n",
    "def preprocess_data(examples):\n",
    "    encoding = tokenizer(examples[f\"t{CL-1}\"], max_length=128, truncation=True)\n",
    "\n",
    "    return encoding\n",
    "\n",
    "tokenized_dataset = dataset.map(preprocess_data, batched=True)\n",
    "data_collator = DataCollatorWithPadding(tokenizer=tokenizer)"
   ]
  },
  {
   "cell_type": "code",
   "execution_count": 7,
   "metadata": {},
   "outputs": [],
   "source": [
    "model = AutoModelForSequenceClassification.from_pretrained(\"../M1/weighted/\")"
   ]
  },
  {
   "cell_type": "code",
   "execution_count": 8,
   "metadata": {},
   "outputs": [],
   "source": [
    "def compute_metrics(eval_pred):\n",
    "    logits, labels = eval_pred\n",
    "    predictions = np.argmax(logits, axis=-1)\n",
    "\n",
    "    metrics = {\n",
    "        \"WA\": accuracy_score(labels, predictions).tolist(),\n",
    "        \"UWA\": balanced_accuracy_score(labels, predictions).tolist(),\n",
    "        \"miF1\": f1_score(labels, predictions, average=\"micro\"),\n",
    "        \"maF1\": f1_score(labels, predictions, average=\"macro\"),\n",
    "        \"wtF1\": f1_score(labels, predictions, average=\"weighted\"),\n",
    "    }\n",
    "\n",
    "    return metrics"
   ]
  },
  {
   "cell_type": "code",
   "execution_count": 9,
   "metadata": {},
   "outputs": [],
   "source": [
    "loss_fn = nn.CrossEntropyLoss(torch.Tensor(1/np.bincount(dataset[\"train\"][\"labels\"])).to(\"cuda\"))\n",
    "\n",
    "class WeightedTrainer(Trainer):\n",
    "    def compute_loss(self, model, inputs, return_outputs=False):\n",
    "        labels = inputs.pop(\"labels\")\n",
    "        outputs = model(**inputs)\n",
    "\n",
    "        loss = loss_fn(outputs[\"logits\"], labels)\n",
    "        return (loss, outputs) if return_outputs else loss"
   ]
  },
  {
   "cell_type": "code",
   "execution_count": 10,
   "metadata": {},
   "outputs": [],
   "source": [
    "training_args = TrainingArguments(\n",
    "    output_dir=\"/tmp/tmp_trainer\",\n",
    "    per_device_eval_batch_size=64,\n",
    "    report_to=\"none\",\n",
    ")\n",
    "\n",
    "trainer = WeightedTrainer(\n",
    "    model=model,\n",
    "    args=training_args,\n",
    "    data_collator=data_collator,\n",
    "    tokenizer=tokenizer,\n",
    "    compute_metrics=compute_metrics,\n",
    "\n",
    ")"
   ]
  },
  {
   "cell_type": "code",
   "execution_count": 12,
   "metadata": {},
   "outputs": [
    {
     "data": {
      "application/vnd.jupyter.widget-view+json": {
       "model_id": "eceae4865c8342c885ab71bc4904b73e",
       "version_major": 2,
       "version_minor": 0
      },
      "text/plain": [
       "  0%|          | 0/31 [00:00<?, ?it/s]"
      ]
     },
     "metadata": {},
     "output_type": "display_data"
    },
    {
     "data": {
      "text/plain": [
       "{'eval_loss': 1.381253957748413,\n",
       " 'eval_WA': 0.5025458248472505,\n",
       " 'eval_UWA': 0.5303076044043993,\n",
       " 'eval_miF1': 0.5025458248472505,\n",
       " 'eval_maF1': 0.3889112305202165,\n",
       " 'eval_wtF1': 0.49749468578180783,\n",
       " 'eval_runtime': 0.8976,\n",
       " 'eval_samples_per_second': 2187.966,\n",
       " 'eval_steps_per_second': 34.535}"
      ]
     },
     "execution_count": 12,
     "metadata": {},
     "output_type": "execute_result"
    }
   ],
   "source": [
    "trainer.evaluate(tokenized_dataset[\"test\"])"
   ]
  },
  {
   "cell_type": "code",
   "execution_count": 11,
   "metadata": {},
   "outputs": [
    {
     "name": "stderr",
     "output_type": "stream",
     "text": [
      "You're using a RobertaTokenizerFast tokenizer. Please note that with a fast tokenizer, using the `__call__` method is faster than using a method to encode the text followed by a call to the `pad` method to get a padded encoding.\n"
     ]
    },
    {
     "data": {
      "application/vnd.jupyter.widget-view+json": {
       "model_id": "0d44439bd6fc4405afc7a3b33e3a31e7",
       "version_major": 2,
       "version_minor": 0
      },
      "text/plain": [
       "  0%|          | 0/121 [00:00<?, ?it/s]"
      ]
     },
     "metadata": {},
     "output_type": "display_data"
    },
    {
     "data": {
      "application/vnd.jupyter.widget-view+json": {
       "model_id": "d7533d04cad14cd2b4f347f5b1aa2bc5",
       "version_major": 2,
       "version_minor": 0
      },
      "text/plain": [
       "  0%|          | 0/14 [00:00<?, ?it/s]"
      ]
     },
     "metadata": {},
     "output_type": "display_data"
    },
    {
     "data": {
      "application/vnd.jupyter.widget-view+json": {
       "model_id": "9a1823fe50d6473b9e16f7b5d71e410f",
       "version_major": 2,
       "version_minor": 0
      },
      "text/plain": [
       "  0%|          | 0/31 [00:00<?, ?it/s]"
      ]
     },
     "metadata": {},
     "output_type": "display_data"
    }
   ],
   "source": [
    "predictions = {i: trainer.predict(tokenized_dataset[i]) for i in dataset}"
   ]
  },
  {
   "cell_type": "code",
   "execution_count": 13,
   "metadata": {},
   "outputs": [],
   "source": [
    "preds = {i: pd.DataFrame(dataset[i]) for i in dataset}\n",
    "for i in preds:\n",
    "    preds[i][\"labels\"] = np.argmax(predictions[i][0], axis=1)"
   ]
  },
  {
   "cell_type": "code",
   "execution_count": 14,
   "metadata": {},
   "outputs": [
    {
     "data": {
      "text/html": [
       "<div>\n",
       "<style scoped>\n",
       "    .dataframe tbody tr th:only-of-type {\n",
       "        vertical-align: middle;\n",
       "    }\n",
       "\n",
       "    .dataframe tbody tr th {\n",
       "        vertical-align: top;\n",
       "    }\n",
       "\n",
       "    .dataframe thead th {\n",
       "        text-align: right;\n",
       "    }\n",
       "</style>\n",
       "<table border=\"1\" class=\"dataframe\">\n",
       "  <thead>\n",
       "    <tr style=\"text-align: right;\">\n",
       "      <th></th>\n",
       "      <th>t0</th>\n",
       "      <th>t1</th>\n",
       "      <th>t2</th>\n",
       "      <th>t3</th>\n",
       "      <th>t4</th>\n",
       "      <th>s0</th>\n",
       "      <th>s1</th>\n",
       "      <th>s2</th>\n",
       "      <th>s3</th>\n",
       "      <th>s4</th>\n",
       "      <th>labels</th>\n",
       "    </tr>\n",
       "  </thead>\n",
       "  <tbody>\n",
       "    <tr>\n",
       "      <th>0</th>\n",
       "      <td>also I was the point person on my company's tr...</td>\n",
       "      <td>You must've had your hands full.</td>\n",
       "      <td>That I did. That I did.</td>\n",
       "      <td>So let's talk a little bit about your duties.</td>\n",
       "      <td>My duties?  All right.</td>\n",
       "      <td>Chandler</td>\n",
       "      <td>The Interviewer</td>\n",
       "      <td>Chandler</td>\n",
       "      <td>The Interviewer</td>\n",
       "      <td>Chandler</td>\n",
       "      <td>0</td>\n",
       "    </tr>\n",
       "    <tr>\n",
       "      <th>1</th>\n",
       "      <td>You must've had your hands full.</td>\n",
       "      <td>That I did. That I did.</td>\n",
       "      <td>So let's talk a little bit about your duties.</td>\n",
       "      <td>My duties?  All right.</td>\n",
       "      <td>Now you'll be heading a whole division, so you...</td>\n",
       "      <td>The Interviewer</td>\n",
       "      <td>Chandler</td>\n",
       "      <td>The Interviewer</td>\n",
       "      <td>Chandler</td>\n",
       "      <td>The Interviewer</td>\n",
       "      <td>0</td>\n",
       "    </tr>\n",
       "    <tr>\n",
       "      <th>2</th>\n",
       "      <td>That I did. That I did.</td>\n",
       "      <td>So let's talk a little bit about your duties.</td>\n",
       "      <td>My duties?  All right.</td>\n",
       "      <td>Now you'll be heading a whole division, so you...</td>\n",
       "      <td>I see.</td>\n",
       "      <td>Chandler</td>\n",
       "      <td>The Interviewer</td>\n",
       "      <td>Chandler</td>\n",
       "      <td>The Interviewer</td>\n",
       "      <td>Chandler</td>\n",
       "      <td>0</td>\n",
       "    </tr>\n",
       "    <tr>\n",
       "      <th>3</th>\n",
       "      <td>So let's talk a little bit about your duties.</td>\n",
       "      <td>My duties?  All right.</td>\n",
       "      <td>Now you'll be heading a whole division, so you...</td>\n",
       "      <td>I see.</td>\n",
       "      <td>But there'll be perhaps 30 people under you so...</td>\n",
       "      <td>The Interviewer</td>\n",
       "      <td>Chandler</td>\n",
       "      <td>The Interviewer</td>\n",
       "      <td>Chandler</td>\n",
       "      <td>The Interviewer</td>\n",
       "      <td>0</td>\n",
       "    </tr>\n",
       "    <tr>\n",
       "      <th>4</th>\n",
       "      <td>My duties?  All right.</td>\n",
       "      <td>Now you'll be heading a whole division, so you...</td>\n",
       "      <td>I see.</td>\n",
       "      <td>But there'll be perhaps 30 people under you so...</td>\n",
       "      <td>Good to know.</td>\n",
       "      <td>Chandler</td>\n",
       "      <td>The Interviewer</td>\n",
       "      <td>Chandler</td>\n",
       "      <td>The Interviewer</td>\n",
       "      <td>Chandler</td>\n",
       "      <td>1</td>\n",
       "    </tr>\n",
       "    <tr>\n",
       "      <th>...</th>\n",
       "      <td>...</td>\n",
       "      <td>...</td>\n",
       "      <td>...</td>\n",
       "      <td>...</td>\n",
       "      <td>...</td>\n",
       "      <td>...</td>\n",
       "      <td>...</td>\n",
       "      <td>...</td>\n",
       "      <td>...</td>\n",
       "      <td>...</td>\n",
       "      <td>...</td>\n",
       "    </tr>\n",
       "    <tr>\n",
       "      <th>7676</th>\n",
       "      <td>Hold it, hold it.</td>\n",
       "      <td>I gotta side with Chandler on this one.</td>\n",
       "      <td>When I first moved to the city, I went out a c...</td>\n",
       "      <td>It made me nuts.</td>\n",
       "      <td>You or me?</td>\n",
       "      <td>Joey</td>\n",
       "      <td>Joey</td>\n",
       "      <td>Joey</td>\n",
       "      <td>Joey</td>\n",
       "      <td>Chandler</td>\n",
       "      <td>0</td>\n",
       "    </tr>\n",
       "    <tr>\n",
       "      <th>7677</th>\n",
       "      <td>I gotta side with Chandler on this one.</td>\n",
       "      <td>When I first moved to the city, I went out a c...</td>\n",
       "      <td>It made me nuts.</td>\n",
       "      <td>You or me?</td>\n",
       "      <td>I got it. Uh, Joey, women don't have Adam's ap...</td>\n",
       "      <td>Joey</td>\n",
       "      <td>Joey</td>\n",
       "      <td>Joey</td>\n",
       "      <td>Chandler</td>\n",
       "      <td>Ross</td>\n",
       "      <td>0</td>\n",
       "    </tr>\n",
       "    <tr>\n",
       "      <th>7678</th>\n",
       "      <td>When I first moved to the city, I went out a c...</td>\n",
       "      <td>It made me nuts.</td>\n",
       "      <td>You or me?</td>\n",
       "      <td>I got it. Uh, Joey, women don't have Adam's ap...</td>\n",
       "      <td>You guys are messing with me, right?</td>\n",
       "      <td>Joey</td>\n",
       "      <td>Joey</td>\n",
       "      <td>Chandler</td>\n",
       "      <td>Ross</td>\n",
       "      <td>Joey</td>\n",
       "      <td>4</td>\n",
       "    </tr>\n",
       "    <tr>\n",
       "      <th>7679</th>\n",
       "      <td>It made me nuts.</td>\n",
       "      <td>You or me?</td>\n",
       "      <td>I got it. Uh, Joey, women don't have Adam's ap...</td>\n",
       "      <td>You guys are messing with me, right?</td>\n",
       "      <td>Yeah.</td>\n",
       "      <td>Joey</td>\n",
       "      <td>Chandler</td>\n",
       "      <td>Ross</td>\n",
       "      <td>Joey</td>\n",
       "      <td>All</td>\n",
       "      <td>0</td>\n",
       "    </tr>\n",
       "    <tr>\n",
       "      <th>7680</th>\n",
       "      <td>You or me?</td>\n",
       "      <td>I got it. Uh, Joey, women don't have Adam's ap...</td>\n",
       "      <td>You guys are messing with me, right?</td>\n",
       "      <td>Yeah.</td>\n",
       "      <td>That was a good one. For a second there, I was...</td>\n",
       "      <td>Chandler</td>\n",
       "      <td>Ross</td>\n",
       "      <td>Joey</td>\n",
       "      <td>All</td>\n",
       "      <td>Joey</td>\n",
       "      <td>1</td>\n",
       "    </tr>\n",
       "  </tbody>\n",
       "</table>\n",
       "<p>7681 rows × 11 columns</p>\n",
       "</div>"
      ],
      "text/plain": [
       "                                                     t0  \\\n",
       "0     also I was the point person on my company's tr...   \n",
       "1                      You must've had your hands full.   \n",
       "2                               That I did. That I did.   \n",
       "3         So let's talk a little bit about your duties.   \n",
       "4                                My duties?  All right.   \n",
       "...                                                 ...   \n",
       "7676                                  Hold it, hold it.   \n",
       "7677            I gotta side with Chandler on this one.   \n",
       "7678  When I first moved to the city, I went out a c...   \n",
       "7679                                   It made me nuts.   \n",
       "7680                                         You or me?   \n",
       "\n",
       "                                                     t1  \\\n",
       "0                      You must've had your hands full.   \n",
       "1                               That I did. That I did.   \n",
       "2         So let's talk a little bit about your duties.   \n",
       "3                                My duties?  All right.   \n",
       "4     Now you'll be heading a whole division, so you...   \n",
       "...                                                 ...   \n",
       "7676            I gotta side with Chandler on this one.   \n",
       "7677  When I first moved to the city, I went out a c...   \n",
       "7678                                   It made me nuts.   \n",
       "7679                                         You or me?   \n",
       "7680  I got it. Uh, Joey, women don't have Adam's ap...   \n",
       "\n",
       "                                                     t2  \\\n",
       "0                               That I did. That I did.   \n",
       "1         So let's talk a little bit about your duties.   \n",
       "2                                My duties?  All right.   \n",
       "3     Now you'll be heading a whole division, so you...   \n",
       "4                                                I see.   \n",
       "...                                                 ...   \n",
       "7676  When I first moved to the city, I went out a c...   \n",
       "7677                                   It made me nuts.   \n",
       "7678                                         You or me?   \n",
       "7679  I got it. Uh, Joey, women don't have Adam's ap...   \n",
       "7680               You guys are messing with me, right?   \n",
       "\n",
       "                                                     t3  \\\n",
       "0         So let's talk a little bit about your duties.   \n",
       "1                                My duties?  All right.   \n",
       "2     Now you'll be heading a whole division, so you...   \n",
       "3                                                I see.   \n",
       "4     But there'll be perhaps 30 people under you so...   \n",
       "...                                                 ...   \n",
       "7676                                   It made me nuts.   \n",
       "7677                                         You or me?   \n",
       "7678  I got it. Uh, Joey, women don't have Adam's ap...   \n",
       "7679               You guys are messing with me, right?   \n",
       "7680                                              Yeah.   \n",
       "\n",
       "                                                     t4               s0  \\\n",
       "0                                My duties?  All right.         Chandler   \n",
       "1     Now you'll be heading a whole division, so you...  The Interviewer   \n",
       "2                                                I see.         Chandler   \n",
       "3     But there'll be perhaps 30 people under you so...  The Interviewer   \n",
       "4                                         Good to know.         Chandler   \n",
       "...                                                 ...              ...   \n",
       "7676                                         You or me?             Joey   \n",
       "7677  I got it. Uh, Joey, women don't have Adam's ap...             Joey   \n",
       "7678               You guys are messing with me, right?             Joey   \n",
       "7679                                              Yeah.             Joey   \n",
       "7680  That was a good one. For a second there, I was...         Chandler   \n",
       "\n",
       "                   s1               s2               s3               s4  \\\n",
       "0     The Interviewer         Chandler  The Interviewer         Chandler   \n",
       "1            Chandler  The Interviewer         Chandler  The Interviewer   \n",
       "2     The Interviewer         Chandler  The Interviewer         Chandler   \n",
       "3            Chandler  The Interviewer         Chandler  The Interviewer   \n",
       "4     The Interviewer         Chandler  The Interviewer         Chandler   \n",
       "...               ...              ...              ...              ...   \n",
       "7676             Joey             Joey             Joey         Chandler   \n",
       "7677             Joey             Joey         Chandler             Ross   \n",
       "7678             Joey         Chandler             Ross             Joey   \n",
       "7679         Chandler             Ross             Joey              All   \n",
       "7680             Ross             Joey              All             Joey   \n",
       "\n",
       "      labels  \n",
       "0          0  \n",
       "1          0  \n",
       "2          0  \n",
       "3          0  \n",
       "4          1  \n",
       "...      ...  \n",
       "7676       0  \n",
       "7677       0  \n",
       "7678       4  \n",
       "7679       0  \n",
       "7680       1  \n",
       "\n",
       "[7681 rows x 11 columns]"
      ]
     },
     "execution_count": 14,
     "metadata": {},
     "output_type": "execute_result"
    }
   ],
   "source": [
    "preds[\"train\"]"
   ]
  },
  {
   "cell_type": "code",
   "execution_count": 16,
   "metadata": {},
   "outputs": [],
   "source": [
    "for i in preds:\n",
    "    preds[i].to_csv(f\"{i}.csv\", index=False)"
   ]
  },
  {
   "cell_type": "code",
   "execution_count": null,
   "metadata": {},
   "outputs": [],
   "source": []
  }
 ],
 "metadata": {
  "kernelspec": {
   "display_name": "emo",
   "language": "python",
   "name": "python3"
  },
  "language_info": {
   "codemirror_mode": {
    "name": "ipython",
    "version": 3
   },
   "file_extension": ".py",
   "mimetype": "text/x-python",
   "name": "python",
   "nbconvert_exporter": "python",
   "pygments_lexer": "ipython3",
   "version": "3.9.17"
  }
 },
 "nbformat": 4,
 "nbformat_minor": 2
}
