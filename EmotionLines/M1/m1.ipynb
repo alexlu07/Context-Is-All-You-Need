{
 "cells": [
  {
   "cell_type": "code",
   "execution_count": 1,
   "metadata": {},
   "outputs": [],
   "source": [
    "from datasets import load_dataset, Features, Value, ClassLabel\n",
    "from transformers import AutoTokenizer, AutoModelForSequenceClassification\n",
    "from transformers import TrainingArguments, Trainer, DataCollatorWithPadding\n",
    "from scipy.stats import pearsonr\n",
    "from sklearn.metrics import accuracy_score, balanced_accuracy_score, f1_score, confusion_matrix, ConfusionMatrixDisplay\n",
    "import numpy as np\n",
    "import pandas as pd\n",
    "import torch\n",
    "import torch.nn.functional as F\n",
    "import torch.nn as nn\n",
    "from time import localtime, strftime"
   ]
  },
  {
   "cell_type": "code",
   "execution_count": 2,
   "metadata": {},
   "outputs": [],
   "source": [
    "dataset = load_dataset(\"csv\", \n",
    "                       data_files={split: f\"../D1/{split}.csv\" for split in [\"train\", \"val\", \"test\"]},\n",
    "                       features=Features({\n",
    "                            \"text\": Value(dtype=\"string\"),\n",
    "                            \"labels\": ClassLabel(num_classes=8, names=[\"neutral\", \"joy\", \"sadness\", \"fear\", \"anger\", \"surprise\", \"disgust\", \"non-neutral\"])\n",
    "                       }))"
   ]
  },
  {
   "cell_type": "code",
   "execution_count": 3,
   "metadata": {},
   "outputs": [],
   "source": [
    "tokenizer = AutoTokenizer.from_pretrained(\"roberta-base\")\n",
    "\n",
    "def preprocess_data(examples):\n",
    "    encoding = tokenizer(examples[\"text\"], max_length=128, truncation=True)\n",
    "\n",
    "    return encoding\n",
    "\n",
    "tokenized_dataset = dataset.map(preprocess_data, batched=True)\n",
    "data_collator = DataCollatorWithPadding(tokenizer=tokenizer)"
   ]
  },
  {
   "cell_type": "code",
   "execution_count": 4,
   "metadata": {},
   "outputs": [],
   "source": [
    "def get_model():\n",
    "    return AutoModelForSequenceClassification.from_pretrained(\"roberta-base\", num_labels=8)"
   ]
  },
  {
   "cell_type": "code",
   "execution_count": 5,
   "metadata": {},
   "outputs": [],
   "source": [
    "def compute_metrics(eval_pred):\n",
    "    logits, labels = eval_pred\n",
    "    predictions = np.argmax(logits, axis=-1)\n",
    "\n",
    "    metrics = {\n",
    "        \"WA\": accuracy_score(labels, predictions).tolist(),\n",
    "        \"UWA\": balanced_accuracy_score(labels, predictions).tolist(),\n",
    "        \"miF1\": f1_score(labels, predictions, average=\"micro\"),\n",
    "        \"maF1\": f1_score(labels, predictions, average=\"macro\"),\n",
    "        \"wtF1\": f1_score(labels, predictions, average=\"weighted\"),\n",
    "    }\n",
    "\n",
    "    return metrics"
   ]
  },
  {
   "cell_type": "code",
   "execution_count": 6,
   "metadata": {},
   "outputs": [],
   "source": [
    "loss_fn = nn.CrossEntropyLoss(torch.Tensor(1/np.bincount(dataset[\"train\"][\"labels\"])).to(\"cuda\"))\n",
    "\n",
    "class WeightedTrainer(Trainer):\n",
    "    def compute_loss(self, model, inputs, return_outputs=False):\n",
    "        labels = inputs.pop(\"labels\")\n",
    "        outputs = model(**inputs)\n",
    "\n",
    "        loss = loss_fn(outputs[\"logits\"], labels)\n",
    "        return (loss, outputs) if return_outputs else loss"
   ]
  },
  {
   "cell_type": "code",
   "execution_count": 7,
   "metadata": {},
   "outputs": [
    {
     "ename": "Exception",
     "evalue": "",
     "output_type": "error",
     "traceback": [
      "\u001b[0;31m---------------------------------------------------------------------------\u001b[0m",
      "\u001b[0;31mException\u001b[0m                                 Traceback (most recent call last)",
      "Cell \u001b[0;32mIn[7], line 1\u001b[0m\n\u001b[0;32m----> 1\u001b[0m \u001b[38;5;28;01mraise\u001b[39;00m \u001b[38;5;167;01mException\u001b[39;00m\n",
      "\u001b[0;31mException\u001b[0m: "
     ]
    }
   ],
   "source": [
    "raise Exception"
   ]
  },
  {
   "cell_type": "code",
   "execution_count": 8,
   "metadata": {},
   "outputs": [
    {
     "name": "stderr",
     "output_type": "stream",
     "text": [
      "Some weights of RobertaForSequenceClassification were not initialized from the model checkpoint at roberta-base and are newly initialized: ['classifier.out_proj.weight', 'classifier.out_proj.bias', 'classifier.dense.bias', 'classifier.dense.weight']\n",
      "You should probably TRAIN this model on a down-stream task to be able to use it for predictions and inference.\n",
      "Some weights of RobertaForSequenceClassification were not initialized from the model checkpoint at roberta-base and are newly initialized: ['classifier.out_proj.weight', 'classifier.out_proj.bias', 'classifier.dense.bias', 'classifier.dense.weight']\n",
      "You should probably TRAIN this model on a down-stream task to be able to use it for predictions and inference.\n"
     ]
    },
    {
     "data": {
      "application/vnd.jupyter.widget-view+json": {
       "model_id": "9b4ada02f5b4488387bb48a967e41cce",
       "version_major": 2,
       "version_minor": 0
      },
      "text/plain": [
       "  0%|          | 0/3320 [00:00<?, ?it/s]"
      ]
     },
     "metadata": {},
     "output_type": "display_data"
    },
    {
     "name": "stderr",
     "output_type": "stream",
     "text": [
      "You're using a RobertaTokenizerFast tokenizer. Please note that with a fast tokenizer, using the `__call__` method is faster than using a method to encode the text followed by a call to the `pad` method to get a padded encoding.\n"
     ]
    },
    {
     "name": "stdout",
     "output_type": "stream",
     "text": [
      "{'loss': 2.0935, 'learning_rate': 1e-06, 'epoch': 1.0}\n"
     ]
    },
    {
     "data": {
      "application/vnd.jupyter.widget-view+json": {
       "model_id": "a3caeb401dca48ef95db7b980b8a6bd5",
       "version_major": 2,
       "version_minor": 0
      },
      "text/plain": [
       "  0%|          | 0/19 [00:00<?, ?it/s]"
      ]
     },
     "metadata": {},
     "output_type": "display_data"
    },
    {
     "name": "stdout",
     "output_type": "stream",
     "text": [
      "{'eval_loss': 2.0751402378082275, 'eval_WA': 0.12818336162988114, 'eval_UWA': 0.125, 'eval_miF1': 0.12818336162988114, 'eval_maF1': 0.028404815650865313, 'eval_wtF1': 0.029128198052839813, 'eval_runtime': 0.5205, 'eval_samples_per_second': 2263.224, 'eval_steps_per_second': 36.504, 'epoch': 1.0}\n",
      "{'loss': 2.081, 'learning_rate': 2e-06, 'epoch': 2.0}\n"
     ]
    },
    {
     "data": {
      "application/vnd.jupyter.widget-view+json": {
       "model_id": "34f7b5fdc0b64d3c85b2b36e4e3523a8",
       "version_major": 2,
       "version_minor": 0
      },
      "text/plain": [
       "  0%|          | 0/19 [00:00<?, ?it/s]"
      ]
     },
     "metadata": {},
     "output_type": "display_data"
    },
    {
     "name": "stdout",
     "output_type": "stream",
     "text": [
      "{'eval_loss': 2.0496485233306885, 'eval_WA': 0.18505942275042445, 'eval_UWA': 0.1947068434556475, 'eval_miF1': 0.18505942275042447, 'eval_maF1': 0.08201058161883876, 'eval_wtF1': 0.12733553076906146, 'eval_runtime': 0.5221, 'eval_samples_per_second': 2256.329, 'eval_steps_per_second': 36.392, 'epoch': 2.0}\n",
      "{'loss': 1.9854, 'learning_rate': 1.8888888888888888e-06, 'epoch': 3.0}\n"
     ]
    },
    {
     "data": {
      "application/vnd.jupyter.widget-view+json": {
       "model_id": "ad3dd4e9435e45b2a2ea2abf41666e84",
       "version_major": 2,
       "version_minor": 0
      },
      "text/plain": [
       "  0%|          | 0/19 [00:00<?, ?it/s]"
      ]
     },
     "metadata": {},
     "output_type": "display_data"
    },
    {
     "name": "stdout",
     "output_type": "stream",
     "text": [
      "{'eval_loss': 1.8970136642456055, 'eval_WA': 0.23514431239388794, 'eval_UWA': 0.28412278236546606, 'eval_miF1': 0.23514431239388794, 'eval_maF1': 0.1850127120256101, 'eval_wtF1': 0.21415949591250164, 'eval_runtime': 0.5161, 'eval_samples_per_second': 2282.447, 'eval_steps_per_second': 36.814, 'epoch': 3.0}\n",
      "{'loss': 1.8039, 'learning_rate': 1.7777777777777775e-06, 'epoch': 4.0}\n"
     ]
    },
    {
     "data": {
      "application/vnd.jupyter.widget-view+json": {
       "model_id": "4a78fe5f360146699e417caaa7ec3b9b",
       "version_major": 2,
       "version_minor": 0
      },
      "text/plain": [
       "  0%|          | 0/19 [00:00<?, ?it/s]"
      ]
     },
     "metadata": {},
     "output_type": "display_data"
    },
    {
     "name": "stdout",
     "output_type": "stream",
     "text": [
      "{'eval_loss': 1.720008373260498, 'eval_WA': 0.42784380305602715, 'eval_UWA': 0.37944969064906, 'eval_miF1': 0.42784380305602715, 'eval_maF1': 0.297742495871679, 'eval_wtF1': 0.41322760455336627, 'eval_runtime': 0.5192, 'eval_samples_per_second': 2269.092, 'eval_steps_per_second': 36.598, 'epoch': 4.0}\n",
      "{'loss': 1.6379, 'learning_rate': 1.6666666666666667e-06, 'epoch': 5.0}\n"
     ]
    },
    {
     "data": {
      "application/vnd.jupyter.widget-view+json": {
       "model_id": "ff006deed4334ba894aed51165333948",
       "version_major": 2,
       "version_minor": 0
      },
      "text/plain": [
       "  0%|          | 0/19 [00:00<?, ?it/s]"
      ]
     },
     "metadata": {},
     "output_type": "display_data"
    },
    {
     "name": "stdout",
     "output_type": "stream",
     "text": [
      "{'eval_loss': 1.6382476091384888, 'eval_WA': 0.4855687606112054, 'eval_UWA': 0.41018269346983727, 'eval_miF1': 0.4855687606112054, 'eval_maF1': 0.33691331221565884, 'eval_wtF1': 0.45779012452087764, 'eval_runtime': 0.5196, 'eval_samples_per_second': 2267.17, 'eval_steps_per_second': 36.567, 'epoch': 5.0}\n",
      "{'loss': 1.5432, 'learning_rate': 1.5555555555555556e-06, 'epoch': 6.0}\n"
     ]
    },
    {
     "data": {
      "application/vnd.jupyter.widget-view+json": {
       "model_id": "9334b390985a411bbd867fa596668972",
       "version_major": 2,
       "version_minor": 0
      },
      "text/plain": [
       "  0%|          | 0/19 [00:00<?, ?it/s]"
      ]
     },
     "metadata": {},
     "output_type": "display_data"
    },
    {
     "name": "stdout",
     "output_type": "stream",
     "text": [
      "{'eval_loss': 1.582822322845459, 'eval_WA': 0.4923599320882852, 'eval_UWA': 0.4369063089997175, 'eval_miF1': 0.4923599320882852, 'eval_maF1': 0.3560840246692215, 'eval_wtF1': 0.467746039670733, 'eval_runtime': 0.5104, 'eval_samples_per_second': 2308.129, 'eval_steps_per_second': 37.228, 'epoch': 6.0}\n",
      "{'loss': 1.4707, 'learning_rate': 1.4444444444444443e-06, 'epoch': 7.0}\n"
     ]
    },
    {
     "data": {
      "application/vnd.jupyter.widget-view+json": {
       "model_id": "4e157b64742243aaba242447b51087ff",
       "version_major": 2,
       "version_minor": 0
      },
      "text/plain": [
       "  0%|          | 0/19 [00:00<?, ?it/s]"
      ]
     },
     "metadata": {},
     "output_type": "display_data"
    },
    {
     "name": "stdout",
     "output_type": "stream",
     "text": [
      "{'eval_loss': 1.5513134002685547, 'eval_WA': 0.47538200339558573, 'eval_UWA': 0.4490272264052798, 'eval_miF1': 0.47538200339558573, 'eval_maF1': 0.35324156298829146, 'eval_wtF1': 0.4532998981201064, 'eval_runtime': 0.514, 'eval_samples_per_second': 2291.616, 'eval_steps_per_second': 36.962, 'epoch': 7.0}\n",
      "{'loss': 1.4219, 'learning_rate': 1.3333333333333332e-06, 'epoch': 8.0}\n"
     ]
    },
    {
     "data": {
      "application/vnd.jupyter.widget-view+json": {
       "model_id": "a0199e95ad8f44cf8f772880228dfd95",
       "version_major": 2,
       "version_minor": 0
      },
      "text/plain": [
       "  0%|          | 0/19 [00:00<?, ?it/s]"
      ]
     },
     "metadata": {},
     "output_type": "display_data"
    },
    {
     "name": "stdout",
     "output_type": "stream",
     "text": [
      "{'eval_loss': 1.5512614250183105, 'eval_WA': 0.4966044142614601, 'eval_UWA': 0.44641730333708174, 'eval_miF1': 0.4966044142614601, 'eval_maF1': 0.3617734111686863, 'eval_wtF1': 0.4712325033479196, 'eval_runtime': 0.5224, 'eval_samples_per_second': 2255.069, 'eval_steps_per_second': 36.372, 'epoch': 8.0}\n",
      "{'loss': 1.3725, 'learning_rate': 1.2222222222222223e-06, 'epoch': 9.0}\n"
     ]
    },
    {
     "data": {
      "application/vnd.jupyter.widget-view+json": {
       "model_id": "f412a827cf8a48b5be0a946a7b63f07a",
       "version_major": 2,
       "version_minor": 0
      },
      "text/plain": [
       "  0%|          | 0/19 [00:00<?, ?it/s]"
      ]
     },
     "metadata": {},
     "output_type": "display_data"
    },
    {
     "name": "stdout",
     "output_type": "stream",
     "text": [
      "{'eval_loss': 1.5279462337493896, 'eval_WA': 0.5033955857385399, 'eval_UWA': 0.4544066372869584, 'eval_miF1': 0.5033955857385399, 'eval_maF1': 0.3721697227245806, 'eval_wtF1': 0.4825364248805673, 'eval_runtime': 0.5209, 'eval_samples_per_second': 2261.508, 'eval_steps_per_second': 36.476, 'epoch': 9.0}\n",
      "{'loss': 1.3386, 'learning_rate': 1.111111111111111e-06, 'epoch': 10.0}\n"
     ]
    },
    {
     "data": {
      "application/vnd.jupyter.widget-view+json": {
       "model_id": "35cba17f63e14d949a0eb80575ca4892",
       "version_major": 2,
       "version_minor": 0
      },
      "text/plain": [
       "  0%|          | 0/19 [00:00<?, ?it/s]"
      ]
     },
     "metadata": {},
     "output_type": "display_data"
    },
    {
     "name": "stdout",
     "output_type": "stream",
     "text": [
      "{'eval_loss': 1.5283066034317017, 'eval_WA': 0.49575551782682514, 'eval_UWA': 0.44683485330521877, 'eval_miF1': 0.49575551782682514, 'eval_maF1': 0.36289649537422797, 'eval_wtF1': 0.47330625221919714, 'eval_runtime': 0.5242, 'eval_samples_per_second': 2247.201, 'eval_steps_per_second': 36.245, 'epoch': 10.0}\n",
      "{'loss': 1.3136, 'learning_rate': 1e-06, 'epoch': 11.0}\n"
     ]
    },
    {
     "data": {
      "application/vnd.jupyter.widget-view+json": {
       "model_id": "5d7e8796680f41aea96f9f1221b70a61",
       "version_major": 2,
       "version_minor": 0
      },
      "text/plain": [
       "  0%|          | 0/19 [00:00<?, ?it/s]"
      ]
     },
     "metadata": {},
     "output_type": "display_data"
    },
    {
     "name": "stdout",
     "output_type": "stream",
     "text": [
      "{'eval_loss': 1.506002426147461, 'eval_WA': 0.4932088285229202, 'eval_UWA': 0.457559970658757, 'eval_miF1': 0.4932088285229202, 'eval_maF1': 0.3686434269663041, 'eval_wtF1': 0.47589940057401514, 'eval_runtime': 0.5238, 'eval_samples_per_second': 2248.929, 'eval_steps_per_second': 36.273, 'epoch': 11.0}\n",
      "{'loss': 1.2875, 'learning_rate': 8.888888888888888e-07, 'epoch': 12.0}\n"
     ]
    },
    {
     "data": {
      "application/vnd.jupyter.widget-view+json": {
       "model_id": "93d697cf59f44095918739eac7bc5670",
       "version_major": 2,
       "version_minor": 0
      },
      "text/plain": [
       "  0%|          | 0/19 [00:00<?, ?it/s]"
      ]
     },
     "metadata": {},
     "output_type": "display_data"
    },
    {
     "name": "stdout",
     "output_type": "stream",
     "text": [
      "{'eval_loss': 1.5119301080703735, 'eval_WA': 0.499151103565365, 'eval_UWA': 0.46387365593960084, 'eval_miF1': 0.499151103565365, 'eval_maF1': 0.3739255939219909, 'eval_wtF1': 0.47785928340609246, 'eval_runtime': 0.527, 'eval_samples_per_second': 2235.181, 'eval_steps_per_second': 36.051, 'epoch': 12.0}\n",
      "{'loss': 1.2624, 'learning_rate': 7.777777777777778e-07, 'epoch': 13.0}\n"
     ]
    },
    {
     "data": {
      "application/vnd.jupyter.widget-view+json": {
       "model_id": "0471c43a25024167997b155f4c3a4ce0",
       "version_major": 2,
       "version_minor": 0
      },
      "text/plain": [
       "  0%|          | 0/19 [00:00<?, ?it/s]"
      ]
     },
     "metadata": {},
     "output_type": "display_data"
    },
    {
     "name": "stdout",
     "output_type": "stream",
     "text": [
      "{'eval_loss': 1.5109686851501465, 'eval_WA': 0.49830220713073003, 'eval_UWA': 0.4645946651513736, 'eval_miF1': 0.49830220713073003, 'eval_maF1': 0.3764041707656509, 'eval_wtF1': 0.4803191430265243, 'eval_runtime': 0.515, 'eval_samples_per_second': 2287.515, 'eval_steps_per_second': 36.895, 'epoch': 13.0}\n",
      "{'loss': 1.2408, 'learning_rate': 6.666666666666666e-07, 'epoch': 14.0}\n"
     ]
    },
    {
     "data": {
      "application/vnd.jupyter.widget-view+json": {
       "model_id": "7098fb78c3b341bc9a378c05cc73f4af",
       "version_major": 2,
       "version_minor": 0
      },
      "text/plain": [
       "  0%|          | 0/19 [00:00<?, ?it/s]"
      ]
     },
     "metadata": {},
     "output_type": "display_data"
    },
    {
     "name": "stdout",
     "output_type": "stream",
     "text": [
      "{'eval_loss': 1.5099514722824097, 'eval_WA': 0.499151103565365, 'eval_UWA': 0.4649589688865191, 'eval_miF1': 0.499151103565365, 'eval_maF1': 0.37402826631788844, 'eval_wtF1': 0.47941283859222183, 'eval_runtime': 0.5115, 'eval_samples_per_second': 2303.012, 'eval_steps_per_second': 37.145, 'epoch': 14.0}\n",
      "{'loss': 1.2176, 'learning_rate': 5.555555555555555e-07, 'epoch': 15.0}\n"
     ]
    },
    {
     "data": {
      "application/vnd.jupyter.widget-view+json": {
       "model_id": "6859f3c37e3c4f1ab3a714b3995ff24b",
       "version_major": 2,
       "version_minor": 0
      },
      "text/plain": [
       "  0%|          | 0/19 [00:00<?, ?it/s]"
      ]
     },
     "metadata": {},
     "output_type": "display_data"
    },
    {
     "name": "stdout",
     "output_type": "stream",
     "text": [
      "{'eval_loss': 1.5104717016220093, 'eval_WA': 0.49745331069609505, 'eval_UWA': 0.46030780509348945, 'eval_miF1': 0.49745331069609505, 'eval_maF1': 0.3717221731911885, 'eval_wtF1': 0.48149172992163897, 'eval_runtime': 0.512, 'eval_samples_per_second': 2300.617, 'eval_steps_per_second': 37.107, 'epoch': 15.0}\n",
      "{'loss': 1.2141, 'learning_rate': 4.444444444444444e-07, 'epoch': 16.0}\n"
     ]
    },
    {
     "data": {
      "application/vnd.jupyter.widget-view+json": {
       "model_id": "6429df215530414eb3ef01412ba130f2",
       "version_major": 2,
       "version_minor": 0
      },
      "text/plain": [
       "  0%|          | 0/19 [00:00<?, ?it/s]"
      ]
     },
     "metadata": {},
     "output_type": "display_data"
    },
    {
     "name": "stdout",
     "output_type": "stream",
     "text": [
      "{'eval_loss': 1.5063796043395996, 'eval_WA': 0.49745331069609505, 'eval_UWA': 0.4648895637485956, 'eval_miF1': 0.49745331069609505, 'eval_maF1': 0.37451198897090415, 'eval_wtF1': 0.4835022833269499, 'eval_runtime': 0.5106, 'eval_samples_per_second': 2307.151, 'eval_steps_per_second': 37.212, 'epoch': 16.0}\n",
      "{'loss': 1.2075, 'learning_rate': 3.333333333333333e-07, 'epoch': 17.0}\n"
     ]
    },
    {
     "data": {
      "application/vnd.jupyter.widget-view+json": {
       "model_id": "008850e21b3744adac37939b7adce59c",
       "version_major": 2,
       "version_minor": 0
      },
      "text/plain": [
       "  0%|          | 0/19 [00:00<?, ?it/s]"
      ]
     },
     "metadata": {},
     "output_type": "display_data"
    },
    {
     "name": "stdout",
     "output_type": "stream",
     "text": [
      "{'eval_loss': 1.50586998462677, 'eval_WA': 0.50169779286927, 'eval_UWA': 0.4641939755054736, 'eval_miF1': 0.50169779286927, 'eval_maF1': 0.37718174313758857, 'eval_wtF1': 0.486194272884471, 'eval_runtime': 0.5105, 'eval_samples_per_second': 2307.541, 'eval_steps_per_second': 37.218, 'epoch': 17.0}\n",
      "{'loss': 1.1915, 'learning_rate': 2.222222222222222e-07, 'epoch': 18.0}\n"
     ]
    },
    {
     "data": {
      "application/vnd.jupyter.widget-view+json": {
       "model_id": "76c98eefff7d44c59d6caf3d0bcd06f5",
       "version_major": 2,
       "version_minor": 0
      },
      "text/plain": [
       "  0%|          | 0/19 [00:00<?, ?it/s]"
      ]
     },
     "metadata": {},
     "output_type": "display_data"
    },
    {
     "name": "stdout",
     "output_type": "stream",
     "text": [
      "{'eval_loss': 1.4996262788772583, 'eval_WA': 0.5042444821731749, 'eval_UWA': 0.47283553764451824, 'eval_miF1': 0.5042444821731749, 'eval_maF1': 0.38274925670215665, 'eval_wtF1': 0.48670589894256955, 'eval_runtime': 0.5133, 'eval_samples_per_second': 2294.998, 'eval_steps_per_second': 37.016, 'epoch': 18.0}\n",
      "{'loss': 1.1701, 'learning_rate': 1.111111111111111e-07, 'epoch': 19.0}\n"
     ]
    },
    {
     "data": {
      "application/vnd.jupyter.widget-view+json": {
       "model_id": "a5395beaa0344d689dec63ccc7d34731",
       "version_major": 2,
       "version_minor": 0
      },
      "text/plain": [
       "  0%|          | 0/19 [00:00<?, ?it/s]"
      ]
     },
     "metadata": {},
     "output_type": "display_data"
    },
    {
     "name": "stdout",
     "output_type": "stream",
     "text": [
      "{'eval_loss': 1.5098594427108765, 'eval_WA': 0.5076400679117148, 'eval_UWA': 0.4737015036364425, 'eval_miF1': 0.5076400679117148, 'eval_maF1': 0.3853802822676351, 'eval_wtF1': 0.4902615004610157, 'eval_runtime': 0.5124, 'eval_samples_per_second': 2298.808, 'eval_steps_per_second': 37.078, 'epoch': 19.0}\n",
      "{'loss': 1.1621, 'learning_rate': 0.0, 'epoch': 20.0}\n"
     ]
    },
    {
     "data": {
      "application/vnd.jupyter.widget-view+json": {
       "model_id": "d111bc00e6734f2ea4499627a331806e",
       "version_major": 2,
       "version_minor": 0
      },
      "text/plain": [
       "  0%|          | 0/19 [00:00<?, ?it/s]"
      ]
     },
     "metadata": {},
     "output_type": "display_data"
    },
    {
     "name": "stdout",
     "output_type": "stream",
     "text": [
      "{'eval_loss': 1.5062592029571533, 'eval_WA': 0.5059422750424448, 'eval_UWA': 0.4731923386669924, 'eval_miF1': 0.5059422750424448, 'eval_maF1': 0.38419963516688593, 'eval_wtF1': 0.48893527595462366, 'eval_runtime': 0.5318, 'eval_samples_per_second': 2215.036, 'eval_steps_per_second': 35.726, 'epoch': 20.0}\n",
      "{'train_runtime': 349.2176, 'train_samples_per_second': 604.838, 'train_steps_per_second': 9.507, 'train_loss': 1.450789812386754, 'epoch': 20.0}\n"
     ]
    },
    {
     "data": {
      "text/plain": [
       "TrainOutput(global_step=3320, training_loss=1.450789812386754, metrics={'train_runtime': 349.2176, 'train_samples_per_second': 604.838, 'train_steps_per_second': 9.507, 'train_loss': 1.450789812386754, 'epoch': 20.0})"
      ]
     },
     "execution_count": 8,
     "metadata": {},
     "output_type": "execute_result"
    }
   ],
   "source": [
    "dir_name = strftime(\"%b-%d-%y-%H:%M:%S\", localtime())\n",
    "\n",
    "training_args = TrainingArguments(\n",
    "    output_dir=f\"results/{dir_name}\",\n",
    "    logging_dir=f\"results/{dir_name}/runs\",\n",
    "    evaluation_strategy=\"epoch\",\n",
    "    per_device_train_batch_size=64,\n",
    "    per_device_eval_batch_size=64,\n",
    "    learning_rate=2e-6,\n",
    "    max_grad_norm=1.0,\n",
    "    num_train_epochs=40,\n",
    "    lr_scheduler_type=\"linear\",\n",
    "    warmup_ratio=0.1,\n",
    "    logging_strategy=\"epoch\",\n",
    "    report_to=\"none\",\n",
    "    save_strategy=\"epoch\",\n",
    "    seed=42,\n",
    "    load_best_model_at_end=True,\n",
    "    metric_for_best_model=\"loss\",\n",
    ")\n",
    "\n",
    "trainer = WeightedTrainer(\n",
    "    model_init=get_model,\n",
    "    args=training_args,\n",
    "    train_dataset=tokenized_dataset['train'],\n",
    "    eval_dataset=tokenized_dataset['val'],\n",
    "    data_collator=data_collator,\n",
    "    tokenizer=tokenizer,\n",
    "    compute_metrics=compute_metrics,\n",
    ")\n",
    "\n",
    "trainer.train()"
   ]
  },
  {
   "cell_type": "code",
   "execution_count": 9,
   "metadata": {},
   "outputs": [
    {
     "ename": "Exception",
     "evalue": "",
     "output_type": "error",
     "traceback": [
      "\u001b[0;31m---------------------------------------------------------------------------\u001b[0m",
      "\u001b[0;31mException\u001b[0m                                 Traceback (most recent call last)",
      "Cell \u001b[0;32mIn[9], line 1\u001b[0m\n\u001b[0;32m----> 1\u001b[0m \u001b[38;5;28;01mraise\u001b[39;00m \u001b[38;5;167;01mException\u001b[39;00m\n",
      "\u001b[0;31mException\u001b[0m: "
     ]
    }
   ],
   "source": [
    "raise Exception"
   ]
  },
  {
   "cell_type": "code",
   "execution_count": 10,
   "metadata": {},
   "outputs": [
    {
     "data": {
      "application/vnd.jupyter.widget-view+json": {
       "model_id": "dfb67179afbf4eb09cb9ba04db50780c",
       "version_major": 2,
       "version_minor": 0
      },
      "text/plain": [
       "  0%|          | 0/44 [00:00<?, ?it/s]"
      ]
     },
     "metadata": {},
     "output_type": "display_data"
    },
    {
     "data": {
      "text/plain": [
       "{'eval_loss': 1.3856546878814697,\n",
       " 'eval_WA': 0.516642547033285,\n",
       " 'eval_UWA': 0.5217326527942552,\n",
       " 'eval_miF1': 0.516642547033285,\n",
       " 'eval_maF1': 0.38615641129546785,\n",
       " 'eval_wtF1': 0.511293767854692,\n",
       " 'eval_runtime': 1.2518,\n",
       " 'eval_samples_per_second': 2208.101,\n",
       " 'eval_steps_per_second': 35.151,\n",
       " 'epoch': 20.0}"
      ]
     },
     "execution_count": 10,
     "metadata": {},
     "output_type": "execute_result"
    }
   ],
   "source": [
    "trainer.evaluate(tokenized_dataset[\"test\"])"
   ]
  },
  {
   "cell_type": "code",
   "execution_count": 11,
   "metadata": {},
   "outputs": [
    {
     "data": {
      "application/vnd.jupyter.widget-view+json": {
       "model_id": "250dc8725d2c4af6a16714bc1a75c521",
       "version_major": 2,
       "version_minor": 0
      },
      "text/plain": [
       "  0%|          | 0/44 [00:00<?, ?it/s]"
      ]
     },
     "metadata": {},
     "output_type": "display_data"
    }
   ],
   "source": [
    "predictions = trainer.predict(tokenized_dataset[\"test\"])"
   ]
  },
  {
   "cell_type": "code",
   "execution_count": 12,
   "metadata": {},
   "outputs": [],
   "source": [
    "preds = pd.DataFrame(dataset[\"test\"])\n",
    "preds[\"pred\"] = np.argmax(predictions[0], axis=1)"
   ]
  },
  {
   "cell_type": "code",
   "execution_count": 13,
   "metadata": {},
   "outputs": [
    {
     "data": {
      "text/html": [
       "<div>\n",
       "<style scoped>\n",
       "    .dataframe tbody tr th:only-of-type {\n",
       "        vertical-align: middle;\n",
       "    }\n",
       "\n",
       "    .dataframe tbody tr th {\n",
       "        vertical-align: top;\n",
       "    }\n",
       "\n",
       "    .dataframe thead th {\n",
       "        text-align: right;\n",
       "    }\n",
       "</style>\n",
       "<table border=\"1\" class=\"dataframe\">\n",
       "  <thead>\n",
       "    <tr style=\"text-align: right;\">\n",
       "      <th></th>\n",
       "      <th>text</th>\n",
       "      <th>labels</th>\n",
       "      <th>pred</th>\n",
       "    </tr>\n",
       "  </thead>\n",
       "  <tbody>\n",
       "    <tr>\n",
       "      <th>0</th>\n",
       "      <td>Why do all you're coffee mugs have numbers on ...</td>\n",
       "      <td>5</td>\n",
       "      <td>5</td>\n",
       "    </tr>\n",
       "    <tr>\n",
       "      <th>1</th>\n",
       "      <td>Oh. That's so Monica can keep track. That way ...</td>\n",
       "      <td>7</td>\n",
       "      <td>0</td>\n",
       "    </tr>\n",
       "    <tr>\n",
       "      <th>2</th>\n",
       "      <td>Y'know what?</td>\n",
       "      <td>0</td>\n",
       "      <td>0</td>\n",
       "    </tr>\n",
       "    <tr>\n",
       "      <th>3</th>\n",
       "      <td>It didn't.</td>\n",
       "      <td>0</td>\n",
       "      <td>0</td>\n",
       "    </tr>\n",
       "    <tr>\n",
       "      <th>4</th>\n",
       "      <td>Okay, so what you used to have with Rachel, is...</td>\n",
       "      <td>1</td>\n",
       "      <td>0</td>\n",
       "    </tr>\n",
       "    <tr>\n",
       "      <th>...</th>\n",
       "      <td>...</td>\n",
       "      <td>...</td>\n",
       "      <td>...</td>\n",
       "    </tr>\n",
       "    <tr>\n",
       "      <th>2759</th>\n",
       "      <td>Hey, why don't you guys go get portraits done ...</td>\n",
       "      <td>0</td>\n",
       "      <td>0</td>\n",
       "    </tr>\n",
       "    <tr>\n",
       "      <th>2760</th>\n",
       "      <td>That's a good idea! I bet they have one of tho...</td>\n",
       "      <td>1</td>\n",
       "      <td>1</td>\n",
       "    </tr>\n",
       "    <tr>\n",
       "      <th>2761</th>\n",
       "      <td>Yeah that's great! Next to that, Chandler won'...</td>\n",
       "      <td>0</td>\n",
       "      <td>1</td>\n",
       "    </tr>\n",
       "    <tr>\n",
       "      <th>2762</th>\n",
       "      <td>Chandler what do you say?</td>\n",
       "      <td>0</td>\n",
       "      <td>0</td>\n",
       "    </tr>\n",
       "    <tr>\n",
       "      <th>2763</th>\n",
       "      <td>All right, but I should warn you, I'm not goin...</td>\n",
       "      <td>0</td>\n",
       "      <td>3</td>\n",
       "    </tr>\n",
       "  </tbody>\n",
       "</table>\n",
       "<p>2764 rows × 3 columns</p>\n",
       "</div>"
      ],
      "text/plain": [
       "                                                   text  labels  pred\n",
       "0     Why do all you're coffee mugs have numbers on ...       5     5\n",
       "1     Oh. That's so Monica can keep track. That way ...       7     0\n",
       "2                                          Y'know what?       0     0\n",
       "3                                            It didn't.       0     0\n",
       "4     Okay, so what you used to have with Rachel, is...       1     0\n",
       "...                                                 ...     ...   ...\n",
       "2759  Hey, why don't you guys go get portraits done ...       0     0\n",
       "2760  That's a good idea! I bet they have one of tho...       1     1\n",
       "2761  Yeah that's great! Next to that, Chandler won'...       0     1\n",
       "2762                          Chandler what do you say?       0     0\n",
       "2763  All right, but I should warn you, I'm not goin...       0     3\n",
       "\n",
       "[2764 rows x 3 columns]"
      ]
     },
     "execution_count": 13,
     "metadata": {},
     "output_type": "execute_result"
    }
   ],
   "source": [
    "preds"
   ]
  },
  {
   "cell_type": "code",
   "execution_count": null,
   "metadata": {},
   "outputs": [],
   "source": []
  },
  {
   "cell_type": "code",
   "execution_count": 14,
   "metadata": {},
   "outputs": [
    {
     "data": {
      "text/plain": [
       "<sklearn.metrics._plot.confusion_matrix.ConfusionMatrixDisplay at 0x7f5a81729eb0>"
      ]
     },
     "execution_count": 14,
     "metadata": {},
     "output_type": "execute_result"
    },
    {
     "data": {
      "image/png": "[encoded data removed]",
      "text/plain": [
       "<Figure size 640x480 with 2 Axes>"
      ]
     },
     "metadata": {},
     "output_type": "display_data"
    }
   ],
   "source": [
    "ConfusionMatrixDisplay.from_predictions(preds[\"labels\"], preds[\"pred\"], display_labels=dataset[\"train\"].features[\"labels\"].names)"
   ]
  },
  {
   "cell_type": "code",
   "execution_count": null,
   "metadata": {},
   "outputs": [],
   "source": []
  }
 ],
 "metadata": {
  "kernelspec": {
   "display_name": "emo",
   "language": "python",
   "name": "python3"
  },
  "language_info": {
   "codemirror_mode": {
    "name": "ipython",
    "version": 3
   },
   "file_extension": ".py",
   "mimetype": "text/x-python",
   "name": "python",
   "nbconvert_exporter": "python",
   "pygments_lexer": "ipython3",
   "version": "3.9.17"
  }
 },
 "nbformat": 4,
 "nbformat_minor": 2
}
