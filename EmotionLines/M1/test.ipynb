{
 "cells": [
  {
   "cell_type": "code",
   "execution_count": 1,
   "metadata": {},
   "outputs": [],
   "source": [
    "from datasets import load_dataset, Features, Value, ClassLabel\n",
    "from transformers import AutoTokenizer, AutoModelForSequenceClassification\n",
    "from transformers import TrainingArguments, Trainer, DataCollatorWithPadding\n",
    "from scipy.stats import pearsonr\n",
    "from sklearn.metrics import accuracy_score, balanced_accuracy_score, f1_score, confusion_matrix, ConfusionMatrixDisplay\n",
    "import numpy as np\n",
    "import pandas as pd\n",
    "import torch\n",
    "import torch.nn.functional as F\n",
    "import torch.nn as nn\n",
    "from time import localtime, strftime, strptime\n",
    "import os"
   ]
  },
  {
   "cell_type": "code",
   "execution_count": 2,
   "metadata": {},
   "outputs": [],
   "source": [
    "dataset = load_dataset(\"csv\", \n",
    "                       data_files={split: f\"../D1/{split}.csv\" for split in [\"train\", \"val\", \"test\"]},\n",
    "                       features=Features({\n",
    "                            \"text\": Value(dtype=\"string\"),\n",
    "                            \"labels\": ClassLabel(num_classes=8, names=[\"neutral\", \"joy\", \"sadness\", \"fear\", \"anger\", \"surprise\", \"disgust\", \"non-neutral\"])\n",
    "                       }))"
   ]
  },
  {
   "cell_type": "code",
   "execution_count": 3,
   "metadata": {},
   "outputs": [],
   "source": [
    "tokenizer = AutoTokenizer.from_pretrained(\"roberta-base\")\n",
    "\n",
    "def preprocess_data(examples):\n",
    "    encoding = tokenizer(examples[\"text\"], max_length=128, truncation=True)\n",
    "\n",
    "    return encoding\n",
    "\n",
    "tokenized_dataset = dataset.map(preprocess_data, batched=True)\n",
    "data_collator = DataCollatorWithPadding(tokenizer=tokenizer)"
   ]
  },
  {
   "cell_type": "code",
   "execution_count": 17,
   "metadata": {},
   "outputs": [],
   "source": [
    "def get_checkpoint(epoch=0, run=\"latest\", folder_path=\"results\"):\n",
    "    if run == \"latest\":\n",
    "        run = max(os.listdir(folder_path), key=lambda x: strptime(x, \"%b-%d-%y-%H:%M:%S\"))\n",
    "\n",
    "    checkpoint = sorted(os.listdir(f\"{folder_path}/{run}\"), key=lambda x: int(x.split(\"-\")[1]))[epoch-1]\n",
    "\n",
    "    return f\"{folder_path}/{run}/{checkpoint}\"\n",
    "\n",
    "c = get_checkpoint(14, run=\"Jan-08-24-16:20:24\")\n",
    "model = AutoModelForSequenceClassification.from_pretrained(c)"
   ]
  },
  {
   "cell_type": "code",
   "execution_count": 18,
   "metadata": {},
   "outputs": [],
   "source": [
    "def compute_metrics(eval_pred):\n",
    "    logits, labels = eval_pred\n",
    "    predictions = np.argmax(logits, axis=-1)\n",
    "\n",
    "    metrics = {\n",
    "        \"WA\": accuracy_score(labels, predictions).tolist(),\n",
    "        \"UWA\": balanced_accuracy_score(labels, predictions).tolist(),\n",
    "        \"miF1\": f1_score(labels, predictions, average=\"micro\"),\n",
    "        \"maF1\": f1_score(labels, predictions, average=\"macro\"),\n",
    "        \"wtF1\": f1_score(labels, predictions, average=\"weighted\"),\n",
    "    }\n",
    "\n",
    "    return metrics"
   ]
  },
  {
   "cell_type": "code",
   "execution_count": 19,
   "metadata": {},
   "outputs": [],
   "source": [
    "loss_fn = nn.CrossEntropyLoss(torch.Tensor(1/np.bincount(dataset[\"train\"][\"labels\"])).to(\"cuda\"))\n",
    "\n",
    "class WeightedTrainer(Trainer):\n",
    "    def compute_loss(self, model, inputs, return_outputs=False):\n",
    "        labels = inputs.pop(\"labels\")\n",
    "        outputs = model(**inputs)\n",
    "\n",
    "        loss = loss_fn(outputs[\"logits\"], labels)\n",
    "        return (loss, outputs) if return_outputs else loss"
   ]
  },
  {
   "cell_type": "code",
   "execution_count": 20,
   "metadata": {},
   "outputs": [],
   "source": [
    "training_args = TrainingArguments(\n",
    "    output_dir=\"/tmp/tmp_trainer\",\n",
    "    per_device_eval_batch_size=64,\n",
    "    report_to=\"none\",\n",
    ")\n",
    "\n",
    "trainer = WeightedTrainer(\n",
    "    model=model,\n",
    "    args=training_args,\n",
    "    data_collator=data_collator,\n",
    "    tokenizer=tokenizer,\n",
    "    compute_metrics=compute_metrics,\n",
    "\n",
    ")"
   ]
  },
  {
   "cell_type": "code",
   "execution_count": 21,
   "metadata": {},
   "outputs": [
    {
     "data": {
      "text/html": [
       "\n",
       "    <div>\n",
       "      \n",
       "      <progress value='12' max='44' style='width:300px; height:20px; vertical-align: middle;'></progress>\n",
       "      [12/44 00:00 < 00:00, 37.97 it/s]\n",
       "    </div>\n",
       "    "
      ],
      "text/plain": [
       "<IPython.core.display.HTML object>"
      ]
     },
     "metadata": {},
     "output_type": "display_data"
    },
    {
     "data": {
      "text/plain": [
       "{'eval_loss': 2.5011537075042725,\n",
       " 'eval_WA': 0.5604196816208393,\n",
       " 'eval_UWA': 0.45282535425095793,\n",
       " 'eval_miF1': 0.5604196816208393,\n",
       " 'eval_maF1': 0.43124999195823466,\n",
       " 'eval_wtF1': 0.5714555013430913,\n",
       " 'eval_runtime': 1.1017,\n",
       " 'eval_samples_per_second': 2508.873,\n",
       " 'eval_steps_per_second': 39.939}"
      ]
     },
     "execution_count": 21,
     "metadata": {},
     "output_type": "execute_result"
    }
   ],
   "source": [
    "trainer.evaluate(tokenized_dataset[\"test\"])"
   ]
  },
  {
   "cell_type": "code",
   "execution_count": 22,
   "metadata": {},
   "outputs": [],
   "source": [
    "predictions = trainer.predict(tokenized_dataset[\"test\"])"
   ]
  },
  {
   "cell_type": "code",
   "execution_count": 23,
   "metadata": {},
   "outputs": [],
   "source": [
    "preds = pd.DataFrame(dataset[\"test\"])\n",
    "preds[\"pred\"] = np.argmax(predictions[0], axis=1)"
   ]
  },
  {
   "cell_type": "code",
   "execution_count": 24,
   "metadata": {},
   "outputs": [
    {
     "data": {
      "text/html": [
       "<div>\n",
       "<style scoped>\n",
       "    .dataframe tbody tr th:only-of-type {\n",
       "        vertical-align: middle;\n",
       "    }\n",
       "\n",
       "    .dataframe tbody tr th {\n",
       "        vertical-align: top;\n",
       "    }\n",
       "\n",
       "    .dataframe thead th {\n",
       "        text-align: right;\n",
       "    }\n",
       "</style>\n",
       "<table border=\"1\" class=\"dataframe\">\n",
       "  <thead>\n",
       "    <tr style=\"text-align: right;\">\n",
       "      <th></th>\n",
       "      <th>text</th>\n",
       "      <th>labels</th>\n",
       "      <th>pred</th>\n",
       "    </tr>\n",
       "  </thead>\n",
       "  <tbody>\n",
       "    <tr>\n",
       "      <th>0</th>\n",
       "      <td>Why do all you're coffee mugs have numbers on ...</td>\n",
       "      <td>5</td>\n",
       "      <td>5</td>\n",
       "    </tr>\n",
       "    <tr>\n",
       "      <th>1</th>\n",
       "      <td>Oh. That's so Monica can keep track. That way ...</td>\n",
       "      <td>7</td>\n",
       "      <td>0</td>\n",
       "    </tr>\n",
       "    <tr>\n",
       "      <th>2</th>\n",
       "      <td>Y'know what?</td>\n",
       "      <td>0</td>\n",
       "      <td>0</td>\n",
       "    </tr>\n",
       "    <tr>\n",
       "      <th>3</th>\n",
       "      <td>It didn't.</td>\n",
       "      <td>0</td>\n",
       "      <td>0</td>\n",
       "    </tr>\n",
       "    <tr>\n",
       "      <th>4</th>\n",
       "      <td>Okay, so what you used to have with Rachel, is...</td>\n",
       "      <td>1</td>\n",
       "      <td>0</td>\n",
       "    </tr>\n",
       "    <tr>\n",
       "      <th>...</th>\n",
       "      <td>...</td>\n",
       "      <td>...</td>\n",
       "      <td>...</td>\n",
       "    </tr>\n",
       "    <tr>\n",
       "      <th>2759</th>\n",
       "      <td>Hey, why don't you guys go get portraits done ...</td>\n",
       "      <td>0</td>\n",
       "      <td>0</td>\n",
       "    </tr>\n",
       "    <tr>\n",
       "      <th>2760</th>\n",
       "      <td>That's a good idea! I bet they have one of tho...</td>\n",
       "      <td>1</td>\n",
       "      <td>7</td>\n",
       "    </tr>\n",
       "    <tr>\n",
       "      <th>2761</th>\n",
       "      <td>Yeah that's great! Next to that, Chandler won'...</td>\n",
       "      <td>0</td>\n",
       "      <td>1</td>\n",
       "    </tr>\n",
       "    <tr>\n",
       "      <th>2762</th>\n",
       "      <td>Chandler what do you say?</td>\n",
       "      <td>0</td>\n",
       "      <td>7</td>\n",
       "    </tr>\n",
       "    <tr>\n",
       "      <th>2763</th>\n",
       "      <td>All right, but I should warn you, I'm not goin...</td>\n",
       "      <td>0</td>\n",
       "      <td>7</td>\n",
       "    </tr>\n",
       "  </tbody>\n",
       "</table>\n",
       "<p>2764 rows × 3 columns</p>\n",
       "</div>"
      ],
      "text/plain": [
       "                                                   text  labels  pred\n",
       "0     Why do all you're coffee mugs have numbers on ...       5     5\n",
       "1     Oh. That's so Monica can keep track. That way ...       7     0\n",
       "2                                          Y'know what?       0     0\n",
       "3                                            It didn't.       0     0\n",
       "4     Okay, so what you used to have with Rachel, is...       1     0\n",
       "...                                                 ...     ...   ...\n",
       "2759  Hey, why don't you guys go get portraits done ...       0     0\n",
       "2760  That's a good idea! I bet they have one of tho...       1     7\n",
       "2761  Yeah that's great! Next to that, Chandler won'...       0     1\n",
       "2762                          Chandler what do you say?       0     7\n",
       "2763  All right, but I should warn you, I'm not goin...       0     7\n",
       "\n",
       "[2764 rows x 3 columns]"
      ]
     },
     "execution_count": 24,
     "metadata": {},
     "output_type": "execute_result"
    }
   ],
   "source": [
    "preds"
   ]
  },
  {
   "cell_type": "code",
   "execution_count": 25,
   "metadata": {},
   "outputs": [
    {
     "name": "stdout",
     "output_type": "stream",
     "text": [
      "0.6612276612276612\n",
      "0.625\n",
      "0.43529411764705883\n",
      "0.25\n",
      "0.40993788819875776\n",
      "0.6398601398601399\n",
      "0.23529411764705882\n",
      "0.3659889094269871\n"
     ]
    }
   ],
   "source": [
    "for i in range(8):\n",
    "\n",
    "    tp = (preds[\"labels\"] == i) & (preds[\"pred\"] == i)\n",
    "    tn = (preds[\"labels\"] != i) & (preds[\"pred\"] != i)\n",
    "\n",
    "    # print((sum(tp) + sum(tn))/len(preds))\n",
    "    print(sum(tp) / sum(preds[\"labels\"] == i))"
   ]
  },
  {
   "cell_type": "code",
   "execution_count": 26,
   "metadata": {},
   "outputs": [
    {
     "data": {
      "text/plain": [
       "<sklearn.metrics._plot.confusion_matrix.ConfusionMatrixDisplay at 0x7f09bb5f7c10>"
      ]
     },
     "execution_count": 26,
     "metadata": {},
     "output_type": "execute_result"
    },
    {
     "data": {
      "image/png": "[encoded data removed]",
      "text/plain": [
       "<Figure size 640x480 with 2 Axes>"
      ]
     },
     "metadata": {},
     "output_type": "display_data"
    }
   ],
   "source": [
    "ConfusionMatrixDisplay.from_predictions(preds[\"labels\"], preds[\"pred\"], display_labels=dataset[\"train\"].features[\"labels\"].names)"
   ]
  },
  {
   "cell_type": "code",
   "execution_count": null,
   "metadata": {},
   "outputs": [],
   "source": []
  }
 ],
 "metadata": {
  "kernelspec": {
   "display_name": "emo",
   "language": "python",
   "name": "python3"
  },
  "language_info": {
   "codemirror_mode": {
    "name": "ipython",
    "version": 3
   },
   "file_extension": ".py",
   "mimetype": "text/x-python",
   "name": "python",
   "nbconvert_exporter": "python",
   "pygments_lexer": "ipython3",
   "version": "3.9.17"
  }
 },
 "nbformat": 4,
 "nbformat_minor": 2
}
