{
 "cells": [
  {
   "cell_type": "code",
   "execution_count": 1,
   "metadata": {},
   "outputs": [],
   "source": [
    "import pandas as pd\n",
    "import json\n",
    "from unidecode import unidecode"
   ]
  },
  {
   "cell_type": "code",
   "execution_count": 2,
   "metadata": {},
   "outputs": [],
   "source": [
    "files = [\"../Friends/friends_train.json\", \"../Friends/friends_dev.json\", \"../Friends/friends_test.json\"]"
   ]
  },
  {
   "cell_type": "code",
   "execution_count": 16,
   "metadata": {},
   "outputs": [],
   "source": [
    "jsons = map(lambda f: json.load(open(f, \"r\")), files)"
   ]
  },
  {
   "cell_type": "code",
   "execution_count": 17,
   "metadata": {},
   "outputs": [
    {
     "data": {
      "text/plain": [
       "200"
      ]
     },
     "execution_count": 17,
     "metadata": {},
     "output_type": "execute_result"
    }
   ],
   "source": [
    "len(list(jsons)[2])"
   ]
  },
  {
   "cell_type": "code",
   "execution_count": 4,
   "metadata": {},
   "outputs": [],
   "source": [
    "replacements = {\n",
    "    \"\\x85\": \"...\",\n",
    "    \"\\x91\": \"'\",\n",
    "    \"\\x92\": \"'\",\n",
    "    \"\\x93\": \"\\\"\",\n",
    "    \"\\x94\": \"\\\"\",\n",
    "    \"\\x96\": \"-\",\n",
    "    \"\\x97\": \"-\",\n",
    "    \"\\xa0\": \" \",\n",
    "}\n",
    "\n",
    "def fix_chars(s):\n",
    "    for r in replacements:\n",
    "        s = s.replace(r, replacements[r])\n",
    "\n",
    "    return s"
   ]
  },
  {
   "cell_type": "code",
   "execution_count": 5,
   "metadata": {},
   "outputs": [],
   "source": [
    "def process(json_data):\n",
    "    rows = []\n",
    "    for conversation in json_data:\n",
    "        for u in conversation:\n",
    "            rows.append([fix_chars(u[\"utterance\"]), u[\"emotion\"]])\n",
    "\n",
    "    return pd.DataFrame(rows, columns=[\"text\", \"labels\"])"
   ]
  },
  {
   "cell_type": "code",
   "execution_count": 6,
   "metadata": {},
   "outputs": [],
   "source": [
    "# def process(json_data):\n",
    "#     rows = []\n",
    "#     for conversation in json_data:\n",
    "#         for i in range(len(conversation) - 5 + 1):\n",
    "#             slice_utterances = conversation[i:i + 5]\n",
    "#             rows.append([u[\"utterance\"] for u in slice_utterances], slice_utterances[-1][\"emotion\"])\n",
    "\n",
    "#     return pd.DataFrame(rows, columns=[\"text\", \"label\"])"
   ]
  },
  {
   "cell_type": "code",
   "execution_count": 7,
   "metadata": {},
   "outputs": [],
   "source": [
    "dfs = map(process, jsons)"
   ]
  },
  {
   "cell_type": "code",
   "execution_count": 8,
   "metadata": {},
   "outputs": [],
   "source": [
    "names = [\"train\", \"val\", \"test\"]\n",
    "for name, df in zip(names, dfs):\n",
    "    df.to_csv(name + \".csv\", index=False)"
   ]
  },
  {
   "cell_type": "code",
   "execution_count": null,
   "metadata": {},
   "outputs": [],
   "source": []
  }
 ],
 "metadata": {
  "kernelspec": {
   "display_name": "emo",
   "language": "python",
   "name": "python3"
  },
  "language_info": {
   "codemirror_mode": {
    "name": "ipython",
    "version": 3
   },
   "file_extension": ".py",
   "mimetype": "text/x-python",
   "name": "python",
   "nbconvert_exporter": "python",
   "pygments_lexer": "ipython3",
   "version": "3.9.17"
  }
 },
 "nbformat": 4,
 "nbformat_minor": 2
}
