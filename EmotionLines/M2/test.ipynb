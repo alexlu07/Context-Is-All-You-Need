{
 "cells": [
  {
   "cell_type": "code",
   "execution_count": 104,
   "metadata": {},
   "outputs": [],
   "source": [
    "from datasets import load_dataset, Features, Value, ClassLabel\n",
    "from transformers import AutoTokenizer, AutoModelForSequenceClassification\n",
    "from transformers import TrainingArguments, Trainer, DataCollatorWithPadding\n",
    "from scipy.stats import pearsonr\n",
    "from sklearn.metrics import accuracy_score, balanced_accuracy_score, f1_score, confusion_matrix, ConfusionMatrixDisplay\n",
    "import numpy as np\n",
    "import pandas as pd\n",
    "import torch\n",
    "import torch.nn.functional as F\n",
    "import torch.nn as nn\n",
    "from time import localtime, strftime, strptime\n",
    "import os\n",
    "import seaborn as sns"
   ]
  },
  {
   "cell_type": "code",
   "execution_count": 82,
   "metadata": {},
   "outputs": [],
   "source": [
    "CL = 5\n",
    "\n",
    "f = {f\"{k}{i}\": Value(dtype=\"string\") for k in \"ts\" for i in range(CL)}\n",
    "dataset = load_dataset(\"csv\", \n",
    "                       data_files={split: f\"../D0/{split}.csv\" for split in [\"train\", \"val\", \"test\"]},\n",
    "                       features=Features({\n",
    "                            **f,\n",
    "                            \"labels\": ClassLabel(num_classes=8, names=[\"neutral\", \"joy\", \"sadness\", \"fear\", \"anger\", \"surprise\", \"disgust\", \"non-neutral\"])\n",
    "                       }))\n",
    "\n",
    "aug_dataset = load_dataset(\"csv\", \n",
    "                       data_files={split: f\"../D2/{split}.csv\" for split in [\"train\", \"val\", \"test\"]},\n",
    "                       features=Features({\n",
    "                            **f,\n",
    "                            \"labels\": ClassLabel(num_classes=8, names=[\"neutral\", \"joy\", \"sadness\", \"fear\", \"anger\", \"surprise\", \"disgust\", \"non-neutral\"])\n",
    "                       }))"
   ]
  },
  {
   "cell_type": "code",
   "execution_count": 83,
   "metadata": {},
   "outputs": [
    {
     "data": {
      "application/vnd.jupyter.widget-view+json": {
       "model_id": "29430915719a4340bfc3ceef64c8c4dd",
       "version_major": 2,
       "version_minor": 0
      },
      "text/plain": [
       "Map:   0%|          | 0/7681 [00:00<?, ? examples/s]"
      ]
     },
     "metadata": {},
     "output_type": "display_data"
    },
    {
     "data": {
      "application/vnd.jupyter.widget-view+json": {
       "model_id": "9f8b9b8be1ac4e1a85930eaf807f35ad",
       "version_major": 2,
       "version_minor": 0
      },
      "text/plain": [
       "Map:   0%|          | 0/858 [00:00<?, ? examples/s]"
      ]
     },
     "metadata": {},
     "output_type": "display_data"
    },
    {
     "data": {
      "application/vnd.jupyter.widget-view+json": {
       "model_id": "a84e82f71ff7476ba05c33006819b3d6",
       "version_major": 2,
       "version_minor": 0
      },
      "text/plain": [
       "Map:   0%|          | 0/1964 [00:00<?, ? examples/s]"
      ]
     },
     "metadata": {},
     "output_type": "display_data"
    },
    {
     "data": {
      "application/vnd.jupyter.widget-view+json": {
       "model_id": "11e15acccf7d48dc8b5b438d2b728679",
       "version_major": 2,
       "version_minor": 0
      },
      "text/plain": [
       "Map:   0%|          | 0/7681 [00:00<?, ? examples/s]"
      ]
     },
     "metadata": {},
     "output_type": "display_data"
    },
    {
     "data": {
      "application/vnd.jupyter.widget-view+json": {
       "model_id": "be355ea77bd642cc9a0974ea5e9da118",
       "version_major": 2,
       "version_minor": 0
      },
      "text/plain": [
       "Map:   0%|          | 0/858 [00:00<?, ? examples/s]"
      ]
     },
     "metadata": {},
     "output_type": "display_data"
    },
    {
     "data": {
      "application/vnd.jupyter.widget-view+json": {
       "model_id": "cc25b93083d34020af7c5b9eee9b81e5",
       "version_major": 2,
       "version_minor": 0
      },
      "text/plain": [
       "Map:   0%|          | 0/1964 [00:00<?, ? examples/s]"
      ]
     },
     "metadata": {},
     "output_type": "display_data"
    }
   ],
   "source": [
    "tokenizer = AutoTokenizer.from_pretrained(\"roberta-base\")\n",
    "\n",
    "def preprocess_data(examples):\n",
    "    convs = [\n",
    "        tokenizer.apply_chat_template(\n",
    "            [{\"role\": \"system\", \"content\": f\"How does {examples[f's{CL-1}'][x]} feel at the end of the conversation?\"}] + \\\n",
    "            [{\"role\": examples[f\"s{i}\"][x], \"content\": examples[f\"t{i}\"][x] + \" \"} for i in range(CL)], \n",
    "            tokenize=False)\n",
    "        for x in range(len(examples[\"labels\"]))\n",
    "    ]\n",
    "\n",
    "    encoding = tokenizer(convs, max_length=512, truncation=True)\n",
    "\n",
    "    return encoding\n",
    "\n",
    "def mask_all(examples):\n",
    "    return {f\"t{CL-1}\": [tokenizer.mask_token for i in range(len(examples[f\"t{CL-1}\"]))]}\n",
    "\n",
    "tokenized_dataset = dataset.map(preprocess_data, batched=True, batch_size=100000,\n",
    "                                remove_columns=[f\"{k}{i}\" for k in \"ts\" for i in range(CL)])\n",
    "\n",
    "tokenized_aug_dataset = aug_dataset.map(preprocess_data, batched=True, batch_size=100000,\n",
    "                                remove_columns=[f\"{k}{i}\" for k in \"ts\" for i in range(CL)])\n",
    "\n",
    "tokenized_masked_dataset = dataset.map(mask_all, batched=True, batch_size=100000).map(preprocess_data, batched=True, batch_size=100000,\n",
    "                                remove_columns=[f\"{k}{i}\" for k in \"ts\" for i in range(CL)])\n",
    "\n",
    "tokenized_masked_aug_dataset = aug_dataset.map(mask_all, batched=True, batch_size=100000).map(preprocess_data, batched=True, batch_size=100000,\n",
    "                                remove_columns=[f\"{k}{i}\" for k in \"ts\" for i in range(CL)])\n",
    "\n",
    "\n",
    "data_collator = DataCollatorWithPadding(tokenizer=tokenizer)"
   ]
  },
  {
   "cell_type": "code",
   "execution_count": 84,
   "metadata": {},
   "outputs": [],
   "source": [
    "def compute_metrics(eval_pred):\n",
    "    logits, labels = eval_pred\n",
    "    predictions = np.argmax(logits, axis=-1)\n",
    "\n",
    "    metrics = {\n",
    "        \"WA\": accuracy_score(labels, predictions).tolist(),\n",
    "        \"UWA\": balanced_accuracy_score(labels, predictions).tolist(),\n",
    "        \"miF1\": f1_score(labels, predictions, average=\"micro\"),\n",
    "        \"maF1\": f1_score(labels, predictions, average=\"macro\"),\n",
    "        \"wtF1\": f1_score(labels, predictions, average=\"weighted\"),\n",
    "    }\n",
    "\n",
    "    return metrics"
   ]
  },
  {
   "cell_type": "code",
   "execution_count": 85,
   "metadata": {},
   "outputs": [],
   "source": [
    "loss_fn = nn.CrossEntropyLoss(torch.Tensor(1/np.bincount(dataset[\"train\"][\"labels\"])).to(\"cuda\"))\n",
    "# loss_fn = nn.CrossEntropyLoss()\n",
    "\n",
    "class MaskedTrainer(Trainer):\n",
    "    rng = np.random.default_rng(42)\n",
    "    endl_token = tokenizer.encode('\\n')[1]\n",
    "    mask_token = tokenizer.mask_token_id\n",
    "    eos_token = tokenizer.eos_token_id\n",
    "    pad_token = tokenizer.pad_token_id\n",
    "\n",
    "    mask_ratio = 0.5\n",
    "\n",
    "    def compute_loss(self, model, inputs, return_outputs=False):\n",
    "        labels = inputs.pop(\"labels\")\n",
    "        outputs = model(**inputs)\n",
    "\n",
    "        loss = loss_fn(outputs[\"logits\"], labels)\n",
    "        return (loss, outputs) if return_outputs else loss\n",
    "    \n",
    "    def training_step(self, model, inputs):\n",
    "        mask_idx = self.rng.choice(len(inputs[\"input_ids\"]), int(self.mask_ratio * len(inputs[\"input_ids\"])), replace=False)\n",
    "        for i in mask_idx:\n",
    "            s = (inputs[\"input_ids\"][i] == self.endl_token).nonzero()[-2].item()\n",
    "            e = (inputs[\"input_ids\"][i] == self.eos_token).nonzero()[-1].item()\n",
    "\n",
    "            inputs[\"input_ids\"][i][s+2:s+11] = inputs[\"input_ids\"][i][e-8:e+1].clone()\n",
    "            inputs[\"input_ids\"][i][s+1] = self.mask_token\n",
    "            inputs[\"input_ids\"][i][s+11:e+1] = self.pad_token\n",
    "            inputs[\"attention_mask\"][i][s+11:e+1] = 0\n",
    "\n",
    "        \n",
    "        return super().training_step(model, inputs)"
   ]
  },
  {
   "cell_type": "code",
   "execution_count": 86,
   "metadata": {},
   "outputs": [],
   "source": [
    "def get_checkpoint(epoch=0, run=\"latest\", folder_path=\"results\"):\n",
    "    if run == \"latest\":\n",
    "        run = max(os.listdir(folder_path), key=lambda x: strptime(x, \"%b-%d-%y-%H:%M:%S\"))\n",
    "\n",
    "    checkpoint = sorted(os.listdir(f\"{folder_path}/{run}\"), key=lambda x: int(x.split(\"-\")[1]))[epoch-1]\n",
    "\n",
    "    return f\"{folder_path}/{run}/{checkpoint}\"\n",
    "\n",
    "c = get_checkpoint(20)\n",
    "model = AutoModelForSequenceClassification.from_pretrained(c)"
   ]
  },
  {
   "cell_type": "code",
   "execution_count": 87,
   "metadata": {},
   "outputs": [],
   "source": [
    "training_args = TrainingArguments(\n",
    "    output_dir=\"/tmp/tmp_trainer\",\n",
    "    per_device_eval_batch_size=64,\n",
    "    report_to=\"none\",\n",
    ")\n",
    "\n",
    "trainer = MaskedTrainer(\n",
    "    model=model,\n",
    "    args=training_args,\n",
    "    data_collator=data_collator,\n",
    "    tokenizer=tokenizer,\n",
    "    compute_metrics=compute_metrics,\n",
    "\n",
    ")"
   ]
  },
  {
   "cell_type": "code",
   "execution_count": 88,
   "metadata": {},
   "outputs": [
    {
     "name": "stderr",
     "output_type": "stream",
     "text": [
      "You're using a RobertaTokenizerFast tokenizer. Please note that with a fast tokenizer, using the `__call__` method is faster than using a method to encode the text followed by a call to the `pad` method to get a padded encoding.\n"
     ]
    },
    {
     "data": {
      "application/vnd.jupyter.widget-view+json": {
       "model_id": "9929d993a6114d27a7fc764ceb8527dc",
       "version_major": 2,
       "version_minor": 0
      },
      "text/plain": [
       "  0%|          | 0/31 [00:00<?, ?it/s]"
      ]
     },
     "metadata": {},
     "output_type": "display_data"
    },
    {
     "data": {
      "text/plain": [
       "{'eval_loss': 2.0361075401306152,\n",
       " 'eval_WA': 0.1614052953156823,\n",
       " 'eval_UWA': 0.21772346179753999,\n",
       " 'eval_miF1': 0.1614052953156823,\n",
       " 'eval_maF1': 0.13499121444333068,\n",
       " 'eval_wtF1': 0.17632865604665732,\n",
       " 'eval_runtime': 4.6655,\n",
       " 'eval_samples_per_second': 420.965,\n",
       " 'eval_steps_per_second': 6.645}"
      ]
     },
     "execution_count": 88,
     "metadata": {},
     "output_type": "execute_result"
    }
   ],
   "source": [
    "trainer.evaluate(tokenized_masked_dataset[\"test\"])"
   ]
  },
  {
   "cell_type": "code",
   "execution_count": 89,
   "metadata": {},
   "outputs": [
    {
     "data": {
      "application/vnd.jupyter.widget-view+json": {
       "model_id": "f07676834d874bc0940f81ea0cac7bb2",
       "version_major": 2,
       "version_minor": 0
      },
      "text/plain": [
       "  0%|          | 0/31 [00:00<?, ?it/s]"
      ]
     },
     "metadata": {},
     "output_type": "display_data"
    }
   ],
   "source": [
    "predictions = trainer.predict(tokenized_masked_dataset[\"test\"])"
   ]
  },
  {
   "cell_type": "code",
   "execution_count": 90,
   "metadata": {},
   "outputs": [],
   "source": [
    "preds = pd.DataFrame(dataset[\"test\"])\n",
    "preds[\"pred\"] = np.argmax(predictions[0], axis=1)"
   ]
  },
  {
   "cell_type": "code",
   "execution_count": 91,
   "metadata": {},
   "outputs": [
    {
     "data": {
      "text/html": [
       "<div>\n",
       "<style scoped>\n",
       "    .dataframe tbody tr th:only-of-type {\n",
       "        vertical-align: middle;\n",
       "    }\n",
       "\n",
       "    .dataframe tbody tr th {\n",
       "        vertical-align: top;\n",
       "    }\n",
       "\n",
       "    .dataframe thead th {\n",
       "        text-align: right;\n",
       "    }\n",
       "</style>\n",
       "<table border=\"1\" class=\"dataframe\">\n",
       "  <thead>\n",
       "    <tr style=\"text-align: right;\">\n",
       "      <th></th>\n",
       "      <th>t0</th>\n",
       "      <th>t1</th>\n",
       "      <th>t2</th>\n",
       "      <th>t3</th>\n",
       "      <th>t4</th>\n",
       "      <th>s0</th>\n",
       "      <th>s1</th>\n",
       "      <th>s2</th>\n",
       "      <th>s3</th>\n",
       "      <th>s4</th>\n",
       "      <th>labels</th>\n",
       "      <th>pred</th>\n",
       "    </tr>\n",
       "  </thead>\n",
       "  <tbody>\n",
       "    <tr>\n",
       "      <th>0</th>\n",
       "      <td>Why do all you're coffee mugs have numbers on ...</td>\n",
       "      <td>Oh. That's so Monica can keep track. That way ...</td>\n",
       "      <td>Y'know what?</td>\n",
       "      <td>It didn't.</td>\n",
       "      <td>Okay, so what you used to have with Rachel, is...</td>\n",
       "      <td>Mark</td>\n",
       "      <td>Rachel</td>\n",
       "      <td>Rachel</td>\n",
       "      <td>Ross</td>\n",
       "      <td>Frank</td>\n",
       "      <td>1</td>\n",
       "      <td>6</td>\n",
       "    </tr>\n",
       "    <tr>\n",
       "      <th>1</th>\n",
       "      <td>Oh. That's so Monica can keep track. That way ...</td>\n",
       "      <td>Y'know what?</td>\n",
       "      <td>It didn't.</td>\n",
       "      <td>Okay, so what you used to have with Rachel, is...</td>\n",
       "      <td>Now, wh-what, what is that like?</td>\n",
       "      <td>Rachel</td>\n",
       "      <td>Rachel</td>\n",
       "      <td>Ross</td>\n",
       "      <td>Frank</td>\n",
       "      <td>Joey</td>\n",
       "      <td>5</td>\n",
       "      <td>6</td>\n",
       "    </tr>\n",
       "    <tr>\n",
       "      <th>2</th>\n",
       "      <td>Y'know what?</td>\n",
       "      <td>It didn't.</td>\n",
       "      <td>Okay, so what you used to have with Rachel, is...</td>\n",
       "      <td>Now, wh-what, what is that like?</td>\n",
       "      <td>It's so cool man, it's so, it's just 'cause be...</td>\n",
       "      <td>Rachel</td>\n",
       "      <td>Ross</td>\n",
       "      <td>Frank</td>\n",
       "      <td>Joey</td>\n",
       "      <td>Frank</td>\n",
       "      <td>1</td>\n",
       "      <td>6</td>\n",
       "    </tr>\n",
       "    <tr>\n",
       "      <th>3</th>\n",
       "      <td>It didn't.</td>\n",
       "      <td>Okay, so what you used to have with Rachel, is...</td>\n",
       "      <td>Now, wh-what, what is that like?</td>\n",
       "      <td>It's so cool man, it's so, it's just 'cause be...</td>\n",
       "      <td>Yeah, yeah.</td>\n",
       "      <td>Ross</td>\n",
       "      <td>Frank</td>\n",
       "      <td>Joey</td>\n",
       "      <td>Frank</td>\n",
       "      <td>Ross</td>\n",
       "      <td>0</td>\n",
       "      <td>6</td>\n",
       "    </tr>\n",
       "    <tr>\n",
       "      <th>4</th>\n",
       "      <td>Okay, so what you used to have with Rachel, is...</td>\n",
       "      <td>Now, wh-what, what is that like?</td>\n",
       "      <td>It's so cool man, it's so, it's just 'cause be...</td>\n",
       "      <td>Yeah, yeah.</td>\n",
       "      <td>Why can't I find that?</td>\n",
       "      <td>Frank</td>\n",
       "      <td>Joey</td>\n",
       "      <td>Frank</td>\n",
       "      <td>Ross</td>\n",
       "      <td>Joey</td>\n",
       "      <td>7</td>\n",
       "      <td>6</td>\n",
       "    </tr>\n",
       "    <tr>\n",
       "      <th>...</th>\n",
       "      <td>...</td>\n",
       "      <td>...</td>\n",
       "      <td>...</td>\n",
       "      <td>...</td>\n",
       "      <td>...</td>\n",
       "      <td>...</td>\n",
       "      <td>...</td>\n",
       "      <td>...</td>\n",
       "      <td>...</td>\n",
       "      <td>...</td>\n",
       "      <td>...</td>\n",
       "      <td>...</td>\n",
       "    </tr>\n",
       "    <tr>\n",
       "      <th>1959</th>\n",
       "      <td>I don't know what it is, I just can't take a g...</td>\n",
       "      <td>Oh, here's a great one.</td>\n",
       "      <td>Yeah, I'm not in that.</td>\n",
       "      <td>I know, but look at me: all tan.</td>\n",
       "      <td>Hey, why don't you guys go get portraits done ...</td>\n",
       "      <td>Chandler</td>\n",
       "      <td>Monica</td>\n",
       "      <td>Chandler</td>\n",
       "      <td>Monica</td>\n",
       "      <td>Phoebe</td>\n",
       "      <td>0</td>\n",
       "      <td>6</td>\n",
       "    </tr>\n",
       "    <tr>\n",
       "      <th>1960</th>\n",
       "      <td>Oh, here's a great one.</td>\n",
       "      <td>Yeah, I'm not in that.</td>\n",
       "      <td>I know, but look at me: all tan.</td>\n",
       "      <td>Hey, why don't you guys go get portraits done ...</td>\n",
       "      <td>That's a good idea! I bet they have one of tho...</td>\n",
       "      <td>Monica</td>\n",
       "      <td>Chandler</td>\n",
       "      <td>Monica</td>\n",
       "      <td>Phoebe</td>\n",
       "      <td>Monica</td>\n",
       "      <td>1</td>\n",
       "      <td>6</td>\n",
       "    </tr>\n",
       "    <tr>\n",
       "      <th>1961</th>\n",
       "      <td>Yeah, I'm not in that.</td>\n",
       "      <td>I know, but look at me: all tan.</td>\n",
       "      <td>Hey, why don't you guys go get portraits done ...</td>\n",
       "      <td>That's a good idea! I bet they have one of tho...</td>\n",
       "      <td>Yeah that's great! Next to that, Chandler won'...</td>\n",
       "      <td>Chandler</td>\n",
       "      <td>Monica</td>\n",
       "      <td>Phoebe</td>\n",
       "      <td>Monica</td>\n",
       "      <td>Phoebe</td>\n",
       "      <td>0</td>\n",
       "      <td>6</td>\n",
       "    </tr>\n",
       "    <tr>\n",
       "      <th>1962</th>\n",
       "      <td>I know, but look at me: all tan.</td>\n",
       "      <td>Hey, why don't you guys go get portraits done ...</td>\n",
       "      <td>That's a good idea! I bet they have one of tho...</td>\n",
       "      <td>Yeah that's great! Next to that, Chandler won'...</td>\n",
       "      <td>Chandler what do you say?</td>\n",
       "      <td>Monica</td>\n",
       "      <td>Phoebe</td>\n",
       "      <td>Monica</td>\n",
       "      <td>Phoebe</td>\n",
       "      <td>Monica</td>\n",
       "      <td>0</td>\n",
       "      <td>6</td>\n",
       "    </tr>\n",
       "    <tr>\n",
       "      <th>1963</th>\n",
       "      <td>Hey, why don't you guys go get portraits done ...</td>\n",
       "      <td>That's a good idea! I bet they have one of tho...</td>\n",
       "      <td>Yeah that's great! Next to that, Chandler won'...</td>\n",
       "      <td>Chandler what do you say?</td>\n",
       "      <td>All right, but I should warn you, I'm not goin...</td>\n",
       "      <td>Phoebe</td>\n",
       "      <td>Monica</td>\n",
       "      <td>Phoebe</td>\n",
       "      <td>Monica</td>\n",
       "      <td>Chandler</td>\n",
       "      <td>0</td>\n",
       "      <td>1</td>\n",
       "    </tr>\n",
       "  </tbody>\n",
       "</table>\n",
       "<p>1964 rows × 12 columns</p>\n",
       "</div>"
      ],
      "text/plain": [
       "                                                     t0  \\\n",
       "0     Why do all you're coffee mugs have numbers on ...   \n",
       "1     Oh. That's so Monica can keep track. That way ...   \n",
       "2                                          Y'know what?   \n",
       "3                                            It didn't.   \n",
       "4     Okay, so what you used to have with Rachel, is...   \n",
       "...                                                 ...   \n",
       "1959  I don't know what it is, I just can't take a g...   \n",
       "1960                            Oh, here's a great one.   \n",
       "1961                             Yeah, I'm not in that.   \n",
       "1962                   I know, but look at me: all tan.   \n",
       "1963  Hey, why don't you guys go get portraits done ...   \n",
       "\n",
       "                                                     t1  \\\n",
       "0     Oh. That's so Monica can keep track. That way ...   \n",
       "1                                          Y'know what?   \n",
       "2                                            It didn't.   \n",
       "3     Okay, so what you used to have with Rachel, is...   \n",
       "4                      Now, wh-what, what is that like?   \n",
       "...                                                 ...   \n",
       "1959                            Oh, here's a great one.   \n",
       "1960                             Yeah, I'm not in that.   \n",
       "1961                   I know, but look at me: all tan.   \n",
       "1962  Hey, why don't you guys go get portraits done ...   \n",
       "1963  That's a good idea! I bet they have one of tho...   \n",
       "\n",
       "                                                     t2  \\\n",
       "0                                          Y'know what?   \n",
       "1                                            It didn't.   \n",
       "2     Okay, so what you used to have with Rachel, is...   \n",
       "3                      Now, wh-what, what is that like?   \n",
       "4     It's so cool man, it's so, it's just 'cause be...   \n",
       "...                                                 ...   \n",
       "1959                             Yeah, I'm not in that.   \n",
       "1960                   I know, but look at me: all tan.   \n",
       "1961  Hey, why don't you guys go get portraits done ...   \n",
       "1962  That's a good idea! I bet they have one of tho...   \n",
       "1963  Yeah that's great! Next to that, Chandler won'...   \n",
       "\n",
       "                                                     t3  \\\n",
       "0                                            It didn't.   \n",
       "1     Okay, so what you used to have with Rachel, is...   \n",
       "2                      Now, wh-what, what is that like?   \n",
       "3     It's so cool man, it's so, it's just 'cause be...   \n",
       "4                                           Yeah, yeah.   \n",
       "...                                                 ...   \n",
       "1959                   I know, but look at me: all tan.   \n",
       "1960  Hey, why don't you guys go get portraits done ...   \n",
       "1961  That's a good idea! I bet they have one of tho...   \n",
       "1962  Yeah that's great! Next to that, Chandler won'...   \n",
       "1963                          Chandler what do you say?   \n",
       "\n",
       "                                                     t4        s0        s1  \\\n",
       "0     Okay, so what you used to have with Rachel, is...      Mark    Rachel   \n",
       "1                      Now, wh-what, what is that like?    Rachel    Rachel   \n",
       "2     It's so cool man, it's so, it's just 'cause be...    Rachel      Ross   \n",
       "3                                           Yeah, yeah.      Ross     Frank   \n",
       "4                                Why can't I find that?     Frank      Joey   \n",
       "...                                                 ...       ...       ...   \n",
       "1959  Hey, why don't you guys go get portraits done ...  Chandler    Monica   \n",
       "1960  That's a good idea! I bet they have one of tho...    Monica  Chandler   \n",
       "1961  Yeah that's great! Next to that, Chandler won'...  Chandler    Monica   \n",
       "1962                          Chandler what do you say?    Monica    Phoebe   \n",
       "1963  All right, but I should warn you, I'm not goin...    Phoebe    Monica   \n",
       "\n",
       "            s2      s3        s4  labels  pred  \n",
       "0       Rachel    Ross     Frank       1     6  \n",
       "1         Ross   Frank      Joey       5     6  \n",
       "2        Frank    Joey     Frank       1     6  \n",
       "3         Joey   Frank      Ross       0     6  \n",
       "4        Frank    Ross      Joey       7     6  \n",
       "...        ...     ...       ...     ...   ...  \n",
       "1959  Chandler  Monica    Phoebe       0     6  \n",
       "1960    Monica  Phoebe    Monica       1     6  \n",
       "1961    Phoebe  Monica    Phoebe       0     6  \n",
       "1962    Monica  Phoebe    Monica       0     6  \n",
       "1963    Phoebe  Monica  Chandler       0     1  \n",
       "\n",
       "[1964 rows x 12 columns]"
      ]
     },
     "execution_count": 91,
     "metadata": {},
     "output_type": "execute_result"
    }
   ],
   "source": [
    "preds"
   ]
  },
  {
   "cell_type": "code",
   "execution_count": 92,
   "metadata": {},
   "outputs": [
    {
     "name": "stdout",
     "output_type": "stream",
     "text": [
      "0.14819004524886878, \n",
      "0.2623762376237624, \n",
      "0.27692307692307694, \n",
      "0.19230769230769232, \n",
      "0.4628099173553719, \n",
      "0.10526315789473684, \n",
      "0.24489795918367346, \n",
      "0.049019607843137254, \n"
     ]
    }
   ],
   "source": [
    "for i in range(8):\n",
    "\n",
    "    tp = (preds[\"labels\"] == i) & (preds[\"pred\"] == i)\n",
    "    tn = (preds[\"labels\"] != i) & (preds[\"pred\"] != i)\n",
    "\n",
    "    # print((sum(tp) + sum(tn))/len(preds))\n",
    "    print(str(sum(tp) / sum(preds[\"labels\"] == i)) + \", \")"
   ]
  },
  {
   "cell_type": "code",
   "execution_count": 93,
   "metadata": {},
   "outputs": [
    {
     "data": {
      "text/plain": [
       "0.2574296735480523"
      ]
     },
     "execution_count": 93,
     "metadata": {},
     "output_type": "execute_result"
    }
   ],
   "source": [
    "sum([0.2623762376237624, \n",
    "0.27692307692307694, \n",
    "0.19230769230769232, \n",
    "0.4628099173553719, \n",
    "0.10526315789473684, \n",
    "0.24489795918367346, \n",
    "\n",
    "\n",
    "])/6"
   ]
  },
  {
   "cell_type": "code",
   "execution_count": 94,
   "metadata": {},
   "outputs": [
    {
     "data": {
      "text/plain": [
       "array([0.22037422, 0.11803279, 0.04878049, 0.19787986, 0.11609499,\n",
       "       0.06      ])"
      ]
     },
     "execution_count": 94,
     "metadata": {},
     "output_type": "execute_result"
    }
   ],
   "source": [
    "f1_score(preds[\"labels\"], preds[\"pred\"], average=None)[1:7]"
   ]
  },
  {
   "cell_type": "code",
   "execution_count": 95,
   "metadata": {},
   "outputs": [
    {
     "data": {
      "text/plain": [
       "array([884, 202,  65,  26, 121, 209,  49, 408])"
      ]
     },
     "execution_count": 95,
     "metadata": {},
     "output_type": "execute_result"
    }
   ],
   "source": [
    "np.bincount(preds[\"labels\"])"
   ]
  },
  {
   "cell_type": "code",
   "execution_count": 96,
   "metadata": {},
   "outputs": [
    {
     "data": {
      "text/plain": [
       "0.1556597194737067"
      ]
     },
     "execution_count": 96,
     "metadata": {},
     "output_type": "execute_result"
    }
   ],
   "source": [
    "counts = np.bincount(preds[\"labels\"])[1:7]\n",
    "(f1_score(preds[\"labels\"], preds[\"pred\"], average=None)[1:7] * counts / sum(counts)).sum()"
   ]
  },
  {
   "cell_type": "code",
   "execution_count": 145,
   "metadata": {},
   "outputs": [],
   "source": []
  },
  {
   "cell_type": "code",
   "execution_count": 156,
   "metadata": {},
   "outputs": [],
   "source": [
    "n = [0] * 8\n",
    "\n",
    "for i in range(1000):\n",
    "    abcd = np.random.choice([1], len(preds[\"pred\"]))\n",
    "    for i in range(8):\n",
    "\n",
    "        tp = (preds[\"labels\"] == i) & (abcd == i)\n",
    "        tn = (preds[\"labels\"] != i) & (abcd != i)\n",
    "\n",
    "        # print((sum(tp) + sum(tn))/len(preds))\n",
    "        # print(str(sum(tp) / sum(preds[\"labels\"] == i)) + \", \")\n",
    "        n[i] += sum(tp) / sum(preds[\"labels\"] == i)"
   ]
  },
  {
   "cell_type": "code",
   "execution_count": 157,
   "metadata": {},
   "outputs": [
    {
     "data": {
      "text/plain": [
       "[0.0, 1.0, 0.0, 0.0, 0.0, 0.0, 0.0, 0.0]"
      ]
     },
     "execution_count": 157,
     "metadata": {},
     "output_type": "execute_result"
    }
   ],
   "source": [
    "[i / 1000 for i in n]"
   ]
  },
  {
   "cell_type": "code",
   "execution_count": 97,
   "metadata": {},
   "outputs": [
    {
     "name": "stdout",
     "output_type": "stream",
     "text": [
      "0.14819004524886878, \n",
      "0.2623762376237624, \n",
      "0.27692307692307694, \n",
      "0.19230769230769232, \n",
      "0.4628099173553719, \n",
      "0.10526315789473684, \n",
      "0.24489795918367346, \n",
      "0.049019607843137254, \n"
     ]
    }
   ],
   "source": [
    "for i in range(8):\n",
    "\n",
    "    tp = (preds[\"labels\"] == i) & (preds[\"pred\"] == i)\n",
    "    tn = (preds[\"labels\"] != i) & (preds[\"pred\"] != i)\n",
    "\n",
    "    # print((sum(tp) + sum(tn))/len(preds))\n",
    "    print(str(sum(tp) / sum(preds[\"labels\"] == i)) + \", \")"
   ]
  },
  {
   "cell_type": "code",
   "execution_count": 98,
   "metadata": {},
   "outputs": [
    {
     "data": {
      "text/plain": [
       "['neutral',\n",
       " 'joy',\n",
       " 'sadness',\n",
       " 'fear',\n",
       " 'anger',\n",
       " 'surprise',\n",
       " 'disgust',\n",
       " 'non-neutral']"
      ]
     },
     "execution_count": 98,
     "metadata": {},
     "output_type": "execute_result"
    }
   ],
   "source": [
    "dataset[\"train\"].features[\"labels\"].names"
   ]
  },
  {
   "cell_type": "code",
   "execution_count": 151,
   "metadata": {},
   "outputs": [
    {
     "data": {
      "text/plain": [
       "0.2574296735480523"
      ]
     },
     "execution_count": 151,
     "metadata": {},
     "output_type": "execute_result"
    }
   ],
   "source": [
    "sum([0.2623762376237624, \n",
    "0.27692307692307694, \n",
    "0.19230769230769232, \n",
    "0.4628099173553719, \n",
    "0.10526315789473684, \n",
    "0.24489795918367346, \n",
    "])/6"
   ]
  },
  {
   "cell_type": "code",
   "execution_count": 99,
   "metadata": {},
   "outputs": [
    {
     "data": {
      "text/plain": [
       "<sklearn.metrics._plot.confusion_matrix.ConfusionMatrixDisplay at 0x7fb9e53abbb0>"
      ]
     },
     "execution_count": 99,
     "metadata": {},
     "output_type": "execute_result"
    },
    {
     "data": {
      "image/png": "[encoded data removed]",
      "text/plain": [
       "<Figure size 640x480 with 2 Axes>"
      ]
     },
     "metadata": {},
     "output_type": "display_data"
    }
   ],
   "source": [
    "ConfusionMatrixDisplay.from_predictions(preds[\"labels\"], preds[\"pred\"], display_labels=dataset[\"train\"].features[\"labels\"].names)"
   ]
  },
  {
   "cell_type": "code",
   "execution_count": 107,
   "metadata": {},
   "outputs": [],
   "source": []
  },
  {
   "cell_type": "code",
   "execution_count": 158,
   "metadata": {},
   "outputs": [
    {
     "data": {
      "text/plain": [
       "<Axes: >"
      ]
     },
     "execution_count": 158,
     "metadata": {},
     "output_type": "execute_result"
    },
    {
     "data": {
      "image/png": "[encoded data removed]",
      "text/plain": [
       "<Figure size 640x480 with 2 Axes>"
      ]
     },
     "metadata": {},
     "output_type": "display_data"
    }
   ],
   "source": [
    "label_names = dataset[\"train\"].features[\"labels\"].names\n",
    "cm = confusion_matrix(preds[\"labels\"], preds[\"pred\"])\n",
    "norm_cm = cm / cm.sum(1)[:, np.newaxis]\n",
    "df_cm = pd.DataFrame(norm_cm, index=label_names, columns=label_names)\n",
    "sns.heatmap(df_cm, annot=cm, fmt=\"\", cmap=\"Purples\")"
   ]
  },
  {
   "cell_type": "code",
   "execution_count": null,
   "metadata": {},
   "outputs": [],
   "source": []
  },
  {
   "cell_type": "code",
   "execution_count": 67,
   "metadata": {},
   "outputs": [],
   "source": [
    "from transformers import pipeline\n",
    "\n",
    "model.to(\"cpu\")\n",
    "pipe = pipeline(\"text-classification\", model=model, tokenizer=tokenizer)"
   ]
  },
  {
   "cell_type": "code",
   "execution_count": 70,
   "metadata": {},
   "outputs": [
    {
     "data": {
      "text/plain": [
       "[{'label': 'LABEL_6', 'score': 0.2181878536939621},\n",
       " {'label': 'LABEL_1', 'score': 0.31182801723480225}]"
      ]
     },
     "execution_count": 70,
     "metadata": {},
     "output_type": "execute_result"
    }
   ],
   "source": [
    "text_inputs = [\n",
    "    [\n",
    "        \"My car just broke.\", \n",
    "        \"Mine's broken too. We can't go anywhere.\", \n",
    "        \"What about his?\", \n",
    "        \"Also broken. We're stuck.\",\n",
    "        \"<mask>\",\n",
    "    ], [\n",
    "        \"Let's go party\", \n",
    "        \"Sure!\", \n",
    "        \"Are you ready?\", \n",
    "        \"I'm all ready. Let's go!\",\n",
    "        \"<mask>\",\n",
    "    ],\n",
    "]\n",
    "\n",
    "role_names = [\"Chandler\", \"Monica\"]\n",
    "convs = [\n",
    "    tokenizer.apply_chat_template(\n",
    "        [{\"role\": \"system\", \"content\": f\"How does {role_names[0]} feel at the end of the conversation?\"}] + \\\n",
    "        [{\"role\": role_names[i % 2], \"content\": x + \" \"} for i, x in enumerate(m)], \n",
    "        tokenize=False)\n",
    "    for m in text_inputs\n",
    "]\n",
    "\n",
    "pipe(convs)"
   ]
  },
  {
   "cell_type": "code",
   "execution_count": 17,
   "metadata": {},
   "outputs": [],
   "source": [
    "outputs = torch.softmax(model(**tokenizer(convs, return_tensors=\"pt\", padding=True)).logits, dim=-1)"
   ]
  },
  {
   "cell_type": "code",
   "execution_count": 18,
   "metadata": {},
   "outputs": [
    {
     "data": {
      "text/plain": [
       "tensor([[0.1224, 0.1031, 0.2255, 0.1441, 0.0402, 0.0841, 0.2272, 0.0534],\n",
       "        [0.1363, 0.3419, 0.0624, 0.1004, 0.0487, 0.1515, 0.0873, 0.0716]],\n",
       "       grad_fn=<SoftmaxBackward0>)"
      ]
     },
     "execution_count": 18,
     "metadata": {},
     "output_type": "execute_result"
    }
   ],
   "source": [
    "outputs"
   ]
  },
  {
   "cell_type": "code",
   "execution_count": null,
   "metadata": {},
   "outputs": [],
   "source": []
  },
  {
   "cell_type": "code",
   "execution_count": 19,
   "metadata": {},
   "outputs": [
    {
     "ename": "Exception",
     "evalue": "",
     "output_type": "error",
     "traceback": [
      "\u001b[0;31m---------------------------------------------------------------------------\u001b[0m",
      "\u001b[0;31mException\u001b[0m                                 Traceback (most recent call last)",
      "Cell \u001b[0;32mIn[19], line 1\u001b[0m\n\u001b[0;32m----> 1\u001b[0m \u001b[38;5;28;01mraise\u001b[39;00m \u001b[38;5;167;01mException\u001b[39;00m\n",
      "\u001b[0;31mException\u001b[0m: "
     ]
    }
   ],
   "source": [
    "raise Exception"
   ]
  },
  {
   "cell_type": "code",
   "execution_count": 73,
   "metadata": {},
   "outputs": [
    {
     "data": {
      "application/vnd.jupyter.widget-view+json": {
       "model_id": "de45e998d269479394feea6f7709c2b6",
       "version_major": 2,
       "version_minor": 0
      },
      "text/plain": [
       "  0%|          | 0/31 [00:00<?, ?it/s]"
      ]
     },
     "metadata": {},
     "output_type": "display_data"
    },
    {
     "data": {
      "application/vnd.jupyter.widget-view+json": {
       "model_id": "b6ec1e86b0174376990dc9a37d8e60ca",
       "version_major": 2,
       "version_minor": 0
      },
      "text/plain": [
       "  0%|          | 0/31 [00:00<?, ?it/s]"
      ]
     },
     "metadata": {},
     "output_type": "display_data"
    },
    {
     "data": {
      "application/vnd.jupyter.widget-view+json": {
       "model_id": "5d7780a026e046e2b7c025a8fed22b4f",
       "version_major": 2,
       "version_minor": 0
      },
      "text/plain": [
       "  0%|          | 0/31 [00:00<?, ?it/s]"
      ]
     },
     "metadata": {},
     "output_type": "display_data"
    },
    {
     "data": {
      "application/vnd.jupyter.widget-view+json": {
       "model_id": "58d085c19103484ebf197d75de5b439b",
       "version_major": 2,
       "version_minor": 0
      },
      "text/plain": [
       "  0%|          | 0/31 [00:00<?, ?it/s]"
      ]
     },
     "metadata": {},
     "output_type": "display_data"
    },
    {
     "data": {
      "application/vnd.jupyter.widget-view+json": {
       "model_id": "019a1e4ceb9f4a72879c95ad798851c2",
       "version_major": 2,
       "version_minor": 0
      },
      "text/plain": [
       "  0%|          | 0/31 [00:00<?, ?it/s]"
      ]
     },
     "metadata": {},
     "output_type": "display_data"
    },
    {
     "data": {
      "application/vnd.jupyter.widget-view+json": {
       "model_id": "6fcdd27440d4495aa54e8d08319ae8f2",
       "version_major": 2,
       "version_minor": 0
      },
      "text/plain": [
       "  0%|          | 0/31 [00:00<?, ?it/s]"
      ]
     },
     "metadata": {},
     "output_type": "display_data"
    },
    {
     "data": {
      "application/vnd.jupyter.widget-view+json": {
       "model_id": "1c541f57a50445c6becc41847c22b638",
       "version_major": 2,
       "version_minor": 0
      },
      "text/plain": [
       "  0%|          | 0/31 [00:00<?, ?it/s]"
      ]
     },
     "metadata": {},
     "output_type": "display_data"
    },
    {
     "data": {
      "application/vnd.jupyter.widget-view+json": {
       "model_id": "8cb4ef997cce439290327f0c6815fcd4",
       "version_major": 2,
       "version_minor": 0
      },
      "text/plain": [
       "  0%|          | 0/31 [00:00<?, ?it/s]"
      ]
     },
     "metadata": {},
     "output_type": "display_data"
    },
    {
     "data": {
      "application/vnd.jupyter.widget-view+json": {
       "model_id": "30aeb9d0aba84244a4370b5132d724bf",
       "version_major": 2,
       "version_minor": 0
      },
      "text/plain": [
       "  0%|          | 0/31 [00:00<?, ?it/s]"
      ]
     },
     "metadata": {},
     "output_type": "display_data"
    },
    {
     "data": {
      "application/vnd.jupyter.widget-view+json": {
       "model_id": "1f2a8de7acc34375a976a5216db08f8e",
       "version_major": 2,
       "version_minor": 0
      },
      "text/plain": [
       "  0%|          | 0/31 [00:00<?, ?it/s]"
      ]
     },
     "metadata": {},
     "output_type": "display_data"
    },
    {
     "data": {
      "application/vnd.jupyter.widget-view+json": {
       "model_id": "5c28376b083b4ab7b3463278a6fc6b59",
       "version_major": 2,
       "version_minor": 0
      },
      "text/plain": [
       "  0%|          | 0/31 [00:00<?, ?it/s]"
      ]
     },
     "metadata": {},
     "output_type": "display_data"
    },
    {
     "data": {
      "application/vnd.jupyter.widget-view+json": {
       "model_id": "ed12239d7a8c419db010aac0b007a2d2",
       "version_major": 2,
       "version_minor": 0
      },
      "text/plain": [
       "  0%|          | 0/31 [00:00<?, ?it/s]"
      ]
     },
     "metadata": {},
     "output_type": "display_data"
    },
    {
     "data": {
      "application/vnd.jupyter.widget-view+json": {
       "model_id": "0e59667d28054055bd8ee4f0f50e9ec5",
       "version_major": 2,
       "version_minor": 0
      },
      "text/plain": [
       "  0%|          | 0/31 [00:00<?, ?it/s]"
      ]
     },
     "metadata": {},
     "output_type": "display_data"
    },
    {
     "data": {
      "application/vnd.jupyter.widget-view+json": {
       "model_id": "c00f2d073b474c85a75cd1d54da875c4",
       "version_major": 2,
       "version_minor": 0
      },
      "text/plain": [
       "  0%|          | 0/31 [00:00<?, ?it/s]"
      ]
     },
     "metadata": {},
     "output_type": "display_data"
    },
    {
     "data": {
      "application/vnd.jupyter.widget-view+json": {
       "model_id": "ab52523eebe9456aa834191a4f6c8d26",
       "version_major": 2,
       "version_minor": 0
      },
      "text/plain": [
       "  0%|          | 0/31 [00:00<?, ?it/s]"
      ]
     },
     "metadata": {},
     "output_type": "display_data"
    },
    {
     "data": {
      "application/vnd.jupyter.widget-view+json": {
       "model_id": "bd42b74865054d49b1064bd5479d65e3",
       "version_major": 2,
       "version_minor": 0
      },
      "text/plain": [
       "  0%|          | 0/31 [00:00<?, ?it/s]"
      ]
     },
     "metadata": {},
     "output_type": "display_data"
    },
    {
     "data": {
      "application/vnd.jupyter.widget-view+json": {
       "model_id": "71bd17d85c9449acb1cc2c0384021632",
       "version_major": 2,
       "version_minor": 0
      },
      "text/plain": [
       "  0%|          | 0/31 [00:00<?, ?it/s]"
      ]
     },
     "metadata": {},
     "output_type": "display_data"
    },
    {
     "data": {
      "application/vnd.jupyter.widget-view+json": {
       "model_id": "a29e224b573649048b23b5468d4e4d7e",
       "version_major": 2,
       "version_minor": 0
      },
      "text/plain": [
       "  0%|          | 0/31 [00:00<?, ?it/s]"
      ]
     },
     "metadata": {},
     "output_type": "display_data"
    },
    {
     "data": {
      "application/vnd.jupyter.widget-view+json": {
       "model_id": "80fae3dd6c9b40d7bb4aaa571a5582bc",
       "version_major": 2,
       "version_minor": 0
      },
      "text/plain": [
       "  0%|          | 0/31 [00:00<?, ?it/s]"
      ]
     },
     "metadata": {},
     "output_type": "display_data"
    },
    {
     "data": {
      "application/vnd.jupyter.widget-view+json": {
       "model_id": "1c9860833dfb4490a3efcecad777d021",
       "version_major": 2,
       "version_minor": 0
      },
      "text/plain": [
       "  0%|          | 0/31 [00:00<?, ?it/s]"
      ]
     },
     "metadata": {},
     "output_type": "display_data"
    }
   ],
   "source": [
    "p = []\n",
    "\n",
    "for i in range(21, 41):\n",
    "    c = get_checkpoint(i)\n",
    "    model = AutoModelForSequenceClassification.from_pretrained(c)\n",
    "\n",
    "    training_args = TrainingArguments(\n",
    "        output_dir=\"/tmp/tmp_trainer\",\n",
    "        per_device_eval_batch_size=64,\n",
    "        report_to=\"none\",\n",
    "    )\n",
    "\n",
    "    trainer = MaskedTrainer(\n",
    "        model=model,\n",
    "        args=training_args,\n",
    "        data_collator=data_collator,\n",
    "        tokenizer=tokenizer,\n",
    "        compute_metrics=compute_metrics,\n",
    "\n",
    "    )\n",
    "\n",
    "    predictions = trainer.predict(tokenized_masked_dataset[\"test\"])\n",
    "\n",
    "    scores = compute_metrics(predictions[:2])\n",
    "\n",
    "    preds = pd.DataFrame(dataset[\"test\"])\n",
    "    preds[\"pred\"] = np.argmax(predictions[0], axis=1)\n",
    "\n",
    "    abc = []\n",
    "    for i in range(8):\n",
    "        tp = (preds[\"labels\"] == i) & (preds[\"pred\"] == i)\n",
    "        tn = (preds[\"labels\"] != i) & (preds[\"pred\"] != i)\n",
    "\n",
    "        # print((sum(tp) + sum(tn))/len(preds))\n",
    "        abc.append(sum(tp) / sum(preds[\"labels\"] == i))\n",
    "\n",
    "    p.append(f\"WA: {scores['WA']} UWA: {scores['UWA']} f: {sum(abc[1:7])/6}\")"
   ]
  },
  {
   "cell_type": "code",
   "execution_count": 72,
   "metadata": {},
   "outputs": [
    {
     "name": "stdout",
     "output_type": "stream",
     "text": [
      "WA: 0.10641547861507128 UWA: 0.125 f: 0.16666666666666666\n",
      "WA: 0.10641547861507128 UWA: 0.125 f: 0.16666666666666666\n",
      "WA: 0.11354378818737271 UWA: 0.1499021313614615 f: 0.19986950848194865\n",
      "WA: 0.3070264765784114 UWA: 0.14040018464976248 f: 0.08344207626504278\n",
      "WA: 0.1894093686354379 UWA: 0.16911741909529254 f: 0.17339084738095314\n",
      "WA: 0.2505091649694501 UWA: 0.181900295252089 f: 0.14279767873732532\n",
      "WA: 0.24439918533604887 UWA: 0.18731235459725384 f: 0.14457760904571001\n",
      "WA: 0.2235234215885947 UWA: 0.19432374063076657 f: 0.19304754155494872\n",
      "WA: 0.15274949083503056 UWA: 0.20465422347985882 f: 0.23830718987862523\n",
      "WA: 0.20162932790224034 UWA: 0.20134811471704267 f: 0.21928743098521733\n",
      "WA: 0.22810590631364563 UWA: 0.20142669355047305 f: 0.20069562156654328\n",
      "WA: 0.20723014256619143 UWA: 0.2109034300799241 f: 0.22146978208746038\n",
      "WA: 0.1955193482688391 UWA: 0.20497393263532132 f: 0.21717741043181107\n",
      "WA: 0.1985743380855397 UWA: 0.19871712546388132 f: 0.2095263030317814\n",
      "WA: 0.18686354378818737 UWA: 0.21364571531615412 f: 0.23540142635416827\n",
      "WA: 0.17820773930753564 UWA: 0.21268941105896705 f: 0.23943681152759203\n",
      "WA: 0.18839103869653767 UWA: 0.2061012500502335 f: 0.22323681002172913\n",
      "WA: 0.19144602851323828 UWA: 0.20928469760545126 f: 0.2254703459274292\n",
      "WA: 0.1634419551934827 UWA: 0.1951134299235825 f: 0.21546798197955797\n",
      "WA: 0.1614052953156823 UWA: 0.21772346179753999 f: 0.2574296735480523\n"
     ]
    }
   ],
   "source": [
    "for x in p:\n",
    "    print(x)"
   ]
  },
  {
   "cell_type": "code",
   "execution_count": 74,
   "metadata": {},
   "outputs": [
    {
     "name": "stdout",
     "output_type": "stream",
     "text": [
      "WA: 0.15173116089613034 UWA: 0.20965217834446345 f: 0.24374563950201966\n",
      "WA: 0.17362525458248473 UWA: 0.20693725073824532 f: 0.2313273448757298\n",
      "WA: 0.164969450101833 UWA: 0.20063811508036855 f: 0.2212316647527086\n",
      "WA: 0.15376782077393075 UWA: 0.19701048406777022 f: 0.22299361676607674\n",
      "WA: 0.16242362525458248 UWA: 0.19987809302093035 f: 0.21968411397260298\n",
      "WA: 0.16395112016293278 UWA: 0.19381883093360058 f: 0.20852566095319694\n",
      "WA: 0.17973523421588594 UWA: 0.19718608673137306 f: 0.20773630065942758\n",
      "WA: 0.17973523421588594 UWA: 0.20477229193579943 f: 0.22630398100238314\n",
      "WA: 0.159877800407332 UWA: 0.19477445708791533 f: 0.21533024645407314\n",
      "WA: 0.16395112016293278 UWA: 0.19902453710201196 f: 0.2211227111083638\n",
      "WA: 0.17158859470468432 UWA: 0.20119324009780698 f: 0.2182953608543912\n",
      "WA: 0.1690427698574338 UWA: 0.20619507621176952 f: 0.22681842237989583\n",
      "WA: 0.16547861507128309 UWA: 0.20416624618509563 f: 0.2262814906399566\n",
      "WA: 0.17209775967413443 UWA: 0.20793276500611996 f: 0.2306122135727653\n",
      "WA: 0.1695519348268839 UWA: 0.20314649033659798 f: 0.22331925207272893\n",
      "WA: 0.164969450101833 UWA: 0.20026263782377257 f: 0.22032253167855453\n",
      "WA: 0.16395112016293278 UWA: 0.20210032437312206 f: 0.2245638814668274\n",
      "WA: 0.1644602851323829 UWA: 0.20257166675622915 f: 0.2245638814668274\n",
      "WA: 0.164969450101833 UWA: 0.20043019551922497 f: 0.22195996908847893\n",
      "WA: 0.1664969450101833 UWA: 0.20359396102542743 f: 0.22536132963269662\n"
     ]
    }
   ],
   "source": [
    "for x in p:\n",
    "    print(x)"
   ]
  }
 ],
 "metadata": {
  "kernelspec": {
   "display_name": "emo",
   "language": "python",
   "name": "python3"
  },
  "language_info": {
   "codemirror_mode": {
    "name": "ipython",
    "version": 3
   },
   "file_extension": ".py",
   "mimetype": "text/x-python",
   "name": "python",
   "nbconvert_exporter": "python",
   "pygments_lexer": "ipython3",
   "version": "3.9.17"
  }
 },
 "nbformat": 4,
 "nbformat_minor": 2
}
