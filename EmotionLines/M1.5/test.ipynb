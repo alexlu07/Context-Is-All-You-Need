{
 "cells": [
  {
   "cell_type": "code",
   "execution_count": 4,
   "metadata": {},
   "outputs": [],
   "source": [
    "from datasets import load_dataset, Features, Value, ClassLabel\n",
    "from transformers import AutoTokenizer, AutoModelForSequenceClassification\n",
    "from transformers import TrainingArguments, Trainer, DataCollatorWithPadding\n",
    "from transformers import TextClassificationPipeline\n",
    "from scipy.stats import pearsonr\n",
    "from sklearn.metrics import accuracy_score, balanced_accuracy_score, f1_score, confusion_matrix, ConfusionMatrixDisplay\n",
    "import numpy as np\n",
    "import pandas as pd\n",
    "import torch\n",
    "import torch.nn.functional as F\n",
    "import torch.nn as nn\n",
    "from time import localtime, strftime, strptime\n",
    "import os\n",
    "import seaborn as sns"
   ]
  },
  {
   "cell_type": "code",
   "execution_count": 5,
   "metadata": {},
   "outputs": [],
   "source": [
    "CL = 5\n",
    "\n",
    "f = {f\"{k}{i}\": Value(dtype=\"string\") for k in \"ts\" for i in range(CL)}\n",
    "dataset = load_dataset(\"csv\", \n",
    "                       data_files={split: f\"../D0/{split}.csv\" for split in [\"train\", \"val\", \"test\"]},\n",
    "                       features=Features({\n",
    "                            **f,\n",
    "                            \"labels\": ClassLabel(num_classes=8, names=[\"neutral\", \"joy\", \"sadness\", \"fear\", \"anger\", \"surprise\", \"disgust\", \"non-neutral\"])\n",
    "                       }))\n",
    "\n",
    "aug_dataset = load_dataset(\"csv\", \n",
    "                       data_files={split: f\"../D2/{split}.csv\" for split in [\"train\", \"val\", \"test\"]},\n",
    "                       features=Features({\n",
    "                            **f,\n",
    "                            \"labels\": ClassLabel(num_classes=8, names=[\"neutral\", \"joy\", \"sadness\", \"fear\", \"anger\", \"surprise\", \"disgust\", \"non-neutral\"])\n",
    "                       }))"
   ]
  },
  {
   "cell_type": "code",
   "execution_count": 6,
   "metadata": {},
   "outputs": [],
   "source": [
    "tokenizer = AutoTokenizer.from_pretrained(\"roberta-base\")\n",
    "\n",
    "def preprocess_data(examples):\n",
    "    convs = [\n",
    "        tokenizer.apply_chat_template(\n",
    "            [{\"role\": \"system\", \"content\": f\"How does {examples[f's{CL-1}'][x]} feel at the end of the conversation?\"}] + \\\n",
    "            [{\"role\": examples[f\"s{i}\"][x], \"content\": examples[f\"t{i}\"][x] + \" \"} for i in range(CL)], \n",
    "            tokenize=False)\n",
    "        for x in range(len(examples[\"labels\"]))\n",
    "    ]\n",
    "\n",
    "    encoding = tokenizer(convs, max_length=512, truncation=True)\n",
    "\n",
    "    return encoding\n",
    "\n",
    "def mask_all(examples):\n",
    "    return {f\"t{CL-1}\": [tokenizer.mask_token for i in range(len(examples[f\"t{CL-1}\"]))]}\n",
    "\n",
    "tokenized_dataset = dataset.map(preprocess_data, batched=True, batch_size=100000,\n",
    "                                remove_columns=[f\"{k}{i}\" for k in \"ts\" for i in range(CL)])\n",
    "\n",
    "tokenized_aug_dataset = aug_dataset.map(preprocess_data, batched=True, batch_size=100000,\n",
    "                                remove_columns=[f\"{k}{i}\" for k in \"ts\" for i in range(CL)])\n",
    "\n",
    "tokenized_masked_dataset = dataset.map(mask_all, batched=True, batch_size=100000).map(preprocess_data, batched=True, batch_size=100000,\n",
    "                                remove_columns=[f\"{k}{i}\" for k in \"ts\" for i in range(CL)])\n",
    "\n",
    "tokenized_masked_aug_dataset = aug_dataset.map(mask_all, batched=True, batch_size=100000).map(preprocess_data, batched=True, batch_size=100000,\n",
    "                                remove_columns=[f\"{k}{i}\" for k in \"ts\" for i in range(CL)])\n",
    "\n",
    "\n",
    "data_collator = DataCollatorWithPadding(tokenizer=tokenizer)"
   ]
  },
  {
   "cell_type": "code",
   "execution_count": 7,
   "metadata": {},
   "outputs": [],
   "source": [
    "def compute_metrics(eval_pred):\n",
    "    logits, labels = eval_pred\n",
    "    predictions = np.argmax(logits, axis=-1)\n",
    "\n",
    "    metrics = {\n",
    "        \"WA\": accuracy_score(labels, predictions).tolist(),\n",
    "        \"UWA\": balanced_accuracy_score(labels, predictions).tolist(),\n",
    "        \"miF1\": f1_score(labels, predictions, average=\"micro\"),\n",
    "        \"maF1\": f1_score(labels, predictions, average=\"macro\"),\n",
    "        \"wtF1\": f1_score(labels, predictions, average=\"weighted\"),\n",
    "    }\n",
    "\n",
    "    return metrics"
   ]
  },
  {
   "cell_type": "code",
   "execution_count": 8,
   "metadata": {},
   "outputs": [],
   "source": [
    "loss_fn = nn.CrossEntropyLoss(torch.Tensor(1/np.bincount(dataset[\"train\"][\"labels\"])).to(\"cuda\"))\n",
    "# loss_fn = nn.CrossEntropyLoss()\n",
    "\n",
    "class MaskedTrainer(Trainer):\n",
    "    rng = np.random.default_rng(42)\n",
    "    endl_token = tokenizer.encode('\\n')[1]\n",
    "    mask_token = tokenizer.mask_token_id\n",
    "    eos_token = tokenizer.eos_token_id\n",
    "    pad_token = tokenizer.pad_token_id\n",
    "\n",
    "    mask_ratio = 0.5\n",
    "\n",
    "    def compute_loss(self, model, inputs, return_outputs=False):\n",
    "        labels = inputs.pop(\"labels\")\n",
    "        outputs = model(**inputs)\n",
    "\n",
    "        loss = loss_fn(outputs[\"logits\"], labels)\n",
    "        return (loss, outputs) if return_outputs else loss\n",
    "    \n",
    "    def training_step(self, model, inputs):\n",
    "        mask_idx = self.rng.choice(len(inputs[\"input_ids\"]), int(self.mask_ratio * len(inputs[\"input_ids\"])), replace=False)\n",
    "        for i in mask_idx:\n",
    "            s = (inputs[\"input_ids\"][i] == self.endl_token).nonzero()[-2].item()\n",
    "            e = (inputs[\"input_ids\"][i] == self.eos_token).nonzero()[-1].item()\n",
    "\n",
    "            inputs[\"input_ids\"][i][s+2:s+11] = inputs[\"input_ids\"][i][e-8:e+1].clone()\n",
    "            inputs[\"input_ids\"][i][s+1] = self.mask_token\n",
    "            inputs[\"input_ids\"][i][s+11:e+1] = self.pad_token\n",
    "            inputs[\"attention_mask\"][i][s+11:e+1] = 0\n",
    "\n",
    "        \n",
    "        return super().training_step(model, inputs)"
   ]
  },
  {
   "cell_type": "code",
   "execution_count": 9,
   "metadata": {},
   "outputs": [],
   "source": [
    "def get_checkpoint(epoch=0, run=\"latest\", folder_path=\"results\"):\n",
    "    if run == \"latest\":\n",
    "        run = max(os.listdir(folder_path), key=lambda x: strptime(x, \"%b-%d-%y-%H:%M:%S\"))\n",
    "\n",
    "    checkpoint = sorted(os.listdir(f\"{folder_path}/{run}\"), key=lambda x: int(x.split(\"-\")[1]))[epoch-1]\n",
    "\n",
    "    return f\"{folder_path}/{run}/{checkpoint}\"\n",
    "\n",
    "c = get_checkpoint(32)\n",
    "model = AutoModelForSequenceClassification.from_pretrained(c)"
   ]
  },
  {
   "cell_type": "code",
   "execution_count": 10,
   "metadata": {},
   "outputs": [],
   "source": [
    "training_args = TrainingArguments(\n",
    "    output_dir=\"/tmp/tmp_trainer\",\n",
    "    per_device_eval_batch_size=64,\n",
    "    report_to=\"none\",\n",
    ")\n",
    "\n",
    "trainer = MaskedTrainer(\n",
    "    model=model,\n",
    "    args=training_args,\n",
    "    data_collator=data_collator,\n",
    "    tokenizer=tokenizer,\n",
    "    compute_metrics=compute_metrics,\n",
    "\n",
    ")"
   ]
  },
  {
   "cell_type": "code",
   "execution_count": 8,
   "metadata": {},
   "outputs": [
    {
     "name": "stderr",
     "output_type": "stream",
     "text": [
      "You're using a RobertaTokenizerFast tokenizer. Please note that with a fast tokenizer, using the `__call__` method is faster than using a method to encode the text followed by a call to the `pad` method to get a padded encoding.\n"
     ]
    },
    {
     "data": {
      "application/vnd.jupyter.widget-view+json": {
       "model_id": "52f4646a8e5b43808c94104e078e87ec",
       "version_major": 2,
       "version_minor": 0
      },
      "text/plain": [
       "  0%|          | 0/31 [00:00<?, ?it/s]"
      ]
     },
     "metadata": {},
     "output_type": "display_data"
    },
    {
     "data": {
      "text/plain": [
       "{'eval_loss': 1.4886226654052734,\n",
       " 'eval_WA': 0.4516293279022403,\n",
       " 'eval_UWA': 0.5050396741833976,\n",
       " 'eval_miF1': 0.4516293279022403,\n",
       " 'eval_maF1': 0.3570450692405388,\n",
       " 'eval_wtF1': 0.45239254615199065,\n",
       " 'eval_runtime': 5.354,\n",
       " 'eval_samples_per_second': 366.825,\n",
       " 'eval_steps_per_second': 5.79}"
      ]
     },
     "execution_count": 8,
     "metadata": {},
     "output_type": "execute_result"
    }
   ],
   "source": [
    "trainer.evaluate(tokenized_dataset[\"test\"])"
   ]
  },
  {
   "cell_type": "code",
   "execution_count": 9,
   "metadata": {},
   "outputs": [
    {
     "data": {
      "application/vnd.jupyter.widget-view+json": {
       "model_id": "c2c7d3fe78914e4a97d683baa5415813",
       "version_major": 2,
       "version_minor": 0
      },
      "text/plain": [
       "  0%|          | 0/31 [00:00<?, ?it/s]"
      ]
     },
     "metadata": {},
     "output_type": "display_data"
    }
   ],
   "source": [
    "predictions = trainer.predict(tokenized_dataset[\"test\"])"
   ]
  },
  {
   "cell_type": "code",
   "execution_count": 10,
   "metadata": {},
   "outputs": [],
   "source": [
    "preds = pd.DataFrame(dataset[\"test\"])\n",
    "preds[\"pred\"] = np.argmax(predictions[0], axis=1)"
   ]
  },
  {
   "cell_type": "code",
   "execution_count": 11,
   "metadata": {},
   "outputs": [
    {
     "data": {
      "text/html": [
       "<div>\n",
       "<style scoped>\n",
       "    .dataframe tbody tr th:only-of-type {\n",
       "        vertical-align: middle;\n",
       "    }\n",
       "\n",
       "    .dataframe tbody tr th {\n",
       "        vertical-align: top;\n",
       "    }\n",
       "\n",
       "    .dataframe thead th {\n",
       "        text-align: right;\n",
       "    }\n",
       "</style>\n",
       "<table border=\"1\" class=\"dataframe\">\n",
       "  <thead>\n",
       "    <tr style=\"text-align: right;\">\n",
       "      <th></th>\n",
       "      <th>t0</th>\n",
       "      <th>t1</th>\n",
       "      <th>t2</th>\n",
       "      <th>t3</th>\n",
       "      <th>t4</th>\n",
       "      <th>s0</th>\n",
       "      <th>s1</th>\n",
       "      <th>s2</th>\n",
       "      <th>s3</th>\n",
       "      <th>s4</th>\n",
       "      <th>labels</th>\n",
       "      <th>pred</th>\n",
       "    </tr>\n",
       "  </thead>\n",
       "  <tbody>\n",
       "    <tr>\n",
       "      <th>0</th>\n",
       "      <td>Why do all you're coffee mugs have numbers on ...</td>\n",
       "      <td>Oh. That's so Monica can keep track. That way ...</td>\n",
       "      <td>Y'know what?</td>\n",
       "      <td>It didn't.</td>\n",
       "      <td>Okay, so what you used to have with Rachel, is...</td>\n",
       "      <td>Mark</td>\n",
       "      <td>Rachel</td>\n",
       "      <td>Rachel</td>\n",
       "      <td>Ross</td>\n",
       "      <td>Frank</td>\n",
       "      <td>1</td>\n",
       "      <td>0</td>\n",
       "    </tr>\n",
       "    <tr>\n",
       "      <th>1</th>\n",
       "      <td>Oh. That's so Monica can keep track. That way ...</td>\n",
       "      <td>Y'know what?</td>\n",
       "      <td>It didn't.</td>\n",
       "      <td>Okay, so what you used to have with Rachel, is...</td>\n",
       "      <td>Now, wh-what, what is that like?</td>\n",
       "      <td>Rachel</td>\n",
       "      <td>Rachel</td>\n",
       "      <td>Ross</td>\n",
       "      <td>Frank</td>\n",
       "      <td>Joey</td>\n",
       "      <td>5</td>\n",
       "      <td>5</td>\n",
       "    </tr>\n",
       "    <tr>\n",
       "      <th>2</th>\n",
       "      <td>Y'know what?</td>\n",
       "      <td>It didn't.</td>\n",
       "      <td>Okay, so what you used to have with Rachel, is...</td>\n",
       "      <td>Now, wh-what, what is that like?</td>\n",
       "      <td>It's so cool man, it's so, it's just 'cause be...</td>\n",
       "      <td>Rachel</td>\n",
       "      <td>Ross</td>\n",
       "      <td>Frank</td>\n",
       "      <td>Joey</td>\n",
       "      <td>Frank</td>\n",
       "      <td>1</td>\n",
       "      <td>1</td>\n",
       "    </tr>\n",
       "    <tr>\n",
       "      <th>3</th>\n",
       "      <td>It didn't.</td>\n",
       "      <td>Okay, so what you used to have with Rachel, is...</td>\n",
       "      <td>Now, wh-what, what is that like?</td>\n",
       "      <td>It's so cool man, it's so, it's just 'cause be...</td>\n",
       "      <td>Yeah, yeah.</td>\n",
       "      <td>Ross</td>\n",
       "      <td>Frank</td>\n",
       "      <td>Joey</td>\n",
       "      <td>Frank</td>\n",
       "      <td>Ross</td>\n",
       "      <td>0</td>\n",
       "      <td>0</td>\n",
       "    </tr>\n",
       "    <tr>\n",
       "      <th>4</th>\n",
       "      <td>Okay, so what you used to have with Rachel, is...</td>\n",
       "      <td>Now, wh-what, what is that like?</td>\n",
       "      <td>It's so cool man, it's so, it's just 'cause be...</td>\n",
       "      <td>Yeah, yeah.</td>\n",
       "      <td>Why can't I find that?</td>\n",
       "      <td>Frank</td>\n",
       "      <td>Joey</td>\n",
       "      <td>Frank</td>\n",
       "      <td>Ross</td>\n",
       "      <td>Joey</td>\n",
       "      <td>7</td>\n",
       "      <td>5</td>\n",
       "    </tr>\n",
       "    <tr>\n",
       "      <th>...</th>\n",
       "      <td>...</td>\n",
       "      <td>...</td>\n",
       "      <td>...</td>\n",
       "      <td>...</td>\n",
       "      <td>...</td>\n",
       "      <td>...</td>\n",
       "      <td>...</td>\n",
       "      <td>...</td>\n",
       "      <td>...</td>\n",
       "      <td>...</td>\n",
       "      <td>...</td>\n",
       "      <td>...</td>\n",
       "    </tr>\n",
       "    <tr>\n",
       "      <th>1959</th>\n",
       "      <td>I don't know what it is, I just can't take a g...</td>\n",
       "      <td>Oh, here's a great one.</td>\n",
       "      <td>Yeah, I'm not in that.</td>\n",
       "      <td>I know, but look at me: all tan.</td>\n",
       "      <td>Hey, why don't you guys go get portraits done ...</td>\n",
       "      <td>Chandler</td>\n",
       "      <td>Monica</td>\n",
       "      <td>Chandler</td>\n",
       "      <td>Monica</td>\n",
       "      <td>Phoebe</td>\n",
       "      <td>0</td>\n",
       "      <td>0</td>\n",
       "    </tr>\n",
       "    <tr>\n",
       "      <th>1960</th>\n",
       "      <td>Oh, here's a great one.</td>\n",
       "      <td>Yeah, I'm not in that.</td>\n",
       "      <td>I know, but look at me: all tan.</td>\n",
       "      <td>Hey, why don't you guys go get portraits done ...</td>\n",
       "      <td>That's a good idea! I bet they have one of tho...</td>\n",
       "      <td>Monica</td>\n",
       "      <td>Chandler</td>\n",
       "      <td>Monica</td>\n",
       "      <td>Phoebe</td>\n",
       "      <td>Monica</td>\n",
       "      <td>1</td>\n",
       "      <td>1</td>\n",
       "    </tr>\n",
       "    <tr>\n",
       "      <th>1961</th>\n",
       "      <td>Yeah, I'm not in that.</td>\n",
       "      <td>I know, but look at me: all tan.</td>\n",
       "      <td>Hey, why don't you guys go get portraits done ...</td>\n",
       "      <td>That's a good idea! I bet they have one of tho...</td>\n",
       "      <td>Yeah that's great! Next to that, Chandler won'...</td>\n",
       "      <td>Chandler</td>\n",
       "      <td>Monica</td>\n",
       "      <td>Phoebe</td>\n",
       "      <td>Monica</td>\n",
       "      <td>Phoebe</td>\n",
       "      <td>0</td>\n",
       "      <td>1</td>\n",
       "    </tr>\n",
       "    <tr>\n",
       "      <th>1962</th>\n",
       "      <td>I know, but look at me: all tan.</td>\n",
       "      <td>Hey, why don't you guys go get portraits done ...</td>\n",
       "      <td>That's a good idea! I bet they have one of tho...</td>\n",
       "      <td>Yeah that's great! Next to that, Chandler won'...</td>\n",
       "      <td>Chandler what do you say?</td>\n",
       "      <td>Monica</td>\n",
       "      <td>Phoebe</td>\n",
       "      <td>Monica</td>\n",
       "      <td>Phoebe</td>\n",
       "      <td>Monica</td>\n",
       "      <td>0</td>\n",
       "      <td>0</td>\n",
       "    </tr>\n",
       "    <tr>\n",
       "      <th>1963</th>\n",
       "      <td>Hey, why don't you guys go get portraits done ...</td>\n",
       "      <td>That's a good idea! I bet they have one of tho...</td>\n",
       "      <td>Yeah that's great! Next to that, Chandler won'...</td>\n",
       "      <td>Chandler what do you say?</td>\n",
       "      <td>All right, but I should warn you, I'm not goin...</td>\n",
       "      <td>Phoebe</td>\n",
       "      <td>Monica</td>\n",
       "      <td>Phoebe</td>\n",
       "      <td>Monica</td>\n",
       "      <td>Chandler</td>\n",
       "      <td>0</td>\n",
       "      <td>3</td>\n",
       "    </tr>\n",
       "  </tbody>\n",
       "</table>\n",
       "<p>1964 rows × 12 columns</p>\n",
       "</div>"
      ],
      "text/plain": [
       "                                                     t0  \\\n",
       "0     Why do all you're coffee mugs have numbers on ...   \n",
       "1     Oh. That's so Monica can keep track. That way ...   \n",
       "2                                          Y'know what?   \n",
       "3                                            It didn't.   \n",
       "4     Okay, so what you used to have with Rachel, is...   \n",
       "...                                                 ...   \n",
       "1959  I don't know what it is, I just can't take a g...   \n",
       "1960                            Oh, here's a great one.   \n",
       "1961                             Yeah, I'm not in that.   \n",
       "1962                   I know, but look at me: all tan.   \n",
       "1963  Hey, why don't you guys go get portraits done ...   \n",
       "\n",
       "                                                     t1  \\\n",
       "0     Oh. That's so Monica can keep track. That way ...   \n",
       "1                                          Y'know what?   \n",
       "2                                            It didn't.   \n",
       "3     Okay, so what you used to have with Rachel, is...   \n",
       "4                      Now, wh-what, what is that like?   \n",
       "...                                                 ...   \n",
       "1959                            Oh, here's a great one.   \n",
       "1960                             Yeah, I'm not in that.   \n",
       "1961                   I know, but look at me: all tan.   \n",
       "1962  Hey, why don't you guys go get portraits done ...   \n",
       "1963  That's a good idea! I bet they have one of tho...   \n",
       "\n",
       "                                                     t2  \\\n",
       "0                                          Y'know what?   \n",
       "1                                            It didn't.   \n",
       "2     Okay, so what you used to have with Rachel, is...   \n",
       "3                      Now, wh-what, what is that like?   \n",
       "4     It's so cool man, it's so, it's just 'cause be...   \n",
       "...                                                 ...   \n",
       "1959                             Yeah, I'm not in that.   \n",
       "1960                   I know, but look at me: all tan.   \n",
       "1961  Hey, why don't you guys go get portraits done ...   \n",
       "1962  That's a good idea! I bet they have one of tho...   \n",
       "1963  Yeah that's great! Next to that, Chandler won'...   \n",
       "\n",
       "                                                     t3  \\\n",
       "0                                            It didn't.   \n",
       "1     Okay, so what you used to have with Rachel, is...   \n",
       "2                      Now, wh-what, what is that like?   \n",
       "3     It's so cool man, it's so, it's just 'cause be...   \n",
       "4                                           Yeah, yeah.   \n",
       "...                                                 ...   \n",
       "1959                   I know, but look at me: all tan.   \n",
       "1960  Hey, why don't you guys go get portraits done ...   \n",
       "1961  That's a good idea! I bet they have one of tho...   \n",
       "1962  Yeah that's great! Next to that, Chandler won'...   \n",
       "1963                          Chandler what do you say?   \n",
       "\n",
       "                                                     t4        s0        s1  \\\n",
       "0     Okay, so what you used to have with Rachel, is...      Mark    Rachel   \n",
       "1                      Now, wh-what, what is that like?    Rachel    Rachel   \n",
       "2     It's so cool man, it's so, it's just 'cause be...    Rachel      Ross   \n",
       "3                                           Yeah, yeah.      Ross     Frank   \n",
       "4                                Why can't I find that?     Frank      Joey   \n",
       "...                                                 ...       ...       ...   \n",
       "1959  Hey, why don't you guys go get portraits done ...  Chandler    Monica   \n",
       "1960  That's a good idea! I bet they have one of tho...    Monica  Chandler   \n",
       "1961  Yeah that's great! Next to that, Chandler won'...  Chandler    Monica   \n",
       "1962                          Chandler what do you say?    Monica    Phoebe   \n",
       "1963  All right, but I should warn you, I'm not goin...    Phoebe    Monica   \n",
       "\n",
       "            s2      s3        s4  labels  pred  \n",
       "0       Rachel    Ross     Frank       1     0  \n",
       "1         Ross   Frank      Joey       5     5  \n",
       "2        Frank    Joey     Frank       1     1  \n",
       "3         Joey   Frank      Ross       0     0  \n",
       "4        Frank    Ross      Joey       7     5  \n",
       "...        ...     ...       ...     ...   ...  \n",
       "1959  Chandler  Monica    Phoebe       0     0  \n",
       "1960    Monica  Phoebe    Monica       1     1  \n",
       "1961    Phoebe  Monica    Phoebe       0     1  \n",
       "1962    Monica  Phoebe    Monica       0     0  \n",
       "1963    Phoebe  Monica  Chandler       0     3  \n",
       "\n",
       "[1964 rows x 12 columns]"
      ]
     },
     "execution_count": 11,
     "metadata": {},
     "output_type": "execute_result"
    }
   ],
   "source": [
    "preds"
   ]
  },
  {
   "cell_type": "code",
   "execution_count": 12,
   "metadata": {},
   "outputs": [
    {
     "name": "stdout",
     "output_type": "stream",
     "text": [
      "0.4751131221719457, \n",
      "0.8267326732673267, \n",
      "0.676923076923077, \n",
      "0.5, \n",
      "0.5702479338842975, \n",
      "0.6794258373205742, \n",
      "0.2653061224489796, \n",
      "0.04656862745098039, \n"
     ]
    }
   ],
   "source": [
    "for i in range(8):\n",
    "\n",
    "    tp = (preds[\"labels\"] == i) & (preds[\"pred\"] == i)\n",
    "    tn = (preds[\"labels\"] != i) & (preds[\"pred\"] != i)\n",
    "\n",
    "    # print((sum(tp) + sum(tn))/len(preds))\n",
    "    print(str(sum(tp) / sum(preds[\"labels\"] == i)) + \", \")"
   ]
  },
  {
   "cell_type": "code",
   "execution_count": 13,
   "metadata": {},
   "outputs": [
    {
     "data": {
      "text/plain": [
       "0.5705355380023144"
      ]
     },
     "execution_count": 13,
     "metadata": {},
     "output_type": "execute_result"
    }
   ],
   "source": [
    "sum([0.4751131221719457, \n",
    "0.8267326732673267, \n",
    "0.676923076923077, \n",
    "0.5, \n",
    "0.5702479338842975, \n",
    "0.6794258373205742, \n",
    "0.2653061224489796, \n",
    "])/7"
   ]
  },
  {
   "cell_type": "code",
   "execution_count": 14,
   "metadata": {},
   "outputs": [
    {
     "data": {
      "text/plain": [
       "0.5864392739740425"
      ]
     },
     "execution_count": 14,
     "metadata": {},
     "output_type": "execute_result"
    }
   ],
   "source": [
    "sum([0.8267326732673267, \n",
    "0.676923076923077, \n",
    "0.5, \n",
    "0.5702479338842975, \n",
    "0.6794258373205742, \n",
    "0.2653061224489796, \n",
    "])/6"
   ]
  },
  {
   "cell_type": "code",
   "execution_count": 15,
   "metadata": {},
   "outputs": [
    {
     "data": {
      "text/plain": [
       "<sklearn.metrics._plot.confusion_matrix.ConfusionMatrixDisplay at 0x7fd0e3ba2ee0>"
      ]
     },
     "execution_count": 15,
     "metadata": {},
     "output_type": "execute_result"
    },
    {
     "data": {
      "image/png": "[encoded data removed]",
      "text/plain": [
       "<Figure size 640x480 with 2 Axes>"
      ]
     },
     "metadata": {},
     "output_type": "display_data"
    }
   ],
   "source": [
    "ConfusionMatrixDisplay.from_predictions(preds[\"labels\"], preds[\"pred\"], display_labels=dataset[\"train\"].features[\"labels\"].names)"
   ]
  },
  {
   "cell_type": "code",
   "execution_count": 11,
   "metadata": {},
   "outputs": [
    {
     "ename": "NameError",
     "evalue": "name 'preds' is not defined",
     "output_type": "error",
     "traceback": [
      "\u001b[0;31m---------------------------------------------------------------------------\u001b[0m",
      "\u001b[0;31mNameError\u001b[0m                                 Traceback (most recent call last)",
      "Cell \u001b[0;32mIn[11], line 2\u001b[0m\n\u001b[1;32m      1\u001b[0m label_names \u001b[38;5;241m=\u001b[39m dataset[\u001b[38;5;124m\"\u001b[39m\u001b[38;5;124mtrain\u001b[39m\u001b[38;5;124m\"\u001b[39m]\u001b[38;5;241m.\u001b[39mfeatures[\u001b[38;5;124m\"\u001b[39m\u001b[38;5;124mlabels\u001b[39m\u001b[38;5;124m\"\u001b[39m]\u001b[38;5;241m.\u001b[39mnames\n\u001b[0;32m----> 2\u001b[0m cm \u001b[38;5;241m=\u001b[39m confusion_matrix(\u001b[43mpreds\u001b[49m[\u001b[38;5;124m\"\u001b[39m\u001b[38;5;124mlabels\u001b[39m\u001b[38;5;124m\"\u001b[39m], preds[\u001b[38;5;124m\"\u001b[39m\u001b[38;5;124mpred\u001b[39m\u001b[38;5;124m\"\u001b[39m])\n\u001b[1;32m      3\u001b[0m norm_cm \u001b[38;5;241m=\u001b[39m cm \u001b[38;5;241m/\u001b[39m cm\u001b[38;5;241m.\u001b[39msum(\u001b[38;5;241m1\u001b[39m)[:, np\u001b[38;5;241m.\u001b[39mnewaxis]\n\u001b[1;32m      4\u001b[0m df_cm \u001b[38;5;241m=\u001b[39m pd\u001b[38;5;241m.\u001b[39mDataFrame(norm_cm, index\u001b[38;5;241m=\u001b[39mlabel_names, columns\u001b[38;5;241m=\u001b[39mlabel_names)\n",
      "\u001b[0;31mNameError\u001b[0m: name 'preds' is not defined"
     ]
    }
   ],
   "source": [
    "label_names = dataset[\"train\"].features[\"labels\"].names\n",
    "cm = confusion_matrix(preds[\"labels\"], preds[\"pred\"])\n",
    "norm_cm = cm / cm.sum(1)[:, np.newaxis]\n",
    "df_cm = pd.DataFrame(norm_cm, index=label_names, columns=label_names)\n",
    "sns.heatmap(df_cm, annot=cm, fmt=\"\", cmap=\"Purples\")"
   ]
  },
  {
   "cell_type": "code",
   "execution_count": 12,
   "metadata": {},
   "outputs": [],
   "source": [
    "from transformers import pipeline\n",
    "\n",
    "model.to(\"cpu\")\n",
    "pipe = pipeline(\"text-classification\", model=model, tokenizer=tokenizer)"
   ]
  },
  {
   "cell_type": "code",
   "execution_count": 13,
   "metadata": {},
   "outputs": [
    {
     "name": "stderr",
     "output_type": "stream",
     "text": [
      "\n",
      "No chat template is defined for this tokenizer - using a default chat template that implements the ChatML format (without BOS/EOS tokens!). If the default is not appropriate for your model, please set `tokenizer.chat_template` to an appropriate template. See https://huggingface.co/docs/transformers/main/chat_templating for more information.\n",
      "\n"
     ]
    },
    {
     "name": "stdout",
     "output_type": "stream",
     "text": [
      "{'label': 'LABEL_2', 'score': 0.6975295543670654}\n",
      "{'label': 'LABEL_0', 'score': 0.36742570996284485}\n"
     ]
    }
   ],
   "source": [
    "text_inputs = [\n",
    "    [\n",
    "        \"My car just broke.\", \n",
    "        \"Mine's broken too. We can't go anywhere.\", \n",
    "        \"What about his?\", \n",
    "        \"Also broken. We're stuck.\",\n",
    "        \"great\",\n",
    "    ], [\n",
    "        \"Let's go to the party.\", \n",
    "        \"Sure!\", \n",
    "        \"Are you ready?\", \n",
    "        \"I'm ready. Let's go.\",\n",
    "        \"great\",\n",
    "    ],\n",
    "]\n",
    "\n",
    "role_names = [\"A\", \"B\"]\n",
    "convs = [\n",
    "    tokenizer.apply_chat_template(\n",
    "        [{\"role\": \"system\", \"content\": f\"How does {role_names[0]} feel at the end of the conversation?\"}] + \\\n",
    "        [{\"role\": role_names[i % 2], \"content\": x + \" \"} for i, x in enumerate(m)], \n",
    "        tokenize=False)\n",
    "    for m in text_inputs\n",
    "]\n",
    "\n",
    "logits = pipe(convs)\n",
    "for i in logits: print(i)"
   ]
  },
  {
   "cell_type": "code",
   "execution_count": 14,
   "metadata": {},
   "outputs": [],
   "source": [
    "outputs = torch.softmax(model(**tokenizer(convs, return_tensors=\"pt\", padding=True)).logits, dim=-1)"
   ]
  },
  {
   "cell_type": "code",
   "execution_count": 15,
   "metadata": {},
   "outputs": [
    {
     "data": {
      "text/plain": [
       "tensor([[0.0273, 0.0349, 0.6975, 0.0598, 0.0108, 0.0376, 0.1121, 0.0200],\n",
       "        [0.3674, 0.1317, 0.0483, 0.1296, 0.0206, 0.1492, 0.0541, 0.0991]],\n",
       "       grad_fn=<SoftmaxBackward0>)"
      ]
     },
     "execution_count": 15,
     "metadata": {},
     "output_type": "execute_result"
    }
   ],
   "source": [
    "outputs"
   ]
  },
  {
   "cell_type": "code",
   "execution_count": 16,
   "metadata": {},
   "outputs": [],
   "source": [
    "from matplotlib import rcParams\n",
    "\n",
    "rcParams['figure.figsize'] = 8, 1.6"
   ]
  },
  {
   "cell_type": "code",
   "execution_count": 17,
   "metadata": {},
   "outputs": [
    {
     "data": {
      "text/plain": [
       "[Text(0.5, 0, 'Probability (%)')]"
      ]
     },
     "execution_count": 17,
     "metadata": {},
     "output_type": "execute_result"
    },
    {
     "data": {
      "image/png": "[encoded data removed]",
      "text/plain": [
       "<Figure size 800x160 with 1 Axes>"
      ]
     },
     "metadata": {},
     "output_type": "display_data"
    }
   ],
   "source": [
    "data = sorted(zip(outputs.tolist()[1], label_names), reverse=True)\n",
    "g = sns.barplot(y=[d[1] for d in data], x=[d[0] for d in data], orient=\"h\", palette=\"Purples_r\")\n",
    "g.set(xlabel='Probability (%)')"
   ]
  },
  {
   "cell_type": "code",
   "execution_count": null,
   "metadata": {},
   "outputs": [],
   "source": []
  },
  {
   "cell_type": "code",
   "execution_count": 23,
   "metadata": {},
   "outputs": [
    {
     "ename": "Exception",
     "evalue": "",
     "output_type": "error",
     "traceback": [
      "\u001b[0;31m---------------------------------------------------------------------------\u001b[0m",
      "\u001b[0;31mException\u001b[0m                                 Traceback (most recent call last)",
      "Cell \u001b[0;32mIn[23], line 1\u001b[0m\n\u001b[0;32m----> 1\u001b[0m \u001b[38;5;28;01mraise\u001b[39;00m \u001b[38;5;167;01mException\u001b[39;00m\n",
      "\u001b[0;31mException\u001b[0m: "
     ]
    }
   ],
   "source": [
    "raise Exception"
   ]
  },
  {
   "cell_type": "code",
   "execution_count": null,
   "metadata": {},
   "outputs": [
    {
     "data": {
      "application/vnd.jupyter.widget-view+json": {
       "model_id": "4e68988600234f4abcec4d8ce6c82739",
       "version_major": 2,
       "version_minor": 0
      },
      "text/plain": [
       "  0%|          | 0/31 [00:00<?, ?it/s]"
      ]
     },
     "metadata": {},
     "output_type": "display_data"
    },
    {
     "data": {
      "application/vnd.jupyter.widget-view+json": {
       "model_id": "13d6d150529c4c33b9d292a2e74c060d",
       "version_major": 2,
       "version_minor": 0
      },
      "text/plain": [
       "  0%|          | 0/31 [00:00<?, ?it/s]"
      ]
     },
     "metadata": {},
     "output_type": "display_data"
    },
    {
     "data": {
      "application/vnd.jupyter.widget-view+json": {
       "model_id": "e580e4b1168849508ea3e32137c3a5fb",
       "version_major": 2,
       "version_minor": 0
      },
      "text/plain": [
       "  0%|          | 0/31 [00:00<?, ?it/s]"
      ]
     },
     "metadata": {},
     "output_type": "display_data"
    },
    {
     "data": {
      "application/vnd.jupyter.widget-view+json": {
       "model_id": "fb714993eb984d218b850da0b2783986",
       "version_major": 2,
       "version_minor": 0
      },
      "text/plain": [
       "  0%|          | 0/31 [00:00<?, ?it/s]"
      ]
     },
     "metadata": {},
     "output_type": "display_data"
    },
    {
     "data": {
      "application/vnd.jupyter.widget-view+json": {
       "model_id": "a91305e8398b45f08d214bfee7c1cdb2",
       "version_major": 2,
       "version_minor": 0
      },
      "text/plain": [
       "  0%|          | 0/31 [00:00<?, ?it/s]"
      ]
     },
     "metadata": {},
     "output_type": "display_data"
    },
    {
     "data": {
      "application/vnd.jupyter.widget-view+json": {
       "model_id": "7041f26c9afa4d6aaee0880f968274ae",
       "version_major": 2,
       "version_minor": 0
      },
      "text/plain": [
       "  0%|          | 0/31 [00:00<?, ?it/s]"
      ]
     },
     "metadata": {},
     "output_type": "display_data"
    },
    {
     "data": {
      "application/vnd.jupyter.widget-view+json": {
       "model_id": "3c468cae31cc4bb38a710b04c6fefbe3",
       "version_major": 2,
       "version_minor": 0
      },
      "text/plain": [
       "  0%|          | 0/31 [00:00<?, ?it/s]"
      ]
     },
     "metadata": {},
     "output_type": "display_data"
    },
    {
     "data": {
      "application/vnd.jupyter.widget-view+json": {
       "model_id": "1eab8b86764349329b100d4553c1967f",
       "version_major": 2,
       "version_minor": 0
      },
      "text/plain": [
       "  0%|          | 0/31 [00:00<?, ?it/s]"
      ]
     },
     "metadata": {},
     "output_type": "display_data"
    },
    {
     "data": {
      "application/vnd.jupyter.widget-view+json": {
       "model_id": "d86183e76ad04068b71d7b1486cf5f11",
       "version_major": 2,
       "version_minor": 0
      },
      "text/plain": [
       "  0%|          | 0/31 [00:00<?, ?it/s]"
      ]
     },
     "metadata": {},
     "output_type": "display_data"
    },
    {
     "data": {
      "application/vnd.jupyter.widget-view+json": {
       "model_id": "bf356c74875e46ea8bcbea36b6f00832",
       "version_major": 2,
       "version_minor": 0
      },
      "text/plain": [
       "  0%|          | 0/31 [00:00<?, ?it/s]"
      ]
     },
     "metadata": {},
     "output_type": "display_data"
    }
   ],
   "source": [
    "p = []\n",
    "\n",
    "for i in range(31, 41):\n",
    "    c = get_checkpoint(i)\n",
    "    model = AutoModelForSequenceClassification.from_pretrained(c)\n",
    "\n",
    "    training_args = TrainingArguments(\n",
    "        output_dir=\"/tmp/tmp_trainer\",\n",
    "        per_device_eval_batch_size=64,\n",
    "        report_to=\"none\",\n",
    "    )\n",
    "\n",
    "    trainer = MaskedTrainer(\n",
    "        model=model,\n",
    "        args=training_args,\n",
    "        data_collator=data_collator,\n",
    "        tokenizer=tokenizer,\n",
    "        compute_metrics=compute_metrics,\n",
    "\n",
    "    )\n",
    "\n",
    "    predictions = trainer.predict(tokenized_dataset[\"test\"])\n",
    "\n",
    "    scores = compute_metrics(predictions[:2])\n",
    "\n",
    "    preds = pd.DataFrame(dataset[\"test\"])\n",
    "    preds[\"pred\"] = np.argmax(predictions[0], axis=1)\n",
    "\n",
    "    abc = []\n",
    "    for i in range(8):\n",
    "        tp = (preds[\"labels\"] == i) & (preds[\"pred\"] == i)\n",
    "        tn = (preds[\"labels\"] != i) & (preds[\"pred\"] != i)\n",
    "\n",
    "        # print((sum(tp) + sum(tn))/len(preds))\n",
    "        abc.append(sum(tp) / sum(preds[\"labels\"] == i))\n",
    "\n",
    "    p.append(f\"WA: {scores['WA']} UWA: {scores['UWA']} f: {sum(abc[1:7])/6}\")"
   ]
  },
  {
   "cell_type": "code",
   "execution_count": null,
   "metadata": {},
   "outputs": [
    {
     "name": "stdout",
     "output_type": "stream",
     "text": [
      "WA: 0.45824847250509165 UWA: 0.49684182075693933 f: 0.572932131044446\n",
      "WA: 0.4516293279022403 UWA: 0.5050396741833976 f: 0.5864392739740425\n",
      "WA: 0.4623217922606925 UWA: 0.5032976889532758 f: 0.5808172303187971\n",
      "WA: 0.4714867617107943 UWA: 0.5009438865034904 f: 0.5728397119191838\n",
      "WA: 0.47046843177189407 UWA: 0.4995620186638129 f: 0.5712171812450637\n",
      "WA: 0.464867617107943 UWA: 0.4995054616641672 f: 0.5734042153511169\n",
      "WA: 0.4694501018329939 UWA: 0.5024941008667072 f: 0.5764463828549561\n",
      "WA: 0.46741344195519346 UWA: 0.49759601884905086 f: 0.569695647052631\n",
      "WA: 0.4679226069246436 UWA: 0.4990479768474009 f: 0.5714744769227286\n",
      "WA: 0.46741344195519346 UWA: 0.4990715439665562 f: 0.5714744769227286\n"
     ]
    }
   ],
   "source": [
    "for x in p:\n",
    "    print(x)"
   ]
  }
 ],
 "metadata": {
  "kernelspec": {
   "display_name": "emo",
   "language": "python",
   "name": "python3"
  },
  "language_info": {
   "codemirror_mode": {
    "name": "ipython",
    "version": 3
   },
   "file_extension": ".py",
   "mimetype": "text/x-python",
   "name": "python",
   "nbconvert_exporter": "python",
   "pygments_lexer": "ipython3",
   "version": "3.9.17"
  }
 },
 "nbformat": 4,
 "nbformat_minor": 2
}
