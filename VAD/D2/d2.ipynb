{
 "cells": [
  {
   "cell_type": "code",
   "execution_count": 1,
   "metadata": {},
   "outputs": [],
   "source": [
    "import pandas as pd\n",
    "import numpy as np\n",
    "import torch\n",
    "from torch.utils.data import Dataset\n",
    "import os\n",
    "from tqdm.notebook import tqdm\n",
    "from transformers import AutoTokenizer, AutoModelForSequenceClassification, TextClassificationPipeline\n",
    "from time import localtime, strptime, time"
   ]
  },
  {
   "cell_type": "code",
   "execution_count": 2,
   "metadata": {},
   "outputs": [
    {
     "name": "stderr",
     "output_type": "stream",
     "text": [
      "/tmp/ipykernel_3564/3477112522.py:1: DtypeWarning: Columns (1) have mixed types. Specify dtype option on import or set low_memory=False.\n",
      "  df = pd.read_csv(\"data.csv\")\n"
     ]
    }
   ],
   "source": [
    "df = pd.read_csv(\"data.csv\")"
   ]
  },
  {
   "cell_type": "code",
   "execution_count": 3,
   "metadata": {},
   "outputs": [],
   "source": [
    "class ListDataset(Dataset):\n",
    "    def __init__(self, original_list):\n",
    "        self.original_list = original_list\n",
    "\n",
    "    def __len__(self):\n",
    "        return len(self.original_list)\n",
    "\n",
    "    def __getitem__(self, i):\n",
    "        return self.original_list[i]\n",
    "\n",
    "dataset = ListDataset(df[\"text\"].values.tolist())"
   ]
  },
  {
   "cell_type": "code",
   "execution_count": 4,
   "metadata": {},
   "outputs": [
    {
     "data": {
      "text/plain": [
       "559000"
      ]
     },
     "execution_count": 4,
     "metadata": {},
     "output_type": "execute_result"
    }
   ],
   "source": [
    "df['V'].last_valid_index()"
   ]
  },
  {
   "cell_type": "code",
   "execution_count": 5,
   "metadata": {},
   "outputs": [],
   "source": [
    "def get_checkpoint(epoch=0, run=\"latest\", folder_path=\"results\"):\n",
    "    if run == \"latest\":\n",
    "        run = max(os.listdir(folder_path), key=lambda x: strptime(x, \"%b-%d-%y-%H:%M:%S\"))\n",
    "\n",
    "    checkpoint = sorted(os.listdir(f\"{folder_path}/{run}\"), key=lambda x: int(x.split(\"-\")[1]))[epoch-1]\n",
    "\n",
    "    return f\"{folder_path}/{run}/{checkpoint}\"\n",
    "\n",
    "c = get_checkpoint(3, run=\"Dec-30-23-23:32:39\", folder_path=\"../M1/results\")\n",
    "model = AutoModelForSequenceClassification.from_pretrained(c)\n",
    "tokenizer = AutoTokenizer.from_pretrained(\"roberta-base\")"
   ]
  },
  {
   "cell_type": "code",
   "execution_count": 6,
   "metadata": {},
   "outputs": [],
   "source": [
    "class RegPipeline(TextClassificationPipeline):\n",
    "    def postprocess(self, model_outputs):\n",
    "        best_class = model_outputs[\"logits\"]\n",
    "        return torch.sigmoid(best_class) * 4 + 1"
   ]
  },
  {
   "cell_type": "code",
   "execution_count": 7,
   "metadata": {},
   "outputs": [],
   "source": [
    "pipe = RegPipeline(model=model, tokenizer=tokenizer)"
   ]
  },
  {
   "cell_type": "code",
   "execution_count": 8,
   "metadata": {},
   "outputs": [
    {
     "data": {
      "application/vnd.jupyter.widget-view+json": {
       "model_id": "10f66410742f4b48be059886fb020b28",
       "version_major": 2,
       "version_minor": 0
      },
      "text/plain": [
       "  0%|          | 0/1769 [00:00<?, ?it/s]"
      ]
     },
     "metadata": {},
     "output_type": "display_data"
    }
   ],
   "source": [
    "start = 559000\n",
    "dataset = ListDataset(df[\"text\"].values.tolist()[start:])\n",
    "\n",
    "for i, line in tqdm(enumerate(pipe(dataset, batch_size=8, truncation=True, max_length=128)), total=len(dataset)):\n",
    "    df.loc[i+start, list(\"VAD\")] = line[0].numpy()\n",
    "    if (start+i) % 1000 == 0: df.to_csv(\"data.csv\", index=False)"
   ]
  },
  {
   "cell_type": "code",
   "execution_count": 9,
   "metadata": {},
   "outputs": [],
   "source": [
    "df.to_csv(\"data.csv\", index=False)"
   ]
  }
 ],
 "metadata": {
  "kernelspec": {
   "display_name": "emo",
   "language": "python",
   "name": "python3"
  },
  "language_info": {
   "codemirror_mode": {
    "name": "ipython",
    "version": 3
   },
   "file_extension": ".py",
   "mimetype": "text/x-python",
   "name": "python",
   "nbconvert_exporter": "python",
   "pygments_lexer": "ipython3",
   "version": "3.9.17"
  }
 },
 "nbformat": 4,
 "nbformat_minor": 2
}
