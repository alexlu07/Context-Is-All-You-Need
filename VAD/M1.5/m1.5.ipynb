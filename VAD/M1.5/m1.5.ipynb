{
 "cells": [
  {
   "cell_type": "code",
   "execution_count": 1,
   "metadata": {},
   "outputs": [],
   "source": [
    "import sys\n",
    "sys.path.append(\"..\")\n",
    "\n",
    "from datasets import Dataset, DatasetDict\n",
    "from transformers import AutoTokenizer, AutoModelForSequenceClassification\n",
    "from transformers import TrainingArguments, Trainer, DataCollatorWithPadding, TrainerCallback\n",
    "from scipy.stats import pearsonr\n",
    "from sklearn.metrics import mean_absolute_error, mean_squared_error, r2_score\n",
    "import numpy as np\n",
    "import pandas as pd\n",
    "import torch\n",
    "import torch.nn.functional as F\n",
    "from time import localtime, strftime\n",
    "from D2.data_selector import DataSelector\n",
    "\n",
    "SEED = 42"
   ]
  },
  {
   "cell_type": "code",
   "execution_count": 2,
   "metadata": {},
   "outputs": [],
   "source": [
    "# tmp_model = AutoModelForSequenceClassification.from_pretrained(\"roberta-base\", num_labels=3)\n",
    "# fake_batch = {\n",
    "#     \"input_ids\": torch.ones(32, 512, dtype=torch.long).to(\"cuda\"), \n",
    "#     \"attention_mask\": torch.ones(32, 512, dtype=torch.long).to(\"cuda\")\n",
    "# }\n",
    "# fake_labels = torch.zeros(32, 3).to(\"cuda\")\n",
    "# tmp_model.to(\"cuda\")\n",
    "# logits = tmp_model(**fake_batch).logits\n",
    "# loss = ((logits - fake_labels) ** 2).mean()\n",
    "# loss.backward()"
   ]
  },
  {
   "cell_type": "code",
   "execution_count": 3,
   "metadata": {},
   "outputs": [
    {
     "name": "stderr",
     "output_type": "stream",
     "text": [
      "/home/alexlu/Documents/Programming/alexlu07/Scires/11th/VAD/M1.5/../D2/data_selector.py:10: DtypeWarning: Columns (1) have mixed types. Specify dtype option on import or set low_memory=False.\n",
      "  self.df = pd.read_csv(filepath)\n"
     ]
    },
    {
     "name": "stdout",
     "output_type": "stream",
     "text": [
      "Filtering...\n",
      "Calculating counts...\n",
      "Grabbing data...\n"
     ]
    },
    {
     "data": {
      "text/html": [
       "\n",
       "<style>\n",
       "    /* Turns off some styling */\n",
       "    progress {\n",
       "        /* gets rid of default border in Firefox and Opera. */\n",
       "        border: none;\n",
       "        /* Needs to be in here for Safari polyfill so background images work as expected. */\n",
       "        background-size: auto;\n",
       "    }\n",
       "    progress:not([value]), progress:not([value])::-webkit-progress-bar {\n",
       "        background: repeating-linear-gradient(45deg, #7e7e7e, #7e7e7e 10px, #5c5c5c 10px, #5c5c5c 20px);\n",
       "    }\n",
       "    .progress-bar-interrupted, .progress-bar-interrupted::-webkit-progress-bar {\n",
       "        background: #F44336;\n",
       "    }\n",
       "</style>\n"
      ],
      "text/plain": [
       "<IPython.core.display.HTML object>"
      ]
     },
     "metadata": {},
     "output_type": "display_data"
    },
    {
     "data": {
      "text/html": [
       "\n",
       "    <div>\n",
       "      <progress value='1' class='' max='1' style='width:300px; height:20px; vertical-align: middle;'></progress>\n",
       "      100.00% [1/1 00:01&lt;00:00]\n",
       "    </div>\n",
       "    "
      ],
      "text/plain": [
       "<IPython.core.display.HTML object>"
      ]
     },
     "metadata": {},
     "output_type": "display_data"
    }
   ],
   "source": [
    "ds = DataSelector(\"../D2/data.csv\")\n",
    "data = ds.select_data(30000, length=5, scale_sd=30, seed=SEED)\n",
    "data['conversation'] = data['conversation'].astype(str)"
   ]
  },
  {
   "cell_type": "code",
   "execution_count": 4,
   "metadata": {},
   "outputs": [
    {
     "data": {
      "text/plain": [
       "array([[<Axes: title={'center': 'V'}>, <Axes: title={'center': 'A'}>],\n",
       "       [<Axes: title={'center': 'D'}>, <Axes: >]], dtype=object)"
      ]
     },
     "execution_count": 4,
     "metadata": {},
     "output_type": "execute_result"
    },
    {
     "data": {
      "image/png": "[encoded data removed]",
      "text/plain": [
       "<Figure size 640x480 with 4 Axes>"
      ]
     },
     "metadata": {},
     "output_type": "display_data"
    }
   ],
   "source": [
    "data.hist(bins=20)"
   ]
  },
  {
   "cell_type": "code",
   "execution_count": 5,
   "metadata": {},
   "outputs": [],
   "source": [
    "raw_dataset = Dataset.from_pandas(data)\n",
    "train_testval = raw_dataset.train_test_split(test_size=0.2, seed=SEED)\n",
    "test_val = train_testval['test'].train_test_split(test_size=0.5, seed=SEED)\n",
    "\n",
    "dataset = DatasetDict({\n",
    "    'train': train_testval['train'],\n",
    "    'test': test_val['test'],\n",
    "    'val': test_val['train']}\n",
    ")"
   ]
  },
  {
   "cell_type": "code",
   "execution_count": 6,
   "metadata": {},
   "outputs": [
    {
     "data": {
      "text/plain": [
       "{'text': ['Where?',\n",
       "  'Do you know of the Water of Life?... the Truthsayer drug?',\n",
       "  'I have heard of it. -- REVEREND MOTHER It is very dangerous... very painful. The Bene Gesserit sisterhood drink it to see within.... There is a place terrifying to us... to women. It is said a man will come... the Kwisatz Haderach... he will go where we cannot... Many men have tried...',\n",
       "  'Did they try and fail?',\n",
       "  'They tried and died.... Jessica!'],\n",
       " 'conversation': 'L173660',\n",
       " 'source': 'Cornell',\n",
       " 'V': 2.122368574142456,\n",
       " 'A': 3.673941612243652,\n",
       " 'D': 2.8426384925842285,\n",
       " '__index_level_0__': 134165}"
      ]
     },
     "execution_count": 6,
     "metadata": {},
     "output_type": "execute_result"
    }
   ],
   "source": [
    "dataset['train'][0]"
   ]
  },
  {
   "cell_type": "code",
   "execution_count": 7,
   "metadata": {},
   "outputs": [
    {
     "data": {
      "application/vnd.jupyter.widget-view+json": {
       "model_id": "0fa58f3646584a9c8eaf1765749f8a1b",
       "version_major": 2,
       "version_minor": 0
      },
      "text/plain": [
       "Map:   0%|          | 0/24000 [00:00<?, ? examples/s]"
      ]
     },
     "metadata": {},
     "output_type": "display_data"
    },
    {
     "data": {
      "application/vnd.jupyter.widget-view+json": {
       "model_id": "cce5af19a2374105b2a48e0a14b529bb",
       "version_major": 2,
       "version_minor": 0
      },
      "text/plain": [
       "Map:   0%|          | 0/3000 [00:00<?, ? examples/s]"
      ]
     },
     "metadata": {},
     "output_type": "display_data"
    },
    {
     "data": {
      "application/vnd.jupyter.widget-view+json": {
       "model_id": "edfa8a751afa41e6abc43c8f147536ad",
       "version_major": 2,
       "version_minor": 0
      },
      "text/plain": [
       "Map:   0%|          | 0/3000 [00:00<?, ? examples/s]"
      ]
     },
     "metadata": {},
     "output_type": "display_data"
    },
    {
     "data": {
      "application/vnd.jupyter.widget-view+json": {
       "model_id": "c500edbc6e5f45fb8f6381d9d6688e75",
       "version_major": 2,
       "version_minor": 0
      },
      "text/plain": [
       "Map:   0%|          | 0/24000 [00:00<?, ? examples/s]"
      ]
     },
     "metadata": {},
     "output_type": "display_data"
    },
    {
     "name": "stderr",
     "output_type": "stream",
     "text": [
      "\n",
      "No chat template is defined for this tokenizer - using a default chat template that implements the ChatML format (without BOS/EOS tokens!). If the default is not appropriate for your model, please set `tokenizer.chat_template` to an appropriate template. See https://huggingface.co/docs/transformers/main/chat_templating for more information.\n",
      "\n"
     ]
    },
    {
     "data": {
      "application/vnd.jupyter.widget-view+json": {
       "model_id": "952fbc56e0794077a2625e32105827ca",
       "version_major": 2,
       "version_minor": 0
      },
      "text/plain": [
       "Map:   0%|          | 0/3000 [00:00<?, ? examples/s]"
      ]
     },
     "metadata": {},
     "output_type": "display_data"
    },
    {
     "data": {
      "application/vnd.jupyter.widget-view+json": {
       "model_id": "2f2ffdbbaa1c430c9652672b36428450",
       "version_major": 2,
       "version_minor": 0
      },
      "text/plain": [
       "Map:   0%|          | 0/3000 [00:00<?, ? examples/s]"
      ]
     },
     "metadata": {},
     "output_type": "display_data"
    },
    {
     "data": {
      "application/vnd.jupyter.widget-view+json": {
       "model_id": "dcd4246951fe4701bfb5bb2ca3d27b26",
       "version_major": 2,
       "version_minor": 0
      },
      "text/plain": [
       "Map:   0%|          | 0/3000 [00:00<?, ? examples/s]"
      ]
     },
     "metadata": {},
     "output_type": "display_data"
    },
    {
     "data": {
      "application/vnd.jupyter.widget-view+json": {
       "model_id": "28a7a93f4f604c1fae76d5537afdfc24",
       "version_major": 2,
       "version_minor": 0
      },
      "text/plain": [
       "Map:   0%|          | 0/3000 [00:00<?, ? examples/s]"
      ]
     },
     "metadata": {},
     "output_type": "display_data"
    }
   ],
   "source": [
    "tokenizer = AutoTokenizer.from_pretrained(\"roberta-base\")\n",
    "\n",
    "def mask_data(mask_ratio):\n",
    "    def mask_function(examples):\n",
    "        mask_idx = np.random.choice(len(examples[\"text\"]), int(mask_ratio * len(examples[\"text\"])), replace=False)\n",
    "        convs = examples[\"text\"].copy()\n",
    "        for i in mask_idx:\n",
    "            convs[i][-1] = tokenizer.mask_token\n",
    "        \n",
    "        return {\"text\": convs}\n",
    "\n",
    "    return mask_function\n",
    "\n",
    "def preprocess_data(examples):\n",
    "    role_names = (\"speaker\", \"respondent\")\n",
    "\n",
    "    convs = [\n",
    "        tokenizer.apply_chat_template(\n",
    "            [{\"role\": role_names[i % 2], \"content\": x} for i, x in enumerate(m)], \n",
    "            tokenize=False)\n",
    "        for m in examples[\"text\"]\n",
    "    ]\n",
    "\n",
    "    encoding = tokenizer(convs, max_length=512, truncation=True)\n",
    "    encoding[\"labels\"] = list(zip(examples[\"V\"], examples[\"A\"], examples[\"D\"]))\n",
    "\n",
    "    return encoding\n",
    "\n",
    "\n",
    "dataset[\"train\"] = dataset[\"train\"].map(mask_data(1), batched=True, batch_size=100000)\n",
    "dataset[\"masked_val\"] = dataset[\"val\"].map(mask_data(1), batched=True, batch_size=100000)\n",
    "dataset[\"masked_test\"] = dataset[\"test\"].map(mask_data(1), batched=True, batch_size=100000)\n",
    "tokenized_dataset = dataset.map(preprocess_data, batched=True, batch_size=100000, \n",
    "                                remove_columns=['text', 'conversation', 'source', 'V', 'A', 'D', '__index_level_0__'])\n",
    "data_collator = DataCollatorWithPadding(tokenizer=tokenizer)"
   ]
  },
  {
   "cell_type": "code",
   "execution_count": 8,
   "metadata": {},
   "outputs": [],
   "source": [
    "def get_model():\n",
    "    return AutoModelForSequenceClassification.from_pretrained(\"roberta-base\", num_labels=3)"
   ]
  },
  {
   "cell_type": "code",
   "execution_count": 9,
   "metadata": {},
   "outputs": [],
   "source": [
    "def compute_metrics(eval_pred):\n",
    "    logits, labels = eval_pred\n",
    "    logits = 4/(1+np.exp(-logits)) + 1\n",
    "\n",
    "    metrics = {\n",
    "        \"mae\": mean_absolute_error(labels, logits, multioutput=\"raw_values\").tolist(),\n",
    "        \"mse\": mean_squared_error(labels, logits, multioutput=\"raw_values\").tolist(),\n",
    "        \"pearsonr\": [pearsonr(logits[:, i], labels[:, i])[0] for i in range(len(logits[0]))],\n",
    "        \"r_squared\": r2_score(labels, logits, multioutput=\"raw_values\").tolist(),\n",
    "    }\n",
    "\n",
    "    return {f\"{m}_{s}\": metrics[m][i] for i, s in enumerate(\"VAD\") for m in metrics}"
   ]
  },
  {
   "cell_type": "code",
   "execution_count": 10,
   "metadata": {},
   "outputs": [],
   "source": [
    "class RegressionTrainer(Trainer):\n",
    "    def compute_loss(self, model, inputs, return_outputs=False):\n",
    "        labels = inputs.pop(\"labels\")\n",
    "        outputs = model(**inputs)\n",
    "        logits = torch.sigmoid(outputs['logits']) * 4 + 1\n",
    "        loss = torch.nn.functional.mse_loss(logits, labels)\n",
    "        return (loss, outputs) if return_outputs else loss\n"
   ]
  },
  {
   "cell_type": "code",
   "execution_count": 11,
   "metadata": {},
   "outputs": [],
   "source": [
    "from transformers.trainer_callback import TrainerControl, TrainerState\n",
    "from transformers.training_args import TrainingArguments\n",
    "\n",
    "\n",
    "class MaskEvalCallback(TrainerCallback):\n",
    "    def __init__(self):\n",
    "        training_args = TrainingArguments(\n",
    "            output_dir=\"/tmp/tmp_trainer\",\n",
    "            per_device_eval_batch_size=32,\n",
    "            report_to=\"none\",\n",
    "        )\n",
    "\n",
    "        self.trainer = RegressionTrainer(\n",
    "            model=get_model(),\n",
    "            args=training_args,\n",
    "            data_collator=data_collator,\n",
    "            tokenizer=tokenizer,\n",
    "            compute_metrics=compute_metrics,\n",
    "        )\n",
    "\n",
    "\n",
    "    def on_evaluate(self, args, state, control, model=None, **kwargs):\n",
    "        self.trainer.model = model\n",
    "        print(self.trainer.evaluate(tokenized_dataset[\"masked_val\"]))"
   ]
  },
  {
   "cell_type": "code",
   "execution_count": 12,
   "metadata": {},
   "outputs": [
    {
     "ename": "Exception",
     "evalue": "",
     "output_type": "error",
     "traceback": [
      "\u001b[0;31m---------------------------------------------------------------------------\u001b[0m",
      "\u001b[0;31mException\u001b[0m                                 Traceback (most recent call last)",
      "Cell \u001b[0;32mIn[12], line 1\u001b[0m\n\u001b[0;32m----> 1\u001b[0m \u001b[38;5;28;01mraise\u001b[39;00m \u001b[38;5;167;01mException\u001b[39;00m\n",
      "\u001b[0;31mException\u001b[0m: "
     ]
    }
   ],
   "source": [
    "raise Exception"
   ]
  },
  {
   "cell_type": "code",
   "execution_count": 13,
   "metadata": {},
   "outputs": [
    {
     "name": "stderr",
     "output_type": "stream",
     "text": [
      "Some weights of RobertaForSequenceClassification were not initialized from the model checkpoint at roberta-base and are newly initialized: ['classifier.out_proj.bias', 'classifier.out_proj.weight', 'classifier.dense.weight', 'classifier.dense.bias']\n",
      "You should probably TRAIN this model on a down-stream task to be able to use it for predictions and inference.\n",
      "Some weights of RobertaForSequenceClassification were not initialized from the model checkpoint at roberta-base and are newly initialized: ['classifier.out_proj.bias', 'classifier.out_proj.weight', 'classifier.dense.weight', 'classifier.dense.bias']\n",
      "You should probably TRAIN this model on a down-stream task to be able to use it for predictions and inference.\n",
      "Some weights of RobertaForSequenceClassification were not initialized from the model checkpoint at roberta-base and are newly initialized: ['classifier.out_proj.bias', 'classifier.out_proj.weight', 'classifier.dense.weight', 'classifier.dense.bias']\n",
      "You should probably TRAIN this model on a down-stream task to be able to use it for predictions and inference.\n"
     ]
    },
    {
     "data": {
      "application/vnd.jupyter.widget-view+json": {
       "model_id": "db7d4e1b21214d2397e711351b1bb71b",
       "version_major": 2,
       "version_minor": 0
      },
      "text/plain": [
       "  0%|          | 0/17160 [00:00<?, ?it/s]"
      ]
     },
     "metadata": {},
     "output_type": "display_data"
    },
    {
     "name": "stderr",
     "output_type": "stream",
     "text": [
      "You're using a RobertaTokenizerFast tokenizer. Please note that with a fast tokenizer, using the `__call__` method is faster than using a method to encode the text followed by a call to the `pad` method to get a padded encoding.\n"
     ]
    },
    {
     "name": "stdout",
     "output_type": "stream",
     "text": [
      "{'loss': 0.1598, 'learning_rate': 8.888888888888888e-07, 'epoch': 12.0}\n"
     ]
    },
    {
     "data": {
      "application/vnd.jupyter.widget-view+json": {
       "model_id": "053c92d38b1e47659bce72e16f0cc319",
       "version_major": 2,
       "version_minor": 0
      },
      "text/plain": [
       "  0%|          | 0/108 [00:00<?, ?it/s]"
      ]
     },
     "metadata": {},
     "output_type": "display_data"
    },
    {
     "name": "stdout",
     "output_type": "stream",
     "text": [
      "{'eval_loss': 0.12377014011144638, 'eval_mae_V': 0.38515615463256836, 'eval_mse_V': 0.24640832841396332, 'eval_pearsonr_V': 0.724029076963006, 'eval_r_squared_V': 0.5232024681732951, 'eval_mae_A': 0.24445274472236633, 'eval_mse_A': 0.08909256756305695, 'eval_pearsonr_A': 0.6652750749350005, 'eval_r_squared_A': 0.37636658295687675, 'eval_mae_D': 0.1389591246843338, 'eval_mse_D': 0.03580949828028679, 'eval_pearsonr_D': 0.6139341079456359, 'eval_r_squared_D': 0.36001465566268565, 'eval_runtime': 12.3296, 'eval_samples_per_second': 243.317, 'eval_steps_per_second': 8.759, 'epoch': 12.0}\n"
     ]
    },
    {
     "data": {
      "application/vnd.jupyter.widget-view+json": {
       "model_id": "ff6f838c453c4cf9ae63449ab1c9e4a6",
       "version_major": 2,
       "version_minor": 0
      },
      "text/plain": [
       "  0%|          | 0/94 [00:00<?, ?it/s]"
      ]
     },
     "metadata": {},
     "output_type": "display_data"
    },
    {
     "name": "stdout",
     "output_type": "stream",
     "text": [
      "{'eval_loss': 0.19478560984134674, 'eval_mae_V': 0.5037513971328735, 'eval_mse_V': 0.4201173782348633, 'eval_pearsonr_V': 0.486747674165562, 'eval_r_squared_V': 0.1870777035251816, 'eval_mae_A': 0.28044047951698303, 'eval_mse_A': 0.1140744611620903, 'eval_pearsonr_A': 0.4642484035710222, 'eval_r_squared_A': 0.20149730643810504, 'eval_mae_D': 0.16883216798305511, 'eval_mse_D': 0.0501650832593441, 'eval_pearsonr_D': 0.3719453301545854, 'eval_r_squared_D': 0.10345164293461806, 'eval_runtime': 10.9265, 'eval_samples_per_second': 274.563, 'eval_steps_per_second': 8.603}\n",
      "{'loss': 0.1586, 'learning_rate': 7.777777777777778e-07, 'epoch': 13.0}\n"
     ]
    },
    {
     "data": {
      "application/vnd.jupyter.widget-view+json": {
       "model_id": "e99fe4c169364de98525201427dbf736",
       "version_major": 2,
       "version_minor": 0
      },
      "text/plain": [
       "  0%|          | 0/108 [00:00<?, ?it/s]"
      ]
     },
     "metadata": {},
     "output_type": "display_data"
    },
    {
     "name": "stdout",
     "output_type": "stream",
     "text": [
      "{'eval_loss': 0.1226266473531723, 'eval_mae_V': 0.38409924507141113, 'eval_mse_V': 0.24807210266590118, 'eval_pearsonr_V': 0.7226607020488984, 'eval_r_squared_V': 0.5199832394006234, 'eval_mae_A': 0.23795314133167267, 'eval_mse_A': 0.08450961858034134, 'eval_pearsonr_A': 0.6702732305769252, 'eval_r_squared_A': 0.4084473772158216, 'eval_mae_D': 0.1385066658258438, 'eval_mse_D': 0.03529836982488632, 'eval_pearsonr_D': 0.6187552657429058, 'eval_r_squared_D': 0.3691492889060878, 'eval_runtime': 12.3513, 'eval_samples_per_second': 242.89, 'eval_steps_per_second': 8.744, 'epoch': 13.0}\n"
     ]
    },
    {
     "data": {
      "application/vnd.jupyter.widget-view+json": {
       "model_id": "f639b8feae0b42adaa0abdf2d04e48b0",
       "version_major": 2,
       "version_minor": 0
      },
      "text/plain": [
       "  0%|          | 0/94 [00:00<?, ?it/s]"
      ]
     },
     "metadata": {},
     "output_type": "display_data"
    },
    {
     "name": "stdout",
     "output_type": "stream",
     "text": [
      "{'eval_loss': 0.1940615177154541, 'eval_mae_V': 0.5003289580345154, 'eval_mse_V': 0.41867902874946594, 'eval_pearsonr_V': 0.484317768579365, 'eval_r_squared_V': 0.18986114607803317, 'eval_mae_A': 0.2788057029247284, 'eval_mse_A': 0.11348229646682739, 'eval_pearsonr_A': 0.46399943887675554, 'eval_r_squared_A': 0.20564330396140262, 'eval_mae_D': 0.16933807730674744, 'eval_mse_D': 0.05002358928322792, 'eval_pearsonr_D': 0.36936807203192235, 'eval_r_squared_D': 0.10598009800838493, 'eval_runtime': 10.8884, 'eval_samples_per_second': 275.522, 'eval_steps_per_second': 8.633}\n",
      "{'loss': 0.1547, 'learning_rate': 6.666666666666666e-07, 'epoch': 14.0}\n"
     ]
    },
    {
     "data": {
      "application/vnd.jupyter.widget-view+json": {
       "model_id": "3cd740e1635c463593dd8685be4c4568",
       "version_major": 2,
       "version_minor": 0
      },
      "text/plain": [
       "  0%|          | 0/108 [00:00<?, ?it/s]"
      ]
     },
     "metadata": {},
     "output_type": "display_data"
    },
    {
     "name": "stdout",
     "output_type": "stream",
     "text": [
      "{'eval_loss': 0.12912388145923615, 'eval_mae_V': 0.38888218998908997, 'eval_mse_V': 0.26026394963264465, 'eval_pearsonr_V': 0.7121063961781522, 'eval_r_squared_V': 0.4963916791060571, 'eval_mae_A': 0.24623100459575653, 'eval_mse_A': 0.09085901081562042, 'eval_pearsonr_A': 0.665483051146045, 'eval_r_squared_A': 0.36400188178617743, 'eval_mae_D': 0.13962335884571075, 'eval_mse_D': 0.03624846041202545, 'eval_pearsonr_D': 0.6112010083884528, 'eval_r_squared_D': 0.35216911928924444, 'eval_runtime': 12.238, 'eval_samples_per_second': 245.138, 'eval_steps_per_second': 8.825, 'epoch': 14.0}\n"
     ]
    },
    {
     "data": {
      "application/vnd.jupyter.widget-view+json": {
       "model_id": "fab3842b0bb546e69bdc83771f00b387",
       "version_major": 2,
       "version_minor": 0
      },
      "text/plain": [
       "  0%|          | 0/94 [00:00<?, ?it/s]"
      ]
     },
     "metadata": {},
     "output_type": "display_data"
    },
    {
     "name": "stdout",
     "output_type": "stream",
     "text": [
      "{'eval_loss': 0.19876766204833984, 'eval_mae_V': 0.5047041177749634, 'eval_mse_V': 0.43096333742141724, 'eval_pearsonr_V': 0.4799230169575768, 'eval_r_squared_V': 0.1660902296688359, 'eval_mae_A': 0.28119853138923645, 'eval_mse_A': 0.1151193305850029, 'eval_pearsonr_A': 0.4628046997962769, 'eval_r_squared_A': 0.19418384729178562, 'eval_mae_D': 0.1689833402633667, 'eval_mse_D': 0.050220027565956116, 'eval_pearsonr_D': 0.3684377806445792, 'eval_r_squared_D': 0.10246888210465788, 'eval_runtime': 10.9189, 'eval_samples_per_second': 274.752, 'eval_steps_per_second': 8.609}\n",
      "{'loss': 0.1533, 'learning_rate': 5.555555555555555e-07, 'epoch': 15.0}\n"
     ]
    },
    {
     "data": {
      "application/vnd.jupyter.widget-view+json": {
       "model_id": "aa1550ffa4a94e148fcff8f17364866e",
       "version_major": 2,
       "version_minor": 0
      },
      "text/plain": [
       "  0%|          | 0/108 [00:00<?, ?it/s]"
      ]
     },
     "metadata": {},
     "output_type": "display_data"
    },
    {
     "name": "stdout",
     "output_type": "stream",
     "text": [
      "{'eval_loss': 0.12928038835525513, 'eval_mae_V': 0.38672831654548645, 'eval_mse_V': 0.25765833258628845, 'eval_pearsonr_V': 0.7156896341327822, 'eval_r_squared_V': 0.5014346964388273, 'eval_mae_A': 0.2492465227842331, 'eval_mse_A': 0.09395477175712585, 'eval_pearsonr_A': 0.6614886329595595, 'eval_r_squared_A': 0.3423318160996851, 'eval_mae_D': 0.1396818310022354, 'eval_mse_D': 0.03622845560312271, 'eval_pearsonr_D': 0.6125873001185135, 'eval_r_squared_D': 0.3525266669035585, 'eval_runtime': 12.3264, 'eval_samples_per_second': 243.379, 'eval_steps_per_second': 8.762, 'epoch': 15.0}\n"
     ]
    },
    {
     "data": {
      "application/vnd.jupyter.widget-view+json": {
       "model_id": "465209d3dcfd4fb59e355a42abab6096",
       "version_major": 2,
       "version_minor": 0
      },
      "text/plain": [
       "  0%|          | 0/94 [00:00<?, ?it/s]"
      ]
     },
     "metadata": {},
     "output_type": "display_data"
    },
    {
     "name": "stdout",
     "output_type": "stream",
     "text": [
      "{'eval_loss': 0.20172013342380524, 'eval_mae_V': 0.5061944127082825, 'eval_mse_V': 0.4367574155330658, 'eval_pearsonr_V': 0.4779547621270841, 'eval_r_squared_V': 0.15487895091314297, 'eval_mae_A': 0.2828630805015564, 'eval_mse_A': 0.11750294268131256, 'eval_pearsonr_A': 0.46126348027316316, 'eval_r_squared_A': 0.177498519887474, 'eval_mae_D': 0.17025162279605865, 'eval_mse_D': 0.05089986324310303, 'eval_pearsonr_D': 0.36562901357643895, 'eval_r_squared_D': 0.09031954161410127, 'eval_runtime': 10.87, 'eval_samples_per_second': 275.989, 'eval_steps_per_second': 8.648}\n",
      "{'loss': 0.1505, 'learning_rate': 4.444444444444444e-07, 'epoch': 16.0}\n"
     ]
    },
    {
     "data": {
      "application/vnd.jupyter.widget-view+json": {
       "model_id": "2231d456bf26432cac7938e821b9b436",
       "version_major": 2,
       "version_minor": 0
      },
      "text/plain": [
       "  0%|          | 0/108 [00:00<?, ?it/s]"
      ]
     },
     "metadata": {},
     "output_type": "display_data"
    },
    {
     "name": "stdout",
     "output_type": "stream",
     "text": [
      "{'eval_loss': 0.1337810903787613, 'eval_mae_V': 0.3919084370136261, 'eval_mse_V': 0.26971235871315, 'eval_pearsonr_V': 0.7075797417170033, 'eval_r_squared_V': 0.47810954506212744, 'eval_mae_A': 0.2505927085876465, 'eval_mse_A': 0.0952506810426712, 'eval_pearsonr_A': 0.6543382320426548, 'eval_r_squared_A': 0.33326154929504215, 'eval_mae_D': 0.1398768275976181, 'eval_mse_D': 0.036380257457494736, 'eval_pearsonr_D': 0.608938035494345, 'eval_r_squared_D': 0.3498123258324768, 'eval_runtime': 12.2501, 'eval_samples_per_second': 244.896, 'eval_steps_per_second': 8.816, 'epoch': 16.0}\n"
     ]
    },
    {
     "data": {
      "application/vnd.jupyter.widget-view+json": {
       "model_id": "82fba6aca83d46f9b5207f042bf34cec",
       "version_major": 2,
       "version_minor": 0
      },
      "text/plain": [
       "  0%|          | 0/94 [00:00<?, ?it/s]"
      ]
     },
     "metadata": {},
     "output_type": "display_data"
    },
    {
     "name": "stdout",
     "output_type": "stream",
     "text": [
      "{'eval_loss': 0.20565767586231232, 'eval_mae_V': 0.510507345199585, 'eval_mse_V': 0.4482027590274811, 'eval_pearsonr_V': 0.4743838295078481, 'eval_r_squared_V': 0.1327327195243453, 'eval_mae_A': 0.28278055787086487, 'eval_mse_A': 0.11791959404945374, 'eval_pearsonr_A': 0.46029132312381515, 'eval_r_squared_A': 0.17458238193729525, 'eval_mae_D': 0.16998369991779327, 'eval_mse_D': 0.050850749015808105, 'eval_pearsonr_D': 0.36409892499367025, 'eval_r_squared_D': 0.09119672750747398, 'eval_runtime': 10.7583, 'eval_samples_per_second': 278.854, 'eval_steps_per_second': 8.737}\n",
      "{'loss': 0.1492, 'learning_rate': 3.333333333333333e-07, 'epoch': 17.0}\n"
     ]
    },
    {
     "data": {
      "application/vnd.jupyter.widget-view+json": {
       "model_id": "138bb97d93f44e71b43f18ad42b69222",
       "version_major": 2,
       "version_minor": 0
      },
      "text/plain": [
       "  0%|          | 0/108 [00:00<?, ?it/s]"
      ]
     },
     "metadata": {},
     "output_type": "display_data"
    },
    {
     "name": "stdout",
     "output_type": "stream",
     "text": [
      "{'eval_loss': 0.1340799182653427, 'eval_mae_V': 0.39562633633613586, 'eval_mse_V': 0.2734362483024597, 'eval_pearsonr_V': 0.702386982382526, 'eval_r_squared_V': 0.4709037472367854, 'eval_mae_A': 0.24704231321811676, 'eval_mse_A': 0.09251321107149124, 'eval_pearsonr_A': 0.6531803829534666, 'eval_r_squared_A': 0.35242332076499616, 'eval_mae_D': 0.1398521065711975, 'eval_mse_D': 0.03629031777381897, 'eval_pearsonr_D': 0.6062304234136818, 'eval_r_squared_D': 0.35142030917685363, 'eval_runtime': 12.2528, 'eval_samples_per_second': 244.843, 'eval_steps_per_second': 8.814, 'epoch': 17.0}\n"
     ]
    },
    {
     "data": {
      "application/vnd.jupyter.widget-view+json": {
       "model_id": "ba6a83b9f6fa4d28a3408ad864888c41",
       "version_major": 2,
       "version_minor": 0
      },
      "text/plain": [
       "  0%|          | 0/94 [00:00<?, ?it/s]"
      ]
     },
     "metadata": {},
     "output_type": "display_data"
    },
    {
     "name": "stdout",
     "output_type": "stream",
     "text": [
      "{'eval_loss': 0.20405340194702148, 'eval_mae_V': 0.5089858770370483, 'eval_mse_V': 0.44476351141929626, 'eval_pearsonr_V': 0.4764950802694292, 'eval_r_squared_V': 0.1393860990119532, 'eval_mae_A': 0.2812424600124359, 'eval_mse_A': 0.11672194302082062, 'eval_pearsonr_A': 0.4614472431675283, 'eval_r_squared_A': 0.1829656728439989, 'eval_mae_D': 0.16991813480854034, 'eval_mse_D': 0.05067410320043564, 'eval_pearsonr_D': 0.36475091688265204, 'eval_r_squared_D': 0.09435505977313385, 'eval_runtime': 10.7685, 'eval_samples_per_second': 278.591, 'eval_steps_per_second': 8.729}\n",
      "{'loss': 0.1491, 'learning_rate': 2.222222222222222e-07, 'epoch': 18.0}\n"
     ]
    },
    {
     "data": {
      "application/vnd.jupyter.widget-view+json": {
       "model_id": "9863acb436c24152bc27af4a5132cdd6",
       "version_major": 2,
       "version_minor": 0
      },
      "text/plain": [
       "  0%|          | 0/108 [00:00<?, ?it/s]"
      ]
     },
     "metadata": {},
     "output_type": "display_data"
    },
    {
     "name": "stdout",
     "output_type": "stream",
     "text": [
      "{'eval_loss': 0.13252176344394684, 'eval_mae_V': 0.3956984877586365, 'eval_mse_V': 0.2685450613498688, 'eval_pearsonr_V': 0.7025208340715353, 'eval_r_squared_V': 0.48036767281403137, 'eval_mae_A': 0.24698974192142487, 'eval_mse_A': 0.09204796701669693, 'eval_pearsonr_A': 0.655690044623161, 'eval_r_squared_A': 0.35568016293117277, 'eval_mae_D': 0.14093567430973053, 'eval_mse_D': 0.0369720421731472, 'eval_pearsonr_D': 0.6025720887643837, 'eval_r_squared_D': 0.33923683898265133, 'eval_runtime': 12.217, 'eval_samples_per_second': 245.559, 'eval_steps_per_second': 8.84, 'epoch': 18.0}\n"
     ]
    },
    {
     "data": {
      "application/vnd.jupyter.widget-view+json": {
       "model_id": "60ce0b7b0d4347deb2f6e56e18e1a562",
       "version_major": 2,
       "version_minor": 0
      },
      "text/plain": [
       "  0%|          | 0/94 [00:00<?, ?it/s]"
      ]
     },
     "metadata": {},
     "output_type": "display_data"
    },
    {
     "name": "stdout",
     "output_type": "stream",
     "text": [
      "{'eval_loss': 0.2005438655614853, 'eval_mae_V': 0.5060713887214661, 'eval_mse_V': 0.4344702661037445, 'eval_pearsonr_V': 0.47495836193276464, 'eval_r_squared_V': 0.15930464478353046, 'eval_mae_A': 0.2815857231616974, 'eval_mse_A': 0.11648517102003098, 'eval_pearsonr_A': 0.4601254386176041, 'eval_r_squared_A': 0.18462375796594155, 'eval_mae_D': 0.16980034112930298, 'eval_mse_D': 0.05067609250545502, 'eval_pearsonr_D': 0.3655343309270972, 'eval_r_squared_D': 0.09431791455786342, 'eval_runtime': 10.7642, 'eval_samples_per_second': 278.701, 'eval_steps_per_second': 8.733}\n",
      "{'loss': 0.1475, 'learning_rate': 1.111111111111111e-07, 'epoch': 19.0}\n"
     ]
    },
    {
     "data": {
      "application/vnd.jupyter.widget-view+json": {
       "model_id": "e89554f237f040d98604b06472da2e23",
       "version_major": 2,
       "version_minor": 0
      },
      "text/plain": [
       "  0%|          | 0/108 [00:00<?, ?it/s]"
      ]
     },
     "metadata": {},
     "output_type": "display_data"
    },
    {
     "name": "stdout",
     "output_type": "stream",
     "text": [
      "{'eval_loss': 0.13592389225959778, 'eval_mae_V': 0.39857935905456543, 'eval_mse_V': 0.27640384435653687, 'eval_pearsonr_V': 0.6981774545372414, 'eval_r_squared_V': 0.4651613092989817, 'eval_mae_A': 0.24874085187911987, 'eval_mse_A': 0.09393362700939178, 'eval_pearsonr_A': 0.6526947593757468, 'eval_r_squared_A': 0.34248075133402756, 'eval_mae_D': 0.14157934486865997, 'eval_mse_D': 0.03743419051170349, 'eval_pearsonr_D': 0.5984333376131209, 'eval_r_squared_D': 0.33097768086438817, 'eval_runtime': 12.2726, 'eval_samples_per_second': 244.448, 'eval_steps_per_second': 8.8, 'epoch': 19.0}\n"
     ]
    },
    {
     "data": {
      "application/vnd.jupyter.widget-view+json": {
       "model_id": "151290826f144aacaac2b88968a00040",
       "version_major": 2,
       "version_minor": 0
      },
      "text/plain": [
       "  0%|          | 0/94 [00:00<?, ?it/s]"
      ]
     },
     "metadata": {},
     "output_type": "display_data"
    },
    {
     "name": "stdout",
     "output_type": "stream",
     "text": [
      "{'eval_loss': 0.20324735343456268, 'eval_mae_V': 0.5081735253334045, 'eval_mse_V': 0.44129809737205505, 'eval_pearsonr_V': 0.47578038201588246, 'eval_r_squared_V': 0.1460933296099024, 'eval_mae_A': 0.28214332461357117, 'eval_mse_A': 0.11750238388776779, 'eval_pearsonr_A': 0.45966173523379505, 'eval_r_squared_A': 0.17750188835449987, 'eval_mae_D': 0.16997236013412476, 'eval_mse_D': 0.0509415827691555, 'eval_pearsonr_D': 0.3649364101208331, 'eval_r_squared_D': 0.08957292988224974, 'eval_runtime': 10.7924, 'eval_samples_per_second': 277.973, 'eval_steps_per_second': 8.71}\n",
      "{'loss': 0.1475, 'learning_rate': 0.0, 'epoch': 20.0}\n"
     ]
    },
    {
     "data": {
      "application/vnd.jupyter.widget-view+json": {
       "model_id": "7e2c0dd7814d475f9398cebb6366f4ff",
       "version_major": 2,
       "version_minor": 0
      },
      "text/plain": [
       "  0%|          | 0/108 [00:00<?, ?it/s]"
      ]
     },
     "metadata": {},
     "output_type": "display_data"
    },
    {
     "name": "stdout",
     "output_type": "stream",
     "text": [
      "{'eval_loss': 0.13404351472854614, 'eval_mae_V': 0.3954993486404419, 'eval_mse_V': 0.2721565365791321, 'eval_pearsonr_V': 0.6999291734315893, 'eval_r_squared_V': 0.4733798932067196, 'eval_mae_A': 0.24777357280254364, 'eval_mse_A': 0.09297728538513184, 'eval_pearsonr_A': 0.6536258458311839, 'eval_r_squared_A': 0.3491748461139932, 'eval_mae_D': 0.1410037726163864, 'eval_mse_D': 0.036996643990278244, 'eval_pearsonr_D': 0.5987478051650815, 'eval_r_squared_D': 0.33879614179074335, 'eval_runtime': 12.1834, 'eval_samples_per_second': 246.237, 'eval_steps_per_second': 8.865, 'epoch': 20.0}\n"
     ]
    },
    {
     "data": {
      "application/vnd.jupyter.widget-view+json": {
       "model_id": "88ebe233867841c3bca9c847486c11f5",
       "version_major": 2,
       "version_minor": 0
      },
      "text/plain": [
       "  0%|          | 0/94 [00:00<?, ?it/s]"
      ]
     },
     "metadata": {},
     "output_type": "display_data"
    },
    {
     "name": "stdout",
     "output_type": "stream",
     "text": [
      "{'eval_loss': 0.20356778800487518, 'eval_mae_V': 0.5088080763816833, 'eval_mse_V': 0.4425731599330902, 'eval_pearsonr_V': 0.47443125160477473, 'eval_r_squared_V': 0.14362499957303443, 'eval_mae_A': 0.28193384408950806, 'eval_mse_A': 0.11709018796682358, 'eval_pearsonr_A': 0.45873894655749636, 'eval_r_squared_A': 0.18038772261971192, 'eval_mae_D': 0.17043600976467133, 'eval_mse_D': 0.05103950947523117, 'eval_pearsonr_D': 0.3641165972652136, 'eval_r_squared_D': 0.08782229450635826, 'eval_runtime': 10.7853, 'eval_samples_per_second': 278.157, 'eval_steps_per_second': 8.716}\n",
      "{'train_runtime': 2452.1589, 'train_samples_per_second': 195.746, 'train_steps_per_second': 6.998, 'train_loss': 0.06850629864316998, 'epoch': 20.0}\n"
     ]
    },
    {
     "data": {
      "text/plain": [
       "TrainOutput(global_step=17160, training_loss=0.06850629864316998, metrics={'train_runtime': 2452.1589, 'train_samples_per_second': 195.746, 'train_steps_per_second': 6.998, 'train_loss': 0.06850629864316998, 'epoch': 20.0})"
      ]
     },
     "execution_count": 13,
     "metadata": {},
     "output_type": "execute_result"
    }
   ],
   "source": [
    "dir_name = strftime(\"%b-%d-%y-%H:%M:%S\", localtime())\n",
    "# dir_name = \"Jan-01-24-14:55:56\"\n",
    "# dir_name = \"Jan-02-24-08:40:31\"\n",
    "dir_name = \"Jan-02-24-20:30:44\"\n",
    "# dir_name = \"test\"\n",
    "\n",
    "training_args = TrainingArguments(\n",
    "    output_dir=f\"results/{dir_name}\",\n",
    "    logging_dir=f\"results/{dir_name}/runs\",\n",
    "    evaluation_strategy=\"epoch\",\n",
    "    per_device_train_batch_size=28,\n",
    "    per_device_eval_batch_size=28,\n",
    "    learning_rate=2e-6,\n",
    "    max_grad_norm=1.0,\n",
    "    num_train_epochs=20,\n",
    "    lr_scheduler_type=\"linear\",\n",
    "    warmup_ratio=0.1,\n",
    "    logging_strategy=\"epoch\",\n",
    "    report_to=\"none\",\n",
    "    save_strategy=\"epoch\",\n",
    "    seed=42,\n",
    "    load_best_model_at_end=True,\n",
    "    metric_for_best_model=\"loss\",\n",
    "    disable_tqdm=False\n",
    ")\n",
    "\n",
    "trainer = RegressionTrainer(\n",
    "    model_init=get_model,\n",
    "    args=training_args,\n",
    "    train_dataset=tokenized_dataset['train'],\n",
    "    eval_dataset=tokenized_dataset['val'],\n",
    "    data_collator=data_collator,\n",
    "    tokenizer=tokenizer,\n",
    "    compute_metrics=compute_metrics,\n",
    "    callbacks=[MaskEvalCallback()]\n",
    ")\n",
    "\n",
    "trainer.train(resume_from_checkpoint=True)"
   ]
  },
  {
   "cell_type": "code",
   "execution_count": 16,
   "metadata": {},
   "outputs": [
    {
     "data": {
      "text/plain": [
       "<__main__.RegressionTrainer at 0x7f5ceb1cc460>"
      ]
     },
     "execution_count": 16,
     "metadata": {},
     "output_type": "execute_result"
    }
   ],
   "source": [
    "trainer"
   ]
  }
 ],
 "metadata": {
  "kernelspec": {
   "display_name": "emo",
   "language": "python",
   "name": "python3"
  },
  "language_info": {
   "codemirror_mode": {
    "name": "ipython",
    "version": 3
   },
   "file_extension": ".py",
   "mimetype": "text/x-python",
   "name": "python",
   "nbconvert_exporter": "python",
   "pygments_lexer": "ipython3",
   "version": "3.9.17"
  }
 },
 "nbformat": 4,
 "nbformat_minor": 2
}
