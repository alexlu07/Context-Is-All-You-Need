{
 "cells": [
  {
   "cell_type": "code",
   "execution_count": 1,
   "metadata": {},
   "outputs": [],
   "source": [
    "import sys\n",
    "sys.path.append(\"..\")\n",
    "\n",
    "from datasets import Dataset, DatasetDict\n",
    "from transformers import AutoTokenizer, AutoModelForSequenceClassification\n",
    "from transformers import TrainingArguments, Trainer, DataCollatorWithPadding\n",
    "from scipy.stats import pearsonr\n",
    "from sklearn.metrics import mean_absolute_error, mean_squared_error, r2_score\n",
    "import numpy as np\n",
    "import pandas as pd\n",
    "import torch\n",
    "import torch.nn.functional as F\n",
    "from time import localtime, strftime\n",
    "from D2.data_selector import DataSelector\n",
    "\n",
    "SEED = 42"
   ]
  },
  {
   "cell_type": "code",
   "execution_count": 2,
   "metadata": {},
   "outputs": [
    {
     "name": "stderr",
     "output_type": "stream",
     "text": [
      "/home/alexlu/Documents/Programming/alexlu07/Scires/11th/VAD/M1.5/../D2/data_selector.py:10: DtypeWarning: Columns (1) have mixed types. Specify dtype option on import or set low_memory=False.\n",
      "  self.df = pd.read_csv(filepath)\n"
     ]
    },
    {
     "name": "stdout",
     "output_type": "stream",
     "text": [
      "Filtering...\n",
      "Calculating counts...\n",
      "Grabbing data...\n"
     ]
    },
    {
     "data": {
      "text/html": [
       "\n",
       "<style>\n",
       "    /* Turns off some styling */\n",
       "    progress {\n",
       "        /* gets rid of default border in Firefox and Opera. */\n",
       "        border: none;\n",
       "        /* Needs to be in here for Safari polyfill so background images work as expected. */\n",
       "        background-size: auto;\n",
       "    }\n",
       "    progress:not([value]), progress:not([value])::-webkit-progress-bar {\n",
       "        background: repeating-linear-gradient(45deg, #7e7e7e, #7e7e7e 10px, #5c5c5c 10px, #5c5c5c 20px);\n",
       "    }\n",
       "    .progress-bar-interrupted, .progress-bar-interrupted::-webkit-progress-bar {\n",
       "        background: #F44336;\n",
       "    }\n",
       "</style>\n"
      ],
      "text/plain": [
       "<IPython.core.display.HTML object>"
      ]
     },
     "metadata": {},
     "output_type": "display_data"
    },
    {
     "data": {
      "text/html": [
       "\n",
       "    <div>\n",
       "      <progress value='1' class='' max='1' style='width:300px; height:20px; vertical-align: middle;'></progress>\n",
       "      100.00% [1/1 00:01&lt;00:00]\n",
       "    </div>\n",
       "    "
      ],
      "text/plain": [
       "<IPython.core.display.HTML object>"
      ]
     },
     "metadata": {},
     "output_type": "display_data"
    }
   ],
   "source": [
    "ds = DataSelector(\"../D2/data.csv\")\n",
    "data = ds.select_data(30000, length=5, scale_sd=1.5, seed=SEED)\n",
    "data['conversation'] = data['conversation'].astype(str)"
   ]
  },
  {
   "cell_type": "code",
   "execution_count": 3,
   "metadata": {},
   "outputs": [
    {
     "data": {
      "text/plain": [
       "array([[<Axes: title={'center': 'V'}>, <Axes: title={'center': 'A'}>],\n",
       "       [<Axes: title={'center': 'D'}>, <Axes: >]], dtype=object)"
      ]
     },
     "execution_count": 3,
     "metadata": {},
     "output_type": "execute_result"
    },
    {
     "data": {
      "image/png": "[encoded data removed]",
      "text/plain": [
       "<Figure size 640x480 with 4 Axes>"
      ]
     },
     "metadata": {},
     "output_type": "display_data"
    }
   ],
   "source": [
    "data.hist(bins=20)"
   ]
  },
  {
   "cell_type": "code",
   "execution_count": 4,
   "metadata": {},
   "outputs": [],
   "source": [
    "raw_dataset = Dataset.from_pandas(data)\n",
    "train_testval = raw_dataset.train_test_split(test_size=0.2, seed=SEED)\n",
    "test_val = train_testval['test'].train_test_split(test_size=0.5, seed=SEED)\n",
    "\n",
    "dataset = DatasetDict({\n",
    "    'train': train_testval['train'],\n",
    "    'test': test_val['test'],\n",
    "    'val': test_val['train']})\n"
   ]
  },
  {
   "cell_type": "code",
   "execution_count": 5,
   "metadata": {},
   "outputs": [
    {
     "data": {
      "text/plain": [
       "{'text': [\"hahahaha you're such a dork, OMG OMG OMG I THINK TWITTER IS TALKING TO ME\",\n",
       "  '￼',\n",
       "  'what are you showing me here ingrid??',\n",
       "  \"It's just a pretty house in w Philly that I just walked by , ￼, That's what I'm doing\",\n",
       "  \"oh they're cute! you both are!\"],\n",
       " 'conversation': '14749',\n",
       " 'source': 'Bolt',\n",
       " 'V': 4.195347785949707,\n",
       " 'A': 3.931572198867798,\n",
       " 'D': 3.125108242034912,\n",
       " '__index_level_0__': 516081}"
      ]
     },
     "execution_count": 5,
     "metadata": {},
     "output_type": "execute_result"
    }
   ],
   "source": [
    "dataset['train'][0]"
   ]
  },
  {
   "cell_type": "code",
   "execution_count": 6,
   "metadata": {},
   "outputs": [
    {
     "data": {
      "application/vnd.jupyter.widget-view+json": {
       "model_id": "daec5c07ee9f4bcca6aaa0062c9d49ef",
       "version_major": 2,
       "version_minor": 0
      },
      "text/plain": [
       "Map:   0%|          | 0/24000 [00:00<?, ? examples/s]"
      ]
     },
     "metadata": {},
     "output_type": "display_data"
    },
    {
     "data": {
      "application/vnd.jupyter.widget-view+json": {
       "model_id": "68773e31332349bf858334f5929ca157",
       "version_major": 2,
       "version_minor": 0
      },
      "text/plain": [
       "Map:   0%|          | 0/24000 [00:00<?, ? examples/s]"
      ]
     },
     "metadata": {},
     "output_type": "display_data"
    },
    {
     "name": "stderr",
     "output_type": "stream",
     "text": [
      "\n",
      "No chat template is defined for this tokenizer - using a default chat template that implements the ChatML format (without BOS/EOS tokens!). If the default is not appropriate for your model, please set `tokenizer.chat_template` to an appropriate template. See https://huggingface.co/docs/transformers/main/chat_templating for more information.\n",
      "\n"
     ]
    },
    {
     "data": {
      "application/vnd.jupyter.widget-view+json": {
       "model_id": "5688a3fbf7ec4fc780c4084e4d795aeb",
       "version_major": 2,
       "version_minor": 0
      },
      "text/plain": [
       "Map:   0%|          | 0/3000 [00:00<?, ? examples/s]"
      ]
     },
     "metadata": {},
     "output_type": "display_data"
    },
    {
     "data": {
      "application/vnd.jupyter.widget-view+json": {
       "model_id": "fdd4e54c829b43d8b419e71e5e8e4ff9",
       "version_major": 2,
       "version_minor": 0
      },
      "text/plain": [
       "Map:   0%|          | 0/3000 [00:00<?, ? examples/s]"
      ]
     },
     "metadata": {},
     "output_type": "display_data"
    }
   ],
   "source": [
    "tokenizer = AutoTokenizer.from_pretrained(\"roberta-base\")\n",
    "\n",
    "def mask_data(mask_ratio):\n",
    "    def mask_function(examples):\n",
    "        mask_idx = np.random.choice(len(examples), int(mask_ratio * len(examples)), replace=False)\n",
    "        convs = examples[\"text\"]\n",
    "        for i in mask_idx:\n",
    "            convs[i][-1] = tokenizer.mask_token\n",
    "        \n",
    "        return {\"text\": convs}\n",
    "\n",
    "    return mask_function\n",
    "\n",
    "def preprocess_data(examples):\n",
    "    role_names = (\"speaker\", \"respondent\")\n",
    "\n",
    "    convs = [\n",
    "        tokenizer.apply_chat_template(\n",
    "            [{\"role\": role_names[i % 2], \"content\": x} for i, x in enumerate(m)], \n",
    "            tokenize=False)\n",
    "        for m in examples[\"text\"]\n",
    "    ]\n",
    "\n",
    "    encoding = tokenizer(convs, max_length=512, truncation=True)\n",
    "    encoding[\"labels\"] = list(zip(examples[\"V\"], examples[\"A\"], examples[\"D\"]))\n",
    "\n",
    "    return encoding\n",
    "\n",
    "dataset[\"train\"] = dataset[\"train\"].map(mask_data(0.5), batched=True, batch_size=100000)\n",
    "tokenized_dataset = dataset.map(preprocess_data, batched=True, batch_size=100000)\n",
    "data_collator = DataCollatorWithPadding(tokenizer=tokenizer)"
   ]
  },
  {
   "cell_type": "code",
   "execution_count": 7,
   "metadata": {},
   "outputs": [],
   "source": [
    "def get_model():\n",
    "    return AutoModelForSequenceClassification.from_pretrained(\"roberta-base\", num_labels=3)"
   ]
  },
  {
   "cell_type": "code",
   "execution_count": 8,
   "metadata": {},
   "outputs": [],
   "source": [
    "def compute_metrics(eval_pred):\n",
    "    logits, labels = eval_pred\n",
    "    logits = 4/(1+np.exp(-logits)) + 1\n",
    "\n",
    "    metrics = {\n",
    "        \"mae\": mean_absolute_error(labels, logits, multioutput=\"raw_values\").tolist(),\n",
    "        \"mse\": mean_squared_error(labels, logits, multioutput=\"raw_values\").tolist(),\n",
    "        \"pearsonr\": [pearsonr(logits[:, i], labels[:, i])[0] for i in range(len(logits[0]))],\n",
    "        \"r_squared\": r2_score(labels, logits, multioutput=\"raw_values\").tolist(),\n",
    "    }\n",
    "\n",
    "    return {f\"{m}_{s}\": metrics[m][i] for i, s in enumerate(\"VAD\") for m in metrics}"
   ]
  },
  {
   "cell_type": "code",
   "execution_count": 9,
   "metadata": {},
   "outputs": [],
   "source": [
    "class RegressionTrainer(Trainer):\n",
    "    def compute_loss(self, model, inputs, return_outputs=False):\n",
    "        labels = inputs.pop(\"labels\")\n",
    "        outputs = model(**inputs)\n",
    "        logits = torch.sigmoid(outputs['logits']) * 4 + 1\n",
    "        loss = torch.nn.functional.mse_loss(logits, labels)\n",
    "        return (loss, outputs) if return_outputs else loss\n"
   ]
  },
  {
   "cell_type": "code",
   "execution_count": 10,
   "metadata": {},
   "outputs": [
    {
     "ename": "Exception",
     "evalue": "",
     "output_type": "error",
     "traceback": [
      "\u001b[0;31m---------------------------------------------------------------------------\u001b[0m",
      "\u001b[0;31mException\u001b[0m                                 Traceback (most recent call last)",
      "Cell \u001b[0;32mIn[10], line 1\u001b[0m\n\u001b[0;32m----> 1\u001b[0m \u001b[38;5;28;01mraise\u001b[39;00m \u001b[38;5;167;01mException\u001b[39;00m\n",
      "\u001b[0;31mException\u001b[0m: "
     ]
    }
   ],
   "source": [
    "raise Exception"
   ]
  },
  {
   "cell_type": "code",
   "execution_count": 11,
   "metadata": {},
   "outputs": [
    {
     "name": "stderr",
     "output_type": "stream",
     "text": [
      "Some weights of RobertaForSequenceClassification were not initialized from the model checkpoint at roberta-base and are newly initialized: ['classifier.out_proj.weight', 'classifier.dense.bias', 'classifier.out_proj.bias', 'classifier.dense.weight']\n",
      "You should probably TRAIN this model on a down-stream task to be able to use it for predictions and inference.\n",
      "Some weights of RobertaForSequenceClassification were not initialized from the model checkpoint at roberta-base and are newly initialized: ['classifier.out_proj.weight', 'classifier.dense.bias', 'classifier.out_proj.bias', 'classifier.dense.weight']\n",
      "You should probably TRAIN this model on a down-stream task to be able to use it for predictions and inference.\n"
     ]
    },
    {
     "data": {
      "application/vnd.jupyter.widget-view+json": {
       "model_id": "d7404b725fab40ac9f88aac2c91c2459",
       "version_major": 2,
       "version_minor": 0
      },
      "text/plain": [
       "  0%|          | 0/15000 [00:00<?, ?it/s]"
      ]
     },
     "metadata": {},
     "output_type": "display_data"
    },
    {
     "name": "stderr",
     "output_type": "stream",
     "text": [
      "You're using a RobertaTokenizerFast tokenizer. Please note that with a fast tokenizer, using the `__call__` method is faster than using a method to encode the text followed by a call to the `pad` method to get a padded encoding.\n"
     ]
    },
    {
     "name": "stdout",
     "output_type": "stream",
     "text": [
      "{'loss': 0.1802, 'learning_rate': 1e-06, 'epoch': 1.0}\n"
     ]
    },
    {
     "data": {
      "application/vnd.jupyter.widget-view+json": {
       "model_id": "58e3e4cb06c047b0bde76cded6a0d001",
       "version_major": 2,
       "version_minor": 0
      },
      "text/plain": [
       "  0%|          | 0/94 [00:00<?, ?it/s]"
      ]
     },
     "metadata": {},
     "output_type": "display_data"
    },
    {
     "name": "stdout",
     "output_type": "stream",
     "text": [
      "{'eval_loss': 0.08177849650382996, 'eval_mae_V': 0.29825359582901, 'eval_mse_V': 0.14983096718788147, 'eval_pearsonr_V': 0.7833742509738766, 'eval_r_squared_V': 0.5695901736505593, 'eval_mae_A': 0.19874534010887146, 'eval_mse_A': 0.0684344619512558, 'eval_pearsonr_A': 0.6947840347095483, 'eval_r_squared_A': 0.4760083597723649, 'eval_mae_D': 0.11681410670280457, 'eval_mse_D': 0.027070052921772003, 'eval_pearsonr_D': 0.5999608215853289, 'eval_r_squared_D': 0.34433874337903425, 'eval_runtime': 12.4163, 'eval_samples_per_second': 241.618, 'eval_steps_per_second': 7.571, 'epoch': 1.0}\n",
      "{'loss': 0.0454, 'learning_rate': 2e-06, 'epoch': 2.0}\n"
     ]
    },
    {
     "data": {
      "application/vnd.jupyter.widget-view+json": {
       "model_id": "de4683bfcf6b4466b4b06a85c6a78637",
       "version_major": 2,
       "version_minor": 0
      },
      "text/plain": [
       "  0%|          | 0/94 [00:00<?, ?it/s]"
      ]
     },
     "metadata": {},
     "output_type": "display_data"
    },
    {
     "name": "stdout",
     "output_type": "stream",
     "text": [
      "{'eval_loss': 0.029978515580296516, 'eval_mae_V': 0.15658755600452423, 'eval_mse_V': 0.049929387867450714, 'eval_pearsonr_V': 0.9508002054701707, 'eval_r_squared_V': 0.8565711186843789, 'eval_mae_A': 0.12752951681613922, 'eval_mse_A': 0.03041193075478077, 'eval_pearsonr_A': 0.9440961249103715, 'eval_r_squared_A': 0.767140500413682, 'eval_mae_D': 0.06835902482271194, 'eval_mse_D': 0.009594237431883812, 'eval_pearsonr_D': 0.9075338693244422, 'eval_r_squared_D': 0.7676190998159276, 'eval_runtime': 12.3695, 'eval_samples_per_second': 242.532, 'eval_steps_per_second': 7.599, 'epoch': 2.0}\n",
      "{'loss': 0.0231, 'learning_rate': 1.8888888888888888e-06, 'epoch': 3.0}\n"
     ]
    },
    {
     "data": {
      "application/vnd.jupyter.widget-view+json": {
       "model_id": "90768b2d71674903a8bafddd1a7b19ee",
       "version_major": 2,
       "version_minor": 0
      },
      "text/plain": [
       "  0%|          | 0/94 [00:00<?, ?it/s]"
      ]
     },
     "metadata": {},
     "output_type": "display_data"
    },
    {
     "name": "stdout",
     "output_type": "stream",
     "text": [
      "{'eval_loss': 0.016352366656064987, 'eval_mae_V': 0.12004595249891281, 'eval_mse_V': 0.03010144643485546, 'eval_pearsonr_V': 0.9698115831986066, 'eval_r_squared_V': 0.9135295918855604, 'eval_mae_A': 0.08161598443984985, 'eval_mse_A': 0.013371462933719158, 'eval_pearsonr_A': 0.9673548783240942, 'eval_r_squared_A': 0.8976167456104558, 'eval_mae_D': 0.05269442871212959, 'eval_mse_D': 0.005584199912846088, 'eval_pearsonr_D': 0.9409532452965963, 'eval_r_squared_D': 0.86474550276606, 'eval_runtime': 12.4597, 'eval_samples_per_second': 240.777, 'eval_steps_per_second': 7.544, 'epoch': 3.0}\n"
     ]
    },
    {
     "ename": "",
     "evalue": "",
     "output_type": "error",
     "traceback": [
      "\u001b[1;31mThe Kernel crashed while executing code in the the current cell or a previous cell. Please review the code in the cell(s) to identify a possible cause of the failure. Click <a href='https://aka.ms/vscodeJupyterKernelCrash'>here</a> for more info. View Jupyter <a href='command:jupyter.viewOutput'>log</a> for further details."
     ]
    }
   ],
   "source": [
    "dir_name = strftime(\"%b-%d-%y-%H:%M:%S\", localtime())\n",
    "\n",
    "training_args = TrainingArguments(\n",
    "    output_dir=f\"results/{dir_name}\",\n",
    "    logging_dir=f\"results/{dir_name}/runs\",\n",
    "    evaluation_strategy=\"epoch\",\n",
    "    per_device_train_batch_size=32,\n",
    "    per_device_eval_batch_size=32,\n",
    "    learning_rate=2e-6,\n",
    "    max_grad_norm=1.0,\n",
    "    num_train_epochs=20,\n",
    "    lr_scheduler_type=\"linear\",\n",
    "    warmup_ratio=0.1,\n",
    "    logging_strategy=\"epoch\",\n",
    "    report_to=\"none\",\n",
    "    save_strategy=\"epoch\",\n",
    "    seed=42,\n",
    "    load_best_model_at_end=True,\n",
    "    metric_for_best_model=\"loss\",\n",
    "    disable_tqdm=True\n",
    ")\n",
    "\n",
    "trainer = RegressionTrainer(\n",
    "    model_init=get_model,\n",
    "    args=training_args,\n",
    "    train_dataset=tokenized_dataset['train'],\n",
    "    eval_dataset=tokenized_dataset['val'],\n",
    "    data_collator=data_collator,\n",
    "    tokenizer=tokenizer,\n",
    "    compute_metrics=compute_metrics,\n",
    ")\n",
    "\n",
    "trainer.train()"
   ]
  }
 ],
 "metadata": {
  "kernelspec": {
   "display_name": "emo",
   "language": "python",
   "name": "python3"
  },
  "language_info": {
   "codemirror_mode": {
    "name": "ipython",
    "version": 3
   },
   "file_extension": ".py",
   "mimetype": "text/x-python",
   "name": "python",
   "nbconvert_exporter": "python",
   "pygments_lexer": "ipython3",
   "version": "3.9.17"
  }
 },
 "nbformat": 4,
 "nbformat_minor": 2
}
