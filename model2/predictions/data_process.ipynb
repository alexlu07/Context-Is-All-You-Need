{
 "cells": [
  {
   "cell_type": "code",
   "execution_count": 15,
   "metadata": {},
   "outputs": [],
   "source": [
    "import pandas as pd\n",
    "import numpy as np"
   ]
  },
  {
   "cell_type": "code",
   "execution_count": 16,
   "metadata": {},
   "outputs": [],
   "source": [
    "cornell_df = pd.read_csv(\"../cornell_movie/predictions.csv\")\n",
    "cornell_df = cornell_df.iloc[::-1]\n",
    "cornell_df = cornell_df.drop([\"Unnamed: 0\", \"speaker\"], axis=1)\n",
    "cornell_df = cornell_df.rename(columns={\"utterance text\": \"text\", \"conversation_id\": \"conversation\"})\n",
    "cornell_df.insert(2, \"source\", \"Cornell\")"
   ]
  },
  {
   "cell_type": "code",
   "execution_count": 17,
   "metadata": {},
   "outputs": [
    {
     "data": {
      "text/html": [
       "<div>\n",
       "<style scoped>\n",
       "    .dataframe tbody tr th:only-of-type {\n",
       "        vertical-align: middle;\n",
       "    }\n",
       "\n",
       "    .dataframe tbody tr th {\n",
       "        vertical-align: top;\n",
       "    }\n",
       "\n",
       "    .dataframe thead th {\n",
       "        text-align: right;\n",
       "    }\n",
       "</style>\n",
       "<table border=\"1\" class=\"dataframe\">\n",
       "  <thead>\n",
       "    <tr style=\"text-align: right;\">\n",
       "      <th></th>\n",
       "      <th>text</th>\n",
       "      <th>conversation</th>\n",
       "      <th>source</th>\n",
       "      <th>0</th>\n",
       "      <th>1</th>\n",
       "      <th>2</th>\n",
       "      <th>3</th>\n",
       "      <th>4</th>\n",
       "      <th>5</th>\n",
       "      <th>6</th>\n",
       "      <th>...</th>\n",
       "      <th>18</th>\n",
       "      <th>19</th>\n",
       "      <th>20</th>\n",
       "      <th>21</th>\n",
       "      <th>22</th>\n",
       "      <th>23</th>\n",
       "      <th>24</th>\n",
       "      <th>25</th>\n",
       "      <th>26</th>\n",
       "      <th>27</th>\n",
       "    </tr>\n",
       "  </thead>\n",
       "  <tbody>\n",
       "    <tr>\n",
       "      <th>304445</th>\n",
       "      <td>Colonel Durnford... William Vereker. I hear yo...</td>\n",
       "      <td>L666256</td>\n",
       "      <td>Cornell</td>\n",
       "      <td>-6.737959</td>\n",
       "      <td>-8.184252</td>\n",
       "      <td>-7.759193</td>\n",
       "      <td>-6.076953</td>\n",
       "      <td>-5.967172</td>\n",
       "      <td>-7.773337</td>\n",
       "      <td>-3.765209</td>\n",
       "      <td>...</td>\n",
       "      <td>-8.436464</td>\n",
       "      <td>-8.448975</td>\n",
       "      <td>-7.405308</td>\n",
       "      <td>-8.812127</td>\n",
       "      <td>-7.122664</td>\n",
       "      <td>-8.446054</td>\n",
       "      <td>-8.748944</td>\n",
       "      <td>-8.372815</td>\n",
       "      <td>-5.710989</td>\n",
       "      <td>2.100430</td>\n",
       "    </tr>\n",
       "    <tr>\n",
       "      <th>304444</th>\n",
       "      <td>Good ones, yes, Mr Vereker. Gentlemen who can ...</td>\n",
       "      <td>L666256</td>\n",
       "      <td>Cornell</td>\n",
       "      <td>1.951447</td>\n",
       "      <td>-7.301604</td>\n",
       "      <td>-7.476500</td>\n",
       "      <td>-5.885305</td>\n",
       "      <td>0.921823</td>\n",
       "      <td>-7.055074</td>\n",
       "      <td>-7.786498</td>\n",
       "      <td>...</td>\n",
       "      <td>-7.499782</td>\n",
       "      <td>-8.586514</td>\n",
       "      <td>-4.751183</td>\n",
       "      <td>-7.029193</td>\n",
       "      <td>-6.261419</td>\n",
       "      <td>-7.789165</td>\n",
       "      <td>-8.677416</td>\n",
       "      <td>-8.251197</td>\n",
       "      <td>-7.939310</td>\n",
       "      <td>-1.863808</td>\n",
       "    </tr>\n",
       "    <tr>\n",
       "      <th>304443</th>\n",
       "      <td>Your orders, Mr Vereker?</td>\n",
       "      <td>L666369</td>\n",
       "      <td>Cornell</td>\n",
       "      <td>-7.306279</td>\n",
       "      <td>-8.270448</td>\n",
       "      <td>-7.640837</td>\n",
       "      <td>-5.964887</td>\n",
       "      <td>-5.235689</td>\n",
       "      <td>-7.692601</td>\n",
       "      <td>-3.194700</td>\n",
       "      <td>...</td>\n",
       "      <td>-8.688370</td>\n",
       "      <td>-8.516042</td>\n",
       "      <td>-7.183609</td>\n",
       "      <td>-8.845353</td>\n",
       "      <td>-7.255379</td>\n",
       "      <td>-8.508457</td>\n",
       "      <td>-8.726622</td>\n",
       "      <td>-8.571457</td>\n",
       "      <td>-7.730612</td>\n",
       "      <td>2.247898</td>\n",
       "    </tr>\n",
       "    <tr>\n",
       "      <th>304442</th>\n",
       "      <td>I'm to take the Sikali with the main column to...</td>\n",
       "      <td>L666369</td>\n",
       "      <td>Cornell</td>\n",
       "      <td>-6.931197</td>\n",
       "      <td>-7.909531</td>\n",
       "      <td>-7.397606</td>\n",
       "      <td>-5.993287</td>\n",
       "      <td>-3.104389</td>\n",
       "      <td>-7.351592</td>\n",
       "      <td>-6.196944</td>\n",
       "      <td>...</td>\n",
       "      <td>-8.225678</td>\n",
       "      <td>-8.225738</td>\n",
       "      <td>-4.861578</td>\n",
       "      <td>-8.452392</td>\n",
       "      <td>-5.833093</td>\n",
       "      <td>-8.025157</td>\n",
       "      <td>-8.560670</td>\n",
       "      <td>-8.000977</td>\n",
       "      <td>-8.021872</td>\n",
       "      <td>3.831411</td>\n",
       "    </tr>\n",
       "    <tr>\n",
       "      <th>304441</th>\n",
       "      <td>Lord Chelmsford seems to want me to stay back ...</td>\n",
       "      <td>L666369</td>\n",
       "      <td>Cornell</td>\n",
       "      <td>-7.064470</td>\n",
       "      <td>-7.562948</td>\n",
       "      <td>-7.227080</td>\n",
       "      <td>-4.127013</td>\n",
       "      <td>-3.992013</td>\n",
       "      <td>-6.218512</td>\n",
       "      <td>-5.487997</td>\n",
       "      <td>...</td>\n",
       "      <td>-7.888612</td>\n",
       "      <td>-7.432271</td>\n",
       "      <td>-5.092277</td>\n",
       "      <td>-8.177619</td>\n",
       "      <td>-5.420301</td>\n",
       "      <td>-7.528449</td>\n",
       "      <td>-8.203114</td>\n",
       "      <td>-6.603066</td>\n",
       "      <td>-7.553047</td>\n",
       "      <td>3.449779</td>\n",
       "    </tr>\n",
       "    <tr>\n",
       "      <th>...</th>\n",
       "      <td>...</td>\n",
       "      <td>...</td>\n",
       "      <td>...</td>\n",
       "      <td>...</td>\n",
       "      <td>...</td>\n",
       "      <td>...</td>\n",
       "      <td>...</td>\n",
       "      <td>...</td>\n",
       "      <td>...</td>\n",
       "      <td>...</td>\n",
       "      <td>...</td>\n",
       "      <td>...</td>\n",
       "      <td>...</td>\n",
       "      <td>...</td>\n",
       "      <td>...</td>\n",
       "      <td>...</td>\n",
       "      <td>...</td>\n",
       "      <td>...</td>\n",
       "      <td>...</td>\n",
       "      <td>...</td>\n",
       "      <td>...</td>\n",
       "    </tr>\n",
       "    <tr>\n",
       "      <th>4</th>\n",
       "      <td>Let's go.</td>\n",
       "      <td>L924</td>\n",
       "      <td>Cornell</td>\n",
       "      <td>-7.494947</td>\n",
       "      <td>-7.953329</td>\n",
       "      <td>-6.848414</td>\n",
       "      <td>-6.154107</td>\n",
       "      <td>-3.857252</td>\n",
       "      <td>-7.458092</td>\n",
       "      <td>-6.752992</td>\n",
       "      <td>...</td>\n",
       "      <td>-8.142455</td>\n",
       "      <td>-8.096924</td>\n",
       "      <td>-5.522057</td>\n",
       "      <td>-8.695136</td>\n",
       "      <td>-5.862500</td>\n",
       "      <td>-7.895298</td>\n",
       "      <td>-8.451159</td>\n",
       "      <td>-7.658334</td>\n",
       "      <td>-7.350202</td>\n",
       "      <td>4.229424</td>\n",
       "    </tr>\n",
       "    <tr>\n",
       "      <th>3</th>\n",
       "      <td>She okay?</td>\n",
       "      <td>L984</td>\n",
       "      <td>Cornell</td>\n",
       "      <td>-7.394925</td>\n",
       "      <td>-8.422208</td>\n",
       "      <td>-8.233183</td>\n",
       "      <td>-7.262945</td>\n",
       "      <td>-5.963159</td>\n",
       "      <td>-1.045211</td>\n",
       "      <td>-1.829974</td>\n",
       "      <td>...</td>\n",
       "      <td>-7.909905</td>\n",
       "      <td>-7.816961</td>\n",
       "      <td>-7.182050</td>\n",
       "      <td>-8.869298</td>\n",
       "      <td>-7.130611</td>\n",
       "      <td>-7.719046</td>\n",
       "      <td>-8.653565</td>\n",
       "      <td>-7.548312</td>\n",
       "      <td>-6.040685</td>\n",
       "      <td>0.612777</td>\n",
       "    </tr>\n",
       "    <tr>\n",
       "      <th>2</th>\n",
       "      <td>I hope so.</td>\n",
       "      <td>L984</td>\n",
       "      <td>Cornell</td>\n",
       "      <td>-7.071383</td>\n",
       "      <td>-8.080991</td>\n",
       "      <td>-8.237708</td>\n",
       "      <td>-7.438438</td>\n",
       "      <td>-4.005056</td>\n",
       "      <td>-6.264260</td>\n",
       "      <td>-7.329815</td>\n",
       "      <td>...</td>\n",
       "      <td>-7.819698</td>\n",
       "      <td>-8.379241</td>\n",
       "      <td>3.509809</td>\n",
       "      <td>-8.805497</td>\n",
       "      <td>-7.396857</td>\n",
       "      <td>-8.128626</td>\n",
       "      <td>-8.643777</td>\n",
       "      <td>-8.001550</td>\n",
       "      <td>-8.556865</td>\n",
       "      <td>-5.470668</td>\n",
       "    </tr>\n",
       "    <tr>\n",
       "      <th>1</th>\n",
       "      <td>They do to!</td>\n",
       "      <td>L1044</td>\n",
       "      <td>Cornell</td>\n",
       "      <td>-5.930440</td>\n",
       "      <td>-6.577653</td>\n",
       "      <td>-5.159780</td>\n",
       "      <td>-3.634088</td>\n",
       "      <td>-2.398159</td>\n",
       "      <td>-6.632767</td>\n",
       "      <td>-5.981420</td>\n",
       "      <td>...</td>\n",
       "      <td>-6.780757</td>\n",
       "      <td>-7.983085</td>\n",
       "      <td>-5.798102</td>\n",
       "      <td>-8.299724</td>\n",
       "      <td>-5.115921</td>\n",
       "      <td>-7.488402</td>\n",
       "      <td>-8.293399</td>\n",
       "      <td>-7.577650</td>\n",
       "      <td>-6.165895</td>\n",
       "      <td>4.011903</td>\n",
       "    </tr>\n",
       "    <tr>\n",
       "      <th>0</th>\n",
       "      <td>They do not!</td>\n",
       "      <td>L1044</td>\n",
       "      <td>Cornell</td>\n",
       "      <td>-8.243716</td>\n",
       "      <td>-8.081733</td>\n",
       "      <td>-5.824663</td>\n",
       "      <td>-4.112484</td>\n",
       "      <td>-3.738539</td>\n",
       "      <td>-8.310719</td>\n",
       "      <td>-5.962309</td>\n",
       "      <td>...</td>\n",
       "      <td>-8.163701</td>\n",
       "      <td>-8.311151</td>\n",
       "      <td>-7.192960</td>\n",
       "      <td>-8.785914</td>\n",
       "      <td>-6.103366</td>\n",
       "      <td>-8.513200</td>\n",
       "      <td>-8.283603</td>\n",
       "      <td>-7.509114</td>\n",
       "      <td>-7.940668</td>\n",
       "      <td>1.183151</td>\n",
       "    </tr>\n",
       "  </tbody>\n",
       "</table>\n",
       "<p>304446 rows × 31 columns</p>\n",
       "</div>"
      ],
      "text/plain": [
       "                                                     text conversation  \\\n",
       "304445  Colonel Durnford... William Vereker. I hear yo...      L666256   \n",
       "304444  Good ones, yes, Mr Vereker. Gentlemen who can ...      L666256   \n",
       "304443                           Your orders, Mr Vereker?      L666369   \n",
       "304442  I'm to take the Sikali with the main column to...      L666369   \n",
       "304441  Lord Chelmsford seems to want me to stay back ...      L666369   \n",
       "...                                                   ...          ...   \n",
       "4                                               Let's go.         L924   \n",
       "3                                               She okay?         L984   \n",
       "2                                              I hope so.         L984   \n",
       "1                                             They do to!        L1044   \n",
       "0                                            They do not!        L1044   \n",
       "\n",
       "         source         0         1         2         3         4         5  \\\n",
       "304445  Cornell -6.737959 -8.184252 -7.759193 -6.076953 -5.967172 -7.773337   \n",
       "304444  Cornell  1.951447 -7.301604 -7.476500 -5.885305  0.921823 -7.055074   \n",
       "304443  Cornell -7.306279 -8.270448 -7.640837 -5.964887 -5.235689 -7.692601   \n",
       "304442  Cornell -6.931197 -7.909531 -7.397606 -5.993287 -3.104389 -7.351592   \n",
       "304441  Cornell -7.064470 -7.562948 -7.227080 -4.127013 -3.992013 -6.218512   \n",
       "...         ...       ...       ...       ...       ...       ...       ...   \n",
       "4       Cornell -7.494947 -7.953329 -6.848414 -6.154107 -3.857252 -7.458092   \n",
       "3       Cornell -7.394925 -8.422208 -8.233183 -7.262945 -5.963159 -1.045211   \n",
       "2       Cornell -7.071383 -8.080991 -8.237708 -7.438438 -4.005056 -6.264260   \n",
       "1       Cornell -5.930440 -6.577653 -5.159780 -3.634088 -2.398159 -6.632767   \n",
       "0       Cornell -8.243716 -8.081733 -5.824663 -4.112484 -3.738539 -8.310719   \n",
       "\n",
       "               6  ...        18        19        20        21        22  \\\n",
       "304445 -3.765209  ... -8.436464 -8.448975 -7.405308 -8.812127 -7.122664   \n",
       "304444 -7.786498  ... -7.499782 -8.586514 -4.751183 -7.029193 -6.261419   \n",
       "304443 -3.194700  ... -8.688370 -8.516042 -7.183609 -8.845353 -7.255379   \n",
       "304442 -6.196944  ... -8.225678 -8.225738 -4.861578 -8.452392 -5.833093   \n",
       "304441 -5.487997  ... -7.888612 -7.432271 -5.092277 -8.177619 -5.420301   \n",
       "...          ...  ...       ...       ...       ...       ...       ...   \n",
       "4      -6.752992  ... -8.142455 -8.096924 -5.522057 -8.695136 -5.862500   \n",
       "3      -1.829974  ... -7.909905 -7.816961 -7.182050 -8.869298 -7.130611   \n",
       "2      -7.329815  ... -7.819698 -8.379241  3.509809 -8.805497 -7.396857   \n",
       "1      -5.981420  ... -6.780757 -7.983085 -5.798102 -8.299724 -5.115921   \n",
       "0      -5.962309  ... -8.163701 -8.311151 -7.192960 -8.785914 -6.103366   \n",
       "\n",
       "              23        24        25        26        27  \n",
       "304445 -8.446054 -8.748944 -8.372815 -5.710989  2.100430  \n",
       "304444 -7.789165 -8.677416 -8.251197 -7.939310 -1.863808  \n",
       "304443 -8.508457 -8.726622 -8.571457 -7.730612  2.247898  \n",
       "304442 -8.025157 -8.560670 -8.000977 -8.021872  3.831411  \n",
       "304441 -7.528449 -8.203114 -6.603066 -7.553047  3.449779  \n",
       "...          ...       ...       ...       ...       ...  \n",
       "4      -7.895298 -8.451159 -7.658334 -7.350202  4.229424  \n",
       "3      -7.719046 -8.653565 -7.548312 -6.040685  0.612777  \n",
       "2      -8.128626 -8.643777 -8.001550 -8.556865 -5.470668  \n",
       "1      -7.488402 -8.293399 -7.577650 -6.165895  4.011903  \n",
       "0      -8.513200 -8.283603 -7.509114 -7.940668  1.183151  \n",
       "\n",
       "[304446 rows x 31 columns]"
      ]
     },
     "execution_count": 17,
     "metadata": {},
     "output_type": "execute_result"
    }
   ],
   "source": [
    "cornell_df"
   ]
  },
  {
   "cell_type": "code",
   "execution_count": 27,
   "metadata": {},
   "outputs": [],
   "source": [
    "#iemocap\n",
    "iemocap_df = pd.read_csv(\"../iemocap/predictions.csv\")\n",
    "iemocap_df = iemocap_df.drop(\"Unnamed: 0\", axis=1)\n",
    "iemocap_df.insert(2, \"source\", \"IEMOCAP\")"
   ]
  },
  {
   "cell_type": "code",
   "execution_count": 5,
   "metadata": {},
   "outputs": [],
   "source": [
    "#ubuntu"
   ]
  },
  {
   "cell_type": "code",
   "execution_count": 6,
   "metadata": {},
   "outputs": [],
   "source": [
    "#bolt"
   ]
  },
  {
   "cell_type": "code",
   "execution_count": 29,
   "metadata": {},
   "outputs": [],
   "source": [
    "df = pd.concat([cornell_df, iemocap_df])"
   ]
  },
  {
   "cell_type": "code",
   "execution_count": 30,
   "metadata": {},
   "outputs": [],
   "source": [
    "df.to_csv(\"../model/data.csv\", index=False)"
   ]
  },
  {
   "cell_type": "markdown",
   "metadata": {},
   "source": [
    "### Visualization"
   ]
  },
  {
   "cell_type": "code",
   "execution_count": 2,
   "metadata": {},
   "outputs": [],
   "source": [
    "df = pd.read_csv(\"../model/data.csv\")"
   ]
  },
  {
   "cell_type": "code",
   "execution_count": 31,
   "metadata": {},
   "outputs": [
    {
     "data": {
      "text/plain": [
       "<Axes: >"
      ]
     },
     "execution_count": 31,
     "metadata": {},
     "output_type": "execute_result"
    },
    {
     "data": {
      "image/png": "[encoded data removed]",
      "text/plain": [
       "<Figure size 640x480 with 1 Axes>"
      ]
     },
     "metadata": {},
     "output_type": "display_data"
    }
   ],
   "source": [
    "df['source'].value_counts().plot.bar()"
   ]
  },
  {
   "cell_type": "code",
   "execution_count": null,
   "metadata": {},
   "outputs": [],
   "source": []
  },
  {
   "cell_type": "code",
   "execution_count": 41,
   "metadata": {},
   "outputs": [],
   "source": [
    "val = 2\n",
    "df1 = df[df[\"source\"] == \"IEMOCAP\"]\n",
    "a = ((1/(1+np.exp(-df1.iloc[:, 3:31][df1['27'] < val])))).sum()\n",
    "b = ((1/(1+np.exp(-df1.iloc[:, 3:31][df1['27'] > val])))).sum()"
   ]
  },
  {
   "cell_type": "code",
   "execution_count": 42,
   "metadata": {},
   "outputs": [],
   "source": [
    "ab = pd.DataFrame({\"a\": a, \"b\": b})"
   ]
  },
  {
   "cell_type": "code",
   "execution_count": 43,
   "metadata": {},
   "outputs": [
    {
     "data": {
      "text/plain": [
       "<Axes: >"
      ]
     },
     "execution_count": 43,
     "metadata": {},
     "output_type": "execute_result"
    },
    {
     "data": {
      "image/png": "[encoded data removed]",
      "text/plain": [
       "<Figure size 640x480 with 1 Axes>"
      ]
     },
     "metadata": {},
     "output_type": "display_data"
    }
   ],
   "source": [
    "ab.plot.bar(stacked=True)"
   ]
  },
  {
   "cell_type": "code",
   "execution_count": null,
   "metadata": {},
   "outputs": [],
   "source": []
  },
  {
   "cell_type": "code",
   "execution_count": 44,
   "metadata": {},
   "outputs": [],
   "source": [
    "convs = df.groupby('conversation')"
   ]
  },
  {
   "cell_type": "code",
   "execution_count": 45,
   "metadata": {},
   "outputs": [],
   "source": [
    "lens = convs['text'].count()"
   ]
  },
  {
   "cell_type": "code",
   "execution_count": 46,
   "metadata": {},
   "outputs": [
    {
     "data": {
      "text/plain": [
       "conversation\n",
       "L535132      1\n",
       "L127954      1\n",
       "L129494      1\n",
       "L129530      1\n",
       "L133728      1\n",
       "          ... \n",
       "66         108\n",
       "119        112\n",
       "92         115\n",
       "122        136\n",
       "96         172\n",
       "Name: text, Length: 83230, dtype: int64"
      ]
     },
     "execution_count": 46,
     "metadata": {},
     "output_type": "execute_result"
    }
   ],
   "source": [
    "lens.sort_values()"
   ]
  },
  {
   "cell_type": "code",
   "execution_count": 47,
   "metadata": {},
   "outputs": [
    {
     "data": {
      "text/plain": [
       "<Axes: >"
      ]
     },
     "execution_count": 47,
     "metadata": {},
     "output_type": "execute_result"
    },
    {
     "data": {
      "image/png": "[encoded data removed]",
      "text/plain": [
       "<Figure size 640x480 with 1 Axes>"
      ]
     },
     "metadata": {},
     "output_type": "display_data"
    }
   ],
   "source": [
    "lens.hist(range=[0, 40], bins=40)"
   ]
  }
 ],
 "metadata": {
  "kernelspec": {
   "display_name": "emo",
   "language": "python",
   "name": "python3"
  },
  "language_info": {
   "codemirror_mode": {
    "name": "ipython",
    "version": 3
   },
   "file_extension": ".py",
   "mimetype": "text/x-python",
   "name": "python",
   "nbconvert_exporter": "python",
   "pygments_lexer": "ipython3",
   "version": "3.9.17"
  }
 },
 "nbformat": 4,
 "nbformat_minor": 2
}
