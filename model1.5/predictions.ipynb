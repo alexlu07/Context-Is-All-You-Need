{
 "cells": [
  {
   "cell_type": "code",
   "execution_count": 1,
   "metadata": {},
   "outputs": [],
   "source": [
    "import sys\n",
    "sys.path.append('..')\n",
    "\n",
    "import pandas as pd\n",
    "import numpy as np\n",
    "import torch \n",
    "from spanemo.model import SpanEmo\n",
    "from spanemo.data_loader import DataClass, twitter_preprocessor, alternate_preprocessor\n",
    "from fastprogress.fastprogress import format_time, master_bar, progress_bar\n",
    "import matplotlib.pyplot as plt\n",
    "from torch.utils.data import DataLoader\n",
    "import datetime\n",
    "import numpy as np\n",
    "import json\n",
    "import math\n",
    "import random"
   ]
  },
  {
   "cell_type": "code",
   "execution_count": 2,
   "metadata": {},
   "outputs": [
    {
     "name": "stdout",
     "output_type": "stream",
     "text": [
      "Currently using GPU: cuda:0\n"
     ]
    }
   ],
   "source": [
    "seed = 12345678\n",
    "torch.backends.cudnn.deterministic = True\n",
    "torch.backends.cudnn.benchmark = False\n",
    "torch.manual_seed(seed)\n",
    "torch.cuda.manual_seed_all(seed)\n",
    "np.random.seed(seed)\n",
    "random.seed(seed)\n",
    "\n",
    "device = torch.device('cuda:0' if torch.cuda.is_available() else 'cpu')\n",
    "\n",
    "if str(device) == 'cuda:0':\n",
    "    print(\"Currently using GPU: {}\".format(device))\n",
    "else:\n",
    "    print(\"WARNING: USING CPU\")"
   ]
  },
  {
   "cell_type": "code",
   "execution_count": 3,
   "metadata": {},
   "outputs": [],
   "source": [
    "# pred_df = pd.read_csv(\"data.csv\")\n",
    "# pred_df = pred_df.loc[:, [\"text\", \"conversation\", \"source\"]]\n",
    "# pred_df = pred_df.reindex(columns=pred_df.columns.tolist() + [str(x) for x in range(11)])\n",
    "# pred_df.to_csv(\"predictions.csv\", index=False)"
   ]
  },
  {
   "cell_type": "code",
   "execution_count": 4,
   "metadata": {},
   "outputs": [
    {
     "name": "stderr",
     "output_type": "stream",
     "text": [
      "/tmp/ipykernel_314428/2574911869.py:1: DtypeWarning: Columns (1) have mixed types. Specify dtype option on import or set low_memory=False.\n",
      "  pred_df = pd.read_csv(\"predictions.csv\")\n"
     ]
    }
   ],
   "source": [
    "pred_df = pd.read_csv(\"predictions.csv\")\n",
    "pred_idx = pred_df.groupby(\"conversation\").filter(lambda x: x[\"text\"].count() >= 5)\n",
    "pred_idx = pred_idx.groupby(\"conversation\").tail(-4).index.to_series()\n",
    "pred_text = pred_idx.apply(lambda x: pred_df.loc[x-4:x+1, \"text\"].values).values"
   ]
  },
  {
   "cell_type": "code",
   "execution_count": 5,
   "metadata": {},
   "outputs": [],
   "source": [
    "hyperparams = {\n",
    "    'backbone':'bert-base-uncased',\n",
    "    'max_length': 512, #maximum context length for the model\n",
    "    'batch_size': 32,\n",
    "}"
   ]
  },
  {
   "cell_type": "code",
   "execution_count": 6,
   "metadata": {},
   "outputs": [],
   "source": [
    "def loop(start=0, x=32768):\n",
    "    model_path = \"models/final_model.pt\"\n",
    "    model = SpanEmo(backbone=hyperparams[\"backbone\"])\n",
    "    model.load_state_dict(torch.load(model_path))\n",
    "    model.to(device)\n",
    "    model.eval()\n",
    "\n",
    "    preprocessor = alternate_preprocessor()\n",
    "    \n",
    "    mb = master_bar(range(start, math.ceil(len(pred_idx)/x)))\n",
    "    for i in mb:\n",
    "        dataset = DataClass(hyperparams, \n",
    "                            pred_text[i*x : min(i*x+x, len(pred_idx))], \n",
    "                            pred_mode=True, \n",
    "                            preprocessor=preprocessor,\n",
    "                            pbar=lambda x, **kw: progress_bar(x, parent=mb, leave=False))\n",
    "        data_loader = DataLoader(dataset,\n",
    "                                batch_size=hyperparams['batch_size'],\n",
    "                                shuffle=False\n",
    "                                )\n",
    "        \n",
    "        with torch.no_grad():\n",
    "            current_index = 0\n",
    "            for step, batch in enumerate(progress_bar(data_loader, parent=mb, leave=False)):\n",
    "                num_rows, y_pred, logits = model.predict(batch, device)\n",
    "\n",
    "                pred_df.loc[pred_idx[i*x + current_index: i*x + current_index + num_rows], \"0\":\"10\"] = logits.cpu().numpy()\n",
    "                if step % 16 == 0 and step > 0: pred_df.to_csv(\"predictions.csv\", index=False)\n",
    "                \n",
    "                current_index += num_rows\n",
    "\n",
    "        pred_df.to_csv(\"predictions.csv\", index=False)"
   ]
  },
  {
   "cell_type": "code",
   "execution_count": 7,
   "metadata": {},
   "outputs": [
    {
     "name": "stderr",
     "output_type": "stream",
     "text": [
      "Some weights of the model checkpoint at bert-base-uncased were not used when initializing BertModel: ['cls.seq_relationship.weight', 'cls.predictions.transform.LayerNorm.bias', 'cls.seq_relationship.bias', 'cls.predictions.bias', 'cls.predictions.transform.dense.weight', 'cls.predictions.transform.LayerNorm.weight', 'cls.predictions.transform.dense.bias']\n",
      "- This IS expected if you are initializing BertModel from the checkpoint of a model trained on another task or with another architecture (e.g. initializing a BertForSequenceClassification model from a BertForPreTraining model).\n",
      "- This IS NOT expected if you are initializing BertModel from the checkpoint of a model that you expect to be exactly identical (initializing a BertForSequenceClassification model from a BertForSequenceClassification model).\n",
      "/home/alexlu/miniconda3/envs/emo/lib/python3.9/site-packages/ekphrasis/classes/tokenizer.py:225: FutureWarning: Possible nested set at position 2190\n",
      "  self.tok = re.compile(r\"({})\".format(\"|\".join(pipeline)))\n"
     ]
    },
    {
     "name": "stdout",
     "output_type": "stream",
     "text": [
      "Reading english - 1grams ...\n",
      "Reading english - 2grams ...\n",
      "Reading english - 1grams ...\n"
     ]
    },
    {
     "name": "stderr",
     "output_type": "stream",
     "text": [
      "/home/alexlu/miniconda3/envs/emo/lib/python3.9/site-packages/ekphrasis/classes/exmanager.py:14: FutureWarning: Possible nested set at position 42\n",
      "  regexes = {k.lower(): re.compile(self.expressions[k]) for k, v in\n"
     ]
    },
    {
     "data": {
      "text/html": [
       "\n",
       "<style>\n",
       "    /* Turns off some styling */\n",
       "    progress {\n",
       "        /* gets rid of default border in Firefox and Opera. */\n",
       "        border: none;\n",
       "        /* Needs to be in here for Safari polyfill so background images work as expected. */\n",
       "        background-size: auto;\n",
       "    }\n",
       "    progress:not([value]), progress:not([value])::-webkit-progress-bar {\n",
       "        background: repeating-linear-gradient(45deg, #7e7e7e, #7e7e7e 10px, #5c5c5c 10px, #5c5c5c 20px);\n",
       "    }\n",
       "    .progress-bar-interrupted, .progress-bar-interrupted::-webkit-progress-bar {\n",
       "        background: #F44336;\n",
       "    }\n",
       "</style>\n"
      ],
      "text/plain": [
       "<IPython.core.display.HTML object>"
      ]
     },
     "metadata": {},
     "output_type": "display_data"
    },
    {
     "data": {
      "text/html": [
       "\n",
       "    <div>\n",
       "      <progress value='1' class='' max='2' style='width:300px; height:20px; vertical-align: middle;'></progress>\n",
       "      50.00% [1/2 06:20&lt;06:20]\n",
       "    </div>\n",
       "    \n",
       "\n",
       "\n",
       "    <div>\n",
       "      <progress value='10490' class='' max='29114' style='width:300px; height:20px; vertical-align: middle;'></progress>\n",
       "      36.03% [10490/29114 00:16&lt;00:28]\n",
       "    </div>\n",
       "    "
      ],
      "text/plain": [
       "<IPython.core.display.HTML object>"
      ]
     },
     "metadata": {},
     "output_type": "display_data"
    },
    {
     "ename": "",
     "evalue": "",
     "output_type": "error",
     "traceback": [
      "\u001b[1;31mThe Kernel crashed while executing code in the the current cell or a previous cell. Please review the code in the cell(s) to identify a possible cause of the failure. Click <a href='https://aka.ms/vscodeJupyterKernelCrash'>here</a> for more info. View Jupyter <a href='command:jupyter.viewOutput'>log</a> for further details."
     ]
    }
   ],
   "source": [
    "loop(start=7)"
   ]
  }
 ],
 "metadata": {
  "kernelspec": {
   "display_name": "emo",
   "language": "python",
   "name": "python3"
  },
  "language_info": {
   "codemirror_mode": {
    "name": "ipython",
    "version": 3
   },
   "file_extension": ".py",
   "mimetype": "text/x-python",
   "name": "python",
   "nbconvert_exporter": "python",
   "pygments_lexer": "ipython3",
   "version": "3.9.17"
  }
 },
 "nbformat": 4,
 "nbformat_minor": 2
}
