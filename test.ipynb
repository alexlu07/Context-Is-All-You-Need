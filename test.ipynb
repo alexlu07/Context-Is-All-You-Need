{
 "cells": [
  {
   "cell_type": "code",
   "execution_count": 1,
   "metadata": {},
   "outputs": [],
   "source": [
    "import pandas as pd\n"
   ]
  },
  {
   "cell_type": "code",
   "execution_count": 2,
   "metadata": {},
   "outputs": [],
   "source": [
    "df = pd.read_csv(\"model1/data/train.csv\")"
   ]
  },
  {
   "cell_type": "code",
   "execution_count": 13,
   "metadata": {},
   "outputs": [],
   "source": [
    "text = df['text'].values"
   ]
  },
  {
   "cell_type": "code",
   "execution_count": 14,
   "metadata": {},
   "outputs": [],
   "source": [
    "words = [i.split() for i in text]"
   ]
  },
  {
   "cell_type": "code",
   "execution_count": 15,
   "metadata": {},
   "outputs": [],
   "source": [
    "lens = [len(i) for i in words]"
   ]
  },
  {
   "cell_type": "code",
   "execution_count": 17,
   "metadata": {},
   "outputs": [
    {
     "data": {
      "text/plain": [
       "12.840175074867542"
      ]
     },
     "execution_count": 17,
     "metadata": {},
     "output_type": "execute_result"
    }
   ],
   "source": [
    "sum(lens) / len(lens)"
   ]
  },
  {
   "cell_type": "code",
   "execution_count": 1,
   "metadata": {},
   "outputs": [],
   "source": [
    "d = {a: a*2 for a in range(10)}"
   ]
  },
  {
   "cell_type": "code",
   "execution_count": 9,
   "metadata": {},
   "outputs": [
    {
     "ename": "NameError",
     "evalue": "name 'a' is not defined",
     "output_type": "error",
     "traceback": [
      "\u001b[0;31m---------------------------------------------------------------------------\u001b[0m",
      "\u001b[0;31mNameError\u001b[0m                                 Traceback (most recent call last)",
      "\u001b[1;32m/home/alexlu/Documents/Programming/alexlu07/Scires/11th/test.ipynb Cell 8\u001b[0m line \u001b[0;36m1\n\u001b[0;32m----> <a href='vscode-notebook-cell:/home/alexlu/Documents/Programming/alexlu07/Scires/11th/test.ipynb#X43sZmlsZQ%3D%3D?line=0'>1</a>\u001b[0m a\n",
      "\u001b[0;31mNameError\u001b[0m: name 'a' is not defined"
     ]
    }
   ],
   "source": [
    "a"
   ]
  },
  {
   "cell_type": "code",
   "execution_count": 3,
   "metadata": {},
   "outputs": [
    {
     "data": {
      "text/plain": [
       "{0, 1, 2, 3, 4, 5, 6, 7, 8, 9}"
      ]
     },
     "execution_count": 3,
     "metadata": {},
     "output_type": "execute_result"
    }
   ],
   "source": [
    "set(d)"
   ]
  },
  {
   "cell_type": "code",
   "execution_count": 18,
   "metadata": {},
   "outputs": [
    {
     "data": {
      "text/plain": [
       "33"
      ]
     },
     "execution_count": 18,
     "metadata": {},
     "output_type": "execute_result"
    }
   ],
   "source": [
    "max(lens)"
   ]
  },
  {
   "cell_type": "code",
   "execution_count": 2,
   "metadata": {},
   "outputs": [],
   "source": [
    ">>> from transformers import BertTokenizer\n",
    ">>> tokenizer = BertTokenizer.from_pretrained(\"bert-base-cased\")\n",
    "\n",
    ">>> sequence_a = \"This is a short sequence.\"\n",
    ">>> sequence_b = \"This is a rather long sequence. It is at least longer than the sequence A.\"\n",
    "\n",
    ">>> encoded_sequence_a = tokenizer(sequence_a)[\"input_ids\"]\n",
    ">>> encoded_sequence_b = tokenizer(sequence_b)[\"input_ids\"]\n"
   ]
  },
  {
   "cell_type": "code",
   "execution_count": 5,
   "metadata": {},
   "outputs": [
    {
     "data": {
      "text/plain": [
       "'c o m p e t i t i o n'"
      ]
     },
     "execution_count": 5,
     "metadata": {},
     "output_type": "execute_result"
    }
   ],
   "source": [
    "tokenizer.decode(2208)"
   ]
  },
  {
   "cell_type": "code",
   "execution_count": 8,
   "metadata": {},
   "outputs": [
    {
     "ename": "AttributeError",
     "evalue": "'BertTokenizer' object has no attribute 'apply_chat_template'",
     "output_type": "error",
     "traceback": [
      "\u001b[0;31m---------------------------------------------------------------------------\u001b[0m",
      "\u001b[0;31mAttributeError\u001b[0m                            Traceback (most recent call last)",
      "\u001b[1;32m/home/alexlu/Documents/Programming/alexlu07/Scires/11th/test.ipynb Cell 11\u001b[0m line \u001b[0;36m1\n\u001b[0;32m----> <a href='vscode-notebook-cell:/home/alexlu/Documents/Programming/alexlu07/Scires/11th/test.ipynb#X42sZmlsZQ%3D%3D?line=0'>1</a>\u001b[0m tokenizer\u001b[39m.\u001b[39;49mapply_chat_template()\n",
      "\u001b[0;31mAttributeError\u001b[0m: 'BertTokenizer' object has no attribute 'apply_chat_template'"
     ]
    }
   ],
   "source": [
    "tokenizer.apply_chat_template()"
   ]
  },
  {
   "cell_type": "code",
   "execution_count": 6,
   "metadata": {},
   "outputs": [],
   "source": [
    "import pandas as pd"
   ]
  },
  {
   "cell_type": "code",
   "execution_count": 12,
   "metadata": {},
   "outputs": [],
   "source": [
    "x = pd.Series(['a ' * 6, 'b ' * 7])"
   ]
  },
  {
   "cell_type": "code",
   "execution_count": 26,
   "metadata": {},
   "outputs": [
    {
     "data": {
      "text/plain": [
       "0    a a a a a a\n",
       "1    b b b b b b\n",
       "dtype: object"
      ]
     },
     "execution_count": 26,
     "metadata": {},
     "output_type": "execute_result"
    }
   ],
   "source": [
    "x.str.split(n=6).str[:6].str.join(\" \")"
   ]
  },
  {
   "cell_type": "code",
   "execution_count": 1,
   "metadata": {},
   "outputs": [
    {
     "data": {
      "application/vnd.jupyter.widget-view+json": {
       "model_id": "cf8e9907a9d140cfab3c3aa9b164d1ba",
       "version_major": 2,
       "version_minor": 0
      },
      "text/plain": [
       "Downloading tokenizer_config.json:   0%|          | 0.00/1.15k [00:00<?, ?B/s]"
      ]
     },
     "metadata": {},
     "output_type": "display_data"
    },
    {
     "data": {
      "application/vnd.jupyter.widget-view+json": {
       "model_id": "ad56e22ba412488681e48b1993961853",
       "version_major": 2,
       "version_minor": 0
      },
      "text/plain": [
       "Downloading config.json:   0%|          | 0.00/1.57k [00:00<?, ?B/s]"
      ]
     },
     "metadata": {},
     "output_type": "display_data"
    },
    {
     "data": {
      "application/vnd.jupyter.widget-view+json": {
       "model_id": "0ed7f6b2b6aa43a88c20148970388970",
       "version_major": 2,
       "version_minor": 0
      },
      "text/plain": [
       "Downloading vocab.json:   0%|          | 0.00/127k [00:00<?, ?B/s]"
      ]
     },
     "metadata": {},
     "output_type": "display_data"
    },
    {
     "data": {
      "application/vnd.jupyter.widget-view+json": {
       "model_id": "5fe3fc42f3f946d5ae43dfd7d10f8e55",
       "version_major": 2,
       "version_minor": 0
      },
      "text/plain": [
       "Downloading merges.txt:   0%|          | 0.00/62.9k [00:00<?, ?B/s]"
      ]
     },
     "metadata": {},
     "output_type": "display_data"
    },
    {
     "data": {
      "application/vnd.jupyter.widget-view+json": {
       "model_id": "154eaec851014dc084fe583dc13e5da1",
       "version_major": 2,
       "version_minor": 0
      },
      "text/plain": [
       "Downloading added_tokens.json:   0%|          | 0.00/16.0 [00:00<?, ?B/s]"
      ]
     },
     "metadata": {},
     "output_type": "display_data"
    },
    {
     "data": {
      "application/vnd.jupyter.widget-view+json": {
       "model_id": "7dd32f3fded14f82aeb49259f792d02d",
       "version_major": 2,
       "version_minor": 0
      },
      "text/plain": [
       "Downloading (…)cial_tokens_map.json:   0%|          | 0.00/772 [00:00<?, ?B/s]"
      ]
     },
     "metadata": {},
     "output_type": "display_data"
    }
   ],
   "source": [
    "from transformers import AutoTokenizer\n",
    "tokenizer = AutoTokenizer.from_pretrained(\"facebook/blenderbot-400M-distill\")\n"
   ]
  },
  {
   "cell_type": "code",
   "execution_count": 6,
   "metadata": {},
   "outputs": [],
   "source": [
    "tokenizer.chat_template = \"{% if not add_generation_prompt is defined %}{% set add_generation_prompt = false %}{% endif %}{% for message in messages %}{{'<|im_start|>' + message['role'] + '\\n' + message['content'] + '<|im_end|>' + '\\n'}}{% endfor %}{% if add_generation_prompt %}{{ '<|im_start|>assistant\\n' }}{% endif %}\"\n"
   ]
  },
  {
   "cell_type": "code",
   "execution_count": 1,
   "metadata": {},
   "outputs": [],
   "source": [
    "import pandas as pd"
   ]
  },
  {
   "cell_type": "code",
   "execution_count": 2,
   "metadata": {},
   "outputs": [],
   "source": [
    "df = pd.read_csv(\"model2/cornell_movie/utterances.csv\")"
   ]
  },
  {
   "cell_type": "code",
   "execution_count": 20,
   "metadata": {},
   "outputs": [
    {
     "data": {
      "text/html": [
       "<div>\n",
       "<style scoped>\n",
       "    .dataframe tbody tr th:only-of-type {\n",
       "        vertical-align: middle;\n",
       "    }\n",
       "\n",
       "    .dataframe tbody tr th {\n",
       "        vertical-align: top;\n",
       "    }\n",
       "\n",
       "    .dataframe thead th {\n",
       "        text-align: right;\n",
       "    }\n",
       "</style>\n",
       "<table border=\"1\" class=\"dataframe\">\n",
       "  <thead>\n",
       "    <tr style=\"text-align: right;\">\n",
       "      <th></th>\n",
       "      <th>timestamp</th>\n",
       "      <th>text</th>\n",
       "      <th>speaker</th>\n",
       "      <th>reply_to</th>\n",
       "      <th>conversation_id</th>\n",
       "      <th>meta.movie_id</th>\n",
       "      <th>meta.parsed</th>\n",
       "      <th>vectors</th>\n",
       "    </tr>\n",
       "  </thead>\n",
       "  <tbody>\n",
       "    <tr>\n",
       "      <th>117</th>\n",
       "      <td>NaN</td>\n",
       "      <td>That's not</td>\n",
       "      <td>u5</td>\n",
       "      <td>NaN</td>\n",
       "      <td>L909</td>\n",
       "      <td>m0</td>\n",
       "      <td>[{'rt': 1, 'toks': [{'tok': 'That', 'tag': 'DT...</td>\n",
       "      <td>[]</td>\n",
       "    </tr>\n",
       "    <tr>\n",
       "      <th>131</th>\n",
       "      <td>NaN</td>\n",
       "      <td>In 9th.  For a month</td>\n",
       "      <td>u5</td>\n",
       "      <td>L894</td>\n",
       "      <td>L893</td>\n",
       "      <td>m0</td>\n",
       "      <td>[{'rt': 0, 'toks': [{'tok': 'In', 'tag': 'IN',...</td>\n",
       "      <td>[]</td>\n",
       "    </tr>\n",
       "    <tr>\n",
       "      <th>132</th>\n",
       "      <td>NaN</td>\n",
       "      <td>What?</td>\n",
       "      <td>u0</td>\n",
       "      <td>L893</td>\n",
       "      <td>L893</td>\n",
       "      <td>m0</td>\n",
       "      <td>[{'rt': 0, 'toks': [{'tok': 'What', 'tag': 'WP...</td>\n",
       "      <td>[]</td>\n",
       "    </tr>\n",
       "    <tr>\n",
       "      <th>133</th>\n",
       "      <td>NaN</td>\n",
       "      <td>Joey never told you we went out, did he?</td>\n",
       "      <td>u5</td>\n",
       "      <td>NaN</td>\n",
       "      <td>L893</td>\n",
       "      <td>m0</td>\n",
       "      <td>[{'rt': 8, 'toks': [{'tok': 'Joey', 'tag': 'NN...</td>\n",
       "      <td>[]</td>\n",
       "    </tr>\n",
       "    <tr>\n",
       "      <th>168</th>\n",
       "      <td>NaN</td>\n",
       "      <td>The prom?  Kat has a date?</td>\n",
       "      <td>u11</td>\n",
       "      <td>L878</td>\n",
       "      <td>L878</td>\n",
       "      <td>m0</td>\n",
       "      <td>[{'rt': 1, 'toks': [{'tok': 'The', 'tag': 'DT'...</td>\n",
       "      <td>[]</td>\n",
       "    </tr>\n",
       "    <tr>\n",
       "      <th>...</th>\n",
       "      <td>...</td>\n",
       "      <td>...</td>\n",
       "      <td>...</td>\n",
       "      <td>...</td>\n",
       "      <td>...</td>\n",
       "      <td>...</td>\n",
       "      <td>...</td>\n",
       "      <td>...</td>\n",
       "    </tr>\n",
       "    <tr>\n",
       "      <th>304660</th>\n",
       "      <td>NaN</td>\n",
       "      <td>Indeedldid, MyLord. Itwas one ofthe first to c...</td>\n",
       "      <td>u9032</td>\n",
       "      <td>L666390</td>\n",
       "      <td>L666388</td>\n",
       "      <td>m616</td>\n",
       "      <td>[{'rt': 0, 'toks': [{'tok': 'Indeedldid', 'tag...</td>\n",
       "      <td>[]</td>\n",
       "    </tr>\n",
       "    <tr>\n",
       "      <th>304661</th>\n",
       "      <td>NaN</td>\n",
       "      <td>1 saw you lead our Cavalry sir</td>\n",
       "      <td>u9027</td>\n",
       "      <td>L666389</td>\n",
       "      <td>L666388</td>\n",
       "      <td>m616</td>\n",
       "      <td>[{'rt': 1, 'toks': [{'tok': '1', 'tag': 'CD', ...</td>\n",
       "      <td>[]</td>\n",
       "    </tr>\n",
       "    <tr>\n",
       "      <th>304662</th>\n",
       "      <td>NaN</td>\n",
       "      <td>Excuse me, My Lord.  Norris-Newman, of \"The St...</td>\n",
       "      <td>u9032</td>\n",
       "      <td>L666388</td>\n",
       "      <td>L666388</td>\n",
       "      <td>m616</td>\n",
       "      <td>[{'rt': 0, 'toks': [{'tok': 'Excuse', 'tag': '...</td>\n",
       "      <td>[]</td>\n",
       "    </tr>\n",
       "    <tr>\n",
       "      <th>304663</th>\n",
       "      <td>NaN</td>\n",
       "      <td>An historical moment, Gentlemen.</td>\n",
       "      <td>u9027</td>\n",
       "      <td>NaN</td>\n",
       "      <td>L666388</td>\n",
       "      <td>m616</td>\n",
       "      <td>[{'rt': 2, 'toks': [{'tok': 'An', 'tag': 'DT',...</td>\n",
       "      <td>[]</td>\n",
       "    </tr>\n",
       "    <tr>\n",
       "      <th>304694</th>\n",
       "      <td>NaN</td>\n",
       "      <td>Stuart?</td>\n",
       "      <td>u9028</td>\n",
       "      <td>NaN</td>\n",
       "      <td>L666497</td>\n",
       "      <td>m616</td>\n",
       "      <td>[{'rt': 0, 'toks': [{'tok': 'Stuart', 'tag': '...</td>\n",
       "      <td>[]</td>\n",
       "    </tr>\n",
       "  </tbody>\n",
       "</table>\n",
       "<p>47911 rows × 8 columns</p>\n",
       "</div>"
      ],
      "text/plain": [
       "        timestamp                                               text speaker  \\\n",
       "117           NaN                                         That's not      u5   \n",
       "131           NaN                               In 9th.  For a month      u5   \n",
       "132           NaN                                              What?      u0   \n",
       "133           NaN           Joey never told you we went out, did he?      u5   \n",
       "168           NaN                         The prom?  Kat has a date?     u11   \n",
       "...           ...                                                ...     ...   \n",
       "304660        NaN  Indeedldid, MyLord. Itwas one ofthe first to c...   u9032   \n",
       "304661        NaN                     1 saw you lead our Cavalry sir   u9027   \n",
       "304662        NaN  Excuse me, My Lord.  Norris-Newman, of \"The St...   u9032   \n",
       "304663        NaN                   An historical moment, Gentlemen.   u9027   \n",
       "304694        NaN                                            Stuart?   u9028   \n",
       "\n",
       "       reply_to conversation_id meta.movie_id  \\\n",
       "117         NaN            L909            m0   \n",
       "131        L894            L893            m0   \n",
       "132        L893            L893            m0   \n",
       "133         NaN            L893            m0   \n",
       "168        L878            L878            m0   \n",
       "...         ...             ...           ...   \n",
       "304660  L666390         L666388          m616   \n",
       "304661  L666389         L666388          m616   \n",
       "304662  L666388         L666388          m616   \n",
       "304663      NaN         L666388          m616   \n",
       "304694      NaN         L666497          m616   \n",
       "\n",
       "                                              meta.parsed vectors  \n",
       "117     [{'rt': 1, 'toks': [{'tok': 'That', 'tag': 'DT...      []  \n",
       "131     [{'rt': 0, 'toks': [{'tok': 'In', 'tag': 'IN',...      []  \n",
       "132     [{'rt': 0, 'toks': [{'tok': 'What', 'tag': 'WP...      []  \n",
       "133     [{'rt': 8, 'toks': [{'tok': 'Joey', 'tag': 'NN...      []  \n",
       "168     [{'rt': 1, 'toks': [{'tok': 'The', 'tag': 'DT'...      []  \n",
       "...                                                   ...     ...  \n",
       "304660  [{'rt': 0, 'toks': [{'tok': 'Indeedldid', 'tag...      []  \n",
       "304661  [{'rt': 1, 'toks': [{'tok': '1', 'tag': 'CD', ...      []  \n",
       "304662  [{'rt': 0, 'toks': [{'tok': 'Excuse', 'tag': '...      []  \n",
       "304663  [{'rt': 2, 'toks': [{'tok': 'An', 'tag': 'DT',...      []  \n",
       "304694  [{'rt': 0, 'toks': [{'tok': 'Stuart', 'tag': '...      []  \n",
       "\n",
       "[47911 rows x 8 columns]"
      ]
     },
     "execution_count": 20,
     "metadata": {},
     "output_type": "execute_result"
    }
   ],
   "source": [
    "df[:].groupby('conversation_id').tail(-5).groupby"
   ]
  },
  {
   "cell_type": "code",
   "execution_count": 6,
   "metadata": {},
   "outputs": [
    {
     "data": {
      "text/plain": [
       "176572"
      ]
     },
     "execution_count": 6,
     "metadata": {},
     "output_type": "execute_result"
    }
   ],
   "source": [
    "list(df['text'].values).index(\"And I don't need to know. So fuck you, I'm goin' to Hollywood.\")"
   ]
  },
  {
   "cell_type": "code",
   "execution_count": 7,
   "metadata": {},
   "outputs": [
    {
     "data": {
      "text/html": [
       "<div>\n",
       "<style scoped>\n",
       "    .dataframe tbody tr th:only-of-type {\n",
       "        vertical-align: middle;\n",
       "    }\n",
       "\n",
       "    .dataframe tbody tr th {\n",
       "        vertical-align: top;\n",
       "    }\n",
       "\n",
       "    .dataframe thead th {\n",
       "        text-align: right;\n",
       "    }\n",
       "</style>\n",
       "<table border=\"1\" class=\"dataframe\">\n",
       "  <thead>\n",
       "    <tr style=\"text-align: right;\">\n",
       "      <th></th>\n",
       "      <th>timestamp</th>\n",
       "      <th>text</th>\n",
       "      <th>speaker</th>\n",
       "      <th>reply_to</th>\n",
       "      <th>conversation_id</th>\n",
       "      <th>meta.movie_id</th>\n",
       "      <th>meta.parsed</th>\n",
       "      <th>vectors</th>\n",
       "    </tr>\n",
       "  </thead>\n",
       "  <tbody>\n",
       "    <tr>\n",
       "      <th>176562</th>\n",
       "      <td>NaN</td>\n",
       "      <td>I guess we have a deal. Nice to be working wit...</td>\n",
       "      <td>u5116</td>\n",
       "      <td>L193605</td>\n",
       "      <td>L193605</td>\n",
       "      <td>m339</td>\n",
       "      <td>[{'rt': 1, 'toks': [{'tok': 'I', 'tag': 'PRP',...</td>\n",
       "      <td>[]</td>\n",
       "    </tr>\n",
       "    <tr>\n",
       "      <th>176563</th>\n",
       "      <td>NaN</td>\n",
       "      <td>Get this crap out of me.</td>\n",
       "      <td>u5120</td>\n",
       "      <td>NaN</td>\n",
       "      <td>L193605</td>\n",
       "      <td>m339</td>\n",
       "      <td>[{'rt': 0, 'toks': [{'tok': 'Get', 'tag': 'VB'...</td>\n",
       "      <td>[]</td>\n",
       "    </tr>\n",
       "    <tr>\n",
       "      <th>176564</th>\n",
       "      <td>NaN</td>\n",
       "      <td>You don't understand. It's already in you.</td>\n",
       "      <td>u5116</td>\n",
       "      <td>L193598</td>\n",
       "      <td>L193596</td>\n",
       "      <td>m339</td>\n",
       "      <td>[{'rt': 3, 'toks': [{'tok': 'You', 'tag': 'PRP...</td>\n",
       "      <td>[]</td>\n",
       "    </tr>\n",
       "    <tr>\n",
       "      <th>176565</th>\n",
       "      <td>NaN</td>\n",
       "      <td>Maybe. But you're not putting any shit in me t...</td>\n",
       "      <td>u5120</td>\n",
       "      <td>L193597</td>\n",
       "      <td>L193596</td>\n",
       "      <td>m339</td>\n",
       "      <td>[{'rt': 0, 'toks': [{'tok': 'Maybe', 'tag': 'R...</td>\n",
       "      <td>[]</td>\n",
       "    </tr>\n",
       "    <tr>\n",
       "      <th>176566</th>\n",
       "      <td>NaN</td>\n",
       "      <td>Having second thoughts?</td>\n",
       "      <td>u5116</td>\n",
       "      <td>L193596</td>\n",
       "      <td>L193596</td>\n",
       "      <td>m339</td>\n",
       "      <td>[{'rt': 0, 'toks': [{'tok': 'Having', 'tag': '...</td>\n",
       "      <td>[]</td>\n",
       "    </tr>\n",
       "    <tr>\n",
       "      <th>176567</th>\n",
       "      <td>NaN</td>\n",
       "      <td>Wait a minute, what are you talkin' about?</td>\n",
       "      <td>u5120</td>\n",
       "      <td>NaN</td>\n",
       "      <td>L193596</td>\n",
       "      <td>m339</td>\n",
       "      <td>[{'rt': 5, 'toks': [{'tok': 'Wait', 'tag': 'VB...</td>\n",
       "      <td>[]</td>\n",
       "    </tr>\n",
       "    <tr>\n",
       "      <th>176568</th>\n",
       "      <td>NaN</td>\n",
       "      <td>Tell the President to adopt. I think I'll like...</td>\n",
       "      <td>u5120</td>\n",
       "      <td>L193584</td>\n",
       "      <td>L193578</td>\n",
       "      <td>m339</td>\n",
       "      <td>[{'rt': 0, 'toks': [{'tok': 'Tell', 'tag': 'VB...</td>\n",
       "      <td>[]</td>\n",
       "    </tr>\n",
       "    <tr>\n",
       "      <th>176569</th>\n",
       "      <td>NaN</td>\n",
       "      <td>That's the deal.</td>\n",
       "      <td>u5116</td>\n",
       "      <td>L193583</td>\n",
       "      <td>L193578</td>\n",
       "      <td>m339</td>\n",
       "      <td>[{'rt': 1, 'toks': [{'tok': 'That', 'tag': 'DT...</td>\n",
       "      <td>[]</td>\n",
       "    </tr>\n",
       "    <tr>\n",
       "      <th>176570</th>\n",
       "      <td>NaN</td>\n",
       "      <td>So what's the deal, huh? Go into L.A., find th...</td>\n",
       "      <td>u5120</td>\n",
       "      <td>L193582</td>\n",
       "      <td>L193578</td>\n",
       "      <td>m339</td>\n",
       "      <td>[{'rt': 2, 'toks': [{'tok': 'So', 'tag': 'RB',...</td>\n",
       "      <td>[]</td>\n",
       "    </tr>\n",
       "    <tr>\n",
       "      <th>176571</th>\n",
       "      <td>NaN</td>\n",
       "      <td>That's right, big shot. Unless you do what we ...</td>\n",
       "      <td>u5116</td>\n",
       "      <td>L193581</td>\n",
       "      <td>L193578</td>\n",
       "      <td>m339</td>\n",
       "      <td>[{'rt': 1, 'toks': [{'tok': 'That', 'tag': 'DT...</td>\n",
       "      <td>[]</td>\n",
       "    </tr>\n",
       "    <tr>\n",
       "      <th>176572</th>\n",
       "      <td>NaN</td>\n",
       "      <td>And I don't need to know. So fuck you, I'm goi...</td>\n",
       "      <td>u5120</td>\n",
       "      <td>L193580</td>\n",
       "      <td>L193578</td>\n",
       "      <td>m339</td>\n",
       "      <td>[{'rt': 4, 'toks': [{'tok': 'And', 'tag': 'CC'...</td>\n",
       "      <td>[]</td>\n",
       "    </tr>\n",
       "    <tr>\n",
       "      <th>176573</th>\n",
       "      <td>NaN</td>\n",
       "      <td>Top secret. Only on a need to know.</td>\n",
       "      <td>u5116</td>\n",
       "      <td>L193579</td>\n",
       "      <td>L193578</td>\n",
       "      <td>m339</td>\n",
       "      <td>[{'rt': 1, 'toks': [{'tok': 'Top', 'tag': 'JJ'...</td>\n",
       "      <td>[]</td>\n",
       "    </tr>\n",
       "    <tr>\n",
       "      <th>176574</th>\n",
       "      <td>NaN</td>\n",
       "      <td>What's the little black box do?</td>\n",
       "      <td>u5120</td>\n",
       "      <td>L193578</td>\n",
       "      <td>L193578</td>\n",
       "      <td>m339</td>\n",
       "      <td>[{'rt': 6, 'toks': [{'tok': 'What', 'tag': 'WP...</td>\n",
       "      <td>[]</td>\n",
       "    </tr>\n",
       "    <tr>\n",
       "      <th>176575</th>\n",
       "      <td>NaN</td>\n",
       "      <td>Shut up, Plissken.</td>\n",
       "      <td>u5116</td>\n",
       "      <td>NaN</td>\n",
       "      <td>L193578</td>\n",
       "      <td>m339</td>\n",
       "      <td>[{'rt': 0, 'toks': [{'tok': 'Shut', 'tag': 'VB...</td>\n",
       "      <td>[]</td>\n",
       "    </tr>\n",
       "    <tr>\n",
       "      <th>176576</th>\n",
       "      <td>NaN</td>\n",
       "      <td>You assholes didn't bring me here to give me t...</td>\n",
       "      <td>u5120</td>\n",
       "      <td>L193561</td>\n",
       "      <td>L193561</td>\n",
       "      <td>m339</td>\n",
       "      <td>[{'rt': 4, 'toks': [{'tok': 'You', 'tag': 'PRP...</td>\n",
       "      <td>[]</td>\n",
       "    </tr>\n",
       "    <tr>\n",
       "      <th>176577</th>\n",
       "      <td>NaN</td>\n",
       "      <td>How you doin' Plissken?  You like the watch?</td>\n",
       "      <td>u5116</td>\n",
       "      <td>NaN</td>\n",
       "      <td>L193561</td>\n",
       "      <td>m339</td>\n",
       "      <td>[{'rt': 2, 'toks': [{'tok': 'How', 'tag': 'WRB...</td>\n",
       "      <td>[]</td>\n",
       "    </tr>\n",
       "    <tr>\n",
       "      <th>176578</th>\n",
       "      <td>NaN</td>\n",
       "      <td>You're free, Plissken. But if you even so much...</td>\n",
       "      <td>u5121</td>\n",
       "      <td>L194035</td>\n",
       "      <td>L194035</td>\n",
       "      <td>m339</td>\n",
       "      <td>[{'rt': 1, 'toks': [{'tok': 'You', 'tag': 'PRP...</td>\n",
       "      <td>[]</td>\n",
       "    </tr>\n",
       "    <tr>\n",
       "      <th>176579</th>\n",
       "      <td>NaN</td>\n",
       "      <td>Relax, war hero. We took you for a ride, and y...</td>\n",
       "      <td>u5116</td>\n",
       "      <td>NaN</td>\n",
       "      <td>L194035</td>\n",
       "      <td>m339</td>\n",
       "      <td>[{'rt': 0, 'toks': [{'tok': 'Relax', 'tag': 'V...</td>\n",
       "      <td>[]</td>\n",
       "    </tr>\n",
       "    <tr>\n",
       "      <th>176580</th>\n",
       "      <td>NaN</td>\n",
       "      <td>Well, yeah. All you have to do is push the but...</td>\n",
       "      <td>u5116</td>\n",
       "      <td>L193896</td>\n",
       "      <td>L193895</td>\n",
       "      <td>m339</td>\n",
       "      <td>[{'rt': 2, 'toks': [{'tok': 'Well', 'tag': 'UH...</td>\n",
       "      <td>[]</td>\n",
       "    </tr>\n",
       "    <tr>\n",
       "      <th>176581</th>\n",
       "      <td>NaN</td>\n",
       "      <td>Does he know how to activate it?</td>\n",
       "      <td>u5121</td>\n",
       "      <td>L193895</td>\n",
       "      <td>L193895</td>\n",
       "      <td>m339</td>\n",
       "      <td>[{'rt': 2, 'toks': [{'tok': 'Does', 'tag': 'VB...</td>\n",
       "      <td>[]</td>\n",
       "    </tr>\n",
       "  </tbody>\n",
       "</table>\n",
       "</div>"
      ],
      "text/plain": [
       "        timestamp                                               text speaker  \\\n",
       "176562        NaN  I guess we have a deal. Nice to be working wit...   u5116   \n",
       "176563        NaN                           Get this crap out of me.   u5120   \n",
       "176564        NaN         You don't understand. It's already in you.   u5116   \n",
       "176565        NaN  Maybe. But you're not putting any shit in me t...   u5120   \n",
       "176566        NaN                            Having second thoughts?   u5116   \n",
       "176567        NaN         Wait a minute, what are you talkin' about?   u5120   \n",
       "176568        NaN  Tell the President to adopt. I think I'll like...   u5120   \n",
       "176569        NaN                                   That's the deal.   u5116   \n",
       "176570        NaN  So what's the deal, huh? Go into L.A., find th...   u5120   \n",
       "176571        NaN  That's right, big shot. Unless you do what we ...   u5116   \n",
       "176572        NaN  And I don't need to know. So fuck you, I'm goi...   u5120   \n",
       "176573        NaN                Top secret. Only on a need to know.   u5116   \n",
       "176574        NaN                    What's the little black box do?   u5120   \n",
       "176575        NaN                                 Shut up, Plissken.   u5116   \n",
       "176576        NaN  You assholes didn't bring me here to give me t...   u5120   \n",
       "176577        NaN       How you doin' Plissken?  You like the watch?   u5116   \n",
       "176578        NaN  You're free, Plissken. But if you even so much...   u5121   \n",
       "176579        NaN  Relax, war hero. We took you for a ride, and y...   u5116   \n",
       "176580        NaN  Well, yeah. All you have to do is push the but...   u5116   \n",
       "176581        NaN                   Does he know how to activate it?   u5121   \n",
       "\n",
       "       reply_to conversation_id meta.movie_id  \\\n",
       "176562  L193605         L193605          m339   \n",
       "176563      NaN         L193605          m339   \n",
       "176564  L193598         L193596          m339   \n",
       "176565  L193597         L193596          m339   \n",
       "176566  L193596         L193596          m339   \n",
       "176567      NaN         L193596          m339   \n",
       "176568  L193584         L193578          m339   \n",
       "176569  L193583         L193578          m339   \n",
       "176570  L193582         L193578          m339   \n",
       "176571  L193581         L193578          m339   \n",
       "176572  L193580         L193578          m339   \n",
       "176573  L193579         L193578          m339   \n",
       "176574  L193578         L193578          m339   \n",
       "176575      NaN         L193578          m339   \n",
       "176576  L193561         L193561          m339   \n",
       "176577      NaN         L193561          m339   \n",
       "176578  L194035         L194035          m339   \n",
       "176579      NaN         L194035          m339   \n",
       "176580  L193896         L193895          m339   \n",
       "176581  L193895         L193895          m339   \n",
       "\n",
       "                                              meta.parsed vectors  \n",
       "176562  [{'rt': 1, 'toks': [{'tok': 'I', 'tag': 'PRP',...      []  \n",
       "176563  [{'rt': 0, 'toks': [{'tok': 'Get', 'tag': 'VB'...      []  \n",
       "176564  [{'rt': 3, 'toks': [{'tok': 'You', 'tag': 'PRP...      []  \n",
       "176565  [{'rt': 0, 'toks': [{'tok': 'Maybe', 'tag': 'R...      []  \n",
       "176566  [{'rt': 0, 'toks': [{'tok': 'Having', 'tag': '...      []  \n",
       "176567  [{'rt': 5, 'toks': [{'tok': 'Wait', 'tag': 'VB...      []  \n",
       "176568  [{'rt': 0, 'toks': [{'tok': 'Tell', 'tag': 'VB...      []  \n",
       "176569  [{'rt': 1, 'toks': [{'tok': 'That', 'tag': 'DT...      []  \n",
       "176570  [{'rt': 2, 'toks': [{'tok': 'So', 'tag': 'RB',...      []  \n",
       "176571  [{'rt': 1, 'toks': [{'tok': 'That', 'tag': 'DT...      []  \n",
       "176572  [{'rt': 4, 'toks': [{'tok': 'And', 'tag': 'CC'...      []  \n",
       "176573  [{'rt': 1, 'toks': [{'tok': 'Top', 'tag': 'JJ'...      []  \n",
       "176574  [{'rt': 6, 'toks': [{'tok': 'What', 'tag': 'WP...      []  \n",
       "176575  [{'rt': 0, 'toks': [{'tok': 'Shut', 'tag': 'VB...      []  \n",
       "176576  [{'rt': 4, 'toks': [{'tok': 'You', 'tag': 'PRP...      []  \n",
       "176577  [{'rt': 2, 'toks': [{'tok': 'How', 'tag': 'WRB...      []  \n",
       "176578  [{'rt': 1, 'toks': [{'tok': 'You', 'tag': 'PRP...      []  \n",
       "176579  [{'rt': 0, 'toks': [{'tok': 'Relax', 'tag': 'V...      []  \n",
       "176580  [{'rt': 2, 'toks': [{'tok': 'Well', 'tag': 'UH...      []  \n",
       "176581  [{'rt': 2, 'toks': [{'tok': 'Does', 'tag': 'VB...      []  "
      ]
     },
     "execution_count": 7,
     "metadata": {},
     "output_type": "execute_result"
    }
   ],
   "source": [
    "df.iloc[176572-10:176572+10]"
   ]
  },
  {
   "cell_type": "code",
   "execution_count": 9,
   "metadata": {},
   "outputs": [],
   "source": [
    "import torch"
   ]
  },
  {
   "cell_type": "code",
   "execution_count": null,
   "metadata": {},
   "outputs": [],
   "source": []
  },
  {
   "cell_type": "code",
   "execution_count": null,
   "metadata": {},
   "outputs": [],
   "source": []
  },
  {
   "cell_type": "code",
   "execution_count": 10,
   "metadata": {},
   "outputs": [
    {
     "data": {
      "text/plain": [
       "True"
      ]
     },
     "execution_count": 10,
     "metadata": {},
     "output_type": "execute_result"
    }
   ],
   "source": [
    ">>> padded_sequences = tokenizer([sequence_a, sequence_b], padding=True, return_tensors='pt')\n",
    ">>> padded_sequences[\"attention_mask\"].dtype == torch.long\n"
   ]
  },
  {
   "cell_type": "code",
   "execution_count": 3,
   "metadata": {},
   "outputs": [],
   "source": [
    "import transformers\n",
    "from transformers import AutoModel\n",
    "from transformers import AutoTokenizer\n",
    "import torchsummary\n",
    "from torchsummary import summary\n"
   ]
  },
  {
   "cell_type": "code",
   "execution_count": 4,
   "metadata": {},
   "outputs": [],
   "source": [
    "tokenizer = AutoTokenizer.from_pretrained(\"bert-base-uncased\")"
   ]
  },
  {
   "cell_type": "code",
   "execution_count": 18,
   "metadata": {},
   "outputs": [],
   "source": [
    "tokens = tokenizer(\"nervous\")['input_ids']"
   ]
  },
  {
   "cell_type": "code",
   "execution_count": 19,
   "metadata": {},
   "outputs": [
    {
     "data": {
      "text/plain": [
       "['[CLS]', 'nervous', '[SEP]']"
      ]
     },
     "execution_count": 19,
     "metadata": {},
     "output_type": "execute_result"
    }
   ],
   "source": [
    "tokenizer.convert_ids_to_tokens(tokens)"
   ]
  },
  {
   "cell_type": "code",
   "execution_count": 11,
   "metadata": {},
   "outputs": [
    {
     "name": "stderr",
     "output_type": "stream",
     "text": [
      "Some weights of the model checkpoint at roberta-base were not used when initializing RobertaModel: ['lm_head.bias', 'lm_head.dense.bias', 'lm_head.layer_norm.weight', 'lm_head.layer_norm.bias', 'lm_head.dense.weight']\n",
      "- This IS expected if you are initializing RobertaModel from the checkpoint of a model trained on another task or with another architecture (e.g. initializing a BertForSequenceClassification model from a BertForPreTraining model).\n",
      "- This IS NOT expected if you are initializing RobertaModel from the checkpoint of a model that you expect to be exactly identical (initializing a BertForSequenceClassification model from a BertForSequenceClassification model).\n",
      "Some weights of RobertaModel were not initialized from the model checkpoint at roberta-base and are newly initialized: ['roberta.pooler.dense.weight', 'roberta.pooler.dense.bias']\n",
      "You should probably TRAIN this model on a down-stream task to be able to use it for predictions and inference.\n"
     ]
    }
   ],
   "source": [
    "roberta = AutoModel.from_pretrained(\"roberta-base\")\n",
    "\n"
   ]
  },
  {
   "cell_type": "code",
   "execution_count": 11,
   "metadata": {},
   "outputs": [
    {
     "name": "stdout",
     "output_type": "stream",
     "text": [
      "================================================================================\n",
      "Layer (type:depth-idx)                                  Param #\n",
      "================================================================================\n",
      "├─RobertaEmbeddings: 1-1                                --\n",
      "|    └─Embedding: 2-1                                   38,603,520\n",
      "|    └─Embedding: 2-2                                   394,752\n",
      "|    └─Embedding: 2-3                                   768\n",
      "|    └─LayerNorm: 2-4                                   1,536\n",
      "|    └─Dropout: 2-5                                     --\n",
      "├─RobertaEncoder: 1-2                                   --\n",
      "|    └─ModuleList: 2-6                                  --\n",
      "|    |    └─RobertaLayer: 3-1                           --\n",
      "|    |    |    └─RobertaAttention: 4-1                  --\n",
      "|    |    |    |    └─RobertaSelfAttention: 5-1         1,771,776\n",
      "|    |    |    |    └─RobertaSelfOutput: 5-2            592,128\n",
      "|    |    |    └─RobertaIntermediate: 4-2               --\n",
      "|    |    |    |    └─Linear: 5-3                       2,362,368\n",
      "|    |    |    |    └─GELUActivation: 5-4               --\n",
      "|    |    |    └─RobertaOutput: 4-3                     --\n",
      "|    |    |    |    └─Linear: 5-5                       2,360,064\n",
      "|    |    |    |    └─LayerNorm: 5-6                    1,536\n",
      "|    |    |    |    └─Dropout: 5-7                      --\n",
      "|    |    └─RobertaLayer: 3-2                           --\n",
      "|    |    |    └─RobertaAttention: 4-4                  --\n",
      "|    |    |    |    └─RobertaSelfAttention: 5-8         1,771,776\n",
      "|    |    |    |    └─RobertaSelfOutput: 5-9            592,128\n",
      "|    |    |    └─RobertaIntermediate: 4-5               --\n",
      "|    |    |    |    └─Linear: 5-10                      2,362,368\n",
      "|    |    |    |    └─GELUActivation: 5-11              --\n",
      "|    |    |    └─RobertaOutput: 4-6                     --\n",
      "|    |    |    |    └─Linear: 5-12                      2,360,064\n",
      "|    |    |    |    └─LayerNorm: 5-13                   1,536\n",
      "|    |    |    |    └─Dropout: 5-14                     --\n",
      "|    |    └─RobertaLayer: 3-3                           --\n",
      "|    |    |    └─RobertaAttention: 4-7                  --\n",
      "|    |    |    |    └─RobertaSelfAttention: 5-15        1,771,776\n",
      "|    |    |    |    └─RobertaSelfOutput: 5-16           592,128\n",
      "|    |    |    └─RobertaIntermediate: 4-8               --\n",
      "|    |    |    |    └─Linear: 5-17                      2,362,368\n",
      "|    |    |    |    └─GELUActivation: 5-18              --\n",
      "|    |    |    └─RobertaOutput: 4-9                     --\n",
      "|    |    |    |    └─Linear: 5-19                      2,360,064\n",
      "|    |    |    |    └─LayerNorm: 5-20                   1,536\n",
      "|    |    |    |    └─Dropout: 5-21                     --\n",
      "|    |    └─RobertaLayer: 3-4                           --\n",
      "|    |    |    └─RobertaAttention: 4-10                 --\n",
      "|    |    |    |    └─RobertaSelfAttention: 5-22        1,771,776\n",
      "|    |    |    |    └─RobertaSelfOutput: 5-23           592,128\n",
      "|    |    |    └─RobertaIntermediate: 4-11              --\n",
      "|    |    |    |    └─Linear: 5-24                      2,362,368\n",
      "|    |    |    |    └─GELUActivation: 5-25              --\n",
      "|    |    |    └─RobertaOutput: 4-12                    --\n",
      "|    |    |    |    └─Linear: 5-26                      2,360,064\n",
      "|    |    |    |    └─LayerNorm: 5-27                   1,536\n",
      "|    |    |    |    └─Dropout: 5-28                     --\n",
      "|    |    └─RobertaLayer: 3-5                           --\n",
      "|    |    |    └─RobertaAttention: 4-13                 --\n",
      "|    |    |    |    └─RobertaSelfAttention: 5-29        1,771,776\n",
      "|    |    |    |    └─RobertaSelfOutput: 5-30           592,128\n",
      "|    |    |    └─RobertaIntermediate: 4-14              --\n",
      "|    |    |    |    └─Linear: 5-31                      2,362,368\n",
      "|    |    |    |    └─GELUActivation: 5-32              --\n",
      "|    |    |    └─RobertaOutput: 4-15                    --\n",
      "|    |    |    |    └─Linear: 5-33                      2,360,064\n",
      "|    |    |    |    └─LayerNorm: 5-34                   1,536\n",
      "|    |    |    |    └─Dropout: 5-35                     --\n",
      "|    |    └─RobertaLayer: 3-6                           --\n",
      "|    |    |    └─RobertaAttention: 4-16                 --\n",
      "|    |    |    |    └─RobertaSelfAttention: 5-36        1,771,776\n",
      "|    |    |    |    └─RobertaSelfOutput: 5-37           592,128\n",
      "|    |    |    └─RobertaIntermediate: 4-17              --\n",
      "|    |    |    |    └─Linear: 5-38                      2,362,368\n",
      "|    |    |    |    └─GELUActivation: 5-39              --\n",
      "|    |    |    └─RobertaOutput: 4-18                    --\n",
      "|    |    |    |    └─Linear: 5-40                      2,360,064\n",
      "|    |    |    |    └─LayerNorm: 5-41                   1,536\n",
      "|    |    |    |    └─Dropout: 5-42                     --\n",
      "|    |    └─RobertaLayer: 3-7                           --\n",
      "|    |    |    └─RobertaAttention: 4-19                 --\n",
      "|    |    |    |    └─RobertaSelfAttention: 5-43        1,771,776\n",
      "|    |    |    |    └─RobertaSelfOutput: 5-44           592,128\n",
      "|    |    |    └─RobertaIntermediate: 4-20              --\n",
      "|    |    |    |    └─Linear: 5-45                      2,362,368\n",
      "|    |    |    |    └─GELUActivation: 5-46              --\n",
      "|    |    |    └─RobertaOutput: 4-21                    --\n",
      "|    |    |    |    └─Linear: 5-47                      2,360,064\n",
      "|    |    |    |    └─LayerNorm: 5-48                   1,536\n",
      "|    |    |    |    └─Dropout: 5-49                     --\n",
      "|    |    └─RobertaLayer: 3-8                           --\n",
      "|    |    |    └─RobertaAttention: 4-22                 --\n",
      "|    |    |    |    └─RobertaSelfAttention: 5-50        1,771,776\n",
      "|    |    |    |    └─RobertaSelfOutput: 5-51           592,128\n",
      "|    |    |    └─RobertaIntermediate: 4-23              --\n",
      "|    |    |    |    └─Linear: 5-52                      2,362,368\n",
      "|    |    |    |    └─GELUActivation: 5-53              --\n",
      "|    |    |    └─RobertaOutput: 4-24                    --\n",
      "|    |    |    |    └─Linear: 5-54                      2,360,064\n",
      "|    |    |    |    └─LayerNorm: 5-55                   1,536\n",
      "|    |    |    |    └─Dropout: 5-56                     --\n",
      "|    |    └─RobertaLayer: 3-9                           --\n",
      "|    |    |    └─RobertaAttention: 4-25                 --\n",
      "|    |    |    |    └─RobertaSelfAttention: 5-57        1,771,776\n",
      "|    |    |    |    └─RobertaSelfOutput: 5-58           592,128\n",
      "|    |    |    └─RobertaIntermediate: 4-26              --\n",
      "|    |    |    |    └─Linear: 5-59                      2,362,368\n",
      "|    |    |    |    └─GELUActivation: 5-60              --\n",
      "|    |    |    └─RobertaOutput: 4-27                    --\n",
      "|    |    |    |    └─Linear: 5-61                      2,360,064\n",
      "|    |    |    |    └─LayerNorm: 5-62                   1,536\n",
      "|    |    |    |    └─Dropout: 5-63                     --\n",
      "|    |    └─RobertaLayer: 3-10                          --\n",
      "|    |    |    └─RobertaAttention: 4-28                 --\n",
      "|    |    |    |    └─RobertaSelfAttention: 5-64        1,771,776\n",
      "|    |    |    |    └─RobertaSelfOutput: 5-65           592,128\n",
      "|    |    |    └─RobertaIntermediate: 4-29              --\n",
      "|    |    |    |    └─Linear: 5-66                      2,362,368\n",
      "|    |    |    |    └─GELUActivation: 5-67              --\n",
      "|    |    |    └─RobertaOutput: 4-30                    --\n",
      "|    |    |    |    └─Linear: 5-68                      2,360,064\n",
      "|    |    |    |    └─LayerNorm: 5-69                   1,536\n",
      "|    |    |    |    └─Dropout: 5-70                     --\n",
      "|    |    └─RobertaLayer: 3-11                          --\n",
      "|    |    |    └─RobertaAttention: 4-31                 --\n",
      "|    |    |    |    └─RobertaSelfAttention: 5-71        1,771,776\n",
      "|    |    |    |    └─RobertaSelfOutput: 5-72           592,128\n",
      "|    |    |    └─RobertaIntermediate: 4-32              --\n",
      "|    |    |    |    └─Linear: 5-73                      2,362,368\n",
      "|    |    |    |    └─GELUActivation: 5-74              --\n",
      "|    |    |    └─RobertaOutput: 4-33                    --\n",
      "|    |    |    |    └─Linear: 5-75                      2,360,064\n",
      "|    |    |    |    └─LayerNorm: 5-76                   1,536\n",
      "|    |    |    |    └─Dropout: 5-77                     --\n",
      "|    |    └─RobertaLayer: 3-12                          --\n",
      "|    |    |    └─RobertaAttention: 4-34                 --\n",
      "|    |    |    |    └─RobertaSelfAttention: 5-78        1,771,776\n",
      "|    |    |    |    └─RobertaSelfOutput: 5-79           592,128\n",
      "|    |    |    └─RobertaIntermediate: 4-35              --\n",
      "|    |    |    |    └─Linear: 5-80                      2,362,368\n",
      "|    |    |    |    └─GELUActivation: 5-81              --\n",
      "|    |    |    └─RobertaOutput: 4-36                    --\n",
      "|    |    |    |    └─Linear: 5-82                      2,360,064\n",
      "|    |    |    |    └─LayerNorm: 5-83                   1,536\n",
      "|    |    |    |    └─Dropout: 5-84                     --\n",
      "├─RobertaPooler: 1-3                                    --\n",
      "|    └─Linear: 2-7                                      590,592\n",
      "|    └─Tanh: 2-8                                        --\n",
      "================================================================================\n",
      "Total params: 124,645,632\n",
      "Trainable params: 124,645,632\n",
      "Non-trainable params: 0\n",
      "================================================================================\n"
     ]
    },
    {
     "data": {
      "text/plain": [
       "================================================================================\n",
       "Layer (type:depth-idx)                                  Param #\n",
       "================================================================================\n",
       "├─RobertaEmbeddings: 1-1                                --\n",
       "|    └─Embedding: 2-1                                   38,603,520\n",
       "|    └─Embedding: 2-2                                   394,752\n",
       "|    └─Embedding: 2-3                                   768\n",
       "|    └─LayerNorm: 2-4                                   1,536\n",
       "|    └─Dropout: 2-5                                     --\n",
       "├─RobertaEncoder: 1-2                                   --\n",
       "|    └─ModuleList: 2-6                                  --\n",
       "|    |    └─RobertaLayer: 3-1                           --\n",
       "|    |    |    └─RobertaAttention: 4-1                  --\n",
       "|    |    |    |    └─RobertaSelfAttention: 5-1         1,771,776\n",
       "|    |    |    |    └─RobertaSelfOutput: 5-2            592,128\n",
       "|    |    |    └─RobertaIntermediate: 4-2               --\n",
       "|    |    |    |    └─Linear: 5-3                       2,362,368\n",
       "|    |    |    |    └─GELUActivation: 5-4               --\n",
       "|    |    |    └─RobertaOutput: 4-3                     --\n",
       "|    |    |    |    └─Linear: 5-5                       2,360,064\n",
       "|    |    |    |    └─LayerNorm: 5-6                    1,536\n",
       "|    |    |    |    └─Dropout: 5-7                      --\n",
       "|    |    └─RobertaLayer: 3-2                           --\n",
       "|    |    |    └─RobertaAttention: 4-4                  --\n",
       "|    |    |    |    └─RobertaSelfAttention: 5-8         1,771,776\n",
       "|    |    |    |    └─RobertaSelfOutput: 5-9            592,128\n",
       "|    |    |    └─RobertaIntermediate: 4-5               --\n",
       "|    |    |    |    └─Linear: 5-10                      2,362,368\n",
       "|    |    |    |    └─GELUActivation: 5-11              --\n",
       "|    |    |    └─RobertaOutput: 4-6                     --\n",
       "|    |    |    |    └─Linear: 5-12                      2,360,064\n",
       "|    |    |    |    └─LayerNorm: 5-13                   1,536\n",
       "|    |    |    |    └─Dropout: 5-14                     --\n",
       "|    |    └─RobertaLayer: 3-3                           --\n",
       "|    |    |    └─RobertaAttention: 4-7                  --\n",
       "|    |    |    |    └─RobertaSelfAttention: 5-15        1,771,776\n",
       "|    |    |    |    └─RobertaSelfOutput: 5-16           592,128\n",
       "|    |    |    └─RobertaIntermediate: 4-8               --\n",
       "|    |    |    |    └─Linear: 5-17                      2,362,368\n",
       "|    |    |    |    └─GELUActivation: 5-18              --\n",
       "|    |    |    └─RobertaOutput: 4-9                     --\n",
       "|    |    |    |    └─Linear: 5-19                      2,360,064\n",
       "|    |    |    |    └─LayerNorm: 5-20                   1,536\n",
       "|    |    |    |    └─Dropout: 5-21                     --\n",
       "|    |    └─RobertaLayer: 3-4                           --\n",
       "|    |    |    └─RobertaAttention: 4-10                 --\n",
       "|    |    |    |    └─RobertaSelfAttention: 5-22        1,771,776\n",
       "|    |    |    |    └─RobertaSelfOutput: 5-23           592,128\n",
       "|    |    |    └─RobertaIntermediate: 4-11              --\n",
       "|    |    |    |    └─Linear: 5-24                      2,362,368\n",
       "|    |    |    |    └─GELUActivation: 5-25              --\n",
       "|    |    |    └─RobertaOutput: 4-12                    --\n",
       "|    |    |    |    └─Linear: 5-26                      2,360,064\n",
       "|    |    |    |    └─LayerNorm: 5-27                   1,536\n",
       "|    |    |    |    └─Dropout: 5-28                     --\n",
       "|    |    └─RobertaLayer: 3-5                           --\n",
       "|    |    |    └─RobertaAttention: 4-13                 --\n",
       "|    |    |    |    └─RobertaSelfAttention: 5-29        1,771,776\n",
       "|    |    |    |    └─RobertaSelfOutput: 5-30           592,128\n",
       "|    |    |    └─RobertaIntermediate: 4-14              --\n",
       "|    |    |    |    └─Linear: 5-31                      2,362,368\n",
       "|    |    |    |    └─GELUActivation: 5-32              --\n",
       "|    |    |    └─RobertaOutput: 4-15                    --\n",
       "|    |    |    |    └─Linear: 5-33                      2,360,064\n",
       "|    |    |    |    └─LayerNorm: 5-34                   1,536\n",
       "|    |    |    |    └─Dropout: 5-35                     --\n",
       "|    |    └─RobertaLayer: 3-6                           --\n",
       "|    |    |    └─RobertaAttention: 4-16                 --\n",
       "|    |    |    |    └─RobertaSelfAttention: 5-36        1,771,776\n",
       "|    |    |    |    └─RobertaSelfOutput: 5-37           592,128\n",
       "|    |    |    └─RobertaIntermediate: 4-17              --\n",
       "|    |    |    |    └─Linear: 5-38                      2,362,368\n",
       "|    |    |    |    └─GELUActivation: 5-39              --\n",
       "|    |    |    └─RobertaOutput: 4-18                    --\n",
       "|    |    |    |    └─Linear: 5-40                      2,360,064\n",
       "|    |    |    |    └─LayerNorm: 5-41                   1,536\n",
       "|    |    |    |    └─Dropout: 5-42                     --\n",
       "|    |    └─RobertaLayer: 3-7                           --\n",
       "|    |    |    └─RobertaAttention: 4-19                 --\n",
       "|    |    |    |    └─RobertaSelfAttention: 5-43        1,771,776\n",
       "|    |    |    |    └─RobertaSelfOutput: 5-44           592,128\n",
       "|    |    |    └─RobertaIntermediate: 4-20              --\n",
       "|    |    |    |    └─Linear: 5-45                      2,362,368\n",
       "|    |    |    |    └─GELUActivation: 5-46              --\n",
       "|    |    |    └─RobertaOutput: 4-21                    --\n",
       "|    |    |    |    └─Linear: 5-47                      2,360,064\n",
       "|    |    |    |    └─LayerNorm: 5-48                   1,536\n",
       "|    |    |    |    └─Dropout: 5-49                     --\n",
       "|    |    └─RobertaLayer: 3-8                           --\n",
       "|    |    |    └─RobertaAttention: 4-22                 --\n",
       "|    |    |    |    └─RobertaSelfAttention: 5-50        1,771,776\n",
       "|    |    |    |    └─RobertaSelfOutput: 5-51           592,128\n",
       "|    |    |    └─RobertaIntermediate: 4-23              --\n",
       "|    |    |    |    └─Linear: 5-52                      2,362,368\n",
       "|    |    |    |    └─GELUActivation: 5-53              --\n",
       "|    |    |    └─RobertaOutput: 4-24                    --\n",
       "|    |    |    |    └─Linear: 5-54                      2,360,064\n",
       "|    |    |    |    └─LayerNorm: 5-55                   1,536\n",
       "|    |    |    |    └─Dropout: 5-56                     --\n",
       "|    |    └─RobertaLayer: 3-9                           --\n",
       "|    |    |    └─RobertaAttention: 4-25                 --\n",
       "|    |    |    |    └─RobertaSelfAttention: 5-57        1,771,776\n",
       "|    |    |    |    └─RobertaSelfOutput: 5-58           592,128\n",
       "|    |    |    └─RobertaIntermediate: 4-26              --\n",
       "|    |    |    |    └─Linear: 5-59                      2,362,368\n",
       "|    |    |    |    └─GELUActivation: 5-60              --\n",
       "|    |    |    └─RobertaOutput: 4-27                    --\n",
       "|    |    |    |    └─Linear: 5-61                      2,360,064\n",
       "|    |    |    |    └─LayerNorm: 5-62                   1,536\n",
       "|    |    |    |    └─Dropout: 5-63                     --\n",
       "|    |    └─RobertaLayer: 3-10                          --\n",
       "|    |    |    └─RobertaAttention: 4-28                 --\n",
       "|    |    |    |    └─RobertaSelfAttention: 5-64        1,771,776\n",
       "|    |    |    |    └─RobertaSelfOutput: 5-65           592,128\n",
       "|    |    |    └─RobertaIntermediate: 4-29              --\n",
       "|    |    |    |    └─Linear: 5-66                      2,362,368\n",
       "|    |    |    |    └─GELUActivation: 5-67              --\n",
       "|    |    |    └─RobertaOutput: 4-30                    --\n",
       "|    |    |    |    └─Linear: 5-68                      2,360,064\n",
       "|    |    |    |    └─LayerNorm: 5-69                   1,536\n",
       "|    |    |    |    └─Dropout: 5-70                     --\n",
       "|    |    └─RobertaLayer: 3-11                          --\n",
       "|    |    |    └─RobertaAttention: 4-31                 --\n",
       "|    |    |    |    └─RobertaSelfAttention: 5-71        1,771,776\n",
       "|    |    |    |    └─RobertaSelfOutput: 5-72           592,128\n",
       "|    |    |    └─RobertaIntermediate: 4-32              --\n",
       "|    |    |    |    └─Linear: 5-73                      2,362,368\n",
       "|    |    |    |    └─GELUActivation: 5-74              --\n",
       "|    |    |    └─RobertaOutput: 4-33                    --\n",
       "|    |    |    |    └─Linear: 5-75                      2,360,064\n",
       "|    |    |    |    └─LayerNorm: 5-76                   1,536\n",
       "|    |    |    |    └─Dropout: 5-77                     --\n",
       "|    |    └─RobertaLayer: 3-12                          --\n",
       "|    |    |    └─RobertaAttention: 4-34                 --\n",
       "|    |    |    |    └─RobertaSelfAttention: 5-78        1,771,776\n",
       "|    |    |    |    └─RobertaSelfOutput: 5-79           592,128\n",
       "|    |    |    └─RobertaIntermediate: 4-35              --\n",
       "|    |    |    |    └─Linear: 5-80                      2,362,368\n",
       "|    |    |    |    └─GELUActivation: 5-81              --\n",
       "|    |    |    └─RobertaOutput: 4-36                    --\n",
       "|    |    |    |    └─Linear: 5-82                      2,360,064\n",
       "|    |    |    |    └─LayerNorm: 5-83                   1,536\n",
       "|    |    |    |    └─Dropout: 5-84                     --\n",
       "├─RobertaPooler: 1-3                                    --\n",
       "|    └─Linear: 2-7                                      590,592\n",
       "|    └─Tanh: 2-8                                        --\n",
       "================================================================================\n",
       "Total params: 124,645,632\n",
       "Trainable params: 124,645,632\n",
       "Non-trainable params: 0\n",
       "================================================================================"
      ]
     },
     "execution_count": 11,
     "metadata": {},
     "output_type": "execute_result"
    }
   ],
   "source": [
    "summary(roberta, depth=5)"
   ]
  },
  {
   "cell_type": "code",
   "execution_count": 13,
   "metadata": {},
   "outputs": [],
   "source": [
    "from transformers import BertTokenizer, AutoTokenizer\n"
   ]
  },
  {
   "cell_type": "code",
   "execution_count": 14,
   "metadata": {},
   "outputs": [
    {
     "data": {
      "application/vnd.jupyter.widget-view+json": {
       "model_id": "f90f9f1e6c9a42c78387718d5e028823",
       "version_major": 2,
       "version_minor": 0
      },
      "text/plain": [
       "Downloading (…)olve/main/vocab.json:   0%|          | 0.00/899k [00:00<?, ?B/s]"
      ]
     },
     "metadata": {},
     "output_type": "display_data"
    },
    {
     "data": {
      "application/vnd.jupyter.widget-view+json": {
       "model_id": "46127a9a720b4942b3d9f366d1ee3e1b",
       "version_major": 2,
       "version_minor": 0
      },
      "text/plain": [
       "Downloading (…)olve/main/merges.txt:   0%|          | 0.00/456k [00:00<?, ?B/s]"
      ]
     },
     "metadata": {},
     "output_type": "display_data"
    },
    {
     "data": {
      "application/vnd.jupyter.widget-view+json": {
       "model_id": "abfdf43134c34c0f96e3acd7981a135d",
       "version_major": 2,
       "version_minor": 0
      },
      "text/plain": [
       "Downloading (…)/main/tokenizer.json:   0%|          | 0.00/1.36M [00:00<?, ?B/s]"
      ]
     },
     "metadata": {},
     "output_type": "display_data"
    }
   ],
   "source": [
    "tokenizer = AutoTokenizer.from_pretrained('roberta-base')\n"
   ]
  },
  {
   "cell_type": "code",
   "execution_count": 37,
   "metadata": {},
   "outputs": [],
   "source": [
    "sentence = \"hello i am alex\""
   ]
  },
  {
   "cell_type": "code",
   "execution_count": 52,
   "metadata": {},
   "outputs": [
    {
     "data": {
      "text/plain": [
       "{'input_ids': [0, 21959, 2, 2, 21959, 176, 2], 'token_type_ids': [0, 0, 0, 0, 0, 0, 0], 'attention_mask': [1, 1, 1, 1, 1, 1, 1]}"
      ]
     },
     "execution_count": 52,
     "metadata": {},
     "output_type": "execute_result"
    }
   ],
   "source": [
    "tokenizer.encode_plus(\"test\", \"test2\")"
   ]
  },
  {
   "cell_type": "code",
   "execution_count": 53,
   "metadata": {},
   "outputs": [
    {
     "data": {
      "text/plain": [
       "'</s>'"
      ]
     },
     "execution_count": 53,
     "metadata": {},
     "output_type": "execute_result"
    }
   ],
   "source": [
    "tokenizer.decode(2)"
   ]
  },
  {
   "cell_type": "code",
   "execution_count": 39,
   "metadata": {},
   "outputs": [
    {
     "name": "stdout",
     "output_type": "stream",
     "text": [
      "tensor([[    0, 42891,   939,   524,    10, 14726,     2]])\n"
     ]
    }
   ],
   "source": [
    "tokens = tokenizer(sentence, return_tensors=\"pt\")\n",
    "print(tokens['input_ids'])"
   ]
  },
  {
   "cell_type": "code",
   "execution_count": 44,
   "metadata": {},
   "outputs": [
    {
     "data": {
      "text/plain": [
       "tensor([[[ 0.1664, -0.0541, -0.0014,  ..., -0.0811,  0.0794,  0.0155],\n",
       "         [-0.1150, -0.1756, -0.1607,  ..., -0.0596, -0.3592,  0.9941],\n",
       "         [ 0.1324,  0.1079, -0.3674,  ...,  0.3495, -0.1283,  0.4034],\n",
       "         ...,\n",
       "         [-0.1279, -0.3089, -0.1310,  ...,  0.3103, -0.1026,  0.5261],\n",
       "         [-0.3172, -0.0767,  0.2338,  ...,  0.1195,  0.4922,  0.3705],\n",
       "         [ 0.2360, -0.2293, -0.0167,  ...,  0.4182,  0.1640,  0.1783]]],\n",
       "       grad_fn=<NativeLayerNormBackward0>)"
      ]
     },
     "execution_count": 44,
     "metadata": {},
     "output_type": "execute_result"
    }
   ],
   "source": [
    "embeddings = roberta.embeddings(input_ids=tokens['input_ids'])\n",
    "embeddings"
   ]
  },
  {
   "cell_type": "code",
   "execution_count": 43,
   "metadata": {},
   "outputs": [
    {
     "data": {
      "text/plain": [
       "torch.Size([1, 7, 768])"
      ]
     },
     "execution_count": 43,
     "metadata": {},
     "output_type": "execute_result"
    }
   ],
   "source": [
    "embeddings.shape"
   ]
  },
  {
   "cell_type": "code",
   "execution_count": 47,
   "metadata": {},
   "outputs": [],
   "source": [
    "logits = roberta.encoder(embeddings)"
   ]
  },
  {
   "cell_type": "code",
   "execution_count": 49,
   "metadata": {},
   "outputs": [
    {
     "data": {
      "text/plain": [
       "torch.Size([1, 7, 768])"
      ]
     },
     "execution_count": 49,
     "metadata": {},
     "output_type": "execute_result"
    }
   ],
   "source": [
    "logits.last_hidden_state.shape"
   ]
  },
  {
   "cell_type": "code",
   "execution_count": null,
   "metadata": {},
   "outputs": [],
   "source": [
    "\"\"\"\n",
    "\n",
    "original text:\n",
    "hi how are you\n",
    "\n",
    "tokenizer (tokens):\n",
    "45 120 23 50\n",
    "\n",
    "MODEL:\n",
    "\n",
    "Embeddings:\n",
    "[768] [768] [768] [768]\n",
    "\n",
    "Encoder:\n",
    "\n",
    "\n",
    "\n",
    "\n",
    "\"\"\""
   ]
  },
  {
   "cell_type": "code",
   "execution_count": 12,
   "metadata": {},
   "outputs": [
    {
     "data": {
      "text/plain": [
       "RobertaModel(\n",
       "  (embeddings): RobertaEmbeddings(\n",
       "    (word_embeddings): Embedding(50265, 768, padding_idx=1)\n",
       "    (position_embeddings): Embedding(514, 768, padding_idx=1)\n",
       "    (token_type_embeddings): Embedding(1, 768)\n",
       "    (LayerNorm): LayerNorm((768,), eps=1e-05, elementwise_affine=True)\n",
       "    (dropout): Dropout(p=0.1, inplace=False)\n",
       "  )\n",
       "  (encoder): RobertaEncoder(\n",
       "    (layer): ModuleList(\n",
       "      (0-11): 12 x RobertaLayer(\n",
       "        (attention): RobertaAttention(\n",
       "          (self): RobertaSelfAttention(\n",
       "            (query): Linear(in_features=768, out_features=768, bias=True)\n",
       "            (key): Linear(in_features=768, out_features=768, bias=True)\n",
       "            (value): Linear(in_features=768, out_features=768, bias=True)\n",
       "            (dropout): Dropout(p=0.1, inplace=False)\n",
       "          )\n",
       "          (output): RobertaSelfOutput(\n",
       "            (dense): Linear(in_features=768, out_features=768, bias=True)\n",
       "            (LayerNorm): LayerNorm((768,), eps=1e-05, elementwise_affine=True)\n",
       "            (dropout): Dropout(p=0.1, inplace=False)\n",
       "          )\n",
       "        )\n",
       "        (intermediate): RobertaIntermediate(\n",
       "          (dense): Linear(in_features=768, out_features=3072, bias=True)\n",
       "          (intermediate_act_fn): GELUActivation()\n",
       "        )\n",
       "        (output): RobertaOutput(\n",
       "          (dense): Linear(in_features=3072, out_features=768, bias=True)\n",
       "          (LayerNorm): LayerNorm((768,), eps=1e-05, elementwise_affine=True)\n",
       "          (dropout): Dropout(p=0.1, inplace=False)\n",
       "        )\n",
       "      )\n",
       "    )\n",
       "  )\n",
       "  (pooler): RobertaPooler(\n",
       "    (dense): Linear(in_features=768, out_features=768, bias=True)\n",
       "    (activation): Tanh()\n",
       "  )\n",
       ")"
      ]
     },
     "execution_count": 12,
     "metadata": {},
     "output_type": "execute_result"
    }
   ],
   "source": [
    "roberta"
   ]
  }
 ],
 "metadata": {
  "kernelspec": {
   "display_name": "emo",
   "language": "python",
   "name": "python3"
  },
  "language_info": {
   "codemirror_mode": {
    "name": "ipython",
    "version": 3
   },
   "file_extension": ".py",
   "mimetype": "text/x-python",
   "name": "python",
   "nbconvert_exporter": "python",
   "pygments_lexer": "ipython3",
   "version": "3.9.17"
  }
 },
 "nbformat": 4,
 "nbformat_minor": 2
}
