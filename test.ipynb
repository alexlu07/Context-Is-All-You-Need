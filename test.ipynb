{
 "cells": [
  {
   "cell_type": "code",
   "execution_count": 189,
   "metadata": {},
   "outputs": [],
   "source": [
    "import pandas as pd\n",
    "import numpy as np"
   ]
  },
  {
   "cell_type": "code",
   "execution_count": 190,
   "metadata": {},
   "outputs": [
    {
     "name": "stderr",
     "output_type": "stream",
     "text": [
      "/tmp/ipykernel_693021/744795870.py:1: DtypeWarning: Columns (1) have mixed types. Specify dtype option on import or set low_memory=False.\n",
      "  df = pd.read_csv(\"model2/model/data.csv\")\n"
     ]
    }
   ],
   "source": [
    "df = pd.read_csv(\"model2/model/data.csv\")"
   ]
  },
  {
   "cell_type": "code",
   "execution_count": 191,
   "metadata": {},
   "outputs": [],
   "source": [
    "df = df.groupby(\"conversation\").filter(lambda x: x[\"text\"].count() >= 5)\n"
   ]
  },
  {
   "cell_type": "code",
   "execution_count": 192,
   "metadata": {},
   "outputs": [
    {
     "data": {
      "text/plain": [
       "0      76719\n",
       "1     131410\n",
       "2      75728\n",
       "3      11340\n",
       "4     148657\n",
       "5      28022\n",
       "6     129268\n",
       "7      18241\n",
       "8      60108\n",
       "9       8213\n",
       "10      5078\n",
       "dtype: int64"
      ]
     },
     "execution_count": 192,
     "metadata": {},
     "output_type": "execute_result"
    }
   ],
   "source": [
    "(df.loc[:, \"0\":\"10\"] > 0).sum(0)"
   ]
  },
  {
   "cell_type": "code",
   "execution_count": 179,
   "metadata": {},
   "outputs": [
    {
     "name": "stderr",
     "output_type": "stream",
     "text": [
      "/tmp/ipykernel_693021/2111111791.py:2: SettingWithCopyWarning: \n",
      "A value is trying to be set on a copy of a slice from a DataFrame.\n",
      "Try using .loc[row_indexer,col_indexer] = value instead\n",
      "\n",
      "See the caveats in the documentation: https://pandas.pydata.org/pandas-docs/stable/user_guide/indexing.html#returning-a-view-versus-a-copy\n",
      "  ldf.loc[:, \"0\":\"10\"] = ldf.loc[:, \"0\":\"10\"] > 0\n"
     ]
    }
   ],
   "source": [
    "ldf = df.groupby(\"conversation\").tail(-4)\n",
    "ldf.loc[:, \"0\":\"10\"] = ldf.loc[:, \"0\":\"10\"] > 0\n",
    "# ldf.loc[:, \"0\":\"10\"] = 1/(1+np.exp(-ldf.loc[:, \"0\":\"10\"])) >= 0.5"
   ]
  },
  {
   "cell_type": "code",
   "execution_count": 180,
   "metadata": {},
   "outputs": [],
   "source": [
    "cdf = ldf.groupby(\"source\").sum(1)\n",
    "cdf.loc[\"total\"] = cdf.sum()"
   ]
  },
  {
   "cell_type": "code",
   "execution_count": 181,
   "metadata": {},
   "outputs": [
    {
     "data": {
      "text/html": [
       "<div>\n",
       "<style scoped>\n",
       "    .dataframe tbody tr th:only-of-type {\n",
       "        vertical-align: middle;\n",
       "    }\n",
       "\n",
       "    .dataframe tbody tr th {\n",
       "        vertical-align: top;\n",
       "    }\n",
       "\n",
       "    .dataframe thead th {\n",
       "        text-align: right;\n",
       "    }\n",
       "</style>\n",
       "<table border=\"1\" class=\"dataframe\">\n",
       "  <thead>\n",
       "    <tr style=\"text-align: right;\">\n",
       "      <th></th>\n",
       "      <th>0</th>\n",
       "      <th>1</th>\n",
       "      <th>2</th>\n",
       "      <th>3</th>\n",
       "      <th>4</th>\n",
       "      <th>5</th>\n",
       "      <th>6</th>\n",
       "      <th>7</th>\n",
       "      <th>8</th>\n",
       "      <th>9</th>\n",
       "      <th>10</th>\n",
       "    </tr>\n",
       "    <tr>\n",
       "      <th>source</th>\n",
       "      <th></th>\n",
       "      <th></th>\n",
       "      <th></th>\n",
       "      <th></th>\n",
       "      <th></th>\n",
       "      <th></th>\n",
       "      <th></th>\n",
       "      <th></th>\n",
       "      <th></th>\n",
       "      <th></th>\n",
       "      <th></th>\n",
       "    </tr>\n",
       "  </thead>\n",
       "  <tbody>\n",
       "    <tr>\n",
       "      <th>Bolt</th>\n",
       "      <td>29082</td>\n",
       "      <td>63566</td>\n",
       "      <td>28380</td>\n",
       "      <td>3835</td>\n",
       "      <td>97227</td>\n",
       "      <td>20106</td>\n",
       "      <td>73315</td>\n",
       "      <td>6172</td>\n",
       "      <td>28615</td>\n",
       "      <td>3881</td>\n",
       "      <td>1611</td>\n",
       "    </tr>\n",
       "    <tr>\n",
       "      <th>Cornell</th>\n",
       "      <td>19838</td>\n",
       "      <td>22012</td>\n",
       "      <td>19956</td>\n",
       "      <td>2949</td>\n",
       "      <td>13167</td>\n",
       "      <td>2178</td>\n",
       "      <td>19479</td>\n",
       "      <td>5270</td>\n",
       "      <td>10958</td>\n",
       "      <td>1319</td>\n",
       "      <td>1626</td>\n",
       "    </tr>\n",
       "    <tr>\n",
       "      <th>IEMOCAP</th>\n",
       "      <td>2655</td>\n",
       "      <td>2889</td>\n",
       "      <td>2768</td>\n",
       "      <td>308</td>\n",
       "      <td>2495</td>\n",
       "      <td>551</td>\n",
       "      <td>3243</td>\n",
       "      <td>968</td>\n",
       "      <td>2125</td>\n",
       "      <td>203</td>\n",
       "      <td>231</td>\n",
       "    </tr>\n",
       "    <tr>\n",
       "      <th>total</th>\n",
       "      <td>51575</td>\n",
       "      <td>88467</td>\n",
       "      <td>51104</td>\n",
       "      <td>7092</td>\n",
       "      <td>112889</td>\n",
       "      <td>22835</td>\n",
       "      <td>96037</td>\n",
       "      <td>12410</td>\n",
       "      <td>41698</td>\n",
       "      <td>5403</td>\n",
       "      <td>3468</td>\n",
       "    </tr>\n",
       "  </tbody>\n",
       "</table>\n",
       "</div>"
      ],
      "text/plain": [
       "             0      1      2     3       4      5      6      7      8     9  \\\n",
       "source                                                                         \n",
       "Bolt     29082  63566  28380  3835   97227  20106  73315   6172  28615  3881   \n",
       "Cornell  19838  22012  19956  2949   13167   2178  19479   5270  10958  1319   \n",
       "IEMOCAP   2655   2889   2768   308    2495    551   3243    968   2125   203   \n",
       "total    51575  88467  51104  7092  112889  22835  96037  12410  41698  5403   \n",
       "\n",
       "           10  \n",
       "source         \n",
       "Bolt     1611  \n",
       "Cornell  1626  \n",
       "IEMOCAP   231  \n",
       "total    3468  "
      ]
     },
     "execution_count": 181,
     "metadata": {},
     "output_type": "execute_result"
    }
   ],
   "source": [
    "cdf"
   ]
  },
  {
   "cell_type": "code",
   "execution_count": 73,
   "metadata": {},
   "outputs": [
    {
     "data": {
      "text/plain": [
       "<Axes: >"
      ]
     },
     "execution_count": 73,
     "metadata": {},
     "output_type": "execute_result"
    },
    {
     "data": {
      "image/png": "[encoded data removed]",
      "text/plain": [
       "<Figure size 640x480 with 1 Axes>"
      ]
     },
     "metadata": {},
     "output_type": "display_data"
    }
   ],
   "source": [
    "cdf.iloc[3].plot.bar()"
   ]
  },
  {
   "cell_type": "code",
   "execution_count": 78,
   "metadata": {},
   "outputs": [],
   "source": [
    "xdf = df\n",
    "xdf.loc[:, \"0\":\"10\"] = xdf.loc[:, \"0\":\"10\"] >= 0"
   ]
  },
  {
   "cell_type": "code",
   "execution_count": 90,
   "metadata": {},
   "outputs": [
    {
     "data": {
      "text/plain": [
       "['Tell what you see. Write it well, Sir, and make sure you get it right',\n",
       " \"Oh, Frederick... you're not only a great doctor, you're a great... you're almost a...\",\n",
       " \"We all have our feelings.  I know that I have mine.  And... I wouldn't want to hurt yours.\",\n",
       " \"You've got to help me to remain faithful.\",\n",
       " \"Yes, don't worry.\",\n",
       " 'You got a great set-up here Yorgi. You really know how to live.',\n",
       " \"It's a beautiful town, Prague. It's been good to me.\",\n",
       " \"That's alright, I'll figure something out.\",\n",
       " \"Of course. I'll do what I can. I have to go, before they notice.\",\n",
       " \"Yes, I do. You're right. I can't just let him go free. Besides, I can help you from the inside.\",\n",
       " 'Alright, Cage, you\\'ve got me. This is one of those moments. \"Many are called, few are chosen\", that kind of thing. Your government needs you. Are you up for the challenge?',\n",
       " \"You're perceptive too. I forgot to add that to the list of surprises. I'm with the National Security Agency. And unlikely as it may sound, I need your help.\",\n",
       " 'This is good work, X, damn fine work. You need to press on at all costs, find out what they have planned with this \"Ahab\".',\n",
       " \"You've kept up your end of the bargain, I'll do the same. But you really should consider staying on, you make a decent agent.\",\n",
       " \"Cut the crap, X, I saw you down there. You're a hero. Don't be afraid to join the good guys.\",\n",
       " \"You did the right thing, Daniel.  Let's stay in touch, okay?  Good night.\",\n",
       " \"Thanks for the offer, Adrian.  I'll let you know.\",\n",
       " 'You have the power to do it.  I want you to do it.  Please.',\n",
       " 'You even brought the plane for us.  We really couldnt have done it without you.',\n",
       " \"And you're going to lead us.\",\n",
       " \"Oh, I'll try!  Really, I will.\",\n",
       " 'Certainly -- certainly -- when you give me those slippers.',\n",
       " \"I hope you don't have any doubts about that.\",\n",
       " \"You're strong enough.  But you're going to need courage, Willow.\",\n",
       " 'Real magic, Willow, is simply the art of controlling the reality of others.  You lack faith in your- self.  You must learn to trust your intuition.',\n",
       " \"Well, you're half right.  Best thing you could do for yourself right now would be to talk to me.\",\n",
       " \"No!  Christ.  Listen, Kelly, I'm counting on you.  You calm her down. I mean do whatever you have to, whatever it takes...\",\n",
       " 'You know what it takes.',\n",
       " \"Then do it.  I need you on this Kelly. Do it tonight.  We'll figure something out... Okay?\",\n",
       " 'Try, Kelly.',\n",
       " 'My parents always say hard work builds character.',\n",
       " 'I like you, Ted. You know that. I liked you before you were filthy rich.',\n",
       " \"I'll be blunt. I know you can take it.\",\n",
       " \"That's a good start, yes. A very good start.\",\n",
       " \"It's okay, Mom.  Trust me.\",\n",
       " \"Christy's a very talented journalist. I see a Pulitzer in her future.\",\n",
       " \"Come on, Julie. Don't screw up. You have some real talent.\",\n",
       " 'Your dad taught you everything.',\n",
       " 'If we were a team, we could do anything. I mean, anything.',\n",
       " 'You live and learn. I realized the most important thing to me, above all, is trust.',\n",
       " 'I want you to trust me.',\n",
       " \"You're quick. I like that.\",\n",
       " \"The thing is, I made a commitment. I said I'd do it and I have to keep my word.\",\n",
       " 'Keeping your word is something I can actually respect, Ted.',\n",
       " \"He's got great hands.\",\n",
       " 'you crave what I might show you.  What you can learn.  What I can give you.  So much more than Michael can.',\n",
       " 'What Michael gives me is stronger than anything you could ever inderstand.',\n",
       " 'You are so brilliant.',\n",
       " \"But then you've been so much better...\",\n",
       " \"...I'm positive this time...\",\n",
       " \"She's not a psychic.  Just a very enlightened spirit.\",\n",
       " 'Tell me.  I can help you.',\n",
       " \"I'm just saying, you're going to be fine.\",\n",
       " \"Any student of Black Magic can do it.   .most of these books will tell you how! SARAH So what happens when you've sold out?\",\n",
       " \"Don't worry Sunshine. Bud and I had a little talk. We came to an understanding.  I want you to go back to him. Soothe him. Help keep his head straight. Okay?\",\n",
       " \"You're right, Mr. Mannheim, but you gotta get to the big time first, then you can be a pillar and do good things.\",\n",
       " \"It's a winner Mr. Mannheim, trust me -- buy.\",\n",
       " \"Well, if you're that good, you could probably do wonders at my place.\",\n",
       " 'You have modest wants. I like that in a man.',\n",
       " \"I just want to let you know Mr. Gekko I read all about you at NYU Business, and I think you're an incredible genius and I've always dreamed of only one thing -- to do business with a man like you...\",\n",
       " \"Mr. Gekko, I'm there for you 110%.\",\n",
       " 'I can talk to these people Gordon, they trust me...and my father can be a big help in getting cuts.',\n",
       " \"Good. Then call him back. And call me back. Don't worry.\",\n",
       " \"Don't worry about the loans. I'm doing good Dad and it's gonna stay that way now... least buy yourself a new suit.\",\n",
       " 'I believe in you....',\n",
       " 'I understand... I understand perfectly.',\n",
       " 'I understand the risks involved here. But there is nobody better qualified to go after Sid 6.7 than Barnes. And, there is nobody who knows him better than you. If a situation becomes volatile, you will find a way to quell it. I have complete confidence in you.',\n",
       " \"Don't give up, Parker. Not ever.\",\n",
       " \"That's good land.\",\n",
       " 'Speak to her again. Explain everything to her seriously.',\n",
       " \"So much the better. We'll all fit. How many floors are there?\",\n",
       " \"I'll come to you tonight.\",\n",
       " 'We will.',\n",
       " 'You did all right dad.',\n",
       " 'This is a situation that defies judgement. We have acted and showed courage that is not of a kind known by most.',\n",
       " \"I tell mine that they're little men. I tell them they're strong. They make me feel joy. I let 'em know. So they really know that I need them just as much. You know. Just as much man. And you know, you're their godfather...\",\n",
       " 'I have plenty of friends.',\n",
       " \"It's where you belong.\",\n",
       " \"That's a good, strong name. Do your friends call you John? Or Jack.\",\n",
       " \"There are things I have to tell you, about how we met, and why we are together. But they can wait. The only important thing now is that I love you and I'm going to keep you safe.\",\n",
       " \"I'll take care of you.\",\n",
       " \"Oh, I understand, all right. I've been understanding since I was seventeen. And the next step is, as long as you're going to see me tomorrow, why don't you stay the night.\",\n",
       " \"We'll find him.\",\n",
       " \"I can get you a firm of private eyes to follow her for you. They're dependable, good boys --\",\n",
       " \"You've done well, Scottie. You're good at your job.\",\n",
       " \"...he's a good man...\",\n",
       " \"I have to try this case.  I have to do it, Mick.  I've got to stand up for that girl.  I need your help.    Mick, will you help me...?    Will you help me...?\",\n",
       " 'I had a good teacher.  McLean versus Urban Transport...',\n",
       " 'Maybe I can do something right.',\n",
       " 'The most respected ...',\n",
       " \"From what I've seen, Mr. Galvin, you have a very good case...\",\n",
       " 'No, you did fine.',\n",
       " \"I swear to you I wouldn't have turned the offer down unless I thought that I could win the case...\",\n",
       " '...sworn before God you would tell the truth?',\n",
       " '...We did everything we could...',\n",
       " 'Very good.',\n",
       " \"I know Ruby. He's very big on respect. Likes me very much.\",\n",
       " 'So why play into his hands? We can protect you.',\n",
       " \"I admire that, you being true to your wife. I've seen a lot of... of men... who weren't.\",\n",
       " \"I'll help you.\",\n",
       " \"That's a good piece of advice, Darrell.\",\n",
       " \"I'm a solid man.\",\n",
       " 'You sure got a lot of philosophy, old man.',\n",
       " \"Jake McKenna.  That's a solid name.\",\n",
       " \"I'm a solid man.\",\n",
       " \"That's what I like about you, Jake. You're an honest man.\",\n",
       " 'You live pretty good.',\n",
       " \"That's a good piece of advice, Darrell.\",\n",
       " 'You sure got a lot of philosophy, old man.',\n",
       " \"It's about obeying, about doing what you're told.\",\n",
       " 'I\\'m going to be completely honest.  I\\'m not going to lie to you.  I can\\'t make the police let you go...but I do want to help you.  And I want you to trust me.  Can you do that, James?  May I call you \"James\"?',\n",
       " \"Because I'm a good observer.  Because I have a tough mind.\",\n",
       " 'It can be dealt with, but only if you want to.  I can help you.',\n",
       " \"And just think, when you get out in a few years, you'll meet some girl, get married, and you'll be so understanding to your wife's needs, because you'll know what it's like to be a woman.\",\n",
       " 'She seems very nice.',\n",
       " 'Thanks a lot, Daddy. You really came through for me.',\n",
       " \"It's my job to risk my life, but not yours.  I feel bad about bringing you into this, but you're the only one I can trust.\",\n",
       " 'You can trust me completely.',\n",
       " 'I can do it!',\n",
       " \"You know you can always talk to me.  Right?  Whatever is going on in your life, your mom and I'll understand.\",\n",
       " \"We'll get them, sir... These things take time.\",\n",
       " \"There's a 68.71 percent chance you're right.\",\n",
       " \"I've gotten 2,415 times smarter since then.\",\n",
       " \"I know you'll whip her into shape, Scotty. You always do.\",\n",
       " 'Sybok possessed the keenest intellect I have ever known.',\n",
       " 'Have faith, my friend. There are more of us than you know.',\n",
       " 'We sought only your infinite wisdom.',\n",
       " \"No. Well, yes. I have to admit it: I'm a perfectionist. For me, it's the best or nothing at all. If things go badly, I can't be bothered, but I have a good feeling about this interview. Seems to me like it's gone pretty well. We've touched on a lot of subjects, a lot of things to think about, for all of us.\",\n",
       " 'To see you through the night that lies ahead.',\n",
       " \"You're a real mate. And what about Tommy? Have you been to see him yet?\",\n",
       " 'Strive, hope, believe and conquer.',\n",
       " 'Exactly. Those very words have been my guiding light in what is, after all, a dark and often hostile world.',\n",
       " \"Excuse me, I don't mean to harass you, but I was very impressed by the capable and stylish manner in which you dealt with that situation. I thought to myself: she's special.\",\n",
       " 'In that case you can do it. You were quite happy to do a lot more last night.',\n",
       " \"You've been making very good progress against the Tijuana cartel.\",\n",
       " \"It's important that we work together. Mexico.  America.  One hand washing the other.\",\n",
       " \"We aren't barbarians.\",\n",
       " \"There's always a way.  If people get to the Pope or the President, you can get to him.\",\n",
       " 'The first thing we have to do is present a unified front.',\n",
       " 'You had it all figured out.  You move into my house.  You raise my kids.  You sleep with my wife.  It was a good plan, Arnie.',\n",
       " \"Well some folks are still waiting for their comeuppance. Don't take me wrong but you can't judge people by how you act. You're a caring person.\",\n",
       " 'Only if you are a good man, a friend. Are you a friend?',\n",
       " 'I will appreciate that.',\n",
       " 'You always got the best of it around here and when Dad always talks about my son, it is always you, so you fix the roof.',\n",
       " 'The reason I invited the Minister here, 007, was to reassure him that this investigation will be handled with the utmost discretion.',\n",
       " 'We work in the dark. We do what we can.',\n",
       " \"Like you said, just gotta know How to handle 'em.  Old Fred Wasn't up to it.  We know that We're doin', Wyatt.\",\n",
       " \"You're a Cowboy, you're a Brother.  Come back, no hard Feelings.\",\n",
       " \"You're the boss.  One thing, though.\",\n",
       " \"Well you're different, no arguing That.  But you're a lady all right. I'll take my oath on it.\",\n",
       " \"You know you don't have to sneak. You could stay with me.  I know Things, Wyatt.  Sweet things.  I Could make you so happy.\",\n",
       " \"I'm a good woman to you, Doc. Don't I always take care of you? Nobody cares for you like me.  I'm A good woman.\",\n",
       " 'Yes, I know.  You are a good woman.',\n",
       " \"We're gonna get along just fine.\",\n",
       " 'A peace officer... Impressive man',\n",
       " 'Chad Denby broadcasting--  --the nicest man I ever knew--',\n",
       " \"He's a likable chap--he's got an honest face--\",\n",
       " \"Very clear. That's one favor I'll be glad to do you.\",\n",
       " \"It'll be very interesting to see how you go about solving this, Inspector--\",\n",
       " 'I thought you were a smart guy.',\n",
       " \"It'll never hurt you---Got any money?\",\n",
       " \"You know, you're not a <U>bad</U>-looking girl. In fact--I think you're lovely.\",\n",
       " \"Oh, yeah. Yeah, I'm a believer. She was there.\",\n",
       " 'She had beautiful hands.',\n",
       " 'You have a gift, Jack. You do. You see people.',\n",
       " \"You're right. Only you can do that.\",\n",
       " 'Come with me, Jack. I jump, you jump... Right?',\n",
       " \"But you're the more intelligent one.\",\n",
       " \"Madame Colet, I've enjoyed the confidence of your family for more than forty years.  I was a school friend of your husband's ...\",\n",
       " 'Please, Madame Colet, I believe in doing things correctly. Shall we continue?  Two hairpins, one cigarette lighter, one box of real matches, and-- Oh, yes, this letter from Major--',\n",
       " 'I <u>believe</u> you.',\n",
       " \"He's really not a bad fellow.\",\n",
       " \"I'll do it.\",\n",
       " \"It will be good for both of us. I've got it all arranged.\",\n",
       " \"I'll try.\",\n",
       " 'I know you can do it without sedation, You can, I know you can.',\n",
       " \"I'm not afraid...I'm not afraid.\",\n",
       " \"You will.  You'll get it.\",\n",
       " 'Invest it.',\n",
       " \"It's not about being fun.  It's about being smart.  You take that money, you take care of it, let it grow, and you don't ever have to do anything again. Ever.  That's freedom.  That's what I'm talking about.\",\n",
       " \"And you; you've got it all together.\",\n",
       " 'You come up with a better plan, let me know.',\n",
       " \"This whole time, you've kept your head. You didn't go money simple like me and Wes.  You've just been trying to figure how to get us out of here.  And you've been fair too.  I mean, even after I...you know...\",\n",
       " \"He's a good guy.  He sent me up the river once.  Hey, Nick!\",\n",
       " \"I'll be all right.  I've got Asta to protect me.\",\n",
       " \"Nickie, take care of yourself won't you?\",\n",
       " 'Smart gal.',\n",
       " \"Nick, you will help me find Clyde -- won't you?\",\n",
       " 'I trust you.',\n",
       " \"I think we're on the right track.\",\n",
       " \"Of course we do! We've been friends for years.\",\n",
       " \"He's all right.  Isn't that enough?\",\n",
       " \"It's a piece of evidence that's worth a great deal more than that.\",\n",
       " \"You're a lucky man, all right.\",\n",
       " \"Straighten up, kid.  I wouldn't turn ya out if ya weren't ready.  I got a guy named Henry Gondorff I want you to look up.  There ain't a better insideman alive.  He'll teach ya everything ya gotta know.\",\n",
       " \"I don't think you should have given up the piano. I will make sure you are properly taught, with music written on to sheets and...\",\n",
       " \"Tell me your name. I'll listen out for you.\",\n",
       " \"Doesn't matter. You've nothing to worry about. I'll visit often.\",\n",
       " \"You're amazing, Jehuda.\",\n",
       " \"I'll get Dr Luczak, we can trust him.\",\n",
       " \"There's no sin in charity, Jeanne.\",\n",
       " \"I'm sure he'll forgive you.\",\n",
       " \"Jeanne -- if we were to ask forgiveness all the time, we'd spend our whole life in church.\",\n",
       " 'Jeanne, be patient.',\n",
       " \"If you were true to yourself... if your faith was firm, you wouldn't need to run away from yourself like this...\",\n",
       " \"Yes... that's what I pray for...!\",\n",
       " \"Because!  Because I've always been faithful to God, and I've followed everything he said... and I've done everything he asked me...\",\n",
       " '\"Let all who love me follow me\"... Where does God get mentioned?  Come on Jeanne, be honest.  You fought for yourself, in your name.',\n",
       " 'I... submit to Our Lord.',\n",
       " '\"Be patient, be patient\"... is that the only advice you can ever come up with??  I\\'ve shown more patience than a dozen saints!',\n",
       " 'Your health and happiness has always been my first concern, Charles... ever since you were a little boy -- and I think I know you better than your own mother...',\n",
       " 'I also need someone who can read and write.',\n",
       " 'This I can do.  I was studying at the University of Paris -- till the English invaded it.',\n",
       " \"Well of course they're me!  That's how God talks to me.  If you listen hard enough, even you can hear him. Everyone can hear him.\",\n",
       " 'Jeanne... I believe in you... more than anyone...',\n",
       " \"If God wants me to win, he will find a way.  And if he wants me to die... if he wants me back... then that's fine too.  Then I'll be with him forever.\",\n",
       " 'I know his work better than I know him.',\n",
       " 'Good. Now, as I trust you may have guessed, we are looking for someone to work for us. Someone whose discretion can be relied upon. Someone who while in our employ would give us full commitment. Do you think you could be that person, Mr Lombard?',\n",
       " 'I will of course do my best to hang onto it.',\n",
       " \"Kiki -- he won't hurt you. There's nothing to be afraid of.\",\n",
       " 'No.  All you need is to want to be the best.',\n",
       " \"I dive in search of God.  If I go deep enough I'm going to find him.\",\n",
       " 'He can learn.  He is learning.',\n",
       " \"I'll send Cardoza, he'll be able to...\",\n",
       " 'Yes.  Of course.  Very wise.',\n",
       " \"Let's just say I've done due diligence.\",\n",
       " \"You write that?  Come work for me. You've got a lot to learn; I can teach it to you.\",\n",
       " 'Yea, OK. I will be, I will be, I promise.',\n",
       " \"You've got plenty of contacts.\",\n",
       " \"I'll carry a copy of one of your books. Harry gave it to me.\",\n",
       " \"I know your partner's here, but it's very important that you're honest.\",\n",
       " 'I bet we can fix it.',\n",
       " \"I'd be there for him.\",\n",
       " 'Well, thank you for your help.',\n",
       " \"I'll try.\",\n",
       " 'Trust me.',\n",
       " \"We can't do without you.  You're one of the foremost authorities on primitive pharmacology.  You're practically an institution around here.\",\n",
       " 'Let me help.  I can take care of everything.',\n",
       " \"That's very generous.\",\n",
       " 'He a good man?',\n",
       " \"You've got talent, anyone could see that. And he's the best. If he thinks a student has talent, he'll take 'em on for next to nothing. You're a cinch to be accepted, I could cover the cost of the lessons, like I said, it's pretty modest--\",\n",
       " 'Great bloke.  Really turned things around there.  180 degrees.',\n",
       " \"What I like about Ian, he believes in a chain of command, but not a chain of respect, you understand what I'm saying?\",\n",
       " 'Yeah.  I really admire the guy.  Well. Good to meet you.',\n",
       " \"He's always been very forward-thinking. He invested wisely.\",\n",
       " \"Anyhow, he's always saying to me, Dave, never run yourself down, son -- 'cause there'll always be plenty of people willing to do it for you.\",\n",
       " \"-- When he wants someone run down, you're willing to do it for him.\",\n",
       " 'Stick with me, kid.  Looks big when you get here but you can cover it in five minutes.',\n",
       " \"We'll find him.\",\n",
       " \"She needed a job, Malcolm.  And she's smart.  And she helps me.\",\n",
       " 'Because... well, I know I can trust you.',\n",
       " 'You know you can.',\n",
       " \"We provide whatever's lacking.\",\n",
       " 'Trust me.  Call that number.',\n",
       " 'Call them.  Trust me.',\n",
       " \"Oh, God yes please.  Thanks, man. I'll take you up on that.\",\n",
       " \"I'll give you a boost.\",\n",
       " \"It's much easier this way.  Come on, step up...\",\n",
       " \"I'll be right with you.\",\n",
       " \"You trust him.  He's got that strength.  You'd die in a second for John.\",\n",
       " \"You'll learn.\",\n",
       " 'John gave me a message for you.  Made me memorize it. \\'Sarah\"...this is the message... \\'Sarah, thank you.  For your courage through the dark years. I can\\'t help you with what you must soon face, except to tell you that the future is not set... there is no such thing as Fate, but what we make for ourselves by our own will.  You must be stronger than you imagine you can be.  You must survive, or I will never exist.\\'  That\\'s all.',\n",
       " 'Good fighters.',\n",
       " \"You're a big help.\",\n",
       " 'Conscientious, determined, dogged.',\n",
       " 'You sure knew a lot of people in high places.',\n",
       " 'Maintain liberty, humanity and justice.',\n",
       " \"I've had two meetings with him. He's a great musician. Maybe the greatest conductor in the world. His Brahms, Beethoven, Schubert - unequalled.\",\n",
       " 'Major, he may just be the greatest conductor of this century and that merits respect.',\n",
       " 'Respect your elders and your betters!',\n",
       " 'My mission is to protect you.',\n",
       " \"You just can't, okay?  Trust me on this.\",\n",
       " \"Yeah, and it's the truth, to the best of my knowledge.  And, frankly, I'm glad.  For Steve's sake, I'm glad, not yours.  I manage these boys and I got their best interests at heart.  Steve shouldn't get mixed up with no bimbo at his age.\",\n",
       " 'Yes, I understand.',\n",
       " \"They're smart.  Been to college. They moved here from the city about a dozen years ago.\",\n",
       " \"I'm absolutely positive.\",\n",
       " \"You can help each other.  Several people have agreed to let me represent them in a negligence suit. Your case as an individual will be stronger if I'm allowed to represent you together as a group.\",\n",
       " \"I'll always be grateful, Mr. Luthor.\",\n",
       " \"I think you'll be able to remember it. I doubt you'll misquote me.\",\n",
       " 'Very much.',\n",
       " \"You are one of Krypton's greatest scientists Jor-El -\",\n",
       " \"Miss Teschmacher, Superman is a fairly bright individual. My understanding of the way he works is that he won't be fooled by a simple trick.\",\n",
       " \"You're a great architect, Albert.\",\n",
       " \"But you're perfect for it. You're young, you're single, you're successful...\",\n",
       " 'There is some good in you, Lex, after all.',\n",
       " \"Well, you shouldn't  Be more aggressive, Clark! Trust your instinct! When you see your opportunity, grab it! I do.\",\n",
       " \"You're not selfish at all.\",\n",
       " \"Oh, when it comes to you I am. Not that I don't understand why they all need you. but they can't need you more than I do.\",\n",
       " \"Hey, you're perfectly safe.\",\n",
       " 'Yeah, yeah, I can do it.',\n",
       " \"Hey, he'll be all right. Believe me Lana, I know. I was a late bloomer myself.\",\n",
       " 'There is a way.',\n",
       " 'You used to listen to me. When you asked me to teach you something of the Craft.',\n",
       " 'I could teach you a thing or two now.',\n",
       " \"Thank you. You're very kind.\",\n",
       " \"I'll be safe with you. We can stay together the rest of our lives.\",\n",
       " \"You can do it. You're the most powerful woman on Earth.\",\n",
       " 'This is to be a very important picture.  I have written it myself.  Took me years.',\n",
       " \"Who?  I'd have to have somebody I can trust.  When were you born -- I mean, what sign of the zodiac?\",\n",
       " 'Sagittarius.  I like Sagittarians. You can trust them.',\n",
       " 'I want you to do this work.',\n",
       " \"I wouldn't worry about money. I'll make it worth your while.\",\n",
       " 'Great stars have great pride.',\n",
       " \"We'll be working again, won't we, Chief? We'll make our greatest picture.\",\n",
       " \"It's a good script, isn't it?\",\n",
       " \"You're tough, all right.\",\n",
       " \"I'll take it.\",\n",
       " 'Your help.',\n",
       " 'So, while we\\'re knee deep in right now - and things seem pretty \"stinky\" - in the long run, we\\'re going to grow strong from this.',\n",
       " \"Pal, she's a big girl, you know? I'm sure she's alright.\",\n",
       " \"Oh, yeah, you're just so smart.\",\n",
       " 'Go ahead! They love you just about as much as I do.',\n",
       " \"You know, all you know is what's good for you.\",\n",
       " \"Okay. Well, you know, he's always been a nice guy and I like him.\",\n",
       " \"Hey, he's a human being you can give him that much.\",\n",
       " 'You could do it.',\n",
       " \"It was really nice meeting you, Jeff. If you're ever in L.A., you should come by the offices. I talked to Pony earlier. He said he had a really nice time and he's really looking forward to reading some of your songs.\",\n",
       " \"Lieutenant Quiffer, we're all sorry you were hit, and we'll help you stick it together as soon as we get squared away.\",\n",
       " \"Certainly, Major Mandrake.  You're a good officer, and you can ask me a question any time you want to.\",\n",
       " \"That's a good question, Major.  Maybe if you think hard, you can think of the answer yourself.\",\n",
       " 'If they gave us what we think we need, yes, I guess we would.',\n",
       " \"General, what's good enough for the President and all the experts he's got working on the thing, is good enough for me.\",\n",
       " \"You're right, sir.\",\n",
       " 'I understand, sir.  Nothing comes or goes without your personal say-so.',\n",
       " \"You're a good officer, Major, and you're perfectly right to bring these facts to my attention.\",\n",
       " \"That's a very wise deduction, General.\",\n",
       " \"Don't worry, Major.  Your rights will be fully protected.\",\n",
       " \"Don't you realize that despite your incredible distrust and suspicion, that in fact, you place a far greater trust in us than inspection would require?  You trust us not to cause a war accidentally - and, of course, we are obliged to place the same trust in you.\",\n",
       " \"My crew is going to work alongside with your men, don't worry--we're a team!\",\n",
       " \"After Leizburg, he stuck his neck out to defend me.  He's loyal to the end. Even if it's not--politically correct at the time.\",\n",
       " \"Gee, your Dad's smart.\",\n",
       " 'I believe it.',\n",
       " 'Thank you for being honest.',\n",
       " 'Jesus was not bad.',\n",
       " 'I trust you of course I do but --',\n",
       " \"You'll learn.\",\n",
       " \"Good.  That's very good.\",\n",
       " 'George, that is so kind of you.',\n",
       " 'I want to make a good film.',\n",
       " 'I know you do.',\n",
       " '...the finest people you could ever hope to work with...  You have the new Old Mill pages?',\n",
       " 'I know that, Claire.  I, we <u>all</u> know...',\n",
       " 'An artist of your caliber...',\n",
       " 'I like you, too.',\n",
       " \"That's good.  That's really good.  You have a gift for words.\",\n",
       " 'I love your script.',\n",
       " 'You can do it.',\n",
       " 'Time for a change.  Keep your margins straight.',\n",
       " 'Based, I am told, on your recommendation, Admiral. Thank you.',\n",
       " 'You saved the ship.',\n",
       " 'Figuring things out for yourself is the only freedom anyone really has. Use that freedom. Make your own choice, Rico.',\n",
       " 'Which do you think is more important, courage or confidence ?',\n",
       " 'Courage, I guess.',\n",
       " \"You're the best.\",\n",
       " 'You two have so much in common.',\n",
       " \"I'm eighteen. It's my decision, I think I'd make a pretty good pilot. I've good great reflexes. You need that for maneuvering, you know.\",\n",
       " \"Good.  We're right above you.  Stand by.\",\n",
       " \"At least you're doing something... I'd give anything to be in your position.\",\n",
       " \"I know your intentions.  I probably know much more about you than you realize.  In many ways you're a lot like your father.  He was an indulgent man, but a clever warrior.  Now what brings you out here?\",\n",
       " 'My father told me many stories about you.  He said if I was ever in trouble, to come here... I need your help.',\n",
       " 'You were right.  It is my responsibility.  The Force of Others brought the message to you and then it brought you to me.',\n",
       " \"Luke, I'm coming along to do what I can, but I'm tired and I'm depending on you to get us through.\",\n",
       " \"But you're still a powerful Jedi. You don't need my help.\",\n",
       " 'Beth, look, can I trust you with a little secret?',\n",
       " \"I've read it twice, Norman.  It's brilliant.\",\n",
       " \"My word is good, and it'll always be good. When did I ever give my word to you?\",\n",
       " 'I like you, Theo. You bowl with soul.',\n",
       " \"Bowling died for me years ago. Besides, I'm a living dead legend. I'm a hero.\",\n",
       " \"Miles, I've always been on the square with you.\",\n",
       " \"Yes.  Theoretical discoveries aside, there's nothing like the real thing. How about you?\",\n",
       " \"I'm sure you'll be all right.\",\n",
       " \"Still, I hope I behave on the moon.  I'll stick close to you.\",\n",
       " \"Uh, it's ok, everything's going to be ok...now I'm counting on you, and whatever you do keep calm, we don't want them to panic.\",\n",
       " \"I'll do my best.\",\n",
       " 'I think I can handle it.',\n",
       " 'Well I appreciate that.',\n",
       " \"I hope you don't take to bitterness, Sister Morgan. I tell you like I tell all the women in this church who got the same trouble you got. No matter what the trial or what the misery is, I tell 'em to stay with God.\",\n",
       " \"I can do it, Mama -- you know that. In the Bible stories you read to us, everybody's always goin' on a long journey. Jacob goes into a strange land where his uncle is and he don't even know where he lives, but he finds him. Everybody finds what they supposed to find.\",\n",
       " 'Miss Johnson must be a real kindly lady.',\n",
       " \"But you did all you could, David. Not many little boys could've gone on such a journey as you did.\",\n",
       " 'Ah, a philosopher.',\n",
       " 'Trust me. This is bigger than Tony Pee-Pants.',\n",
       " \"You're entitled.\",\n",
       " \"I wish you'd make sure.\",\n",
       " \"You're very kind.  I'll bet you're also very gentle - and helpless -\",\n",
       " 'Oh, of course.  I understand.  At least, I think I do.',\n",
       " 'I knew you would.',\n",
       " \"Not always.  But I want you to know I'm very grateful for what you did for me.\",\n",
       " 'I forgive you.',\n",
       " \"I wanted to thank you for covering for me. You're a real pal.\",\n",
       " \"If there's anything I can do for you -\",\n",
       " \"You're right, Joe.\",\n",
       " \"Don't worry.  We did the right thing with it.\",\n",
       " \"Thanks, but I'll manage.\",\n",
       " \"I can take care of myself. Don't worry.\",\n",
       " 'Take good care of yourself, okay?',\n",
       " \"You too. And make sure the light is green before you cross the street.  Oh, by the way, I liked your book. I think you're a hell of a good writer.\",\n",
       " \"I'm serious, all right. You've got to square it with Auggie. Since you won't give the money back to the Creeper, you can use it to make things right with Auggie. That's probably better anyway. Better to keep your friends than to worry about your enemies.\",\n",
       " \"No problem, Vinnie. Everything's under control.  I could run this store in my sleep.\",\n",
       " \"Talk away, lady of my dreams. I'm all ears.\",\n",
       " \"It can be arranged. Seeing as how I've read your books. I don't see why I shouldn't share my pictures with you.  It would be an honor.\",\n",
       " \"Good? Of course. Are you kidding?  I'll tell you what. Buy me lunch, my friend, and I'll tell you the best Christmas story you ever heard. How's that? And I guarantee every word of it is true.\",\n",
       " \"I'm all ears.\",\n",
       " 'It was a good deed, Auggie. It was a nice thing you did for her.',\n",
       " \"Thanks. I knew you'd understand.\",\n",
       " 'I hope the best for you, Miss Dwiggins, with your school and your paper and all.',\n",
       " \"I wouldn't never hurt them.\",\n",
       " \"You're a good mama to that boy. You care for him. You work hard fer him to take care of him. You light him up in his eyes, I've seen it. He wouldn't know what to do without ye.\",\n",
       " \"Well thank you, hun. That's real good of you to say. I wouldn't know what to do without him either.\",\n",
       " \"You've been real good to me, too. It ain't ever'body that'd make biscuits in the middle of the night. You and that boy has give me a good feelin'.\",\n",
       " \"I knew you'd do all right. Well, I just wanted to check on you. I'll say bye to Bill and get on back.\",\n",
       " \"I promise we're gonna get away from him. The time has to be right, that's all. I'd rather him get tired of me and leave me. Then he wouldn't want to hurt me. He wouldn't care then. We'll be fine. I promise. You go to bed now.  I love you.\",\n",
       " \"Aw, come on. You'll like her. She's real nice. She'll give us somethin' if we ask her to. Candy or somethin'.\",\n",
       " 'Maybe you can make more sense out of them than I can. I made you a little old book marker and stuck it in that book on Christmas.',\n",
       " 'You know I would. Whatever you want.',\n",
       " \"He's real honest. He wouldn't steal nothin'.\",\n",
       " 'People have put their trust in you.',\n",
       " 'Good questions, deserving answers, of which we are in short supply.',\n",
       " 'They need guidance.',\n",
       " \"St. Katherine's is a Benedictine Order. You have taken a Vow of Hospitality.  To all in need.\",\n",
       " \"I know that.  This isn't about me.  It's about the choir.  You should hear them. They're good.  Really good.  And I taught them.\",\n",
       " \"I'm sure.  If I were you, I would use this time, to think about my life.  And its direction.  Or lack thereof.\",\n",
       " 'We are nuns.  We seek solutions through prayer.',\n",
       " 'You are correct.  Sometimes prayer alone cannot help a situation.  Such as your own, for example.  How do you feel about physical labor?',\n",
       " 'Mary Clarence, I have given you every opportunity.  To change.  To make a decent life for yourself.',\n",
       " 'Okay, so I just got things started.  But you could build on that.  You could keep it going.',\n",
       " 'You have evidenced great maturity, Mary Robert.  We shall have a serious discussion.',\n",
       " 'Thanks.  A lot.',\n",
       " 'Sid. You must be a very important executive.',\n",
       " \"Felicia says you're a very good hairdresser.\",\n",
       " \"You're right.\",\n",
       " \"It's a difficult situation, and I want you to know I appreciate it. Tonight's going to be real tough for me --\",\n",
       " \"Son, we'll do business, I can tell you that.\",\n",
       " \"You're great.\",\n",
       " 'Your advice!',\n",
       " \"Jill's really great, isn't she?\",\n",
       " \"We're friends.\",\n",
       " 'Wonderful woman.',\n",
       " \"Don't worry, honey, I'll protect you.\",\n",
       " \"No, doll, I listen to you. And if a deal loses money that's not so bad either if it's handled right.\",\n",
       " \"Oh, it's unfashionable, I know, but, yes, we're methodical, yes, we're dilligent, yes, we're serious, and where's the crime in that, and why not shout it from the rooftops, yes, maybe sometimes we are a little bit boring, but by God, we get the job done.\",\n",
       " 'You get the job done.',\n",
       " \"Which is why I'm trusting you with this account.\",\n",
       " '-- more than anyone she has ever met. In her whole life.',\n",
       " 'Know and love?',\n",
       " \"You're right.\",\n",
       " \"As smart as you are, you'll need a little help.\",\n",
       " \"Oh, no problems. Don't worry.\",\n",
       " \"Well, I've got this story, it's really good, I'm working on, that is good, I feel it could be big, it this, eh, and it's, you know, it's incredible. Am I right, did you say beyond recognition'?\",\n",
       " \"We all are, David, we're all going to do it. Each of us, you, me and Juliet, will do his or her bit. Is that fair enough?\",\n",
       " \"It's very kind of you to offer, but --\",\n",
       " 'I am here to help you. Tell me in your own words.',\n",
       " \"If we stand a chance at all, it's only by sticking together.\",\n",
       " \"You're the oldest man I know, Somerset.\",\n",
       " 'You do your job...',\n",
       " \"You follow the law and do the best you can. It's all there.\",\n",
       " \"Oh, you're so much better than everyone, right?  No one's worthy of you.\",\n",
       " \"Don't worry. Casey and Steve didn't bite it til way after ten.\",\n",
       " \"We'll find him, Sid. Don't worry.\",\n",
       " 'I believe you...',\n",
       " \"But you're doing so well.\",\n",
       " 'You know in the movies, I play you as being much smarter.',\n",
       " 'Gale Weathers would find a way.',\n",
       " \"Can't arrest ghosts.  But the best way to stop being haunted is to be with people.  You're here, you're not hiding, you've done the right thing, Miss Prescott.\",\n",
       " \"But you won't. You're a good man detective. We think alike. I know you need my help. And I know you know I need your help.\",\n",
       " \"Really? You're such a talented actor.\",\n",
       " 'Watch your back.',\n",
       " \"Don't worry...\",\n",
       " \"Now, Gale, you were so instrumental in my freedom. You're not having character doubts now, are you?\",\n",
       " 'You wrote me a letter. Very cordial. Very appropriate.',\n",
       " \"I work hard for you.  I'll continue to work hard for you.\",\n",
       " 'God bless you, sir.',\n",
       " \"You're a good man.\",\n",
       " \"A very responsible young man you're out with tonight.\",\n",
       " \"Okay. She's really pretty great, isn't she?\",\n",
       " \"She's really pretty great, isn't she?\",\n",
       " \"Well Lloyd, I admire you for not hitching a ride.  You know, my daughter's a lot different to you.\",\n",
       " \"She's very successful.\",\n",
       " 'Very talented.',\n",
       " \"You're a great date.  I've never really gone out with someone as basic as you.\",\n",
       " 'Friends with potential.',\n",
       " \"I'm doing alright.\",\n",
       " \"Yeah.  Now, when you feel like you're confident,...\",\n",
       " \"Well no, it's not noble, but it's a good aid to your lesson.\",\n",
       " 'Here are some blankets.  This is a good song, this is a really good song.',\n",
       " \"Diane, in a million years, you could never be a... priss.  It's all working out for you honey, don't you see?  It's all working out, just like we planned.  All the years of summer school, all the vacations you gave up, it's all working out just the way we planned...\",\n",
       " \"You're going to take a big step, a big leap, and before you do, I just want one thing from you, miss.  You stand up straight and admit you're special.\",\n",
       " 'I trusted you.  I stood up in court five years ago and I picked you.',\n",
       " \"You're right.\",\n",
       " \"You are such a great person Lloyd.  I'm a good person, but you are a great person.\",\n",
       " \"Sorry, I need a B.A.R. man, you're the best.\",\n",
       " \"Trust me, you're the best.\",\n",
       " \"Never mind, don't worry, we'll pick up this kid, high-tail it back to division, everything'll work out fine.\",\n",
       " 'If we stayed, we could make a difference.',\n",
       " \"I think you're right, Keith.\",\n",
       " \"That's better, but you've still got a long way to go.  Talk to Reiben, he's a natural and works at it, he'll give you some pointers.\",\n",
       " \"Trust me. We're safe.\",\n",
       " 'You can still work.',\n",
       " \"The Junior Shop Stewards. There's lots of ways we can help.\",\n",
       " \"But you are needed. Especially now -- with most of the other men away. You're captain of the stand-by squad.\",\n",
       " \"You're right.  You better hope so.\",\n",
       " 'This is a good letter, Dad.',\n",
       " 'Okay, you were right.  I hated my column, but I can do this assignment.',\n",
       " 'You come highly recommended, Carter. And your particular assignment requires a special talent.',\n",
       " \"Because with your special talents, I'm sure you'll do a better job.\",\n",
       " \"Oh baby, don't worry, I'll call you. You can count on it.\",\n",
       " 'The answers you seek can be found in Heaven on Earth.',\n",
       " \"As long as you're asking...I think you have a pretty good voice.\",\n",
       " 'Now that I believe.',\n",
       " \"You've been a good friend, James Carter.\",\n",
       " 'I guess so.  Thank you, Carter.',\n",
       " 'You take care of yourself, Lee.',\n",
       " \"You're right, you're a smart guy.  Most counterfeiters only get ten cents on the dollar.  But this is an even swap.  Pure genius.\",\n",
       " \"I'll do my best...that doesn't give me much time.\",\n",
       " \"I  have complete faith in you. But don't you go speeding.\",\n",
       " 'Oh, you would have done great.',\n",
       " \"It's no accident we stumbled on this money.  It's an answer to a prayer!  Every night and every day I've prayed that God would just -- help me out a little, give me a little push.  Tonight my prayer came true.\",\n",
       " \"Okay then.  I'll do it.\",\n",
       " 'You know one around here?  Somebody you trust?',\n",
       " \"It's consider a virtue in some corners of the world.\",\n",
       " 'You shoot alright.',\n",
       " 'And you respect him.',\n",
       " \"I'm touched, really, that they'd send someone of your caliber.  It's nice to know that they didn't make the mistake of underestimating me twice.\",\n",
       " \"Nay, he's a flower; in faith, a very flower.\",\n",
       " \"If in thy wisdom thou canst give no help Do thou but call my resolution wise, And with this I'll help it presently!\",\n",
       " \"A right good marks-man! And she's fair I love.\",\n",
       " \"Angelo?  He's a pal, a chum...\",\n",
       " \"That'll work out just fine.  When this thing is over, I'll take you to Catalina.  How does that sound?\",\n",
       " \"Do me a favor -- Talk to Gazzo. Tell him I'm a friend an' would do a good job... Tell him I ain't bothered by nothin' an' would be a great collector... Bustin' bones don't bother me -- Tell him I'm a good worker.\",\n",
       " \"I'll do okay.\",\n",
       " 'She got gaps. I got gaps -- together we fill the gaps.',\n",
       " \"I know ya need sparrin' partners -- I'm very available.\",\n",
       " \"I wouldn't take no cheap shots. I'd be a good sparrin' partner.\",\n",
       " 'Hey -- if a good man can make a better life, let him make it.',\n",
       " \"Cover the ribs -- Look here, elbow down, tight -- Tight -- stand straight -- you're the best, you're the best!\",\n",
       " 'Oh, Rocky -- you worked so hard.',\n",
       " 'You did right.',\n",
       " \"You're OK by me.\",\n",
       " 'I am fluent in over six million forms of communication, and can readily...',\n",
       " \"No, you don't. You've always been strong.\",\n",
       " \"Because...there is good in him. I've felt it. He won't turn me over to the Emperor. I can save him. I can turn him back to the good side. I have to try.\",\n",
       " 'I assure you, Lord Vader, my men are working as fast as they can.',\n",
       " \"Just stick close to Chewie and Lando. I've taken care of everything.\",\n",
       " 'You have done well, Lord Vader. And now I sense you wish to continue your search for young Skywalker.',\n",
       " 'Patience, my friend. In time he will seek you out. And when he does, you must bring him before me. He has grown strong. Only together can we turn him to the dark side of the Force.',\n",
       " \"There's still good in him.\",\n",
       " 'Vader humbled you when first you met him, Luke... but that experience was part of your training. It taught you, among other things, the value of patience. Had you not been so impatient to defeat Vader then, you could have finished your training here with Yoda. You would have been prepared.',\n",
       " \"To be a Jedi, Luke, you must confront and then go beyond the dark side - the side your father couldn't get past. Impatience is the easiest door - for you, like your father. Only, your father was seduced by what he found on the other side of the door, and you have held firm. You're no longer so reckless now, Luke. You are strong and patient. And now, you must face Darth Vader again!\",\n",
       " 'Your insight serves you well. Bury your feelings deep down, Luke. They do you credit. But they could be made to serve the Emperor.',\n",
       " '\"Today you have a rare opportunity to make a big difference in your chosen field.  By your able leadership and with great conviction and strength of character, you will come up a winner.\"',\n",
       " \"It must be wonderful to be so smart. I don't see how you do it, reading all those books, learning all that stuff.\",\n",
       " 'Yeah, it took her a while to grow up and find Mr. Right, but she did it. She found him.',\n",
       " 'She will succeed.',\n",
       " 'He and his wife both said she had a fine moral character and was wonderful with children.',\n",
       " \"But that's a wonderful quality, not a bad quality.  Have a little patience with her. She's such a good-hearted little thing and tries so hard.\",\n",
       " \"You are the one who's good-hearted.  As for Rose, let's hope for the best.\",\n",
       " \"I don't intend to mock you, dear. I respect your philosophy. It's beyond my comprehension, but I respect it.\",\n",
       " \"But morals come from the heart, not from rigid rules and empty laws. And in her heart Rose has never hurt anyone and she never would. Therefore, she's not immoral. Not really.\",\n",
       " \"It isn't that she hasn't got any sense, Doll. Her basic intelligence is probably above average, maybe quite a bit above average.\",\n",
       " \"A saint just like your own mother. She's up in heaven right now, her and Lunette, there ain't no doubt about it.\",\n",
       " 'But we must respect that power, we must be in awe of it.',\n",
       " 'Your money may have been well invested, my friend. Something important may come of all this.',\n",
       " 'Good night.  And I am very grateful to you.',\n",
       " \"It doesn't usually take that long, but I'll forgive you -- you were in a tough spot when I met you.\",\n",
       " \"We'll grant that.\",\n",
       " \"Oh, yes, he's in good hands now.\",\n",
       " \"No, I wouldn't be surprised at anything from you. Winningly. MAXWELL Now, honey--you are here in time to help me and you can--\",\n",
       " \"There's no name for it... But it's something that, that puts a person at ease.\",\n",
       " 'She sounded strong...',\n",
       " 'Yes, and just one time can be enough.  Thank you.',\n",
       " \"I need to... I need to believe something. This is the first time I've ever come up against anything I couldn't... understand.\",\n",
       " 'Maybe we can handle it together.',\n",
       " \"She'll need both of us.\",\n",
       " 'Whenever I start contemplating the panic button, your back straightens up and your eyes get that God-looks- out-for-everybody look and... I feel better.',\n",
       " 'I feel better when you feel better.',\n",
       " 'Do you know how I found out about you? I found one of your letters... it was a nice letter, Sam.',\n",
       " 'I believe it.',\n",
       " \"I'll be perfectly honest with you, Ma'am. It's not that I don't trust you, but...\",\n",
       " 'Wait.  No.  How do I know I can trust you?  How do I know you vill present this play in the manner and spirit in vhich it vas conceived?',\n",
       " \"You're that smart?\",\n",
       " 'Truly, you have a dizzying intellect.',\n",
       " 'Well, I certainly hope you find him, someday.',\n",
       " \"Whether I am or not, you've been more than fair. ---------------------------------------------------------------------------                                                           30.\",\n",
       " \"I give you full marks for bravery --don't make yourself a fool.\",\n",
       " 'We face each other as God intended. Sportsmanlike. No tricks, no weapons, skill against skill alone.',\n",
       " \"I was giving you a chance. No matter where you take me ... there's no greater hunter than Prince Humperdinck. He could track a falcon on a cloudy day. He can find you\",\n",
       " 'I never said he was my dearest love. And yes, he will save me. That I know.',\n",
       " \"Okay.  Thanks, Barney.  You're the best.\",\n",
       " 'Very good.  You ought to have that printed up on your business card.',\n",
       " \"We're the exactly the same!  Kit keeps telling me don't get emotional when you turn tricks -- that's why no kissing -- it's too personal. The key is like you're saying, stay numb, don't get involved -- when I'm with a guy, I'm a robot, I just do it.  Except with you.  At your price I give my all...\",\n",
       " \"I'll guard them and you with my life.\",\n",
       " \"Because I told you, you're the best. I knew you could do it but I couldn't get you in here without a cover story.\",\n",
       " \"Angelo... I'm right this time.  We can still win this one.\",\n",
       " 'Thanks for stepping in.',\n",
       " 'You gotta earn trust.',\n",
       " \"Then we'll earn it together.  Here, take mine.\",\n",
       " \"I've known Susan for more than fifteen years.  James, we're old allies.\",\n",
       " 'Very thoughtful.',\n",
       " \"Well, I am a great admirer of your work.  I read your books on Chartism when I was still at school.  I'm a journalist, not a historian.  There are questions of method, and approach.  I wondered--\",\n",
       " \"Don't be silly.  I'll look out some more Suez material for you. You'll be very welcome.\",\n",
       " \"As thoroughly as I could. It wasn't easy. But you are helping me.\",\n",
       " \"She's very beautiful. She's much younger than I am. And she's rich, I hope.\",\n",
       " \"You're a young man.  You're romantic.  You think a pretty face and a clean conscience go together. You think a soft voice means a soft heart.  You'll grow out of that.\",\n",
       " \"This badge is not an old newspaper you can cast down on the desk.  It is not a thing you can give up as of no value.  It may be taken from you--and you may die defending it. But you'll not use it to make cheap dramatic gesures with.  It's a naked steel of the sword of Justice.  Put it back in your pocket and hold tight to it--and someday you might grow into a worthiness ye lack now.\",\n",
       " \"I've always thought you were a pretty nice guy, Brandon.  I'd like to go on thinking so.  If you tried to help her get away--\",\n",
       " \"I've got good ears.\",\n",
       " 'You understand perfectly.',\n",
       " \"He's a fellow with a very hard knee, and he knows how to use it.\",\n",
       " \"Barnes believes in what he's doing.\",\n",
       " 'Of course, you could return with us. Our society might find a place for you and your mate.',\n",
       " 'Yes, I can do that.',\n",
       " \"That's because Dr. Zaius realizes our work has value.\",\n",
       " \"I see. Well, even if you don't believe in God, it doesn't mean He won't be --\",\n",
       " 'Chrislam teaches that once in every lifetime should there be a great hajj -- a great pilgrimage. To know God, better, yes, but to know yourself as well.',\n",
       " '<u>I trusted you</u>, Riddick. Goddamn, I trusted that some part of you wanted to rejoin the human race.',\n",
       " 'Rayisha. Very nice.',\n",
       " 'For a healthy baby. For Lisa to make it through the delivery. For the Phillies to get into the playoffs.',\n",
       " 'I know a good probate lawyer.',\n",
       " \"Possessed of an encyclopedic knowledge of the law. A razor sharp litigator, a genuine leader, gifted at bringing out the very best in others. An awesome ability to illuminate the most complex of legal concepts to colleagues, courtrooms, the person on the street.  The kind of person who plays three sets of tennis but doesn't sweat. But underneath the elegant surface, was an adventurous spirit.\",\n",
       " 'Are you a good lawyer?',\n",
       " \"I'm an excellent lawyer.\",\n",
       " 'What makes you an excellent lawyer?',\n",
       " 'You were always friendly to me. I appreciated that.  You know, this used to be a fantasy of mine.',\n",
       " 'Okay. I promise.',\n",
       " \"Good. You're discreet. I like that in a partner.\",\n",
       " \"That's terrific. You did it. You really changed the course of your destiny.\",\n",
       " \"That's a terrific line. You're going to be a wonderful writer.\",\n",
       " \"First of all, Richard is not a creep. He happens to be an exceptional person. If any of you gave him half a chance, you'd find that out.\",\n",
       " 'You know I do.  I even wrote you into my will.',\n",
       " \"Everything. I have a good head for business, I should be franchising the bakery. And I want you to give me your word that whatever happens, you'll go to college. And finish.\",\n",
       " \"I'll never give up.\",\n",
       " 'Brilliant, Admiral.',\n",
       " 'A brilliant man would find a way not to fight a war.',\n",
       " 'Of course I forgive you.  I know what you feel for Danny is real.  And your choice is your choice.',\n",
       " 'You know you can always step in, work with me full-time as one of my investigators.',\n",
       " \"You're sure easy to talk to.  I wonder -- say we met under different circumstances and got to talking, say you were in a bar and I came up to you -- I wonder what would happen.\",\n",
       " 'I like your hair.  And that suit.',\n",
       " 'It would be worth the risk.',\n",
       " \"You're right.  So why take a chance--\",\n",
       " \"All right.  Don't worry, I'll be right beside you.\",\n",
       " \"I don't know, yet.  We'll just have to watch our chance. When it comes I'll know what to do--I hope I'll know what to do.\",\n",
       " 'You was a Golden Warrior.',\n",
       " \"Yeah us Golden Warriors.  You're a good kid, Jimmy, a good tough kid. We stick together, huh, kid?\",\n",
       " \"You'll work.\",\n",
       " 'Nice fellows.',\n",
       " \"I'll go down the line, Kayo, believe me.\",\n",
       " \"Tell it to me in there and my lips are sealed. But if I dig it out myself I can use it where it'll do the most good.\",\n",
       " 'That was nice of you.',\n",
       " \"Edie, down here it's every man for himself. It's keepin' alive! It's standin' in with the right people so you can keep a little loose change jinglin' in your pocket.\",\n",
       " 'Edie, listen to me! I want you to believe me. I want to be with you.',\n",
       " 'Do what I told you. Take care of Charley.',\n",
       " \"Edie, I do what I can. I'm in the church when you need me.\",\n",
       " 'Nothing ever stops you from talking, Charley.',\n",
       " 'He was always a good kid. You know that.',\n",
       " \"Oh, Faith.  My name's Faith.\",\n",
       " \"Don't worry, it's a long story, but I know who he is.  I know where to find him.\",\n",
       " 'But, Faith--',\n",
       " \"He's a patient, Rose...\",\n",
       " 'All in good time, Mister McMurphy. All in good time.',\n",
       " 'And you get on very well.',\n",
       " \"I'll see what I can do.\",\n",
       " \"No, I'm sure it'll be fine.\",\n",
       " 'No, you were brilliant',\n",
       " \"I appreciate that absolutely.  Is that the film you're doing?\",\n",
       " \"I'm sure you'd be great in Henry James. But, you know -- this writer's pretty damn good too.\",\n",
       " \"Only if you're willing to put aside everything you've learned and trust me. Can you do that?\",\n",
       " 'I can do that.',\n",
       " \"Don't hold back on us, Max.  We need all the help we can get.\",\n",
       " \"I'm sorry to hear that, but you're the experts on this, not me.  If I had any insights, believe me, I'd share them with you.\",\n",
       " 'You hit that ball pretty good, Walsh.',\n",
       " \"Josie you owe it to yourself to go. For your writing. You're a natural.\",\n",
       " \"That's what makes you interesting.  As a teacher.\",\n",
       " \"God, I would love to think I'm an interesting teacher. I mean, I had maybe one or two teachers in high school who had any passion at all.\",\n",
       " \"You have to say that. You're my student.\",\n",
       " 'You\\'re really doing a great job here, Josie. I like your \"can do\" attitude.',\n",
       " 'Wow. You believe in me that much--',\n",
       " \"Of course I do. Josie, you owe it to yourself--to your writing, to go to college. You're a great writer. You just have to find your story.\",\n",
       " 'Better person than I.',\n",
       " 'I know this woman. She works in admissions at Lakeshore Community? She might be able to get you in for the Fall semester. Maybe she could get you the baseball scholarship, and I could help and--',\n",
       " \"Come on! It's not that hard. All you need is one person. Once the right person thinks you're cool, you're in. Everyone else will be too scared to question it.\",\n",
       " 'Better than I...',\n",
       " \"Geller, we've been over this. You're a great copy editor. Maybe my best copy editor. You're not a reporter.\",\n",
       " \"He's a resourceful guy, your boss. How long you work for him?\",\n",
       " \"The way I feel, believe me, it'll help.\",\n",
       " \"I'll be okay.\",\n",
       " 'No problem, amigo.',\n",
       " \"I'll let it access me. That'll give you a free shot. Make it a good one. Dix.\",\n",
       " \"I prefer distrusting you. It'll keep us honest.\",\n",
       " \"Yes, the Lord's been pretty good to us. I guess you're a church man, aren't you?\",\n",
       " 'We can always do that, Duff.',\n",
       " 'Just so you do your work.',\n",
       " \"Never is a very long time, Wayne. A word only the weak use. I'm not a sore loser. Even if I don't have a leg to stand on, I'm going to get up and fight this world until I'm on top again.\",\n",
       " \"Yeah, we met. They're good men.\",\n",
       " 'Through the power of the simple word---',\n",
       " \"I'm sure we will.\",\n",
       " \"Five inmates, eight guards and one psychiatrist all in one year's time... Very good. You do keep up with the headlines.\",\n",
       " 'I can appreciate that.',\n",
       " \"You're a celebrated cop. Twenty-six years on the force, a best-seller out on paperback...\",\n",
       " 'I see... Well, those doctors are real miracle workers.',\n",
       " \"A little slow, but she'll be fine.\",\n",
       " 'You have a real philosophy of life.',\n",
       " \"Someday she'll thank you.\",\n",
       " \"Let's not get carried away.\",\n",
       " 'Pacifist!',\n",
       " 'I will I promise.',\n",
       " \"Yes I do, and I think she's very good for your father.\",\n",
       " \"He's a great poet.\",\n",
       " \"You're a good man Nicholas.\",\n",
       " 'Some sacrifices are worth it.',\n",
       " \"I'll try.\",\n",
       " \"I'd say you turned out just fine.\",\n",
       " 'I am equally impressed with your knowledge of the market. How long have you been with the company now ?',\n",
       " \"Relax, son. They'll learn in time that you don't fuck with First Bank. This is the real deal and we aim to keep it strong. My Daddy always told me that Only The Strong Survive.\",\n",
       " 'I have entrusted you with a great many things. In your tenure with this company you have seen and heard things that could upset the very economic world in which we live. I think this kind of loyalty should be rewarded.',\n",
       " 'Sir, he created the Park. He would know how to circumvent any of the traps.',\n",
       " \"Look, you're going to have to start trusting me sometime. I am a trustworthy person.\",\n",
       " 'Trust is earned not given away.',\n",
       " 'RESPECT is earned not given away, trust is given away to anybody.',\n",
       " \"Not down here. I'll start trusting you when I feel there the time is right. It's not personal, it's just survival.\",\n",
       " \"You'll keep your eyes open for me won't you baby?\",\n",
       " 'Nice wallets.',\n",
       " 'She has pretty red hair... she is very kind I think.',\n",
       " 'I agree with what you said...truly.',\n",
       " 'It will work out.',\n",
       " \"You're an understandin' fella.\",\n",
       " 'You are here safely.',\n",
       " 'My husband was always very complimentary in speaking of you.  He would have approved, I am sure, of my calling on you in this way.  I trust it does not inconvenience you too much.',\n",
       " 'If duty and safety are served by the same end then, aye, I do.',\n",
       " 'Dare say you can be taught.',\n",
       " 'What I do, I do for my Queen.',\n",
       " \"To have achieved one's ambition, or to have reconciled oneself to its limits, is a lifetime's work.\",\n",
       " \"I'm sure it won't be difficult to find you.\",\n",
       " 'I think I could pull through, sir.',\n",
       " \"I think I'll be all right to come with you, sir.\",\n",
       " 'I will send help, brave friend, as soon as I have accomplished this most daring, desperate adventure in this genre.',\n",
       " 'That is our quest.  You know much that is hidden O Tim.',\n",
       " 'This is a good suit.',\n",
       " \"I'll take care of it, Johnny. I'll take care of the whole thing. All you have to do is show up.\",\n",
       " 'You have such a head for knowing. You know everything.',\n",
       " 'Jesus, Ethan.  Good for you.',\n",
       " \"I'm willing to take the chance.\",\n",
       " \"Even so, I'm sure you could arrange an introduction.\",\n",
       " 'Very good.',\n",
       " 'What makes you trust me?',\n",
       " \"I'll get you close.\",\n",
       " \"He was a good guy for a long, long time. Just - not long enough.  Gotta catch my flight.. So.  How's it feel being a solid citizen again?\",\n",
       " \"Well, Luther - if it makes you feel any better I'll always think of you that way.\",\n",
       " \"You're right.  Maybe this'll save some time.\",\n",
       " \"Why not?  You've done just about everything else on this operation.\",\n",
       " \"Wanted to see how good you were. I'm hoping we might work together.\",\n",
       " \"You didn't do that badly.\",\n",
       " 'I need your help and I thin you can use mine.',\n",
       " \"It's... it's nice, Paul. It's got... character.\",\n",
       " 'When I wrote my first book, I used to carry it around in this while I was looking for a publisher. That was a good book, Marcia. I was a writer then.',\n",
       " \"You're still a writer.\",\n",
       " \"I'm sure you're right.\",\n",
       " \"I'm getting to believe you.\",\n",
       " \"I'll get you everything you want, but you must listen first. Sometimes my thinking is a little muddy, I accept that. It's why I couldn't remember all those things they were asking me on the witness stand in Denver.\",\n",
       " \"I know this may be difficult for you, but it's for the best.\",\n",
       " \"You know, Annie, this book never would have survived without you. When it gets to new York, there will be a big auction, and whatever it brings we can split.  God knows you're entitled to it.\",\n",
       " \"Oh, Paul. This isn't about money. It's about decency and purity. It's about God's values.\",\n",
       " \"Now don't josh. This is a very big day for you, Paul. Here. You just sit tight, and I'll set everything up.\",\n",
       " \"I thought you'd be interested. I'd like you to be in on everything, Annie. Not just the finished book, but how it's written.\",\n",
       " 'Anything you can tell me might help.',\n",
       " 'I would never doubt you.',\n",
       " \"'Cause we <u>guarantee</u> every load.  Anywhere, for any reason, it comes up short, we make good.  Your operations will, from now on, run risk-free.\",\n",
       " 'Like you\\'ve told yourself. Over and over. Conditioning yourself to believe. \"learning through repetition\" -',\n",
       " 'You decided to help me. Trust yourself. Trust your own judgment. You can question everything, you can never know anything for sure.',\n",
       " \"I know the feel of the world.  I know how this wood will sound when I knock.  I know how this glass will feel when I pick it up.  Certainties. You think it's knowledge, but it's a kind of memory, a kind you take for granted. I can remember so much.  I know the feel of the world,  and I know her.\",\n",
       " \"'Pro bono'.  That means doing good -- Going to be doing good all your life?\",\n",
       " \"Listen, I'm crazy about the guy -- He's smart, he's aggressive, he could carry Parrish Communications into the 21st century and me along with it.\",\n",
       " \"I don't think this is the lightning you are looking for.  Drew's a good man.  I know I didn't seem to be completely in his corner before, but I've come to appreciate --\",\n",
       " \"I'm going to stick it out here.  We still have a shot.\",\n",
       " \"I'm doing great.  You ready?\",\n",
       " \"...I read you all the way on the Bontecou thing, and I know where you're coming from.  And I'm with you a hundred and one percent.\",\n",
       " \"It requires competence, wisdom, experience -- all those things they say about you in testimonials -- and you're the one.\",\n",
       " \"You give your word, I give mine -- that we'll do what we say.  It's a truth exchanged between two people.\",\n",
       " \"I picked you for your verve, your excellence, and for your ability to - how shall I say - instruct.  You've lived a first-rate life.  And I find it eminently usable.\",\n",
       " 'Trust, responsibility, taking the weight, for your choices and feel- ings and spending the rest of your life living up to them.  And above all, not hurting the object of your love.',\n",
       " \"I've got plenty of friends.\",\n",
       " 'I appreciate you --',\n",
       " 'I mean I appreciate that.',\n",
       " 'And I appreciate you, too.',\n",
       " 'We know all that we need to know --',\n",
       " \"Because there's nothing we don't know about each other and it's okay. I mean the deeper, darkest secrets -- they don't matter.\",\n",
       " \"We'll do it together.  I'll clue you in.  Timing's got to be right.  The old man says it's up to Joe.\",\n",
       " \"This is damn big of Bill, I also think it's smart.\",\n",
       " \"Daddy'll do fine.  Besides, he's got Joe.  And so do you.\",\n",
       " 'Allison, I trust you.  This is your thing.',\n",
       " \"Well, if things go the way I hope they'll go, this money business will take care of itself.  God willing.\",\n",
       " \"You know Diane...I've been wanting to talk to you for a while now...er... a...  aside from all that joking around we do out there...when you're on...I... a...I really...think that you're a terrific performer...\",\n",
       " \"I was thinking maybe you'd do very nicely for the place.\",\n",
       " \"Big deal...in the meantime, it's done...I'll still try to help you out...You know that...but you gotta show some effort...some respect... understand?\",\n",
       " 'Charlie, you know the best way to take care of this whole mess.',\n",
       " 'If you had a little talk with your uncle...if anybody can do it, he can.',\n",
       " \"I know a lot about you.  I've been wanting to meet you for some time.\",\n",
       " \"I know.  You're Neo.  Be right with you.\",\n",
       " \"You're the One, Neo.  You see, you may have spent the last few years looking for me, but I've spent most of my life looking for you.\",\n",
       " \"You're Morpheus, you're a legend. Most hackers would die to meet you.\",\n",
       " 'She is a true psychic.  She sees beyond the relativity of time.  For her there is no past, present or future.  There is only what is.',\n",
       " \"Don't think of it in terms of right and wrong.  She is a guide, Neo. She can help you find the path.\",\n",
       " 'Faith is beyond the reach of whys and why nots.  These things are not a matter of cause and effect, Neo. I do not believe things with my mind.  I believe them with my heart. In my gut.',\n",
       " 'You have to focus.  There is a phone.  Wells and Lake.  You can make it.',\n",
       " 'Goals are important.',\n",
       " \"Then he'll borrow it.  I know Tony better than you do.  Even if he has to work another ten years to pay it off, he'll do it!\",\n",
       " \"I want to help you, Will. You'd be more comfortable if you relaxed with yourself. We don't invent our natures, They're issued to us.  Along with our lungs and pancreas and everything else. Why fight it?\",\n",
       " 'Yeah, but not now... These will all make it... guaranteed.',\n",
       " 'You mended a crack in the wallpaper with your diploma.  You are open and easy now... It took you a lot of work to get to that...',\n",
       " \"I came up here after Kevin's father died.  They were very supportive and helped me adjust. I got myself together. I've gotten myself together now, too.\",\n",
       " \"He's very strong physically.\",\n",
       " \"In a little while I'll help you understand.\",\n",
       " \"Good.  We'll seal your promise with...\",\n",
       " 'The Bureau already has the best lab. Plus you have Bloom at the University of Chicago...',\n",
       " 'You look all right now.',\n",
       " \"Don't expect too much from me, Jack, all right?  We'll get him one way or the other.\",\n",
       " \"'You're very beautiful.\",\n",
       " \"Oh yeah?  You're a smart man?...\",\n",
       " 'I knew I could count on you.',\n",
       " \"Those are the words of a broken spirit.  My spirit is whole.  I have trusted d'Artagnan with my deepest secrets, and I will never believe he is my enemy.\",\n",
       " 'There is that, of course -- but mainly it is because I am so much smarter than everyone else.',\n",
       " 'I have it all worked out.',\n",
       " 'Do you think I have not considered that?  I have a plan -- and you may rest assured that it is brilliant!',\n",
       " 'You can do it.',\n",
       " 'In a year, maybe two, I could teach him enough to --',\n",
       " 'But Aramis -- !  Phillippe can learn in time, but --',\n",
       " \"I'll get it because I'm a good actress, Richard.\",\n",
       " \"She's a good girl.  She's a little nuts, but she's a good girl I think. She's a little daffy.\",\n",
       " \"I can help you through this the best I know how but there are certain things you are gonna have to be strong about and take care of, now we can go over them, but I need to know that you're listening to me, ok?\",\n",
       " 'We can fix that, because I can give you -- are you listening?',\n",
       " \"I'm listening.  I'm getting better.\",\n",
       " \"Yes they do, they do, but I'll make my dreams come true, you see?  I will.\",\n",
       " 'I can help you solve the case, I can tell you who did it.',\n",
       " 'Not yet -- \"give you the clue for the bust if you show me some trust --\"',\n",
       " \"Just hold it, you'll be fine.\",\n",
       " \"Oh, it'll be fine, I'm sure, Claudia.\",\n",
       " 'Yes.  I will.  It was nice to meet you Officer Jim.',\n",
       " \"You're a police officer.  You have so much, so many good things and you seem so together...so all straight and put together without problems.\",\n",
       " \"I'll take everything at face value. I'll be a good listener to you.\",\n",
       " \"I'm here, I'm listening.\",\n",
       " \"Don't put your hands in your pockets, hold your head up, always look a man in the eye, and all the time I'm hanging on his every word like he's God or something...\",\n",
       " \"You're not stupid.\",\n",
       " 'If you were tore up I would not be claiming you.  Trust.',\n",
       " \"You're just scared.  I know rehab is hard, and you have to worry about whether you'll be as good as you were but you will be.  I believe in you.  You just have to get back on the court.  Like you'd get back on a horse.\",\n",
       " \"I'd love for him to get a good education.  That's it.\",\n",
       " \"You could've given up after you threw that ball away.  But you kept your head and you showed real heart.\",\n",
       " 'I do.  You never stood up for yourself. Ever.  If I was ashamed, it was because of that.',\n",
       " 'You know what they say.  You have the same chance of winning whether you play or not.',\n",
       " \"Alright, Maya.  We'll do it your way.\",\n",
       " 'I saw you on television yesterday.  You were brilliant.',\n",
       " 'No matter, my son, he believes in you.',\n",
       " 'Peter.  Your life must matter to you because it matters to all of us who love you.',\n",
       " \"You know, I respect that you have such faith, James.  I don't understand it, but I want you to know that despite our differences, I admire you and I always will.\",\n",
       " \"Everything I did, I did for you.  I love you, Peter.  Think of it.  I'm giving you a gift, absolute power and knowledge.\",\n",
       " 'You need to believe in something besides yourself.',\n",
       " 'I believe in you.',\n",
       " \"Yeah, I'll be fine. Bye.\",\n",
       " \"It takes a while to figure it out. I'm sure you will, though.\",\n",
       " \"Thanks. I'm sure your mid-life crisis will work out,too.\",\n",
       " \"You'll figure it out. I'm not worried about you. Keep writing.\",\n",
       " 'You could still help me do that.',\n",
       " \"Oh yes.  We have to agree what's real and what's not. That's what holds us together.\",\n",
       " \"We wouldn't be having this conversation if I didn't. Swann's one of the most remarkable men alive.\",\n",
       " 'I can be very persuasive.',\n",
       " 'Swann said he could do stuff, yes.',\n",
       " \"I was grateful to him.  I owed him my life.  And he loved me. He couldn't always show it, but he felt it.\",\n",
       " \"You'd do a good job.\",\n",
       " 'I appreciate you telling me.',\n",
       " \"She's done well for herself--on her own and all--\",\n",
       " 'Nice-looking kid.',\n",
       " 'From the first time I saw you at school--all those years we were married to other people I always felt like we were connected.',\n",
       " \"My father says the day you're  born you start from scratch, no breaks and no excuses, and you got to pull yourself up on your own.\",\n",
       " \"There's gonna be some left over for you, Buddy. I take care of my boys.\",\n",
       " \"Now or later, Charley. You won't have any trouble finding me.\",\n",
       " 'I-I can do the job, sir.',\n",
       " 'Follow orders. Do whatever they say.',\n",
       " 'Work hard, be good at your job. Sir. Do whatever they tell you.',\n",
       " \"You can fix old cars. Mr. Washburn told me that the cars they're making now are all computerized--\",\n",
       " 'Good job, Chris.',\n",
       " 'I think I can help you, as it happens.',\n",
       " 'Beck, trust me.  If the company felt that you or your crew were in any danger we would authorize an immediate emergency pickup. We could be there in a few hours.',\n",
       " 'You did good...',\n",
       " 'Still...you did the right thing.',\n",
       " 'However I may apprise such testimony from Monsieur Montcalm, Fort William Henry is strong and stands.',\n",
       " \"Dear Duncan, my affection is as towards a closest friend. Alice and I depend on you and respect you immensely... I wish they did, but my feelings don't go beyond that. Do you see?\",\n",
       " \"Cora, in my heart, I know once we're joined, we'll be the happiest couple in England. Let those whom you trust, your father, help settle what's best for you. In view of your indecision, why not rely on their advice and judgment as well as mine?\",\n",
       " 'Would you, Doctor? That would be so kind.',\n",
       " 'Then please - do this test for me.',\n",
       " \"You're very frank, Clarice. I think - it would be quite something to know you in private life.\",\n",
       " \"Your instructors tell me you're doing well. Top quarter of the class.\",\n",
       " \"But for Catherine Martin, it all comes down to you and Lecter. You're the one he talks to.\",\n",
       " \"I think he means it, this time. I think he'll deal.\",\n",
       " 'Kevin, as long as we...  What was that last part?',\n",
       " 'You take care.',\n",
       " 'Look for a strong woman, not too occupied with her beauty. Look for a woman who keeps her hands busy. Look for a kind heart.',\n",
       " 'It is possible, Holiness.',\n",
       " 'Buddha teaches that we must learn from our enemy. We have compassion for all people.',\n",
       " 'You must study very hard, do not neglect the holy things during this time.',\n",
       " 'You have grown up very good.',\n",
       " 'He is a capable man.',\n",
       " 'Your people are very brave. They are fighting the Chinese. No one can stop them. Not even me.',\n",
       " \"I thought about it a lot and you're the only person I know that I trust with him.  I mean, if anything happened to me, he'd be okay with you.  You're a good mother.\",\n",
       " \"Don't worry.  I plan to have something within twenty-four hours, John.\",\n",
       " \"Don't worry.  I'll get the money.\",\n",
       " \"Ted, this may sound a little rough, but we've just landed the biggest account in the history of this agency, right? And now it's up to us--that's you and me --to deliver the goods.  Ted, you're my main man, and if I can't depend on you a hundred and ten percent, twenty-four hours a day, because you're worried about a kid with a runny nose--\",\n",
       " \"Jim, I appreciate what you're saying.  I mean it, but I really think Joanna's coming back.\",\n",
       " 'I heard you, Joanna.  I promise I heard you.',\n",
       " 'He would have.  You were his best friend.  A better friend than me.',\n",
       " \"I do.  Always.  You understand the world better than any of us, Kafka.  And what it's becoming.  I've always held you in the highest regard.\",\n",
       " \"I've read your stories.  They're fantastic.\",\n",
       " '-- You appreciate my writing.',\n",
       " 'A true friend would do it.',\n",
       " \"I'll have to lean on them pretty hard after what happened last night... but I think I can do it.  Let me know what happens.\",\n",
       " \"You'll probably be safe enough  on your own --\",\n",
       " \"Ian's a very good friend of mine.\",\n",
       " 'I believe in him.',\n",
       " \"I'll make it up to you this summer. I promise.\",\n",
       " 'You are an academic.',\n",
       " \"You'll always be my hero, Jerry. Always always always.  We're bringing other elements in, we're focusing on endorsements -- it's not about handholding anymore. We're no longer babysitters --\",\n",
       " \"It's a very personal, very important thing.  It's a family motto.  So I want to share it with you.  You ready?\",\n",
       " \"Take care, okay? You're my entire client roster.\",\n",
       " 'You are not a loser.',\n",
       " 'Grateful for your candor, Sir.',\n",
       " \"I'll take care of it.\",\n",
       " 'We got it together, Jake....',\n",
       " \"I'll do it, Jake.\",\n",
       " \"She's a tough lady....\",\n",
       " 'You could teach...You could....',\n",
       " \"He taught us good, though, didn't he, Sean?  We were lucky to grow up the way we did.\",\n",
       " \"It's not that easy.  Worked construction every summer to get through school.  Three years apprentice in the park's engineering department, and two years to build all this.  Finish school first, Sean.  Then make up your mind.  If you still want to work with me, we'll have plenty of time.\",\n",
       " \"I think we can capture it.  I'd like to try.\",\n",
       " 'Thanks for helping.',\n",
       " 'And I like you.',\n",
       " \"You will.  I'll see to it.\",\n",
       " \"Well, don't worry about your fiancee.  We'll watch over her.\",\n",
       " 'Absolutely.  Good idea.',\n",
       " \"It's still a good idea.\",\n",
       " \"Don't push it this time.  If you do, it won't turn out the way you want, I guarantee you that.\",\n",
       " 'No, marriage is all right for Harry, and Marty, and Sam and you.',\n",
       " 'Kind that will help you find the answers, George.',\n",
       " \"Yes, but he's got the faith of a child  simple. Joseph, send for Clarence.\",\n",
       " \"Clarence, you do a good job with George Bailey, and you'll get your wings.\",\n",
       " \"Oh, I know all about you. I've watched you grow up from a little boy.\",\n",
       " \"I told you  I'm your guardian angel. I know everything about you.\",\n",
       " 'Well, I guess they do those things. Well, I trust you had a good year.',\n",
       " 'You are my friend.',\n",
       " \"When you make sense I'll listen.\",\n",
       " 'Because he was a brave man - because I liked him -- I came here to be sure.',\n",
       " \"If you should fall sick we'll be careful. You need not worry.\",\n",
       " \"It just takes time, Julie. It's gonna get better.\",\n",
       " 'Are you sure? I really appreciate it.',\n",
       " 'He does work hard.',\n",
       " \"Duh. The next couple of days is gonna be rough, but we'll make it.\",\n",
       " \"Your perfect. Your bitter and you're strong.\",\n",
       " \"Because you're as strong as I was when I was alive.\",\n",
       " 'The dark gift is different for each of us. But one thing is true of everyone. We grow stronger as we go along.',\n",
       " 'You would never give up life. If the world were reduced to one empty cell, on fragile candle, you stay alive and study it. You see too clearly. You see too much.',\n",
       " 'You were their leader. They trusted you.',\n",
       " 'We were like sisters.  Knew everything about each other.',\n",
       " \"I'm, uh, in the midst of a moral dilemma. And I was wondering, because I know you're a very moral person, and --\",\n",
       " 'You know Libbets, I really feel, you know, like a real connection to you --',\n",
       " 'Just be careful.',\n",
       " \"My man, I speak to you solely as a comrade in arms offering unconditional aid. I've been giving this one a lot of thought, and I believe that the two of you together might just reach that higher ground that --\",\n",
       " 'Self-realization. Ministering to help people reach their fullest potential. Would you believe me if I told you I want you to see yourself reach your fullest potential and self-realization?',\n",
       " \"You didn't drive her mad.\",\n",
       " \"Don't, Paul -- don't doubt yourself -- don't make me doubt you.\",\n",
       " \"We'll see if we can't make her well, Alma, you and I.\",\n",
       " 'Go on, tell the truth; I trust you and I put a lot of stock in your opinion.',\n",
       " 'I believe in you, Norville -- At least I believe in your... intentions --',\n",
       " 'Just give me another chance, Norville -- I can help you fight this thing. I know this last story was a lie! We can prove it! We can --',\n",
       " \"Actually I wrote it.  It's a good sentence.  It can apply to people.\",\n",
       " \"You're not an unmysterious thang yourself.\",\n",
       " \"I'm sorry for losing it back there, but you must remember, sister, you have vows to God as well as a mission to the world.\",\n",
       " 'I know, I know, your Eminence, just say \"God go with me.\"',\n",
       " \"Still do the puzzles, still know the running times of songs, and I'll bet you're still the best damn cat burg--\",\n",
       " \"C'mon.  It'll be great.\",\n",
       " \"Don't do that!  Don't put yourself down. If you have a quality, be proud of it...\",\n",
       " \"Joey, you walked through your window from one reality to another.  You're stronger than you think.\",\n",
       " 'What about keeping an open mind?',\n",
       " 'We can do it...',\n",
       " 'Thank you, sir, you saved our lives.',\n",
       " 'You have our cards.',\n",
       " 'Will you protect us.',\n",
       " \"We're okay.\",\n",
       " \"It won't be a problem.\",\n",
       " \"I'll give you these people.\",\n",
       " 'Now I understand.  That helps.  I can make them understand that.',\n",
       " \"You've already helped yourself once, Dennis; be smart again.  If you save his life, it'll help when you get to court.\",\n",
       " 'Our people out there, they good people? People in the right place?',\n",
       " 'I will, Chief.  Absolutely.',\n",
       " 'I can take care of myself.',\n",
       " 'Do not underestimate the power of your heart.  Your dreams live there.',\n",
       " 'We too are brothers, Macleod.  In fact, you have more family than you think.',\n",
       " 'Thomas Cavenaugh.  I am a teacher of sorts.  Like Romeriz I help those newly acquainted with our life.',\n",
       " 'For being a friend when I needed one. I hope our paths cross again.',\n",
       " 'As friends -- always as friends.',\n",
       " 'You always get to go first.',\n",
       " 'You must value your independence.',\n",
       " \"Yeah, I've always been able to make my way in the world.  I don't like having to rely on other people.\",\n",
       " \"It's nice that you can make that choice.\",\n",
       " 'All right then.  That\\'s important, isn\\'t it?  -- For you to be in an \"up\" environment.  I\\'m saying you should literally take that as your <u>base</u>, do you know what I mean? It\\'s something positive that you\\'ve accomplished -- even if you were forced by circumstance -- something for you to build upon.',\n",
       " ...]"
      ]
     },
     "execution_count": 90,
     "metadata": {},
     "output_type": "execute_result"
    }
   ],
   "source": [
    "xdf[xdf[\"10\"]][\"text\"].values.tolist()\n",
    "# label_names = [\"anger\", \"anticipation\", \"disgust\", \"fear\", \"joy\", \"love\", \"optimism\", \"hopeless\", \"sadness\", \"surprise\", \"trust\"]\n"
   ]
  },
  {
   "cell_type": "code",
   "execution_count": 13,
   "metadata": {},
   "outputs": [],
   "source": [
    "text = df['text'].values"
   ]
  },
  {
   "cell_type": "code",
   "execution_count": 14,
   "metadata": {},
   "outputs": [],
   "source": [
    "words = [i.split() for i in text]"
   ]
  },
  {
   "cell_type": "code",
   "execution_count": 15,
   "metadata": {},
   "outputs": [],
   "source": [
    "lens = [len(i) for i in words]"
   ]
  },
  {
   "cell_type": "code",
   "execution_count": 17,
   "metadata": {},
   "outputs": [
    {
     "data": {
      "text/plain": [
       "12.840175074867542"
      ]
     },
     "execution_count": 17,
     "metadata": {},
     "output_type": "execute_result"
    }
   ],
   "source": [
    "sum(lens) / len(lens)"
   ]
  },
  {
   "cell_type": "code",
   "execution_count": 2,
   "metadata": {},
   "outputs": [],
   "source": [
    "import numpy as np"
   ]
  },
  {
   "cell_type": "code",
   "execution_count": 3,
   "metadata": {},
   "outputs": [],
   "source": [
    "data = np.concatenate([[x-1] * x * x * x * 1000 for x in range(1, 6)])"
   ]
  },
  {
   "cell_type": "code",
   "execution_count": 4,
   "metadata": {},
   "outputs": [
    {
     "data": {
      "text/plain": [
       "array([0, 0, 0, ..., 4, 4, 4])"
      ]
     },
     "execution_count": 4,
     "metadata": {},
     "output_type": "execute_result"
    }
   ],
   "source": [
    "data"
   ]
  },
  {
   "cell_type": "code",
   "execution_count": 5,
   "metadata": {},
   "outputs": [
    {
     "name": "stdout",
     "output_type": "stream",
     "text": [
      "[  1000   8000  27000  64000 125000]\n"
     ]
    }
   ],
   "source": [
    "counts = np.bincount(data)\n",
    "t = counts.size\n",
    "print(counts)"
   ]
  },
  {
   "cell_type": "code",
   "execution_count": 6,
   "metadata": {},
   "outputs": [],
   "source": [
    "import sys\n",
    "eps = sys.float_info.epsilon\n",
    "num_samples = 5000\n",
    "\n",
    "p = 1 / np.maximum(counts[data]-num_samples/counts[data], eps)\n",
    "p /= p.sum()"
   ]
  },
  {
   "cell_type": "code",
   "execution_count": 7,
   "metadata": {},
   "outputs": [
    {
     "data": {
      "text/plain": [
       "array([ 672.198, 1036.18 , 1087.742, 1098.2  , 1105.68 ])"
      ]
     },
     "execution_count": 7,
     "metadata": {},
     "output_type": "execute_result"
    }
   ],
   "source": [
    "avg = np.zeros_like(counts)\n",
    "for i in range(500): avg += np.bincount(np.random.choice(data, num_samples, replace=False, p=p))\n",
    "avg / 500"
   ]
  },
  {
   "cell_type": "code",
   "execution_count": 91,
   "metadata": {},
   "outputs": [],
   "source": [
    "data = np.zeros((200000, 5))"
   ]
  },
  {
   "cell_type": "code",
   "execution_count": 92,
   "metadata": {},
   "outputs": [],
   "source": [
    "for i, x in enumerate([50000, 40000, 20000, 10000, 5000]):\n",
    "    data[np.random.choice(200000, x, replace=False), i] = 1\n",
    "    "
   ]
  },
  {
   "cell_type": "code",
   "execution_count": 93,
   "metadata": {},
   "outputs": [
    {
     "data": {
      "text/plain": [
       "100006"
      ]
     },
     "execution_count": 93,
     "metadata": {},
     "output_type": "execute_result"
    }
   ],
   "source": [
    "len(data[data.sum(1) != 0])"
   ]
  },
  {
   "cell_type": "code",
   "execution_count": 94,
   "metadata": {},
   "outputs": [],
   "source": [
    "data = data[data.sum(1) != 0][:100000]"
   ]
  },
  {
   "cell_type": "code",
   "execution_count": 1,
   "metadata": {},
   "outputs": [],
   "source": [
    "from spanemo.data_loader import alternate_preprocessor"
   ]
  },
  {
   "cell_type": "code",
   "execution_count": 2,
   "metadata": {},
   "outputs": [
    {
     "name": "stderr",
     "output_type": "stream",
     "text": [
      "/home/alexlu/miniconda3/envs/emo/lib/python3.9/site-packages/ekphrasis/classes/tokenizer.py:225: FutureWarning: Possible nested set at position 2190\n",
      "  self.tok = re.compile(r\"({})\".format(\"|\".join(pipeline)))\n"
     ]
    },
    {
     "name": "stdout",
     "output_type": "stream",
     "text": [
      "Reading english - 1grams ...\n",
      "Reading english - 2grams ...\n"
     ]
    },
    {
     "name": "stderr",
     "output_type": "stream",
     "text": [
      "/home/alexlu/miniconda3/envs/emo/lib/python3.9/site-packages/ekphrasis/classes/exmanager.py:14: FutureWarning: Possible nested set at position 42\n",
      "  regexes = {k.lower(): re.compile(self.expressions[k]) for k, v in\n"
     ]
    },
    {
     "name": "stdout",
     "output_type": "stream",
     "text": [
      "Reading english - 1grams ...\n"
     ]
    },
    {
     "data": {
      "text/plain": [
       "['[MASK]']"
      ]
     },
     "execution_count": 2,
     "metadata": {},
     "output_type": "execute_result"
    }
   ],
   "source": [
    "alternate_preprocessor()(\"specialmasktoken\")"
   ]
  },
  {
   "cell_type": "code",
   "execution_count": 95,
   "metadata": {},
   "outputs": [
    {
     "name": "stdout",
     "output_type": "stream",
     "text": [
      "[49998. 39997. 19998.  9999.  5000.]\n"
     ]
    }
   ],
   "source": [
    "counts = data.sum(0)\n",
    "t = counts.shape[-1]\n",
    "print(counts)"
   ]
  },
  {
   "cell_type": "code",
   "execution_count": 97,
   "metadata": {},
   "outputs": [
    {
     "data": {
      "text/plain": [
       "(100000, 5)"
      ]
     },
     "execution_count": 97,
     "metadata": {},
     "output_type": "execute_result"
    }
   ],
   "source": [
    "data.shape"
   ]
  },
  {
   "cell_type": "code",
   "execution_count": null,
   "metadata": {},
   "outputs": [],
   "source": [
    "np.maximum"
   ]
  },
  {
   "cell_type": "code",
   "execution_count": 164,
   "metadata": {},
   "outputs": [],
   "source": [
    "num_samples = 25000\n",
    "\n",
    "p = (data * 1/np.maximum(counts-num_samples/5, eps)).sum(1)\n",
    "# p = (data * 1/counts).sum(1)\n",
    "# p = (data * 1/counts); p[p==0] = -np.inf; p = p.max(1)\n",
    "p /= p.sum()"
   ]
  },
  {
   "cell_type": "code",
   "execution_count": 160,
   "metadata": {},
   "outputs": [
    {
     "data": {
      "text/plain": [
       "array([49998.,  9990.,  4994.,  2472.,  1244.])"
      ]
     },
     "execution_count": 160,
     "metadata": {},
     "output_type": "execute_result"
    }
   ],
   "source": [
    "data[data[:, 0] == 1].sum(0)"
   ]
  },
  {
   "cell_type": "code",
   "execution_count": 165,
   "metadata": {},
   "outputs": [
    {
     "data": {
      "text/plain": [
       "array([9980.198, 9000.284, 6934.342, 5752.784, 4526.112])"
      ]
     },
     "execution_count": 165,
     "metadata": {},
     "output_type": "execute_result"
    }
   ],
   "source": [
    "avg = np.zeros_like(counts)\n",
    "for i in range(500): \n",
    "    indices = np.random.choice(len(data), num_samples, replace=False, p=p)\n",
    "    avg += data[indices].sum(0)\n",
    "avg / 500"
   ]
  },
  {
   "cell_type": "code",
   "execution_count": 1,
   "metadata": {},
   "outputs": [],
   "source": [
    "d = {a: a*2 for a in range(10)}"
   ]
  },
  {
   "cell_type": "code",
   "execution_count": 9,
   "metadata": {},
   "outputs": [
    {
     "ename": "NameError",
     "evalue": "name 'a' is not defined",
     "output_type": "error",
     "traceback": [
      "\u001b[0;31m---------------------------------------------------------------------------\u001b[0m",
      "\u001b[0;31mNameError\u001b[0m                                 Traceback (most recent call last)",
      "\u001b[1;32m/home/alexlu/Documents/Programming/alexlu07/Scires/11th/test.ipynb Cell 8\u001b[0m line \u001b[0;36m1\n\u001b[0;32m----> <a href='vscode-notebook-cell:/home/alexlu/Documents/Programming/alexlu07/Scires/11th/test.ipynb#X43sZmlsZQ%3D%3D?line=0'>1</a>\u001b[0m a\n",
      "\u001b[0;31mNameError\u001b[0m: name 'a' is not defined"
     ]
    }
   ],
   "source": [
    "a"
   ]
  },
  {
   "cell_type": "code",
   "execution_count": 3,
   "metadata": {},
   "outputs": [
    {
     "data": {
      "text/plain": [
       "{0, 1, 2, 3, 4, 5, 6, 7, 8, 9}"
      ]
     },
     "execution_count": 3,
     "metadata": {},
     "output_type": "execute_result"
    }
   ],
   "source": [
    "set(d)"
   ]
  },
  {
   "cell_type": "code",
   "execution_count": 127,
   "metadata": {},
   "outputs": [],
   "source": [
    "import pandas as pd"
   ]
  },
  {
   "cell_type": "code",
   "execution_count": 128,
   "metadata": {},
   "outputs": [],
   "source": [
    "df = pd.DataFrame({\"t\": [0] * 20 + [1] * 10, \"x\": range(30)})"
   ]
  },
  {
   "cell_type": "code",
   "execution_count": 143,
   "metadata": {},
   "outputs": [],
   "source": [
    "abc = df[\"t\"] == True"
   ]
  },
  {
   "cell_type": "code",
   "execution_count": 155,
   "metadata": {},
   "outputs": [
    {
     "data": {
      "text/plain": [
       "0     False\n",
       "1     False\n",
       "2     False\n",
       "3     False\n",
       "4     False\n",
       "5     False\n",
       "6     False\n",
       "7     False\n",
       "8     False\n",
       "9     False\n",
       "10    False\n",
       "11    False\n",
       "12    False\n",
       "13    False\n",
       "14    False\n",
       "15    False\n",
       "16    False\n",
       "17    False\n",
       "18    False\n",
       "19    False\n",
       "20     True\n",
       "21     True\n",
       "22     True\n",
       "23     True\n",
       "24     True\n",
       "25     True\n",
       "26     True\n",
       "27     True\n",
       "28     True\n",
       "29     True\n",
       "Name: t, dtype: bool"
      ]
     },
     "execution_count": 155,
     "metadata": {},
     "output_type": "execute_result"
    }
   ],
   "source": [
    "(abc == 0) | (abc == 1)"
   ]
  },
  {
   "cell_type": "code",
   "execution_count": 138,
   "metadata": {},
   "outputs": [
    {
     "ename": "KeyError",
     "evalue": "\"None of [Int64Index([5, 6, 7, 8, 9, 10, 11, 12, 13, 14, 15, 16, 17, 18, 19, 25, 26, 27,\\n            28, 29],\\n           dtype='int64')] are in the [columns]\"",
     "output_type": "error",
     "traceback": [
      "\u001b[0;31m---------------------------------------------------------------------------\u001b[0m",
      "\u001b[0;31mKeyError\u001b[0m                                  Traceback (most recent call last)",
      "Cell \u001b[0;32mIn[138], line 1\u001b[0m\n\u001b[0;32m----> 1\u001b[0m \u001b[43mdf\u001b[49m\u001b[43m[\u001b[49m\u001b[43mdf\u001b[49m\u001b[38;5;241;43m.\u001b[39;49m\u001b[43mgroupby\u001b[49m\u001b[43m(\u001b[49m\u001b[38;5;124;43m\"\u001b[39;49m\u001b[38;5;124;43mt\u001b[39;49m\u001b[38;5;124;43m\"\u001b[39;49m\u001b[43m)\u001b[49m\u001b[38;5;241;43m.\u001b[39;49m\u001b[43mtail\u001b[49m\u001b[43m(\u001b[49m\u001b[38;5;241;43m-\u001b[39;49m\u001b[38;5;241;43m5\u001b[39;49m\u001b[43m)\u001b[49m\u001b[38;5;241;43m.\u001b[39;49m\u001b[43mindex\u001b[49m\u001b[43m]\u001b[49m\n",
      "File \u001b[0;32m~/miniconda3/envs/emo/lib/python3.9/site-packages/pandas/core/frame.py:3813\u001b[0m, in \u001b[0;36mDataFrame.__getitem__\u001b[0;34m(self, key)\u001b[0m\n\u001b[1;32m   3811\u001b[0m     \u001b[38;5;28;01mif\u001b[39;00m is_iterator(key):\n\u001b[1;32m   3812\u001b[0m         key \u001b[38;5;241m=\u001b[39m \u001b[38;5;28mlist\u001b[39m(key)\n\u001b[0;32m-> 3813\u001b[0m     indexer \u001b[38;5;241m=\u001b[39m \u001b[38;5;28;43mself\u001b[39;49m\u001b[38;5;241;43m.\u001b[39;49m\u001b[43mcolumns\u001b[49m\u001b[38;5;241;43m.\u001b[39;49m\u001b[43m_get_indexer_strict\u001b[49m\u001b[43m(\u001b[49m\u001b[43mkey\u001b[49m\u001b[43m,\u001b[49m\u001b[43m \u001b[49m\u001b[38;5;124;43m\"\u001b[39;49m\u001b[38;5;124;43mcolumns\u001b[39;49m\u001b[38;5;124;43m\"\u001b[39;49m\u001b[43m)\u001b[49m[\u001b[38;5;241m1\u001b[39m]\n\u001b[1;32m   3815\u001b[0m \u001b[38;5;66;03m# take() does not accept boolean indexers\u001b[39;00m\n\u001b[1;32m   3816\u001b[0m \u001b[38;5;28;01mif\u001b[39;00m \u001b[38;5;28mgetattr\u001b[39m(indexer, \u001b[38;5;124m\"\u001b[39m\u001b[38;5;124mdtype\u001b[39m\u001b[38;5;124m\"\u001b[39m, \u001b[38;5;28;01mNone\u001b[39;00m) \u001b[38;5;241m==\u001b[39m \u001b[38;5;28mbool\u001b[39m:\n",
      "File \u001b[0;32m~/miniconda3/envs/emo/lib/python3.9/site-packages/pandas/core/indexes/base.py:6070\u001b[0m, in \u001b[0;36mIndex._get_indexer_strict\u001b[0;34m(self, key, axis_name)\u001b[0m\n\u001b[1;32m   6067\u001b[0m \u001b[38;5;28;01melse\u001b[39;00m:\n\u001b[1;32m   6068\u001b[0m     keyarr, indexer, new_indexer \u001b[38;5;241m=\u001b[39m \u001b[38;5;28mself\u001b[39m\u001b[38;5;241m.\u001b[39m_reindex_non_unique(keyarr)\n\u001b[0;32m-> 6070\u001b[0m \u001b[38;5;28;43mself\u001b[39;49m\u001b[38;5;241;43m.\u001b[39;49m\u001b[43m_raise_if_missing\u001b[49m\u001b[43m(\u001b[49m\u001b[43mkeyarr\u001b[49m\u001b[43m,\u001b[49m\u001b[43m \u001b[49m\u001b[43mindexer\u001b[49m\u001b[43m,\u001b[49m\u001b[43m \u001b[49m\u001b[43maxis_name\u001b[49m\u001b[43m)\u001b[49m\n\u001b[1;32m   6072\u001b[0m keyarr \u001b[38;5;241m=\u001b[39m \u001b[38;5;28mself\u001b[39m\u001b[38;5;241m.\u001b[39mtake(indexer)\n\u001b[1;32m   6073\u001b[0m \u001b[38;5;28;01mif\u001b[39;00m \u001b[38;5;28misinstance\u001b[39m(key, Index):\n\u001b[1;32m   6074\u001b[0m     \u001b[38;5;66;03m# GH 42790 - Preserve name from an Index\u001b[39;00m\n",
      "File \u001b[0;32m~/miniconda3/envs/emo/lib/python3.9/site-packages/pandas/core/indexes/base.py:6130\u001b[0m, in \u001b[0;36mIndex._raise_if_missing\u001b[0;34m(self, key, indexer, axis_name)\u001b[0m\n\u001b[1;32m   6128\u001b[0m     \u001b[38;5;28;01mif\u001b[39;00m use_interval_msg:\n\u001b[1;32m   6129\u001b[0m         key \u001b[38;5;241m=\u001b[39m \u001b[38;5;28mlist\u001b[39m(key)\n\u001b[0;32m-> 6130\u001b[0m     \u001b[38;5;28;01mraise\u001b[39;00m \u001b[38;5;167;01mKeyError\u001b[39;00m(\u001b[38;5;124mf\u001b[39m\u001b[38;5;124m\"\u001b[39m\u001b[38;5;124mNone of [\u001b[39m\u001b[38;5;132;01m{\u001b[39;00mkey\u001b[38;5;132;01m}\u001b[39;00m\u001b[38;5;124m] are in the [\u001b[39m\u001b[38;5;132;01m{\u001b[39;00maxis_name\u001b[38;5;132;01m}\u001b[39;00m\u001b[38;5;124m]\u001b[39m\u001b[38;5;124m\"\u001b[39m)\n\u001b[1;32m   6132\u001b[0m not_found \u001b[38;5;241m=\u001b[39m \u001b[38;5;28mlist\u001b[39m(ensure_index(key)[missing_mask\u001b[38;5;241m.\u001b[39mnonzero()[\u001b[38;5;241m0\u001b[39m]]\u001b[38;5;241m.\u001b[39munique())\n\u001b[1;32m   6133\u001b[0m \u001b[38;5;28;01mraise\u001b[39;00m \u001b[38;5;167;01mKeyError\u001b[39;00m(\u001b[38;5;124mf\u001b[39m\u001b[38;5;124m\"\u001b[39m\u001b[38;5;132;01m{\u001b[39;00mnot_found\u001b[38;5;132;01m}\u001b[39;00m\u001b[38;5;124m not in index\u001b[39m\u001b[38;5;124m\"\u001b[39m)\n",
      "\u001b[0;31mKeyError\u001b[0m: \"None of [Int64Index([5, 6, 7, 8, 9, 10, 11, 12, 13, 14, 15, 16, 17, 18, 19, 25, 26, 27,\\n            28, 29],\\n           dtype='int64')] are in the [columns]\""
     ]
    }
   ],
   "source": [
    "df[df.groupby(\"t\").tail(-5).index]"
   ]
  },
  {
   "cell_type": "code",
   "execution_count": 18,
   "metadata": {},
   "outputs": [
    {
     "data": {
      "text/plain": [
       "33"
      ]
     },
     "execution_count": 18,
     "metadata": {},
     "output_type": "execute_result"
    }
   ],
   "source": [
    "max(lens)"
   ]
  },
  {
   "cell_type": "code",
   "execution_count": 2,
   "metadata": {},
   "outputs": [],
   "source": [
    ">>> from transformers import BertTokenizer\n",
    ">>> tokenizer = BertTokenizer.from_pretrained(\"bert-base-cased\")\n",
    "\n",
    ">>> sequence_a = \"This is a short sequence.\"\n",
    ">>> sequence_b = \"This is a rather long sequence. It is at least longer than the sequence A.\"\n",
    "\n",
    ">>> encoded_sequence_a = tokenizer(sequence_a)[\"input_ids\"]\n",
    ">>> encoded_sequence_b = tokenizer(sequence_b)[\"input_ids\"]\n"
   ]
  },
  {
   "cell_type": "code",
   "execution_count": 5,
   "metadata": {},
   "outputs": [
    {
     "data": {
      "text/plain": [
       "'c o m p e t i t i o n'"
      ]
     },
     "execution_count": 5,
     "metadata": {},
     "output_type": "execute_result"
    }
   ],
   "source": [
    "tokenizer.decode(2208)"
   ]
  },
  {
   "cell_type": "code",
   "execution_count": 8,
   "metadata": {},
   "outputs": [
    {
     "ename": "AttributeError",
     "evalue": "'BertTokenizer' object has no attribute 'apply_chat_template'",
     "output_type": "error",
     "traceback": [
      "\u001b[0;31m---------------------------------------------------------------------------\u001b[0m",
      "\u001b[0;31mAttributeError\u001b[0m                            Traceback (most recent call last)",
      "\u001b[1;32m/home/alexlu/Documents/Programming/alexlu07/Scires/11th/test.ipynb Cell 11\u001b[0m line \u001b[0;36m1\n\u001b[0;32m----> <a href='vscode-notebook-cell:/home/alexlu/Documents/Programming/alexlu07/Scires/11th/test.ipynb#X42sZmlsZQ%3D%3D?line=0'>1</a>\u001b[0m tokenizer\u001b[39m.\u001b[39;49mapply_chat_template()\n",
      "\u001b[0;31mAttributeError\u001b[0m: 'BertTokenizer' object has no attribute 'apply_chat_template'"
     ]
    }
   ],
   "source": [
    "tokenizer.apply_chat_template()"
   ]
  },
  {
   "cell_type": "code",
   "execution_count": 6,
   "metadata": {},
   "outputs": [],
   "source": [
    "import pandas as pd"
   ]
  },
  {
   "cell_type": "code",
   "execution_count": 12,
   "metadata": {},
   "outputs": [],
   "source": [
    "x = pd.Series(['a ' * 6, 'b ' * 7])"
   ]
  },
  {
   "cell_type": "code",
   "execution_count": 26,
   "metadata": {},
   "outputs": [
    {
     "data": {
      "text/plain": [
       "0    a a a a a a\n",
       "1    b b b b b b\n",
       "dtype: object"
      ]
     },
     "execution_count": 26,
     "metadata": {},
     "output_type": "execute_result"
    }
   ],
   "source": [
    "x.str.split(n=6).str[:6].str.join(\" \")"
   ]
  },
  {
   "cell_type": "code",
   "execution_count": 1,
   "metadata": {},
   "outputs": [
    {
     "data": {
      "application/vnd.jupyter.widget-view+json": {
       "model_id": "cf8e9907a9d140cfab3c3aa9b164d1ba",
       "version_major": 2,
       "version_minor": 0
      },
      "text/plain": [
       "Downloading tokenizer_config.json:   0%|          | 0.00/1.15k [00:00<?, ?B/s]"
      ]
     },
     "metadata": {},
     "output_type": "display_data"
    },
    {
     "data": {
      "application/vnd.jupyter.widget-view+json": {
       "model_id": "ad56e22ba412488681e48b1993961853",
       "version_major": 2,
       "version_minor": 0
      },
      "text/plain": [
       "Downloading config.json:   0%|          | 0.00/1.57k [00:00<?, ?B/s]"
      ]
     },
     "metadata": {},
     "output_type": "display_data"
    },
    {
     "data": {
      "application/vnd.jupyter.widget-view+json": {
       "model_id": "0ed7f6b2b6aa43a88c20148970388970",
       "version_major": 2,
       "version_minor": 0
      },
      "text/plain": [
       "Downloading vocab.json:   0%|          | 0.00/127k [00:00<?, ?B/s]"
      ]
     },
     "metadata": {},
     "output_type": "display_data"
    },
    {
     "data": {
      "application/vnd.jupyter.widget-view+json": {
       "model_id": "5fe3fc42f3f946d5ae43dfd7d10f8e55",
       "version_major": 2,
       "version_minor": 0
      },
      "text/plain": [
       "Downloading merges.txt:   0%|          | 0.00/62.9k [00:00<?, ?B/s]"
      ]
     },
     "metadata": {},
     "output_type": "display_data"
    },
    {
     "data": {
      "application/vnd.jupyter.widget-view+json": {
       "model_id": "154eaec851014dc084fe583dc13e5da1",
       "version_major": 2,
       "version_minor": 0
      },
      "text/plain": [
       "Downloading added_tokens.json:   0%|          | 0.00/16.0 [00:00<?, ?B/s]"
      ]
     },
     "metadata": {},
     "output_type": "display_data"
    },
    {
     "data": {
      "application/vnd.jupyter.widget-view+json": {
       "model_id": "7dd32f3fded14f82aeb49259f792d02d",
       "version_major": 2,
       "version_minor": 0
      },
      "text/plain": [
       "Downloading (…)cial_tokens_map.json:   0%|          | 0.00/772 [00:00<?, ?B/s]"
      ]
     },
     "metadata": {},
     "output_type": "display_data"
    }
   ],
   "source": [
    "from transformers import AutoTokenizer\n",
    "tokenizer = AutoTokenizer.from_pretrained(\"facebook/blenderbot-400M-distill\")\n"
   ]
  },
  {
   "cell_type": "code",
   "execution_count": 6,
   "metadata": {},
   "outputs": [],
   "source": [
    "tokenizer.chat_template = \"{% if not add_generation_prompt is defined %}{% set add_generation_prompt = false %}{% endif %}{% for message in messages %}{{'<|im_start|>' + message['role'] + '\\n' + message['content'] + '<|im_end|>' + '\\n'}}{% endfor %}{% if add_generation_prompt %}{{ '<|im_start|>assistant\\n' }}{% endif %}\"\n"
   ]
  },
  {
   "cell_type": "code",
   "execution_count": 1,
   "metadata": {},
   "outputs": [],
   "source": [
    "import pandas as pd"
   ]
  },
  {
   "cell_type": "code",
   "execution_count": 2,
   "metadata": {},
   "outputs": [],
   "source": [
    "df = pd.read_csv(\"model2/cornell_movie/utterances.csv\")"
   ]
  },
  {
   "cell_type": "code",
   "execution_count": 20,
   "metadata": {},
   "outputs": [
    {
     "data": {
      "text/html": [
       "<div>\n",
       "<style scoped>\n",
       "    .dataframe tbody tr th:only-of-type {\n",
       "        vertical-align: middle;\n",
       "    }\n",
       "\n",
       "    .dataframe tbody tr th {\n",
       "        vertical-align: top;\n",
       "    }\n",
       "\n",
       "    .dataframe thead th {\n",
       "        text-align: right;\n",
       "    }\n",
       "</style>\n",
       "<table border=\"1\" class=\"dataframe\">\n",
       "  <thead>\n",
       "    <tr style=\"text-align: right;\">\n",
       "      <th></th>\n",
       "      <th>timestamp</th>\n",
       "      <th>text</th>\n",
       "      <th>speaker</th>\n",
       "      <th>reply_to</th>\n",
       "      <th>conversation_id</th>\n",
       "      <th>meta.movie_id</th>\n",
       "      <th>meta.parsed</th>\n",
       "      <th>vectors</th>\n",
       "    </tr>\n",
       "  </thead>\n",
       "  <tbody>\n",
       "    <tr>\n",
       "      <th>117</th>\n",
       "      <td>NaN</td>\n",
       "      <td>That's not</td>\n",
       "      <td>u5</td>\n",
       "      <td>NaN</td>\n",
       "      <td>L909</td>\n",
       "      <td>m0</td>\n",
       "      <td>[{'rt': 1, 'toks': [{'tok': 'That', 'tag': 'DT...</td>\n",
       "      <td>[]</td>\n",
       "    </tr>\n",
       "    <tr>\n",
       "      <th>131</th>\n",
       "      <td>NaN</td>\n",
       "      <td>In 9th.  For a month</td>\n",
       "      <td>u5</td>\n",
       "      <td>L894</td>\n",
       "      <td>L893</td>\n",
       "      <td>m0</td>\n",
       "      <td>[{'rt': 0, 'toks': [{'tok': 'In', 'tag': 'IN',...</td>\n",
       "      <td>[]</td>\n",
       "    </tr>\n",
       "    <tr>\n",
       "      <th>132</th>\n",
       "      <td>NaN</td>\n",
       "      <td>What?</td>\n",
       "      <td>u0</td>\n",
       "      <td>L893</td>\n",
       "      <td>L893</td>\n",
       "      <td>m0</td>\n",
       "      <td>[{'rt': 0, 'toks': [{'tok': 'What', 'tag': 'WP...</td>\n",
       "      <td>[]</td>\n",
       "    </tr>\n",
       "    <tr>\n",
       "      <th>133</th>\n",
       "      <td>NaN</td>\n",
       "      <td>Joey never told you we went out, did he?</td>\n",
       "      <td>u5</td>\n",
       "      <td>NaN</td>\n",
       "      <td>L893</td>\n",
       "      <td>m0</td>\n",
       "      <td>[{'rt': 8, 'toks': [{'tok': 'Joey', 'tag': 'NN...</td>\n",
       "      <td>[]</td>\n",
       "    </tr>\n",
       "    <tr>\n",
       "      <th>168</th>\n",
       "      <td>NaN</td>\n",
       "      <td>The prom?  Kat has a date?</td>\n",
       "      <td>u11</td>\n",
       "      <td>L878</td>\n",
       "      <td>L878</td>\n",
       "      <td>m0</td>\n",
       "      <td>[{'rt': 1, 'toks': [{'tok': 'The', 'tag': 'DT'...</td>\n",
       "      <td>[]</td>\n",
       "    </tr>\n",
       "    <tr>\n",
       "      <th>...</th>\n",
       "      <td>...</td>\n",
       "      <td>...</td>\n",
       "      <td>...</td>\n",
       "      <td>...</td>\n",
       "      <td>...</td>\n",
       "      <td>...</td>\n",
       "      <td>...</td>\n",
       "      <td>...</td>\n",
       "    </tr>\n",
       "    <tr>\n",
       "      <th>304660</th>\n",
       "      <td>NaN</td>\n",
       "      <td>Indeedldid, MyLord. Itwas one ofthe first to c...</td>\n",
       "      <td>u9032</td>\n",
       "      <td>L666390</td>\n",
       "      <td>L666388</td>\n",
       "      <td>m616</td>\n",
       "      <td>[{'rt': 0, 'toks': [{'tok': 'Indeedldid', 'tag...</td>\n",
       "      <td>[]</td>\n",
       "    </tr>\n",
       "    <tr>\n",
       "      <th>304661</th>\n",
       "      <td>NaN</td>\n",
       "      <td>1 saw you lead our Cavalry sir</td>\n",
       "      <td>u9027</td>\n",
       "      <td>L666389</td>\n",
       "      <td>L666388</td>\n",
       "      <td>m616</td>\n",
       "      <td>[{'rt': 1, 'toks': [{'tok': '1', 'tag': 'CD', ...</td>\n",
       "      <td>[]</td>\n",
       "    </tr>\n",
       "    <tr>\n",
       "      <th>304662</th>\n",
       "      <td>NaN</td>\n",
       "      <td>Excuse me, My Lord.  Norris-Newman, of \"The St...</td>\n",
       "      <td>u9032</td>\n",
       "      <td>L666388</td>\n",
       "      <td>L666388</td>\n",
       "      <td>m616</td>\n",
       "      <td>[{'rt': 0, 'toks': [{'tok': 'Excuse', 'tag': '...</td>\n",
       "      <td>[]</td>\n",
       "    </tr>\n",
       "    <tr>\n",
       "      <th>304663</th>\n",
       "      <td>NaN</td>\n",
       "      <td>An historical moment, Gentlemen.</td>\n",
       "      <td>u9027</td>\n",
       "      <td>NaN</td>\n",
       "      <td>L666388</td>\n",
       "      <td>m616</td>\n",
       "      <td>[{'rt': 2, 'toks': [{'tok': 'An', 'tag': 'DT',...</td>\n",
       "      <td>[]</td>\n",
       "    </tr>\n",
       "    <tr>\n",
       "      <th>304694</th>\n",
       "      <td>NaN</td>\n",
       "      <td>Stuart?</td>\n",
       "      <td>u9028</td>\n",
       "      <td>NaN</td>\n",
       "      <td>L666497</td>\n",
       "      <td>m616</td>\n",
       "      <td>[{'rt': 0, 'toks': [{'tok': 'Stuart', 'tag': '...</td>\n",
       "      <td>[]</td>\n",
       "    </tr>\n",
       "  </tbody>\n",
       "</table>\n",
       "<p>47911 rows × 8 columns</p>\n",
       "</div>"
      ],
      "text/plain": [
       "        timestamp                                               text speaker  \\\n",
       "117           NaN                                         That's not      u5   \n",
       "131           NaN                               In 9th.  For a month      u5   \n",
       "132           NaN                                              What?      u0   \n",
       "133           NaN           Joey never told you we went out, did he?      u5   \n",
       "168           NaN                         The prom?  Kat has a date?     u11   \n",
       "...           ...                                                ...     ...   \n",
       "304660        NaN  Indeedldid, MyLord. Itwas one ofthe first to c...   u9032   \n",
       "304661        NaN                     1 saw you lead our Cavalry sir   u9027   \n",
       "304662        NaN  Excuse me, My Lord.  Norris-Newman, of \"The St...   u9032   \n",
       "304663        NaN                   An historical moment, Gentlemen.   u9027   \n",
       "304694        NaN                                            Stuart?   u9028   \n",
       "\n",
       "       reply_to conversation_id meta.movie_id  \\\n",
       "117         NaN            L909            m0   \n",
       "131        L894            L893            m0   \n",
       "132        L893            L893            m0   \n",
       "133         NaN            L893            m0   \n",
       "168        L878            L878            m0   \n",
       "...         ...             ...           ...   \n",
       "304660  L666390         L666388          m616   \n",
       "304661  L666389         L666388          m616   \n",
       "304662  L666388         L666388          m616   \n",
       "304663      NaN         L666388          m616   \n",
       "304694      NaN         L666497          m616   \n",
       "\n",
       "                                              meta.parsed vectors  \n",
       "117     [{'rt': 1, 'toks': [{'tok': 'That', 'tag': 'DT...      []  \n",
       "131     [{'rt': 0, 'toks': [{'tok': 'In', 'tag': 'IN',...      []  \n",
       "132     [{'rt': 0, 'toks': [{'tok': 'What', 'tag': 'WP...      []  \n",
       "133     [{'rt': 8, 'toks': [{'tok': 'Joey', 'tag': 'NN...      []  \n",
       "168     [{'rt': 1, 'toks': [{'tok': 'The', 'tag': 'DT'...      []  \n",
       "...                                                   ...     ...  \n",
       "304660  [{'rt': 0, 'toks': [{'tok': 'Indeedldid', 'tag...      []  \n",
       "304661  [{'rt': 1, 'toks': [{'tok': '1', 'tag': 'CD', ...      []  \n",
       "304662  [{'rt': 0, 'toks': [{'tok': 'Excuse', 'tag': '...      []  \n",
       "304663  [{'rt': 2, 'toks': [{'tok': 'An', 'tag': 'DT',...      []  \n",
       "304694  [{'rt': 0, 'toks': [{'tok': 'Stuart', 'tag': '...      []  \n",
       "\n",
       "[47911 rows x 8 columns]"
      ]
     },
     "execution_count": 20,
     "metadata": {},
     "output_type": "execute_result"
    }
   ],
   "source": [
    "df[:].groupby('conversation_id').tail(-5).groupby"
   ]
  },
  {
   "cell_type": "code",
   "execution_count": 6,
   "metadata": {},
   "outputs": [
    {
     "data": {
      "text/plain": [
       "176572"
      ]
     },
     "execution_count": 6,
     "metadata": {},
     "output_type": "execute_result"
    }
   ],
   "source": [
    "list(df['text'].values).index(\"And I don't need to know. So fuck you, I'm goin' to Hollywood.\")"
   ]
  },
  {
   "cell_type": "code",
   "execution_count": 7,
   "metadata": {},
   "outputs": [
    {
     "data": {
      "text/html": [
       "<div>\n",
       "<style scoped>\n",
       "    .dataframe tbody tr th:only-of-type {\n",
       "        vertical-align: middle;\n",
       "    }\n",
       "\n",
       "    .dataframe tbody tr th {\n",
       "        vertical-align: top;\n",
       "    }\n",
       "\n",
       "    .dataframe thead th {\n",
       "        text-align: right;\n",
       "    }\n",
       "</style>\n",
       "<table border=\"1\" class=\"dataframe\">\n",
       "  <thead>\n",
       "    <tr style=\"text-align: right;\">\n",
       "      <th></th>\n",
       "      <th>timestamp</th>\n",
       "      <th>text</th>\n",
       "      <th>speaker</th>\n",
       "      <th>reply_to</th>\n",
       "      <th>conversation_id</th>\n",
       "      <th>meta.movie_id</th>\n",
       "      <th>meta.parsed</th>\n",
       "      <th>vectors</th>\n",
       "    </tr>\n",
       "  </thead>\n",
       "  <tbody>\n",
       "    <tr>\n",
       "      <th>176562</th>\n",
       "      <td>NaN</td>\n",
       "      <td>I guess we have a deal. Nice to be working wit...</td>\n",
       "      <td>u5116</td>\n",
       "      <td>L193605</td>\n",
       "      <td>L193605</td>\n",
       "      <td>m339</td>\n",
       "      <td>[{'rt': 1, 'toks': [{'tok': 'I', 'tag': 'PRP',...</td>\n",
       "      <td>[]</td>\n",
       "    </tr>\n",
       "    <tr>\n",
       "      <th>176563</th>\n",
       "      <td>NaN</td>\n",
       "      <td>Get this crap out of me.</td>\n",
       "      <td>u5120</td>\n",
       "      <td>NaN</td>\n",
       "      <td>L193605</td>\n",
       "      <td>m339</td>\n",
       "      <td>[{'rt': 0, 'toks': [{'tok': 'Get', 'tag': 'VB'...</td>\n",
       "      <td>[]</td>\n",
       "    </tr>\n",
       "    <tr>\n",
       "      <th>176564</th>\n",
       "      <td>NaN</td>\n",
       "      <td>You don't understand. It's already in you.</td>\n",
       "      <td>u5116</td>\n",
       "      <td>L193598</td>\n",
       "      <td>L193596</td>\n",
       "      <td>m339</td>\n",
       "      <td>[{'rt': 3, 'toks': [{'tok': 'You', 'tag': 'PRP...</td>\n",
       "      <td>[]</td>\n",
       "    </tr>\n",
       "    <tr>\n",
       "      <th>176565</th>\n",
       "      <td>NaN</td>\n",
       "      <td>Maybe. But you're not putting any shit in me t...</td>\n",
       "      <td>u5120</td>\n",
       "      <td>L193597</td>\n",
       "      <td>L193596</td>\n",
       "      <td>m339</td>\n",
       "      <td>[{'rt': 0, 'toks': [{'tok': 'Maybe', 'tag': 'R...</td>\n",
       "      <td>[]</td>\n",
       "    </tr>\n",
       "    <tr>\n",
       "      <th>176566</th>\n",
       "      <td>NaN</td>\n",
       "      <td>Having second thoughts?</td>\n",
       "      <td>u5116</td>\n",
       "      <td>L193596</td>\n",
       "      <td>L193596</td>\n",
       "      <td>m339</td>\n",
       "      <td>[{'rt': 0, 'toks': [{'tok': 'Having', 'tag': '...</td>\n",
       "      <td>[]</td>\n",
       "    </tr>\n",
       "    <tr>\n",
       "      <th>176567</th>\n",
       "      <td>NaN</td>\n",
       "      <td>Wait a minute, what are you talkin' about?</td>\n",
       "      <td>u5120</td>\n",
       "      <td>NaN</td>\n",
       "      <td>L193596</td>\n",
       "      <td>m339</td>\n",
       "      <td>[{'rt': 5, 'toks': [{'tok': 'Wait', 'tag': 'VB...</td>\n",
       "      <td>[]</td>\n",
       "    </tr>\n",
       "    <tr>\n",
       "      <th>176568</th>\n",
       "      <td>NaN</td>\n",
       "      <td>Tell the President to adopt. I think I'll like...</td>\n",
       "      <td>u5120</td>\n",
       "      <td>L193584</td>\n",
       "      <td>L193578</td>\n",
       "      <td>m339</td>\n",
       "      <td>[{'rt': 0, 'toks': [{'tok': 'Tell', 'tag': 'VB...</td>\n",
       "      <td>[]</td>\n",
       "    </tr>\n",
       "    <tr>\n",
       "      <th>176569</th>\n",
       "      <td>NaN</td>\n",
       "      <td>That's the deal.</td>\n",
       "      <td>u5116</td>\n",
       "      <td>L193583</td>\n",
       "      <td>L193578</td>\n",
       "      <td>m339</td>\n",
       "      <td>[{'rt': 1, 'toks': [{'tok': 'That', 'tag': 'DT...</td>\n",
       "      <td>[]</td>\n",
       "    </tr>\n",
       "    <tr>\n",
       "      <th>176570</th>\n",
       "      <td>NaN</td>\n",
       "      <td>So what's the deal, huh? Go into L.A., find th...</td>\n",
       "      <td>u5120</td>\n",
       "      <td>L193582</td>\n",
       "      <td>L193578</td>\n",
       "      <td>m339</td>\n",
       "      <td>[{'rt': 2, 'toks': [{'tok': 'So', 'tag': 'RB',...</td>\n",
       "      <td>[]</td>\n",
       "    </tr>\n",
       "    <tr>\n",
       "      <th>176571</th>\n",
       "      <td>NaN</td>\n",
       "      <td>That's right, big shot. Unless you do what we ...</td>\n",
       "      <td>u5116</td>\n",
       "      <td>L193581</td>\n",
       "      <td>L193578</td>\n",
       "      <td>m339</td>\n",
       "      <td>[{'rt': 1, 'toks': [{'tok': 'That', 'tag': 'DT...</td>\n",
       "      <td>[]</td>\n",
       "    </tr>\n",
       "    <tr>\n",
       "      <th>176572</th>\n",
       "      <td>NaN</td>\n",
       "      <td>And I don't need to know. So fuck you, I'm goi...</td>\n",
       "      <td>u5120</td>\n",
       "      <td>L193580</td>\n",
       "      <td>L193578</td>\n",
       "      <td>m339</td>\n",
       "      <td>[{'rt': 4, 'toks': [{'tok': 'And', 'tag': 'CC'...</td>\n",
       "      <td>[]</td>\n",
       "    </tr>\n",
       "    <tr>\n",
       "      <th>176573</th>\n",
       "      <td>NaN</td>\n",
       "      <td>Top secret. Only on a need to know.</td>\n",
       "      <td>u5116</td>\n",
       "      <td>L193579</td>\n",
       "      <td>L193578</td>\n",
       "      <td>m339</td>\n",
       "      <td>[{'rt': 1, 'toks': [{'tok': 'Top', 'tag': 'JJ'...</td>\n",
       "      <td>[]</td>\n",
       "    </tr>\n",
       "    <tr>\n",
       "      <th>176574</th>\n",
       "      <td>NaN</td>\n",
       "      <td>What's the little black box do?</td>\n",
       "      <td>u5120</td>\n",
       "      <td>L193578</td>\n",
       "      <td>L193578</td>\n",
       "      <td>m339</td>\n",
       "      <td>[{'rt': 6, 'toks': [{'tok': 'What', 'tag': 'WP...</td>\n",
       "      <td>[]</td>\n",
       "    </tr>\n",
       "    <tr>\n",
       "      <th>176575</th>\n",
       "      <td>NaN</td>\n",
       "      <td>Shut up, Plissken.</td>\n",
       "      <td>u5116</td>\n",
       "      <td>NaN</td>\n",
       "      <td>L193578</td>\n",
       "      <td>m339</td>\n",
       "      <td>[{'rt': 0, 'toks': [{'tok': 'Shut', 'tag': 'VB...</td>\n",
       "      <td>[]</td>\n",
       "    </tr>\n",
       "    <tr>\n",
       "      <th>176576</th>\n",
       "      <td>NaN</td>\n",
       "      <td>You assholes didn't bring me here to give me t...</td>\n",
       "      <td>u5120</td>\n",
       "      <td>L193561</td>\n",
       "      <td>L193561</td>\n",
       "      <td>m339</td>\n",
       "      <td>[{'rt': 4, 'toks': [{'tok': 'You', 'tag': 'PRP...</td>\n",
       "      <td>[]</td>\n",
       "    </tr>\n",
       "    <tr>\n",
       "      <th>176577</th>\n",
       "      <td>NaN</td>\n",
       "      <td>How you doin' Plissken?  You like the watch?</td>\n",
       "      <td>u5116</td>\n",
       "      <td>NaN</td>\n",
       "      <td>L193561</td>\n",
       "      <td>m339</td>\n",
       "      <td>[{'rt': 2, 'toks': [{'tok': 'How', 'tag': 'WRB...</td>\n",
       "      <td>[]</td>\n",
       "    </tr>\n",
       "    <tr>\n",
       "      <th>176578</th>\n",
       "      <td>NaN</td>\n",
       "      <td>You're free, Plissken. But if you even so much...</td>\n",
       "      <td>u5121</td>\n",
       "      <td>L194035</td>\n",
       "      <td>L194035</td>\n",
       "      <td>m339</td>\n",
       "      <td>[{'rt': 1, 'toks': [{'tok': 'You', 'tag': 'PRP...</td>\n",
       "      <td>[]</td>\n",
       "    </tr>\n",
       "    <tr>\n",
       "      <th>176579</th>\n",
       "      <td>NaN</td>\n",
       "      <td>Relax, war hero. We took you for a ride, and y...</td>\n",
       "      <td>u5116</td>\n",
       "      <td>NaN</td>\n",
       "      <td>L194035</td>\n",
       "      <td>m339</td>\n",
       "      <td>[{'rt': 0, 'toks': [{'tok': 'Relax', 'tag': 'V...</td>\n",
       "      <td>[]</td>\n",
       "    </tr>\n",
       "    <tr>\n",
       "      <th>176580</th>\n",
       "      <td>NaN</td>\n",
       "      <td>Well, yeah. All you have to do is push the but...</td>\n",
       "      <td>u5116</td>\n",
       "      <td>L193896</td>\n",
       "      <td>L193895</td>\n",
       "      <td>m339</td>\n",
       "      <td>[{'rt': 2, 'toks': [{'tok': 'Well', 'tag': 'UH...</td>\n",
       "      <td>[]</td>\n",
       "    </tr>\n",
       "    <tr>\n",
       "      <th>176581</th>\n",
       "      <td>NaN</td>\n",
       "      <td>Does he know how to activate it?</td>\n",
       "      <td>u5121</td>\n",
       "      <td>L193895</td>\n",
       "      <td>L193895</td>\n",
       "      <td>m339</td>\n",
       "      <td>[{'rt': 2, 'toks': [{'tok': 'Does', 'tag': 'VB...</td>\n",
       "      <td>[]</td>\n",
       "    </tr>\n",
       "  </tbody>\n",
       "</table>\n",
       "</div>"
      ],
      "text/plain": [
       "        timestamp                                               text speaker  \\\n",
       "176562        NaN  I guess we have a deal. Nice to be working wit...   u5116   \n",
       "176563        NaN                           Get this crap out of me.   u5120   \n",
       "176564        NaN         You don't understand. It's already in you.   u5116   \n",
       "176565        NaN  Maybe. But you're not putting any shit in me t...   u5120   \n",
       "176566        NaN                            Having second thoughts?   u5116   \n",
       "176567        NaN         Wait a minute, what are you talkin' about?   u5120   \n",
       "176568        NaN  Tell the President to adopt. I think I'll like...   u5120   \n",
       "176569        NaN                                   That's the deal.   u5116   \n",
       "176570        NaN  So what's the deal, huh? Go into L.A., find th...   u5120   \n",
       "176571        NaN  That's right, big shot. Unless you do what we ...   u5116   \n",
       "176572        NaN  And I don't need to know. So fuck you, I'm goi...   u5120   \n",
       "176573        NaN                Top secret. Only on a need to know.   u5116   \n",
       "176574        NaN                    What's the little black box do?   u5120   \n",
       "176575        NaN                                 Shut up, Plissken.   u5116   \n",
       "176576        NaN  You assholes didn't bring me here to give me t...   u5120   \n",
       "176577        NaN       How you doin' Plissken?  You like the watch?   u5116   \n",
       "176578        NaN  You're free, Plissken. But if you even so much...   u5121   \n",
       "176579        NaN  Relax, war hero. We took you for a ride, and y...   u5116   \n",
       "176580        NaN  Well, yeah. All you have to do is push the but...   u5116   \n",
       "176581        NaN                   Does he know how to activate it?   u5121   \n",
       "\n",
       "       reply_to conversation_id meta.movie_id  \\\n",
       "176562  L193605         L193605          m339   \n",
       "176563      NaN         L193605          m339   \n",
       "176564  L193598         L193596          m339   \n",
       "176565  L193597         L193596          m339   \n",
       "176566  L193596         L193596          m339   \n",
       "176567      NaN         L193596          m339   \n",
       "176568  L193584         L193578          m339   \n",
       "176569  L193583         L193578          m339   \n",
       "176570  L193582         L193578          m339   \n",
       "176571  L193581         L193578          m339   \n",
       "176572  L193580         L193578          m339   \n",
       "176573  L193579         L193578          m339   \n",
       "176574  L193578         L193578          m339   \n",
       "176575      NaN         L193578          m339   \n",
       "176576  L193561         L193561          m339   \n",
       "176577      NaN         L193561          m339   \n",
       "176578  L194035         L194035          m339   \n",
       "176579      NaN         L194035          m339   \n",
       "176580  L193896         L193895          m339   \n",
       "176581  L193895         L193895          m339   \n",
       "\n",
       "                                              meta.parsed vectors  \n",
       "176562  [{'rt': 1, 'toks': [{'tok': 'I', 'tag': 'PRP',...      []  \n",
       "176563  [{'rt': 0, 'toks': [{'tok': 'Get', 'tag': 'VB'...      []  \n",
       "176564  [{'rt': 3, 'toks': [{'tok': 'You', 'tag': 'PRP...      []  \n",
       "176565  [{'rt': 0, 'toks': [{'tok': 'Maybe', 'tag': 'R...      []  \n",
       "176566  [{'rt': 0, 'toks': [{'tok': 'Having', 'tag': '...      []  \n",
       "176567  [{'rt': 5, 'toks': [{'tok': 'Wait', 'tag': 'VB...      []  \n",
       "176568  [{'rt': 0, 'toks': [{'tok': 'Tell', 'tag': 'VB...      []  \n",
       "176569  [{'rt': 1, 'toks': [{'tok': 'That', 'tag': 'DT...      []  \n",
       "176570  [{'rt': 2, 'toks': [{'tok': 'So', 'tag': 'RB',...      []  \n",
       "176571  [{'rt': 1, 'toks': [{'tok': 'That', 'tag': 'DT...      []  \n",
       "176572  [{'rt': 4, 'toks': [{'tok': 'And', 'tag': 'CC'...      []  \n",
       "176573  [{'rt': 1, 'toks': [{'tok': 'Top', 'tag': 'JJ'...      []  \n",
       "176574  [{'rt': 6, 'toks': [{'tok': 'What', 'tag': 'WP...      []  \n",
       "176575  [{'rt': 0, 'toks': [{'tok': 'Shut', 'tag': 'VB...      []  \n",
       "176576  [{'rt': 4, 'toks': [{'tok': 'You', 'tag': 'PRP...      []  \n",
       "176577  [{'rt': 2, 'toks': [{'tok': 'How', 'tag': 'WRB...      []  \n",
       "176578  [{'rt': 1, 'toks': [{'tok': 'You', 'tag': 'PRP...      []  \n",
       "176579  [{'rt': 0, 'toks': [{'tok': 'Relax', 'tag': 'V...      []  \n",
       "176580  [{'rt': 2, 'toks': [{'tok': 'Well', 'tag': 'UH...      []  \n",
       "176581  [{'rt': 2, 'toks': [{'tok': 'Does', 'tag': 'VB...      []  "
      ]
     },
     "execution_count": 7,
     "metadata": {},
     "output_type": "execute_result"
    }
   ],
   "source": [
    "df.iloc[176572-10:176572+10]"
   ]
  },
  {
   "cell_type": "code",
   "execution_count": 9,
   "metadata": {},
   "outputs": [],
   "source": [
    "import torch"
   ]
  },
  {
   "cell_type": "code",
   "execution_count": null,
   "metadata": {},
   "outputs": [],
   "source": []
  },
  {
   "cell_type": "code",
   "execution_count": null,
   "metadata": {},
   "outputs": [],
   "source": []
  },
  {
   "cell_type": "code",
   "execution_count": 10,
   "metadata": {},
   "outputs": [
    {
     "data": {
      "text/plain": [
       "True"
      ]
     },
     "execution_count": 10,
     "metadata": {},
     "output_type": "execute_result"
    }
   ],
   "source": [
    ">>> padded_sequences = tokenizer([sequence_a, sequence_b], padding=True, return_tensors='pt')\n",
    ">>> padded_sequences[\"attention_mask\"].dtype == torch.long\n"
   ]
  },
  {
   "cell_type": "code",
   "execution_count": 3,
   "metadata": {},
   "outputs": [],
   "source": [
    "import transformers\n",
    "from transformers import AutoModel\n",
    "from transformers import AutoTokenizer\n",
    "import torchsummary\n",
    "from torchsummary import summary\n"
   ]
  },
  {
   "cell_type": "code",
   "execution_count": 4,
   "metadata": {},
   "outputs": [],
   "source": [
    "tokenizer = AutoTokenizer.from_pretrained(\"bert-base-uncased\")"
   ]
  },
  {
   "cell_type": "code",
   "execution_count": 18,
   "metadata": {},
   "outputs": [],
   "source": [
    "tokens = tokenizer(\"nervous\")['input_ids']"
   ]
  },
  {
   "cell_type": "code",
   "execution_count": 19,
   "metadata": {},
   "outputs": [
    {
     "data": {
      "text/plain": [
       "['[CLS]', 'nervous', '[SEP]']"
      ]
     },
     "execution_count": 19,
     "metadata": {},
     "output_type": "execute_result"
    }
   ],
   "source": [
    "tokenizer.convert_ids_to_tokens(tokens)"
   ]
  },
  {
   "cell_type": "code",
   "execution_count": 11,
   "metadata": {},
   "outputs": [
    {
     "name": "stderr",
     "output_type": "stream",
     "text": [
      "Some weights of the model checkpoint at roberta-base were not used when initializing RobertaModel: ['lm_head.bias', 'lm_head.dense.bias', 'lm_head.layer_norm.weight', 'lm_head.layer_norm.bias', 'lm_head.dense.weight']\n",
      "- This IS expected if you are initializing RobertaModel from the checkpoint of a model trained on another task or with another architecture (e.g. initializing a BertForSequenceClassification model from a BertForPreTraining model).\n",
      "- This IS NOT expected if you are initializing RobertaModel from the checkpoint of a model that you expect to be exactly identical (initializing a BertForSequenceClassification model from a BertForSequenceClassification model).\n",
      "Some weights of RobertaModel were not initialized from the model checkpoint at roberta-base and are newly initialized: ['roberta.pooler.dense.weight', 'roberta.pooler.dense.bias']\n",
      "You should probably TRAIN this model on a down-stream task to be able to use it for predictions and inference.\n"
     ]
    }
   ],
   "source": [
    "roberta = AutoModel.from_pretrained(\"roberta-base\")\n",
    "\n"
   ]
  },
  {
   "cell_type": "code",
   "execution_count": 11,
   "metadata": {},
   "outputs": [
    {
     "name": "stdout",
     "output_type": "stream",
     "text": [
      "================================================================================\n",
      "Layer (type:depth-idx)                                  Param #\n",
      "================================================================================\n",
      "├─RobertaEmbeddings: 1-1                                --\n",
      "|    └─Embedding: 2-1                                   38,603,520\n",
      "|    └─Embedding: 2-2                                   394,752\n",
      "|    └─Embedding: 2-3                                   768\n",
      "|    └─LayerNorm: 2-4                                   1,536\n",
      "|    └─Dropout: 2-5                                     --\n",
      "├─RobertaEncoder: 1-2                                   --\n",
      "|    └─ModuleList: 2-6                                  --\n",
      "|    |    └─RobertaLayer: 3-1                           --\n",
      "|    |    |    └─RobertaAttention: 4-1                  --\n",
      "|    |    |    |    └─RobertaSelfAttention: 5-1         1,771,776\n",
      "|    |    |    |    └─RobertaSelfOutput: 5-2            592,128\n",
      "|    |    |    └─RobertaIntermediate: 4-2               --\n",
      "|    |    |    |    └─Linear: 5-3                       2,362,368\n",
      "|    |    |    |    └─GELUActivation: 5-4               --\n",
      "|    |    |    └─RobertaOutput: 4-3                     --\n",
      "|    |    |    |    └─Linear: 5-5                       2,360,064\n",
      "|    |    |    |    └─LayerNorm: 5-6                    1,536\n",
      "|    |    |    |    └─Dropout: 5-7                      --\n",
      "|    |    └─RobertaLayer: 3-2                           --\n",
      "|    |    |    └─RobertaAttention: 4-4                  --\n",
      "|    |    |    |    └─RobertaSelfAttention: 5-8         1,771,776\n",
      "|    |    |    |    └─RobertaSelfOutput: 5-9            592,128\n",
      "|    |    |    └─RobertaIntermediate: 4-5               --\n",
      "|    |    |    |    └─Linear: 5-10                      2,362,368\n",
      "|    |    |    |    └─GELUActivation: 5-11              --\n",
      "|    |    |    └─RobertaOutput: 4-6                     --\n",
      "|    |    |    |    └─Linear: 5-12                      2,360,064\n",
      "|    |    |    |    └─LayerNorm: 5-13                   1,536\n",
      "|    |    |    |    └─Dropout: 5-14                     --\n",
      "|    |    └─RobertaLayer: 3-3                           --\n",
      "|    |    |    └─RobertaAttention: 4-7                  --\n",
      "|    |    |    |    └─RobertaSelfAttention: 5-15        1,771,776\n",
      "|    |    |    |    └─RobertaSelfOutput: 5-16           592,128\n",
      "|    |    |    └─RobertaIntermediate: 4-8               --\n",
      "|    |    |    |    └─Linear: 5-17                      2,362,368\n",
      "|    |    |    |    └─GELUActivation: 5-18              --\n",
      "|    |    |    └─RobertaOutput: 4-9                     --\n",
      "|    |    |    |    └─Linear: 5-19                      2,360,064\n",
      "|    |    |    |    └─LayerNorm: 5-20                   1,536\n",
      "|    |    |    |    └─Dropout: 5-21                     --\n",
      "|    |    └─RobertaLayer: 3-4                           --\n",
      "|    |    |    └─RobertaAttention: 4-10                 --\n",
      "|    |    |    |    └─RobertaSelfAttention: 5-22        1,771,776\n",
      "|    |    |    |    └─RobertaSelfOutput: 5-23           592,128\n",
      "|    |    |    └─RobertaIntermediate: 4-11              --\n",
      "|    |    |    |    └─Linear: 5-24                      2,362,368\n",
      "|    |    |    |    └─GELUActivation: 5-25              --\n",
      "|    |    |    └─RobertaOutput: 4-12                    --\n",
      "|    |    |    |    └─Linear: 5-26                      2,360,064\n",
      "|    |    |    |    └─LayerNorm: 5-27                   1,536\n",
      "|    |    |    |    └─Dropout: 5-28                     --\n",
      "|    |    └─RobertaLayer: 3-5                           --\n",
      "|    |    |    └─RobertaAttention: 4-13                 --\n",
      "|    |    |    |    └─RobertaSelfAttention: 5-29        1,771,776\n",
      "|    |    |    |    └─RobertaSelfOutput: 5-30           592,128\n",
      "|    |    |    └─RobertaIntermediate: 4-14              --\n",
      "|    |    |    |    └─Linear: 5-31                      2,362,368\n",
      "|    |    |    |    └─GELUActivation: 5-32              --\n",
      "|    |    |    └─RobertaOutput: 4-15                    --\n",
      "|    |    |    |    └─Linear: 5-33                      2,360,064\n",
      "|    |    |    |    └─LayerNorm: 5-34                   1,536\n",
      "|    |    |    |    └─Dropout: 5-35                     --\n",
      "|    |    └─RobertaLayer: 3-6                           --\n",
      "|    |    |    └─RobertaAttention: 4-16                 --\n",
      "|    |    |    |    └─RobertaSelfAttention: 5-36        1,771,776\n",
      "|    |    |    |    └─RobertaSelfOutput: 5-37           592,128\n",
      "|    |    |    └─RobertaIntermediate: 4-17              --\n",
      "|    |    |    |    └─Linear: 5-38                      2,362,368\n",
      "|    |    |    |    └─GELUActivation: 5-39              --\n",
      "|    |    |    └─RobertaOutput: 4-18                    --\n",
      "|    |    |    |    └─Linear: 5-40                      2,360,064\n",
      "|    |    |    |    └─LayerNorm: 5-41                   1,536\n",
      "|    |    |    |    └─Dropout: 5-42                     --\n",
      "|    |    └─RobertaLayer: 3-7                           --\n",
      "|    |    |    └─RobertaAttention: 4-19                 --\n",
      "|    |    |    |    └─RobertaSelfAttention: 5-43        1,771,776\n",
      "|    |    |    |    └─RobertaSelfOutput: 5-44           592,128\n",
      "|    |    |    └─RobertaIntermediate: 4-20              --\n",
      "|    |    |    |    └─Linear: 5-45                      2,362,368\n",
      "|    |    |    |    └─GELUActivation: 5-46              --\n",
      "|    |    |    └─RobertaOutput: 4-21                    --\n",
      "|    |    |    |    └─Linear: 5-47                      2,360,064\n",
      "|    |    |    |    └─LayerNorm: 5-48                   1,536\n",
      "|    |    |    |    └─Dropout: 5-49                     --\n",
      "|    |    └─RobertaLayer: 3-8                           --\n",
      "|    |    |    └─RobertaAttention: 4-22                 --\n",
      "|    |    |    |    └─RobertaSelfAttention: 5-50        1,771,776\n",
      "|    |    |    |    └─RobertaSelfOutput: 5-51           592,128\n",
      "|    |    |    └─RobertaIntermediate: 4-23              --\n",
      "|    |    |    |    └─Linear: 5-52                      2,362,368\n",
      "|    |    |    |    └─GELUActivation: 5-53              --\n",
      "|    |    |    └─RobertaOutput: 4-24                    --\n",
      "|    |    |    |    └─Linear: 5-54                      2,360,064\n",
      "|    |    |    |    └─LayerNorm: 5-55                   1,536\n",
      "|    |    |    |    └─Dropout: 5-56                     --\n",
      "|    |    └─RobertaLayer: 3-9                           --\n",
      "|    |    |    └─RobertaAttention: 4-25                 --\n",
      "|    |    |    |    └─RobertaSelfAttention: 5-57        1,771,776\n",
      "|    |    |    |    └─RobertaSelfOutput: 5-58           592,128\n",
      "|    |    |    └─RobertaIntermediate: 4-26              --\n",
      "|    |    |    |    └─Linear: 5-59                      2,362,368\n",
      "|    |    |    |    └─GELUActivation: 5-60              --\n",
      "|    |    |    └─RobertaOutput: 4-27                    --\n",
      "|    |    |    |    └─Linear: 5-61                      2,360,064\n",
      "|    |    |    |    └─LayerNorm: 5-62                   1,536\n",
      "|    |    |    |    └─Dropout: 5-63                     --\n",
      "|    |    └─RobertaLayer: 3-10                          --\n",
      "|    |    |    └─RobertaAttention: 4-28                 --\n",
      "|    |    |    |    └─RobertaSelfAttention: 5-64        1,771,776\n",
      "|    |    |    |    └─RobertaSelfOutput: 5-65           592,128\n",
      "|    |    |    └─RobertaIntermediate: 4-29              --\n",
      "|    |    |    |    └─Linear: 5-66                      2,362,368\n",
      "|    |    |    |    └─GELUActivation: 5-67              --\n",
      "|    |    |    └─RobertaOutput: 4-30                    --\n",
      "|    |    |    |    └─Linear: 5-68                      2,360,064\n",
      "|    |    |    |    └─LayerNorm: 5-69                   1,536\n",
      "|    |    |    |    └─Dropout: 5-70                     --\n",
      "|    |    └─RobertaLayer: 3-11                          --\n",
      "|    |    |    └─RobertaAttention: 4-31                 --\n",
      "|    |    |    |    └─RobertaSelfAttention: 5-71        1,771,776\n",
      "|    |    |    |    └─RobertaSelfOutput: 5-72           592,128\n",
      "|    |    |    └─RobertaIntermediate: 4-32              --\n",
      "|    |    |    |    └─Linear: 5-73                      2,362,368\n",
      "|    |    |    |    └─GELUActivation: 5-74              --\n",
      "|    |    |    └─RobertaOutput: 4-33                    --\n",
      "|    |    |    |    └─Linear: 5-75                      2,360,064\n",
      "|    |    |    |    └─LayerNorm: 5-76                   1,536\n",
      "|    |    |    |    └─Dropout: 5-77                     --\n",
      "|    |    └─RobertaLayer: 3-12                          --\n",
      "|    |    |    └─RobertaAttention: 4-34                 --\n",
      "|    |    |    |    └─RobertaSelfAttention: 5-78        1,771,776\n",
      "|    |    |    |    └─RobertaSelfOutput: 5-79           592,128\n",
      "|    |    |    └─RobertaIntermediate: 4-35              --\n",
      "|    |    |    |    └─Linear: 5-80                      2,362,368\n",
      "|    |    |    |    └─GELUActivation: 5-81              --\n",
      "|    |    |    └─RobertaOutput: 4-36                    --\n",
      "|    |    |    |    └─Linear: 5-82                      2,360,064\n",
      "|    |    |    |    └─LayerNorm: 5-83                   1,536\n",
      "|    |    |    |    └─Dropout: 5-84                     --\n",
      "├─RobertaPooler: 1-3                                    --\n",
      "|    └─Linear: 2-7                                      590,592\n",
      "|    └─Tanh: 2-8                                        --\n",
      "================================================================================\n",
      "Total params: 124,645,632\n",
      "Trainable params: 124,645,632\n",
      "Non-trainable params: 0\n",
      "================================================================================\n"
     ]
    },
    {
     "data": {
      "text/plain": [
       "================================================================================\n",
       "Layer (type:depth-idx)                                  Param #\n",
       "================================================================================\n",
       "├─RobertaEmbeddings: 1-1                                --\n",
       "|    └─Embedding: 2-1                                   38,603,520\n",
       "|    └─Embedding: 2-2                                   394,752\n",
       "|    └─Embedding: 2-3                                   768\n",
       "|    └─LayerNorm: 2-4                                   1,536\n",
       "|    └─Dropout: 2-5                                     --\n",
       "├─RobertaEncoder: 1-2                                   --\n",
       "|    └─ModuleList: 2-6                                  --\n",
       "|    |    └─RobertaLayer: 3-1                           --\n",
       "|    |    |    └─RobertaAttention: 4-1                  --\n",
       "|    |    |    |    └─RobertaSelfAttention: 5-1         1,771,776\n",
       "|    |    |    |    └─RobertaSelfOutput: 5-2            592,128\n",
       "|    |    |    └─RobertaIntermediate: 4-2               --\n",
       "|    |    |    |    └─Linear: 5-3                       2,362,368\n",
       "|    |    |    |    └─GELUActivation: 5-4               --\n",
       "|    |    |    └─RobertaOutput: 4-3                     --\n",
       "|    |    |    |    └─Linear: 5-5                       2,360,064\n",
       "|    |    |    |    └─LayerNorm: 5-6                    1,536\n",
       "|    |    |    |    └─Dropout: 5-7                      --\n",
       "|    |    └─RobertaLayer: 3-2                           --\n",
       "|    |    |    └─RobertaAttention: 4-4                  --\n",
       "|    |    |    |    └─RobertaSelfAttention: 5-8         1,771,776\n",
       "|    |    |    |    └─RobertaSelfOutput: 5-9            592,128\n",
       "|    |    |    └─RobertaIntermediate: 4-5               --\n",
       "|    |    |    |    └─Linear: 5-10                      2,362,368\n",
       "|    |    |    |    └─GELUActivation: 5-11              --\n",
       "|    |    |    └─RobertaOutput: 4-6                     --\n",
       "|    |    |    |    └─Linear: 5-12                      2,360,064\n",
       "|    |    |    |    └─LayerNorm: 5-13                   1,536\n",
       "|    |    |    |    └─Dropout: 5-14                     --\n",
       "|    |    └─RobertaLayer: 3-3                           --\n",
       "|    |    |    └─RobertaAttention: 4-7                  --\n",
       "|    |    |    |    └─RobertaSelfAttention: 5-15        1,771,776\n",
       "|    |    |    |    └─RobertaSelfOutput: 5-16           592,128\n",
       "|    |    |    └─RobertaIntermediate: 4-8               --\n",
       "|    |    |    |    └─Linear: 5-17                      2,362,368\n",
       "|    |    |    |    └─GELUActivation: 5-18              --\n",
       "|    |    |    └─RobertaOutput: 4-9                     --\n",
       "|    |    |    |    └─Linear: 5-19                      2,360,064\n",
       "|    |    |    |    └─LayerNorm: 5-20                   1,536\n",
       "|    |    |    |    └─Dropout: 5-21                     --\n",
       "|    |    └─RobertaLayer: 3-4                           --\n",
       "|    |    |    └─RobertaAttention: 4-10                 --\n",
       "|    |    |    |    └─RobertaSelfAttention: 5-22        1,771,776\n",
       "|    |    |    |    └─RobertaSelfOutput: 5-23           592,128\n",
       "|    |    |    └─RobertaIntermediate: 4-11              --\n",
       "|    |    |    |    └─Linear: 5-24                      2,362,368\n",
       "|    |    |    |    └─GELUActivation: 5-25              --\n",
       "|    |    |    └─RobertaOutput: 4-12                    --\n",
       "|    |    |    |    └─Linear: 5-26                      2,360,064\n",
       "|    |    |    |    └─LayerNorm: 5-27                   1,536\n",
       "|    |    |    |    └─Dropout: 5-28                     --\n",
       "|    |    └─RobertaLayer: 3-5                           --\n",
       "|    |    |    └─RobertaAttention: 4-13                 --\n",
       "|    |    |    |    └─RobertaSelfAttention: 5-29        1,771,776\n",
       "|    |    |    |    └─RobertaSelfOutput: 5-30           592,128\n",
       "|    |    |    └─RobertaIntermediate: 4-14              --\n",
       "|    |    |    |    └─Linear: 5-31                      2,362,368\n",
       "|    |    |    |    └─GELUActivation: 5-32              --\n",
       "|    |    |    └─RobertaOutput: 4-15                    --\n",
       "|    |    |    |    └─Linear: 5-33                      2,360,064\n",
       "|    |    |    |    └─LayerNorm: 5-34                   1,536\n",
       "|    |    |    |    └─Dropout: 5-35                     --\n",
       "|    |    └─RobertaLayer: 3-6                           --\n",
       "|    |    |    └─RobertaAttention: 4-16                 --\n",
       "|    |    |    |    └─RobertaSelfAttention: 5-36        1,771,776\n",
       "|    |    |    |    └─RobertaSelfOutput: 5-37           592,128\n",
       "|    |    |    └─RobertaIntermediate: 4-17              --\n",
       "|    |    |    |    └─Linear: 5-38                      2,362,368\n",
       "|    |    |    |    └─GELUActivation: 5-39              --\n",
       "|    |    |    └─RobertaOutput: 4-18                    --\n",
       "|    |    |    |    └─Linear: 5-40                      2,360,064\n",
       "|    |    |    |    └─LayerNorm: 5-41                   1,536\n",
       "|    |    |    |    └─Dropout: 5-42                     --\n",
       "|    |    └─RobertaLayer: 3-7                           --\n",
       "|    |    |    └─RobertaAttention: 4-19                 --\n",
       "|    |    |    |    └─RobertaSelfAttention: 5-43        1,771,776\n",
       "|    |    |    |    └─RobertaSelfOutput: 5-44           592,128\n",
       "|    |    |    └─RobertaIntermediate: 4-20              --\n",
       "|    |    |    |    └─Linear: 5-45                      2,362,368\n",
       "|    |    |    |    └─GELUActivation: 5-46              --\n",
       "|    |    |    └─RobertaOutput: 4-21                    --\n",
       "|    |    |    |    └─Linear: 5-47                      2,360,064\n",
       "|    |    |    |    └─LayerNorm: 5-48                   1,536\n",
       "|    |    |    |    └─Dropout: 5-49                     --\n",
       "|    |    └─RobertaLayer: 3-8                           --\n",
       "|    |    |    └─RobertaAttention: 4-22                 --\n",
       "|    |    |    |    └─RobertaSelfAttention: 5-50        1,771,776\n",
       "|    |    |    |    └─RobertaSelfOutput: 5-51           592,128\n",
       "|    |    |    └─RobertaIntermediate: 4-23              --\n",
       "|    |    |    |    └─Linear: 5-52                      2,362,368\n",
       "|    |    |    |    └─GELUActivation: 5-53              --\n",
       "|    |    |    └─RobertaOutput: 4-24                    --\n",
       "|    |    |    |    └─Linear: 5-54                      2,360,064\n",
       "|    |    |    |    └─LayerNorm: 5-55                   1,536\n",
       "|    |    |    |    └─Dropout: 5-56                     --\n",
       "|    |    └─RobertaLayer: 3-9                           --\n",
       "|    |    |    └─RobertaAttention: 4-25                 --\n",
       "|    |    |    |    └─RobertaSelfAttention: 5-57        1,771,776\n",
       "|    |    |    |    └─RobertaSelfOutput: 5-58           592,128\n",
       "|    |    |    └─RobertaIntermediate: 4-26              --\n",
       "|    |    |    |    └─Linear: 5-59                      2,362,368\n",
       "|    |    |    |    └─GELUActivation: 5-60              --\n",
       "|    |    |    └─RobertaOutput: 4-27                    --\n",
       "|    |    |    |    └─Linear: 5-61                      2,360,064\n",
       "|    |    |    |    └─LayerNorm: 5-62                   1,536\n",
       "|    |    |    |    └─Dropout: 5-63                     --\n",
       "|    |    └─RobertaLayer: 3-10                          --\n",
       "|    |    |    └─RobertaAttention: 4-28                 --\n",
       "|    |    |    |    └─RobertaSelfAttention: 5-64        1,771,776\n",
       "|    |    |    |    └─RobertaSelfOutput: 5-65           592,128\n",
       "|    |    |    └─RobertaIntermediate: 4-29              --\n",
       "|    |    |    |    └─Linear: 5-66                      2,362,368\n",
       "|    |    |    |    └─GELUActivation: 5-67              --\n",
       "|    |    |    └─RobertaOutput: 4-30                    --\n",
       "|    |    |    |    └─Linear: 5-68                      2,360,064\n",
       "|    |    |    |    └─LayerNorm: 5-69                   1,536\n",
       "|    |    |    |    └─Dropout: 5-70                     --\n",
       "|    |    └─RobertaLayer: 3-11                          --\n",
       "|    |    |    └─RobertaAttention: 4-31                 --\n",
       "|    |    |    |    └─RobertaSelfAttention: 5-71        1,771,776\n",
       "|    |    |    |    └─RobertaSelfOutput: 5-72           592,128\n",
       "|    |    |    └─RobertaIntermediate: 4-32              --\n",
       "|    |    |    |    └─Linear: 5-73                      2,362,368\n",
       "|    |    |    |    └─GELUActivation: 5-74              --\n",
       "|    |    |    └─RobertaOutput: 4-33                    --\n",
       "|    |    |    |    └─Linear: 5-75                      2,360,064\n",
       "|    |    |    |    └─LayerNorm: 5-76                   1,536\n",
       "|    |    |    |    └─Dropout: 5-77                     --\n",
       "|    |    └─RobertaLayer: 3-12                          --\n",
       "|    |    |    └─RobertaAttention: 4-34                 --\n",
       "|    |    |    |    └─RobertaSelfAttention: 5-78        1,771,776\n",
       "|    |    |    |    └─RobertaSelfOutput: 5-79           592,128\n",
       "|    |    |    └─RobertaIntermediate: 4-35              --\n",
       "|    |    |    |    └─Linear: 5-80                      2,362,368\n",
       "|    |    |    |    └─GELUActivation: 5-81              --\n",
       "|    |    |    └─RobertaOutput: 4-36                    --\n",
       "|    |    |    |    └─Linear: 5-82                      2,360,064\n",
       "|    |    |    |    └─LayerNorm: 5-83                   1,536\n",
       "|    |    |    |    └─Dropout: 5-84                     --\n",
       "├─RobertaPooler: 1-3                                    --\n",
       "|    └─Linear: 2-7                                      590,592\n",
       "|    └─Tanh: 2-8                                        --\n",
       "================================================================================\n",
       "Total params: 124,645,632\n",
       "Trainable params: 124,645,632\n",
       "Non-trainable params: 0\n",
       "================================================================================"
      ]
     },
     "execution_count": 11,
     "metadata": {},
     "output_type": "execute_result"
    }
   ],
   "source": [
    "summary(roberta, depth=5)"
   ]
  },
  {
   "cell_type": "code",
   "execution_count": 13,
   "metadata": {},
   "outputs": [],
   "source": [
    "from transformers import BertTokenizer, AutoTokenizer\n"
   ]
  },
  {
   "cell_type": "code",
   "execution_count": 14,
   "metadata": {},
   "outputs": [
    {
     "data": {
      "application/vnd.jupyter.widget-view+json": {
       "model_id": "f90f9f1e6c9a42c78387718d5e028823",
       "version_major": 2,
       "version_minor": 0
      },
      "text/plain": [
       "Downloading (…)olve/main/vocab.json:   0%|          | 0.00/899k [00:00<?, ?B/s]"
      ]
     },
     "metadata": {},
     "output_type": "display_data"
    },
    {
     "data": {
      "application/vnd.jupyter.widget-view+json": {
       "model_id": "46127a9a720b4942b3d9f366d1ee3e1b",
       "version_major": 2,
       "version_minor": 0
      },
      "text/plain": [
       "Downloading (…)olve/main/merges.txt:   0%|          | 0.00/456k [00:00<?, ?B/s]"
      ]
     },
     "metadata": {},
     "output_type": "display_data"
    },
    {
     "data": {
      "application/vnd.jupyter.widget-view+json": {
       "model_id": "abfdf43134c34c0f96e3acd7981a135d",
       "version_major": 2,
       "version_minor": 0
      },
      "text/plain": [
       "Downloading (…)/main/tokenizer.json:   0%|          | 0.00/1.36M [00:00<?, ?B/s]"
      ]
     },
     "metadata": {},
     "output_type": "display_data"
    }
   ],
   "source": [
    "tokenizer = AutoTokenizer.from_pretrained('roberta-base')\n"
   ]
  },
  {
   "cell_type": "code",
   "execution_count": 37,
   "metadata": {},
   "outputs": [],
   "source": [
    "sentence = \"hello i am alex\""
   ]
  },
  {
   "cell_type": "code",
   "execution_count": 52,
   "metadata": {},
   "outputs": [
    {
     "data": {
      "text/plain": [
       "{'input_ids': [0, 21959, 2, 2, 21959, 176, 2], 'token_type_ids': [0, 0, 0, 0, 0, 0, 0], 'attention_mask': [1, 1, 1, 1, 1, 1, 1]}"
      ]
     },
     "execution_count": 52,
     "metadata": {},
     "output_type": "execute_result"
    }
   ],
   "source": [
    "tokenizer.encode_plus(\"test\", \"test2\")"
   ]
  },
  {
   "cell_type": "code",
   "execution_count": 53,
   "metadata": {},
   "outputs": [
    {
     "data": {
      "text/plain": [
       "'</s>'"
      ]
     },
     "execution_count": 53,
     "metadata": {},
     "output_type": "execute_result"
    }
   ],
   "source": [
    "tokenizer.decode(2)"
   ]
  },
  {
   "cell_type": "code",
   "execution_count": 39,
   "metadata": {},
   "outputs": [
    {
     "name": "stdout",
     "output_type": "stream",
     "text": [
      "tensor([[    0, 42891,   939,   524,    10, 14726,     2]])\n"
     ]
    }
   ],
   "source": [
    "tokens = tokenizer(sentence, return_tensors=\"pt\")\n",
    "print(tokens['input_ids'])"
   ]
  },
  {
   "cell_type": "code",
   "execution_count": 44,
   "metadata": {},
   "outputs": [
    {
     "data": {
      "text/plain": [
       "tensor([[[ 0.1664, -0.0541, -0.0014,  ..., -0.0811,  0.0794,  0.0155],\n",
       "         [-0.1150, -0.1756, -0.1607,  ..., -0.0596, -0.3592,  0.9941],\n",
       "         [ 0.1324,  0.1079, -0.3674,  ...,  0.3495, -0.1283,  0.4034],\n",
       "         ...,\n",
       "         [-0.1279, -0.3089, -0.1310,  ...,  0.3103, -0.1026,  0.5261],\n",
       "         [-0.3172, -0.0767,  0.2338,  ...,  0.1195,  0.4922,  0.3705],\n",
       "         [ 0.2360, -0.2293, -0.0167,  ...,  0.4182,  0.1640,  0.1783]]],\n",
       "       grad_fn=<NativeLayerNormBackward0>)"
      ]
     },
     "execution_count": 44,
     "metadata": {},
     "output_type": "execute_result"
    }
   ],
   "source": [
    "embeddings = roberta.embeddings(input_ids=tokens['input_ids'])\n",
    "embeddings"
   ]
  },
  {
   "cell_type": "code",
   "execution_count": 43,
   "metadata": {},
   "outputs": [
    {
     "data": {
      "text/plain": [
       "torch.Size([1, 7, 768])"
      ]
     },
     "execution_count": 43,
     "metadata": {},
     "output_type": "execute_result"
    }
   ],
   "source": [
    "embeddings.shape"
   ]
  },
  {
   "cell_type": "code",
   "execution_count": 47,
   "metadata": {},
   "outputs": [],
   "source": [
    "logits = roberta.encoder(embeddings)"
   ]
  },
  {
   "cell_type": "code",
   "execution_count": 49,
   "metadata": {},
   "outputs": [
    {
     "data": {
      "text/plain": [
       "torch.Size([1, 7, 768])"
      ]
     },
     "execution_count": 49,
     "metadata": {},
     "output_type": "execute_result"
    }
   ],
   "source": [
    "logits.last_hidden_state.shape"
   ]
  },
  {
   "cell_type": "code",
   "execution_count": null,
   "metadata": {},
   "outputs": [],
   "source": [
    "\"\"\"\n",
    "\n",
    "original text:\n",
    "hi how are you\n",
    "\n",
    "tokenizer (tokens):\n",
    "45 120 23 50\n",
    "\n",
    "MODEL:\n",
    "\n",
    "Embeddings:\n",
    "[768] [768] [768] [768]\n",
    "\n",
    "Encoder:\n",
    "\n",
    "\n",
    "\n",
    "\n",
    "\"\"\""
   ]
  },
  {
   "cell_type": "code",
   "execution_count": 12,
   "metadata": {},
   "outputs": [
    {
     "data": {
      "text/plain": [
       "RobertaModel(\n",
       "  (embeddings): RobertaEmbeddings(\n",
       "    (word_embeddings): Embedding(50265, 768, padding_idx=1)\n",
       "    (position_embeddings): Embedding(514, 768, padding_idx=1)\n",
       "    (token_type_embeddings): Embedding(1, 768)\n",
       "    (LayerNorm): LayerNorm((768,), eps=1e-05, elementwise_affine=True)\n",
       "    (dropout): Dropout(p=0.1, inplace=False)\n",
       "  )\n",
       "  (encoder): RobertaEncoder(\n",
       "    (layer): ModuleList(\n",
       "      (0-11): 12 x RobertaLayer(\n",
       "        (attention): RobertaAttention(\n",
       "          (self): RobertaSelfAttention(\n",
       "            (query): Linear(in_features=768, out_features=768, bias=True)\n",
       "            (key): Linear(in_features=768, out_features=768, bias=True)\n",
       "            (value): Linear(in_features=768, out_features=768, bias=True)\n",
       "            (dropout): Dropout(p=0.1, inplace=False)\n",
       "          )\n",
       "          (output): RobertaSelfOutput(\n",
       "            (dense): Linear(in_features=768, out_features=768, bias=True)\n",
       "            (LayerNorm): LayerNorm((768,), eps=1e-05, elementwise_affine=True)\n",
       "            (dropout): Dropout(p=0.1, inplace=False)\n",
       "          )\n",
       "        )\n",
       "        (intermediate): RobertaIntermediate(\n",
       "          (dense): Linear(in_features=768, out_features=3072, bias=True)\n",
       "          (intermediate_act_fn): GELUActivation()\n",
       "        )\n",
       "        (output): RobertaOutput(\n",
       "          (dense): Linear(in_features=3072, out_features=768, bias=True)\n",
       "          (LayerNorm): LayerNorm((768,), eps=1e-05, elementwise_affine=True)\n",
       "          (dropout): Dropout(p=0.1, inplace=False)\n",
       "        )\n",
       "      )\n",
       "    )\n",
       "  )\n",
       "  (pooler): RobertaPooler(\n",
       "    (dense): Linear(in_features=768, out_features=768, bias=True)\n",
       "    (activation): Tanh()\n",
       "  )\n",
       ")"
      ]
     },
     "execution_count": 12,
     "metadata": {},
     "output_type": "execute_result"
    }
   ],
   "source": [
    "roberta"
   ]
  }
 ],
 "metadata": {
  "kernelspec": {
   "display_name": "emo",
   "language": "python",
   "name": "python3"
  },
  "language_info": {
   "codemirror_mode": {
    "name": "ipython",
    "version": 3
   },
   "file_extension": ".py",
   "mimetype": "text/x-python",
   "name": "python",
   "nbconvert_exporter": "python",
   "pygments_lexer": "ipython3",
   "version": "3.9.17"
  }
 },
 "nbformat": 4,
 "nbformat_minor": 2
}
