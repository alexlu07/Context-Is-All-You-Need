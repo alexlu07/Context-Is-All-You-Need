{
 "cells": [
  {
   "cell_type": "code",
   "execution_count": 1,
   "metadata": {},
   "outputs": [],
   "source": [
    "import pandas as pd\n"
   ]
  },
  {
   "cell_type": "code",
   "execution_count": 2,
   "metadata": {},
   "outputs": [],
   "source": [
    "df = pd.read_csv(\"model1/data/train.csv\")"
   ]
  },
  {
   "cell_type": "code",
   "execution_count": 13,
   "metadata": {},
   "outputs": [],
   "source": [
    "text = df['text'].values"
   ]
  },
  {
   "cell_type": "code",
   "execution_count": 14,
   "metadata": {},
   "outputs": [],
   "source": [
    "words = [i.split() for i in text]"
   ]
  },
  {
   "cell_type": "code",
   "execution_count": 15,
   "metadata": {},
   "outputs": [],
   "source": [
    "lens = [len(i) for i in words]"
   ]
  },
  {
   "cell_type": "code",
   "execution_count": 17,
   "metadata": {},
   "outputs": [
    {
     "data": {
      "text/plain": [
       "12.840175074867542"
      ]
     },
     "execution_count": 17,
     "metadata": {},
     "output_type": "execute_result"
    }
   ],
   "source": [
    "sum(lens) / len(lens)"
   ]
  },
  {
   "cell_type": "code",
   "execution_count": 18,
   "metadata": {},
   "outputs": [
    {
     "data": {
      "text/plain": [
       "33"
      ]
     },
     "execution_count": 18,
     "metadata": {},
     "output_type": "execute_result"
    }
   ],
   "source": [
    "max(lens)"
   ]
  },
  {
   "cell_type": "code",
   "execution_count": 3,
   "metadata": {},
   "outputs": [],
   "source": [
    "import transformers\n",
    "from transformers import AutoModel\n",
    "from transformers import AutoTokenizer\n",
    "import torchsummary\n",
    "from torchsummary import summary\n"
   ]
  },
  {
   "cell_type": "code",
   "execution_count": 4,
   "metadata": {},
   "outputs": [],
   "source": [
    "tokenizer = AutoTokenizer.from_pretrained(\"bert-base-uncased\")"
   ]
  },
  {
   "cell_type": "code",
   "execution_count": 18,
   "metadata": {},
   "outputs": [],
   "source": [
    "tokens = tokenizer(\"nervous\")['input_ids']"
   ]
  },
  {
   "cell_type": "code",
   "execution_count": 19,
   "metadata": {},
   "outputs": [
    {
     "data": {
      "text/plain": [
       "['[CLS]', 'nervous', '[SEP]']"
      ]
     },
     "execution_count": 19,
     "metadata": {},
     "output_type": "execute_result"
    }
   ],
   "source": [
    "tokenizer.convert_ids_to_tokens(tokens)"
   ]
  },
  {
   "cell_type": "code",
   "execution_count": 11,
   "metadata": {},
   "outputs": [
    {
     "name": "stderr",
     "output_type": "stream",
     "text": [
      "Some weights of the model checkpoint at roberta-base were not used when initializing RobertaModel: ['lm_head.bias', 'lm_head.dense.bias', 'lm_head.layer_norm.weight', 'lm_head.layer_norm.bias', 'lm_head.dense.weight']\n",
      "- This IS expected if you are initializing RobertaModel from the checkpoint of a model trained on another task or with another architecture (e.g. initializing a BertForSequenceClassification model from a BertForPreTraining model).\n",
      "- This IS NOT expected if you are initializing RobertaModel from the checkpoint of a model that you expect to be exactly identical (initializing a BertForSequenceClassification model from a BertForSequenceClassification model).\n",
      "Some weights of RobertaModel were not initialized from the model checkpoint at roberta-base and are newly initialized: ['roberta.pooler.dense.weight', 'roberta.pooler.dense.bias']\n",
      "You should probably TRAIN this model on a down-stream task to be able to use it for predictions and inference.\n"
     ]
    }
   ],
   "source": [
    "roberta = AutoModel.from_pretrained(\"roberta-base\")\n",
    "\n"
   ]
  },
  {
   "cell_type": "code",
   "execution_count": 11,
   "metadata": {},
   "outputs": [
    {
     "name": "stdout",
     "output_type": "stream",
     "text": [
      "================================================================================\n",
      "Layer (type:depth-idx)                                  Param #\n",
      "================================================================================\n",
      "├─RobertaEmbeddings: 1-1                                --\n",
      "|    └─Embedding: 2-1                                   38,603,520\n",
      "|    └─Embedding: 2-2                                   394,752\n",
      "|    └─Embedding: 2-3                                   768\n",
      "|    └─LayerNorm: 2-4                                   1,536\n",
      "|    └─Dropout: 2-5                                     --\n",
      "├─RobertaEncoder: 1-2                                   --\n",
      "|    └─ModuleList: 2-6                                  --\n",
      "|    |    └─RobertaLayer: 3-1                           --\n",
      "|    |    |    └─RobertaAttention: 4-1                  --\n",
      "|    |    |    |    └─RobertaSelfAttention: 5-1         1,771,776\n",
      "|    |    |    |    └─RobertaSelfOutput: 5-2            592,128\n",
      "|    |    |    └─RobertaIntermediate: 4-2               --\n",
      "|    |    |    |    └─Linear: 5-3                       2,362,368\n",
      "|    |    |    |    └─GELUActivation: 5-4               --\n",
      "|    |    |    └─RobertaOutput: 4-3                     --\n",
      "|    |    |    |    └─Linear: 5-5                       2,360,064\n",
      "|    |    |    |    └─LayerNorm: 5-6                    1,536\n",
      "|    |    |    |    └─Dropout: 5-7                      --\n",
      "|    |    └─RobertaLayer: 3-2                           --\n",
      "|    |    |    └─RobertaAttention: 4-4                  --\n",
      "|    |    |    |    └─RobertaSelfAttention: 5-8         1,771,776\n",
      "|    |    |    |    └─RobertaSelfOutput: 5-9            592,128\n",
      "|    |    |    └─RobertaIntermediate: 4-5               --\n",
      "|    |    |    |    └─Linear: 5-10                      2,362,368\n",
      "|    |    |    |    └─GELUActivation: 5-11              --\n",
      "|    |    |    └─RobertaOutput: 4-6                     --\n",
      "|    |    |    |    └─Linear: 5-12                      2,360,064\n",
      "|    |    |    |    └─LayerNorm: 5-13                   1,536\n",
      "|    |    |    |    └─Dropout: 5-14                     --\n",
      "|    |    └─RobertaLayer: 3-3                           --\n",
      "|    |    |    └─RobertaAttention: 4-7                  --\n",
      "|    |    |    |    └─RobertaSelfAttention: 5-15        1,771,776\n",
      "|    |    |    |    └─RobertaSelfOutput: 5-16           592,128\n",
      "|    |    |    └─RobertaIntermediate: 4-8               --\n",
      "|    |    |    |    └─Linear: 5-17                      2,362,368\n",
      "|    |    |    |    └─GELUActivation: 5-18              --\n",
      "|    |    |    └─RobertaOutput: 4-9                     --\n",
      "|    |    |    |    └─Linear: 5-19                      2,360,064\n",
      "|    |    |    |    └─LayerNorm: 5-20                   1,536\n",
      "|    |    |    |    └─Dropout: 5-21                     --\n",
      "|    |    └─RobertaLayer: 3-4                           --\n",
      "|    |    |    └─RobertaAttention: 4-10                 --\n",
      "|    |    |    |    └─RobertaSelfAttention: 5-22        1,771,776\n",
      "|    |    |    |    └─RobertaSelfOutput: 5-23           592,128\n",
      "|    |    |    └─RobertaIntermediate: 4-11              --\n",
      "|    |    |    |    └─Linear: 5-24                      2,362,368\n",
      "|    |    |    |    └─GELUActivation: 5-25              --\n",
      "|    |    |    └─RobertaOutput: 4-12                    --\n",
      "|    |    |    |    └─Linear: 5-26                      2,360,064\n",
      "|    |    |    |    └─LayerNorm: 5-27                   1,536\n",
      "|    |    |    |    └─Dropout: 5-28                     --\n",
      "|    |    └─RobertaLayer: 3-5                           --\n",
      "|    |    |    └─RobertaAttention: 4-13                 --\n",
      "|    |    |    |    └─RobertaSelfAttention: 5-29        1,771,776\n",
      "|    |    |    |    └─RobertaSelfOutput: 5-30           592,128\n",
      "|    |    |    └─RobertaIntermediate: 4-14              --\n",
      "|    |    |    |    └─Linear: 5-31                      2,362,368\n",
      "|    |    |    |    └─GELUActivation: 5-32              --\n",
      "|    |    |    └─RobertaOutput: 4-15                    --\n",
      "|    |    |    |    └─Linear: 5-33                      2,360,064\n",
      "|    |    |    |    └─LayerNorm: 5-34                   1,536\n",
      "|    |    |    |    └─Dropout: 5-35                     --\n",
      "|    |    └─RobertaLayer: 3-6                           --\n",
      "|    |    |    └─RobertaAttention: 4-16                 --\n",
      "|    |    |    |    └─RobertaSelfAttention: 5-36        1,771,776\n",
      "|    |    |    |    └─RobertaSelfOutput: 5-37           592,128\n",
      "|    |    |    └─RobertaIntermediate: 4-17              --\n",
      "|    |    |    |    └─Linear: 5-38                      2,362,368\n",
      "|    |    |    |    └─GELUActivation: 5-39              --\n",
      "|    |    |    └─RobertaOutput: 4-18                    --\n",
      "|    |    |    |    └─Linear: 5-40                      2,360,064\n",
      "|    |    |    |    └─LayerNorm: 5-41                   1,536\n",
      "|    |    |    |    └─Dropout: 5-42                     --\n",
      "|    |    └─RobertaLayer: 3-7                           --\n",
      "|    |    |    └─RobertaAttention: 4-19                 --\n",
      "|    |    |    |    └─RobertaSelfAttention: 5-43        1,771,776\n",
      "|    |    |    |    └─RobertaSelfOutput: 5-44           592,128\n",
      "|    |    |    └─RobertaIntermediate: 4-20              --\n",
      "|    |    |    |    └─Linear: 5-45                      2,362,368\n",
      "|    |    |    |    └─GELUActivation: 5-46              --\n",
      "|    |    |    └─RobertaOutput: 4-21                    --\n",
      "|    |    |    |    └─Linear: 5-47                      2,360,064\n",
      "|    |    |    |    └─LayerNorm: 5-48                   1,536\n",
      "|    |    |    |    └─Dropout: 5-49                     --\n",
      "|    |    └─RobertaLayer: 3-8                           --\n",
      "|    |    |    └─RobertaAttention: 4-22                 --\n",
      "|    |    |    |    └─RobertaSelfAttention: 5-50        1,771,776\n",
      "|    |    |    |    └─RobertaSelfOutput: 5-51           592,128\n",
      "|    |    |    └─RobertaIntermediate: 4-23              --\n",
      "|    |    |    |    └─Linear: 5-52                      2,362,368\n",
      "|    |    |    |    └─GELUActivation: 5-53              --\n",
      "|    |    |    └─RobertaOutput: 4-24                    --\n",
      "|    |    |    |    └─Linear: 5-54                      2,360,064\n",
      "|    |    |    |    └─LayerNorm: 5-55                   1,536\n",
      "|    |    |    |    └─Dropout: 5-56                     --\n",
      "|    |    └─RobertaLayer: 3-9                           --\n",
      "|    |    |    └─RobertaAttention: 4-25                 --\n",
      "|    |    |    |    └─RobertaSelfAttention: 5-57        1,771,776\n",
      "|    |    |    |    └─RobertaSelfOutput: 5-58           592,128\n",
      "|    |    |    └─RobertaIntermediate: 4-26              --\n",
      "|    |    |    |    └─Linear: 5-59                      2,362,368\n",
      "|    |    |    |    └─GELUActivation: 5-60              --\n",
      "|    |    |    └─RobertaOutput: 4-27                    --\n",
      "|    |    |    |    └─Linear: 5-61                      2,360,064\n",
      "|    |    |    |    └─LayerNorm: 5-62                   1,536\n",
      "|    |    |    |    └─Dropout: 5-63                     --\n",
      "|    |    └─RobertaLayer: 3-10                          --\n",
      "|    |    |    └─RobertaAttention: 4-28                 --\n",
      "|    |    |    |    └─RobertaSelfAttention: 5-64        1,771,776\n",
      "|    |    |    |    └─RobertaSelfOutput: 5-65           592,128\n",
      "|    |    |    └─RobertaIntermediate: 4-29              --\n",
      "|    |    |    |    └─Linear: 5-66                      2,362,368\n",
      "|    |    |    |    └─GELUActivation: 5-67              --\n",
      "|    |    |    └─RobertaOutput: 4-30                    --\n",
      "|    |    |    |    └─Linear: 5-68                      2,360,064\n",
      "|    |    |    |    └─LayerNorm: 5-69                   1,536\n",
      "|    |    |    |    └─Dropout: 5-70                     --\n",
      "|    |    └─RobertaLayer: 3-11                          --\n",
      "|    |    |    └─RobertaAttention: 4-31                 --\n",
      "|    |    |    |    └─RobertaSelfAttention: 5-71        1,771,776\n",
      "|    |    |    |    └─RobertaSelfOutput: 5-72           592,128\n",
      "|    |    |    └─RobertaIntermediate: 4-32              --\n",
      "|    |    |    |    └─Linear: 5-73                      2,362,368\n",
      "|    |    |    |    └─GELUActivation: 5-74              --\n",
      "|    |    |    └─RobertaOutput: 4-33                    --\n",
      "|    |    |    |    └─Linear: 5-75                      2,360,064\n",
      "|    |    |    |    └─LayerNorm: 5-76                   1,536\n",
      "|    |    |    |    └─Dropout: 5-77                     --\n",
      "|    |    └─RobertaLayer: 3-12                          --\n",
      "|    |    |    └─RobertaAttention: 4-34                 --\n",
      "|    |    |    |    └─RobertaSelfAttention: 5-78        1,771,776\n",
      "|    |    |    |    └─RobertaSelfOutput: 5-79           592,128\n",
      "|    |    |    └─RobertaIntermediate: 4-35              --\n",
      "|    |    |    |    └─Linear: 5-80                      2,362,368\n",
      "|    |    |    |    └─GELUActivation: 5-81              --\n",
      "|    |    |    └─RobertaOutput: 4-36                    --\n",
      "|    |    |    |    └─Linear: 5-82                      2,360,064\n",
      "|    |    |    |    └─LayerNorm: 5-83                   1,536\n",
      "|    |    |    |    └─Dropout: 5-84                     --\n",
      "├─RobertaPooler: 1-3                                    --\n",
      "|    └─Linear: 2-7                                      590,592\n",
      "|    └─Tanh: 2-8                                        --\n",
      "================================================================================\n",
      "Total params: 124,645,632\n",
      "Trainable params: 124,645,632\n",
      "Non-trainable params: 0\n",
      "================================================================================\n"
     ]
    },
    {
     "data": {
      "text/plain": [
       "================================================================================\n",
       "Layer (type:depth-idx)                                  Param #\n",
       "================================================================================\n",
       "├─RobertaEmbeddings: 1-1                                --\n",
       "|    └─Embedding: 2-1                                   38,603,520\n",
       "|    └─Embedding: 2-2                                   394,752\n",
       "|    └─Embedding: 2-3                                   768\n",
       "|    └─LayerNorm: 2-4                                   1,536\n",
       "|    └─Dropout: 2-5                                     --\n",
       "├─RobertaEncoder: 1-2                                   --\n",
       "|    └─ModuleList: 2-6                                  --\n",
       "|    |    └─RobertaLayer: 3-1                           --\n",
       "|    |    |    └─RobertaAttention: 4-1                  --\n",
       "|    |    |    |    └─RobertaSelfAttention: 5-1         1,771,776\n",
       "|    |    |    |    └─RobertaSelfOutput: 5-2            592,128\n",
       "|    |    |    └─RobertaIntermediate: 4-2               --\n",
       "|    |    |    |    └─Linear: 5-3                       2,362,368\n",
       "|    |    |    |    └─GELUActivation: 5-4               --\n",
       "|    |    |    └─RobertaOutput: 4-3                     --\n",
       "|    |    |    |    └─Linear: 5-5                       2,360,064\n",
       "|    |    |    |    └─LayerNorm: 5-6                    1,536\n",
       "|    |    |    |    └─Dropout: 5-7                      --\n",
       "|    |    └─RobertaLayer: 3-2                           --\n",
       "|    |    |    └─RobertaAttention: 4-4                  --\n",
       "|    |    |    |    └─RobertaSelfAttention: 5-8         1,771,776\n",
       "|    |    |    |    └─RobertaSelfOutput: 5-9            592,128\n",
       "|    |    |    └─RobertaIntermediate: 4-5               --\n",
       "|    |    |    |    └─Linear: 5-10                      2,362,368\n",
       "|    |    |    |    └─GELUActivation: 5-11              --\n",
       "|    |    |    └─RobertaOutput: 4-6                     --\n",
       "|    |    |    |    └─Linear: 5-12                      2,360,064\n",
       "|    |    |    |    └─LayerNorm: 5-13                   1,536\n",
       "|    |    |    |    └─Dropout: 5-14                     --\n",
       "|    |    └─RobertaLayer: 3-3                           --\n",
       "|    |    |    └─RobertaAttention: 4-7                  --\n",
       "|    |    |    |    └─RobertaSelfAttention: 5-15        1,771,776\n",
       "|    |    |    |    └─RobertaSelfOutput: 5-16           592,128\n",
       "|    |    |    └─RobertaIntermediate: 4-8               --\n",
       "|    |    |    |    └─Linear: 5-17                      2,362,368\n",
       "|    |    |    |    └─GELUActivation: 5-18              --\n",
       "|    |    |    └─RobertaOutput: 4-9                     --\n",
       "|    |    |    |    └─Linear: 5-19                      2,360,064\n",
       "|    |    |    |    └─LayerNorm: 5-20                   1,536\n",
       "|    |    |    |    └─Dropout: 5-21                     --\n",
       "|    |    └─RobertaLayer: 3-4                           --\n",
       "|    |    |    └─RobertaAttention: 4-10                 --\n",
       "|    |    |    |    └─RobertaSelfAttention: 5-22        1,771,776\n",
       "|    |    |    |    └─RobertaSelfOutput: 5-23           592,128\n",
       "|    |    |    └─RobertaIntermediate: 4-11              --\n",
       "|    |    |    |    └─Linear: 5-24                      2,362,368\n",
       "|    |    |    |    └─GELUActivation: 5-25              --\n",
       "|    |    |    └─RobertaOutput: 4-12                    --\n",
       "|    |    |    |    └─Linear: 5-26                      2,360,064\n",
       "|    |    |    |    └─LayerNorm: 5-27                   1,536\n",
       "|    |    |    |    └─Dropout: 5-28                     --\n",
       "|    |    └─RobertaLayer: 3-5                           --\n",
       "|    |    |    └─RobertaAttention: 4-13                 --\n",
       "|    |    |    |    └─RobertaSelfAttention: 5-29        1,771,776\n",
       "|    |    |    |    └─RobertaSelfOutput: 5-30           592,128\n",
       "|    |    |    └─RobertaIntermediate: 4-14              --\n",
       "|    |    |    |    └─Linear: 5-31                      2,362,368\n",
       "|    |    |    |    └─GELUActivation: 5-32              --\n",
       "|    |    |    └─RobertaOutput: 4-15                    --\n",
       "|    |    |    |    └─Linear: 5-33                      2,360,064\n",
       "|    |    |    |    └─LayerNorm: 5-34                   1,536\n",
       "|    |    |    |    └─Dropout: 5-35                     --\n",
       "|    |    └─RobertaLayer: 3-6                           --\n",
       "|    |    |    └─RobertaAttention: 4-16                 --\n",
       "|    |    |    |    └─RobertaSelfAttention: 5-36        1,771,776\n",
       "|    |    |    |    └─RobertaSelfOutput: 5-37           592,128\n",
       "|    |    |    └─RobertaIntermediate: 4-17              --\n",
       "|    |    |    |    └─Linear: 5-38                      2,362,368\n",
       "|    |    |    |    └─GELUActivation: 5-39              --\n",
       "|    |    |    └─RobertaOutput: 4-18                    --\n",
       "|    |    |    |    └─Linear: 5-40                      2,360,064\n",
       "|    |    |    |    └─LayerNorm: 5-41                   1,536\n",
       "|    |    |    |    └─Dropout: 5-42                     --\n",
       "|    |    └─RobertaLayer: 3-7                           --\n",
       "|    |    |    └─RobertaAttention: 4-19                 --\n",
       "|    |    |    |    └─RobertaSelfAttention: 5-43        1,771,776\n",
       "|    |    |    |    └─RobertaSelfOutput: 5-44           592,128\n",
       "|    |    |    └─RobertaIntermediate: 4-20              --\n",
       "|    |    |    |    └─Linear: 5-45                      2,362,368\n",
       "|    |    |    |    └─GELUActivation: 5-46              --\n",
       "|    |    |    └─RobertaOutput: 4-21                    --\n",
       "|    |    |    |    └─Linear: 5-47                      2,360,064\n",
       "|    |    |    |    └─LayerNorm: 5-48                   1,536\n",
       "|    |    |    |    └─Dropout: 5-49                     --\n",
       "|    |    └─RobertaLayer: 3-8                           --\n",
       "|    |    |    └─RobertaAttention: 4-22                 --\n",
       "|    |    |    |    └─RobertaSelfAttention: 5-50        1,771,776\n",
       "|    |    |    |    └─RobertaSelfOutput: 5-51           592,128\n",
       "|    |    |    └─RobertaIntermediate: 4-23              --\n",
       "|    |    |    |    └─Linear: 5-52                      2,362,368\n",
       "|    |    |    |    └─GELUActivation: 5-53              --\n",
       "|    |    |    └─RobertaOutput: 4-24                    --\n",
       "|    |    |    |    └─Linear: 5-54                      2,360,064\n",
       "|    |    |    |    └─LayerNorm: 5-55                   1,536\n",
       "|    |    |    |    └─Dropout: 5-56                     --\n",
       "|    |    └─RobertaLayer: 3-9                           --\n",
       "|    |    |    └─RobertaAttention: 4-25                 --\n",
       "|    |    |    |    └─RobertaSelfAttention: 5-57        1,771,776\n",
       "|    |    |    |    └─RobertaSelfOutput: 5-58           592,128\n",
       "|    |    |    └─RobertaIntermediate: 4-26              --\n",
       "|    |    |    |    └─Linear: 5-59                      2,362,368\n",
       "|    |    |    |    └─GELUActivation: 5-60              --\n",
       "|    |    |    └─RobertaOutput: 4-27                    --\n",
       "|    |    |    |    └─Linear: 5-61                      2,360,064\n",
       "|    |    |    |    └─LayerNorm: 5-62                   1,536\n",
       "|    |    |    |    └─Dropout: 5-63                     --\n",
       "|    |    └─RobertaLayer: 3-10                          --\n",
       "|    |    |    └─RobertaAttention: 4-28                 --\n",
       "|    |    |    |    └─RobertaSelfAttention: 5-64        1,771,776\n",
       "|    |    |    |    └─RobertaSelfOutput: 5-65           592,128\n",
       "|    |    |    └─RobertaIntermediate: 4-29              --\n",
       "|    |    |    |    └─Linear: 5-66                      2,362,368\n",
       "|    |    |    |    └─GELUActivation: 5-67              --\n",
       "|    |    |    └─RobertaOutput: 4-30                    --\n",
       "|    |    |    |    └─Linear: 5-68                      2,360,064\n",
       "|    |    |    |    └─LayerNorm: 5-69                   1,536\n",
       "|    |    |    |    └─Dropout: 5-70                     --\n",
       "|    |    └─RobertaLayer: 3-11                          --\n",
       "|    |    |    └─RobertaAttention: 4-31                 --\n",
       "|    |    |    |    └─RobertaSelfAttention: 5-71        1,771,776\n",
       "|    |    |    |    └─RobertaSelfOutput: 5-72           592,128\n",
       "|    |    |    └─RobertaIntermediate: 4-32              --\n",
       "|    |    |    |    └─Linear: 5-73                      2,362,368\n",
       "|    |    |    |    └─GELUActivation: 5-74              --\n",
       "|    |    |    └─RobertaOutput: 4-33                    --\n",
       "|    |    |    |    └─Linear: 5-75                      2,360,064\n",
       "|    |    |    |    └─LayerNorm: 5-76                   1,536\n",
       "|    |    |    |    └─Dropout: 5-77                     --\n",
       "|    |    └─RobertaLayer: 3-12                          --\n",
       "|    |    |    └─RobertaAttention: 4-34                 --\n",
       "|    |    |    |    └─RobertaSelfAttention: 5-78        1,771,776\n",
       "|    |    |    |    └─RobertaSelfOutput: 5-79           592,128\n",
       "|    |    |    └─RobertaIntermediate: 4-35              --\n",
       "|    |    |    |    └─Linear: 5-80                      2,362,368\n",
       "|    |    |    |    └─GELUActivation: 5-81              --\n",
       "|    |    |    └─RobertaOutput: 4-36                    --\n",
       "|    |    |    |    └─Linear: 5-82                      2,360,064\n",
       "|    |    |    |    └─LayerNorm: 5-83                   1,536\n",
       "|    |    |    |    └─Dropout: 5-84                     --\n",
       "├─RobertaPooler: 1-3                                    --\n",
       "|    └─Linear: 2-7                                      590,592\n",
       "|    └─Tanh: 2-8                                        --\n",
       "================================================================================\n",
       "Total params: 124,645,632\n",
       "Trainable params: 124,645,632\n",
       "Non-trainable params: 0\n",
       "================================================================================"
      ]
     },
     "execution_count": 11,
     "metadata": {},
     "output_type": "execute_result"
    }
   ],
   "source": [
    "summary(roberta, depth=5)"
   ]
  },
  {
   "cell_type": "code",
   "execution_count": 13,
   "metadata": {},
   "outputs": [],
   "source": [
    "from transformers import BertTokenizer, AutoTokenizer\n"
   ]
  },
  {
   "cell_type": "code",
   "execution_count": 14,
   "metadata": {},
   "outputs": [
    {
     "data": {
      "application/vnd.jupyter.widget-view+json": {
       "model_id": "f90f9f1e6c9a42c78387718d5e028823",
       "version_major": 2,
       "version_minor": 0
      },
      "text/plain": [
       "Downloading (…)olve/main/vocab.json:   0%|          | 0.00/899k [00:00<?, ?B/s]"
      ]
     },
     "metadata": {},
     "output_type": "display_data"
    },
    {
     "data": {
      "application/vnd.jupyter.widget-view+json": {
       "model_id": "46127a9a720b4942b3d9f366d1ee3e1b",
       "version_major": 2,
       "version_minor": 0
      },
      "text/plain": [
       "Downloading (…)olve/main/merges.txt:   0%|          | 0.00/456k [00:00<?, ?B/s]"
      ]
     },
     "metadata": {},
     "output_type": "display_data"
    },
    {
     "data": {
      "application/vnd.jupyter.widget-view+json": {
       "model_id": "abfdf43134c34c0f96e3acd7981a135d",
       "version_major": 2,
       "version_minor": 0
      },
      "text/plain": [
       "Downloading (…)/main/tokenizer.json:   0%|          | 0.00/1.36M [00:00<?, ?B/s]"
      ]
     },
     "metadata": {},
     "output_type": "display_data"
    }
   ],
   "source": [
    "tokenizer = AutoTokenizer.from_pretrained('roberta-base')\n"
   ]
  },
  {
   "cell_type": "code",
   "execution_count": 37,
   "metadata": {},
   "outputs": [],
   "source": [
    "sentence = \"hello i am alex\""
   ]
  },
  {
   "cell_type": "code",
   "execution_count": 52,
   "metadata": {},
   "outputs": [
    {
     "data": {
      "text/plain": [
       "{'input_ids': [0, 21959, 2, 2, 21959, 176, 2], 'token_type_ids': [0, 0, 0, 0, 0, 0, 0], 'attention_mask': [1, 1, 1, 1, 1, 1, 1]}"
      ]
     },
     "execution_count": 52,
     "metadata": {},
     "output_type": "execute_result"
    }
   ],
   "source": [
    "tokenizer.encode_plus(\"test\", \"test2\")"
   ]
  },
  {
   "cell_type": "code",
   "execution_count": 53,
   "metadata": {},
   "outputs": [
    {
     "data": {
      "text/plain": [
       "'</s>'"
      ]
     },
     "execution_count": 53,
     "metadata": {},
     "output_type": "execute_result"
    }
   ],
   "source": [
    "tokenizer.decode(2)"
   ]
  },
  {
   "cell_type": "code",
   "execution_count": 39,
   "metadata": {},
   "outputs": [
    {
     "name": "stdout",
     "output_type": "stream",
     "text": [
      "tensor([[    0, 42891,   939,   524,    10, 14726,     2]])\n"
     ]
    }
   ],
   "source": [
    "tokens = tokenizer(sentence, return_tensors=\"pt\")\n",
    "print(tokens['input_ids'])"
   ]
  },
  {
   "cell_type": "code",
   "execution_count": 44,
   "metadata": {},
   "outputs": [
    {
     "data": {
      "text/plain": [
       "tensor([[[ 0.1664, -0.0541, -0.0014,  ..., -0.0811,  0.0794,  0.0155],\n",
       "         [-0.1150, -0.1756, -0.1607,  ..., -0.0596, -0.3592,  0.9941],\n",
       "         [ 0.1324,  0.1079, -0.3674,  ...,  0.3495, -0.1283,  0.4034],\n",
       "         ...,\n",
       "         [-0.1279, -0.3089, -0.1310,  ...,  0.3103, -0.1026,  0.5261],\n",
       "         [-0.3172, -0.0767,  0.2338,  ...,  0.1195,  0.4922,  0.3705],\n",
       "         [ 0.2360, -0.2293, -0.0167,  ...,  0.4182,  0.1640,  0.1783]]],\n",
       "       grad_fn=<NativeLayerNormBackward0>)"
      ]
     },
     "execution_count": 44,
     "metadata": {},
     "output_type": "execute_result"
    }
   ],
   "source": [
    "embeddings = roberta.embeddings(input_ids=tokens['input_ids'])\n",
    "embeddings"
   ]
  },
  {
   "cell_type": "code",
   "execution_count": 43,
   "metadata": {},
   "outputs": [
    {
     "data": {
      "text/plain": [
       "torch.Size([1, 7, 768])"
      ]
     },
     "execution_count": 43,
     "metadata": {},
     "output_type": "execute_result"
    }
   ],
   "source": [
    "embeddings.shape"
   ]
  },
  {
   "cell_type": "code",
   "execution_count": 47,
   "metadata": {},
   "outputs": [],
   "source": [
    "logits = roberta.encoder(embeddings)"
   ]
  },
  {
   "cell_type": "code",
   "execution_count": 49,
   "metadata": {},
   "outputs": [
    {
     "data": {
      "text/plain": [
       "torch.Size([1, 7, 768])"
      ]
     },
     "execution_count": 49,
     "metadata": {},
     "output_type": "execute_result"
    }
   ],
   "source": [
    "logits.last_hidden_state.shape"
   ]
  },
  {
   "cell_type": "code",
   "execution_count": null,
   "metadata": {},
   "outputs": [],
   "source": [
    "\"\"\"\n",
    "\n",
    "original text:\n",
    "hi how are you\n",
    "\n",
    "tokenizer (tokens):\n",
    "45 120 23 50\n",
    "\n",
    "MODEL:\n",
    "\n",
    "Embeddings:\n",
    "[768] [768] [768] [768]\n",
    "\n",
    "Encoder:\n",
    "\n",
    "\n",
    "\n",
    "\n",
    "\"\"\""
   ]
  },
  {
   "cell_type": "code",
   "execution_count": 12,
   "metadata": {},
   "outputs": [
    {
     "data": {
      "text/plain": [
       "RobertaModel(\n",
       "  (embeddings): RobertaEmbeddings(\n",
       "    (word_embeddings): Embedding(50265, 768, padding_idx=1)\n",
       "    (position_embeddings): Embedding(514, 768, padding_idx=1)\n",
       "    (token_type_embeddings): Embedding(1, 768)\n",
       "    (LayerNorm): LayerNorm((768,), eps=1e-05, elementwise_affine=True)\n",
       "    (dropout): Dropout(p=0.1, inplace=False)\n",
       "  )\n",
       "  (encoder): RobertaEncoder(\n",
       "    (layer): ModuleList(\n",
       "      (0-11): 12 x RobertaLayer(\n",
       "        (attention): RobertaAttention(\n",
       "          (self): RobertaSelfAttention(\n",
       "            (query): Linear(in_features=768, out_features=768, bias=True)\n",
       "            (key): Linear(in_features=768, out_features=768, bias=True)\n",
       "            (value): Linear(in_features=768, out_features=768, bias=True)\n",
       "            (dropout): Dropout(p=0.1, inplace=False)\n",
       "          )\n",
       "          (output): RobertaSelfOutput(\n",
       "            (dense): Linear(in_features=768, out_features=768, bias=True)\n",
       "            (LayerNorm): LayerNorm((768,), eps=1e-05, elementwise_affine=True)\n",
       "            (dropout): Dropout(p=0.1, inplace=False)\n",
       "          )\n",
       "        )\n",
       "        (intermediate): RobertaIntermediate(\n",
       "          (dense): Linear(in_features=768, out_features=3072, bias=True)\n",
       "          (intermediate_act_fn): GELUActivation()\n",
       "        )\n",
       "        (output): RobertaOutput(\n",
       "          (dense): Linear(in_features=3072, out_features=768, bias=True)\n",
       "          (LayerNorm): LayerNorm((768,), eps=1e-05, elementwise_affine=True)\n",
       "          (dropout): Dropout(p=0.1, inplace=False)\n",
       "        )\n",
       "      )\n",
       "    )\n",
       "  )\n",
       "  (pooler): RobertaPooler(\n",
       "    (dense): Linear(in_features=768, out_features=768, bias=True)\n",
       "    (activation): Tanh()\n",
       "  )\n",
       ")"
      ]
     },
     "execution_count": 12,
     "metadata": {},
     "output_type": "execute_result"
    }
   ],
   "source": [
    "roberta"
   ]
  }
 ],
 "metadata": {
  "kernelspec": {
   "display_name": "emo",
   "language": "python",
   "name": "python3"
  },
  "language_info": {
   "codemirror_mode": {
    "name": "ipython",
    "version": 3
   },
   "file_extension": ".py",
   "mimetype": "text/x-python",
   "name": "python",
   "nbconvert_exporter": "python",
   "pygments_lexer": "ipython3",
   "version": "3.9.17"
  }
 },
 "nbformat": 4,
 "nbformat_minor": 2
}
